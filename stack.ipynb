{
 "cells": [
  {
   "cell_type": "markdown",
   "id": "9aafaf1c-a21e-4f77-89ad-5194ffe59194",
   "metadata": {},
   "source": [
    "### stack 스택\n",
    ">[book 1, book 2,book 3] 리스트 안에 book4를 추가하려고 할때 push를 사용\n",
    "마지막에 추가한 데이터를 안에 어떤 데이터가 있는지 확인하려고 할때 peek을 사용\n",
    "스택에서 가장 마지막으로 추가한 데이터를 뽑을 때 pop을 사용\n",
    "push \n",
    "peek \n",
    "pop "
   ]
  },
  {
   "cell_type": "code",
   "execution_count": 1,
   "id": "25f911e5-ab84-4eab-8a54-6ebdf35c3255",
   "metadata": {},
   "outputs": [],
   "source": [
    "# 스택 직접 구현"
   ]
  },
  {
   "cell_type": "code",
   "execution_count": 4,
   "id": "7afa761c-bb68-40fd-bc86-65bb57c7a243",
   "metadata": {},
   "outputs": [],
   "source": [
    "class Stack(list):\n",
    "    push = list.append\n"
   ]
  },
  {
   "cell_type": "code",
   "execution_count": null,
   "id": "d1681bbe-dfde-4dbd-b0ee-7a40378214af",
   "metadata": {},
   "outputs": [],
   "source": [
    "def peek(self):\n",
    "    return self[-1]\n",
    "            self[len(self)-1]"
   ]
  },
  {
   "cell_type": "code",
   "execution_count": 9,
   "id": "2385c62a-41cf-41d2-85b4-60a4ad8147e2",
   "metadata": {},
   "outputs": [
    {
     "name": "stdout",
     "output_type": "stream",
     "text": [
      "my stack is :  [1, 5, 10]\n",
      "popped value is : 10\n",
      "my stack is : [1, 5]\n",
      "peeked value is: [1, 5]\n",
      "my stack is : [1, 5]\n"
     ]
    }
   ],
   "source": [
    "class Stack(list):\n",
    "    push = list.append\n",
    "\n",
    "s = Stack()\n",
    "s.push(1)\n",
    "s.push(5)\n",
    "s.push(10)\n",
    "print('my stack is : ', s)\n",
    "print('popped value is :', s.pop())\n",
    "print('my stack is :',s)\n",
    "print('peeked value is:',s)\n",
    "print('my stack is :',s)"
   ]
  },
  {
   "cell_type": "code",
   "execution_count": 11,
   "id": "64adf456-bf39-4aac-b4bb-043954f554da",
   "metadata": {},
   "outputs": [
    {
     "name": "stdout",
     "output_type": "stream",
     "text": [
      "my stack is : [1, 5, 10]\n",
      "popper value is : 10\n",
      "my stack is :  [1, 5]\n",
      "peeked value is :  5\n",
      "my stack is :  [1, 5]\n"
     ]
    }
   ],
   "source": [
    "s = []\n",
    "s.append(1)\n",
    "s.append(5)\n",
    "s.append(10)\n",
    "print('my stack is :',s)\n",
    "print('popper value is :', s.pop())\n",
    "print('my stack is : ',s)\n",
    "print('peeked value is : ',s[-1])\n",
    "print('my stack is : ',s)"
   ]
  },
  {
   "cell_type": "markdown",
   "id": "d663b379-4323-453f-986e-c039f3659b4c",
   "metadata": {},
   "source": [
    "스택의 활용"
   ]
  },
  {
   "cell_type": "markdown",
   "id": "39a5c1d4-e366-4064-add9-7b79028dfd09",
   "metadata": {},
   "source": [
    "이전 페이지/ 다음 페이지\n",
    ">깊이 우선 탐색(DFS)"
   ]
  },
  {
   "cell_type": "markdown",
   "id": "5eaa41ba-ce12-4061-98dd-b405f8987b91",
   "metadata": {},
   "source": [
    "큐란?\n",
    "- '일이 처리되기를 기다리는 리스트'라는 의미\n",
    "- 프로그래밍에서 목록 혹은 리스트에서 접근이 양쪽에서 가능한 구조로 FIFO(First-In, First-Out)가 기본원리\n",
    "> put, peek, get"
   ]
  },
  {
   "cell_type": "markdown",
   "id": "5ecd77e7-fe9f-4c73-a993-3762d21176d7",
   "metadata": {},
   "source": [
    "큐의 구조\n",
    "- [box1, box2,box3]에서 box4를 추가할때 put\n",
    "- peek 가장 먼저 들어간 데이터 확인(확인만 가능 가져가지는 못함)\n",
    "- get 처음(맨 앞) 들어간 데이터 가져가기"
   ]
  },
  {
   "cell_type": "code",
   "execution_count": 37,
   "id": "219ee674-4da7-4a5f-bdc0-a51cdef785d5",
   "metadata": {},
   "outputs": [],
   "source": [
    "class Queue(list):\n",
    "    put = list.append\n",
    "    def peek(self):\n",
    "        return self[0]\n",
    "    def get(self):\n",
    "        return self.pop(0)"
   ]
  },
  {
   "cell_type": "code",
   "execution_count": 39,
   "id": "87656283-7342-47cf-9891-940ace6d0ec6",
   "metadata": {},
   "outputs": [
    {
     "name": "stdout",
     "output_type": "stream",
     "text": [
      "my queue is : [1, 5, 10]\n",
      "removed value is : 1\n",
      "my queue is :  [5, 10]\n",
      "peeked value is:  5\n"
     ]
    }
   ],
   "source": [
    "q = Queue()\n",
    "q.put(1)\n",
    "q.put(5)\n",
    "q.put(10)\n",
    "print('my queue is :',q)\n",
    "print('removed value is :',q.get())\n",
    "print('my queue is : ',q)\n",
    "print('peeked value is: ',q.peek())"
   ]
  },
  {
   "cell_type": "code",
   "execution_count": 18,
   "id": "2b9736e7-1d64-4f47-b87a-f0f6d7de8c3e",
   "metadata": {},
   "outputs": [],
   "source": [
    "from queue import Queue # 클래스를 정의 하지않고 import해서 사용"
   ]
  },
  {
   "cell_type": "code",
   "execution_count": 43,
   "id": "582c9d08-8aef-4533-aa41-953b9c86f24d",
   "metadata": {},
   "outputs": [
    {
     "name": "stdout",
     "output_type": "stream",
     "text": [
      "my queue is : [1, 5, 10]\n",
      "removed value is: 1\n",
      "my queue is: [5, 10]\n",
      "peeked value is: 5\n"
     ]
    }
   ],
   "source": [
    "q=Queue()\n",
    "q.put(1)\n",
    "q.put(5)\n",
    "q.put(10)\n",
    "print('my queue is :',q)\n",
    "print('removed value is:',q.get())\n",
    "print('my queue is:',q)\n",
    "print('peeked value is:',q.peek())"
   ]
  },
  {
   "cell_type": "code",
   "execution_count": 46,
   "id": "27894163-65d8-4908-8fed-ce4cb16df912",
   "metadata": {},
   "outputs": [
    {
     "name": "stdout",
     "output_type": "stream",
     "text": [
      "my queue is : [1, 5, 10]\n",
      "removed value is : 1\n",
      "my queue is : [5, 10]\n",
      "peeked value is: 5\n"
     ]
    }
   ],
   "source": [
    "q = []\n",
    "q.append(1)\n",
    "q.append(5)\n",
    "q.append(10)\n",
    "print('my queue is :',q)\n",
    "print('removed value is :',q.pop(0))\n",
    "print('my queue is :',q)\n",
    "print('peeked value is:',q[0])"
   ]
  },
  {
   "cell_type": "code",
   "execution_count": null,
   "id": "fcce2e1a-5c7d-46e1-b3b2-488a15a3c81c",
   "metadata": {},
   "outputs": [],
   "source": []
  }
 ],
 "metadata": {
  "kernelspec": {
   "display_name": "Python 3 (ipykernel)",
   "language": "python",
   "name": "python3"
  },
  "language_info": {
   "codemirror_mode": {
    "name": "ipython",
    "version": 3
   },
   "file_extension": ".py",
   "mimetype": "text/x-python",
   "name": "python",
   "nbconvert_exporter": "python",
   "pygments_lexer": "ipython3",
   "version": "3.9.13"
  }
 },
 "nbformat": 4,
 "nbformat_minor": 5
}
