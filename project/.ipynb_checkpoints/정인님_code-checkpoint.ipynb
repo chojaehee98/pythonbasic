{
 "cells": [
  {
   "cell_type": "code",
   "execution_count": 1,
   "id": "015ccb4b-4f7a-4f10-8514-65e310f34569",
   "metadata": {},
   "outputs": [],
   "source": [
    "import pandas as pd\n",
    "import matplotlib.pyplot as plt\n",
    "import seaborn as sns\n",
    "import urllib.request\n",
    "import json\n",
    "import numpy as np\n",
    "import folium as g\n",
    "import pandas as pd\n",
    "import requests\n",
    "\n",
    "plt.rcParams['font.family'] = 'NanumGothic'"
   ]
  },
  {
   "cell_type": "markdown",
   "id": "b283ba1e-56c4-4039-86ca-693523a9dd46",
   "metadata": {},
   "source": [
    "## 지역화폐 사용 현황"
   ]
  },
  {
   "cell_type": "markdown",
   "id": "7f035c85-5b17-47f5-9ba6-4024b1da79ee",
   "metadata": {},
   "source": [
    "- 데이터 가져오기"
   ]
  },
  {
   "cell_type": "code",
   "execution_count": 2,
   "id": "d6758451-1c2d-48fd-b81b-36be2fe55300",
   "metadata": {
    "tags": []
   },
   "outputs": [
    {
     "ename": "FileNotFoundError",
     "evalue": "[Errno 2] No such file or directory: 'datas/payuse.csv'",
     "output_type": "error",
     "traceback": [
      "\u001b[1;31m---------------------------------------------------------------------------\u001b[0m",
      "\u001b[1;31mFileNotFoundError\u001b[0m                         Traceback (most recent call last)",
      "\u001b[1;32m~\\AppData\\Local\\Temp\\ipykernel_2772\\4077312574.py\u001b[0m in \u001b[0;36m<module>\u001b[1;34m\u001b[0m\n\u001b[1;32m----> 1\u001b[1;33m \u001b[0mlocal_g\u001b[0m \u001b[1;33m=\u001b[0m \u001b[0mpd\u001b[0m\u001b[1;33m.\u001b[0m\u001b[0mread_csv\u001b[0m\u001b[1;33m(\u001b[0m\u001b[1;34m\"datas/payuse.csv\"\u001b[0m\u001b[1;33m,\u001b[0m\u001b[0mencoding\u001b[0m\u001b[1;33m=\u001b[0m\u001b[1;34m\"CP949\"\u001b[0m\u001b[1;33m)\u001b[0m\u001b[1;33m\u001b[0m\u001b[1;33m\u001b[0m\u001b[0m\n\u001b[0m\u001b[0;32m      2\u001b[0m \u001b[0mlocal_g\u001b[0m\u001b[1;33m\u001b[0m\u001b[1;33m\u001b[0m\u001b[0m\n",
      "\u001b[1;32m~\\anaconda3\\lib\\site-packages\\pandas\\util\\_decorators.py\u001b[0m in \u001b[0;36mwrapper\u001b[1;34m(*args, **kwargs)\u001b[0m\n\u001b[0;32m    309\u001b[0m                     \u001b[0mstacklevel\u001b[0m\u001b[1;33m=\u001b[0m\u001b[0mstacklevel\u001b[0m\u001b[1;33m,\u001b[0m\u001b[1;33m\u001b[0m\u001b[1;33m\u001b[0m\u001b[0m\n\u001b[0;32m    310\u001b[0m                 )\n\u001b[1;32m--> 311\u001b[1;33m             \u001b[1;32mreturn\u001b[0m \u001b[0mfunc\u001b[0m\u001b[1;33m(\u001b[0m\u001b[1;33m*\u001b[0m\u001b[0margs\u001b[0m\u001b[1;33m,\u001b[0m \u001b[1;33m**\u001b[0m\u001b[0mkwargs\u001b[0m\u001b[1;33m)\u001b[0m\u001b[1;33m\u001b[0m\u001b[1;33m\u001b[0m\u001b[0m\n\u001b[0m\u001b[0;32m    312\u001b[0m \u001b[1;33m\u001b[0m\u001b[0m\n\u001b[0;32m    313\u001b[0m         \u001b[1;32mreturn\u001b[0m \u001b[0mwrapper\u001b[0m\u001b[1;33m\u001b[0m\u001b[1;33m\u001b[0m\u001b[0m\n",
      "\u001b[1;32m~\\anaconda3\\lib\\site-packages\\pandas\\io\\parsers\\readers.py\u001b[0m in \u001b[0;36mread_csv\u001b[1;34m(filepath_or_buffer, sep, delimiter, header, names, index_col, usecols, squeeze, prefix, mangle_dupe_cols, dtype, engine, converters, true_values, false_values, skipinitialspace, skiprows, skipfooter, nrows, na_values, keep_default_na, na_filter, verbose, skip_blank_lines, parse_dates, infer_datetime_format, keep_date_col, date_parser, dayfirst, cache_dates, iterator, chunksize, compression, thousands, decimal, lineterminator, quotechar, quoting, doublequote, escapechar, comment, encoding, encoding_errors, dialect, error_bad_lines, warn_bad_lines, on_bad_lines, delim_whitespace, low_memory, memory_map, float_precision, storage_options)\u001b[0m\n\u001b[0;32m    676\u001b[0m     \u001b[0mkwds\u001b[0m\u001b[1;33m.\u001b[0m\u001b[0mupdate\u001b[0m\u001b[1;33m(\u001b[0m\u001b[0mkwds_defaults\u001b[0m\u001b[1;33m)\u001b[0m\u001b[1;33m\u001b[0m\u001b[1;33m\u001b[0m\u001b[0m\n\u001b[0;32m    677\u001b[0m \u001b[1;33m\u001b[0m\u001b[0m\n\u001b[1;32m--> 678\u001b[1;33m     \u001b[1;32mreturn\u001b[0m \u001b[0m_read\u001b[0m\u001b[1;33m(\u001b[0m\u001b[0mfilepath_or_buffer\u001b[0m\u001b[1;33m,\u001b[0m \u001b[0mkwds\u001b[0m\u001b[1;33m)\u001b[0m\u001b[1;33m\u001b[0m\u001b[1;33m\u001b[0m\u001b[0m\n\u001b[0m\u001b[0;32m    679\u001b[0m \u001b[1;33m\u001b[0m\u001b[0m\n\u001b[0;32m    680\u001b[0m \u001b[1;33m\u001b[0m\u001b[0m\n",
      "\u001b[1;32m~\\anaconda3\\lib\\site-packages\\pandas\\io\\parsers\\readers.py\u001b[0m in \u001b[0;36m_read\u001b[1;34m(filepath_or_buffer, kwds)\u001b[0m\n\u001b[0;32m    573\u001b[0m \u001b[1;33m\u001b[0m\u001b[0m\n\u001b[0;32m    574\u001b[0m     \u001b[1;31m# Create the parser.\u001b[0m\u001b[1;33m\u001b[0m\u001b[1;33m\u001b[0m\u001b[0m\n\u001b[1;32m--> 575\u001b[1;33m     \u001b[0mparser\u001b[0m \u001b[1;33m=\u001b[0m \u001b[0mTextFileReader\u001b[0m\u001b[1;33m(\u001b[0m\u001b[0mfilepath_or_buffer\u001b[0m\u001b[1;33m,\u001b[0m \u001b[1;33m**\u001b[0m\u001b[0mkwds\u001b[0m\u001b[1;33m)\u001b[0m\u001b[1;33m\u001b[0m\u001b[1;33m\u001b[0m\u001b[0m\n\u001b[0m\u001b[0;32m    576\u001b[0m \u001b[1;33m\u001b[0m\u001b[0m\n\u001b[0;32m    577\u001b[0m     \u001b[1;32mif\u001b[0m \u001b[0mchunksize\u001b[0m \u001b[1;32mor\u001b[0m \u001b[0miterator\u001b[0m\u001b[1;33m:\u001b[0m\u001b[1;33m\u001b[0m\u001b[1;33m\u001b[0m\u001b[0m\n",
      "\u001b[1;32m~\\anaconda3\\lib\\site-packages\\pandas\\io\\parsers\\readers.py\u001b[0m in \u001b[0;36m__init__\u001b[1;34m(self, f, engine, **kwds)\u001b[0m\n\u001b[0;32m    930\u001b[0m \u001b[1;33m\u001b[0m\u001b[0m\n\u001b[0;32m    931\u001b[0m         \u001b[0mself\u001b[0m\u001b[1;33m.\u001b[0m\u001b[0mhandles\u001b[0m\u001b[1;33m:\u001b[0m \u001b[0mIOHandles\u001b[0m \u001b[1;33m|\u001b[0m \u001b[1;32mNone\u001b[0m \u001b[1;33m=\u001b[0m \u001b[1;32mNone\u001b[0m\u001b[1;33m\u001b[0m\u001b[1;33m\u001b[0m\u001b[0m\n\u001b[1;32m--> 932\u001b[1;33m         \u001b[0mself\u001b[0m\u001b[1;33m.\u001b[0m\u001b[0m_engine\u001b[0m \u001b[1;33m=\u001b[0m \u001b[0mself\u001b[0m\u001b[1;33m.\u001b[0m\u001b[0m_make_engine\u001b[0m\u001b[1;33m(\u001b[0m\u001b[0mf\u001b[0m\u001b[1;33m,\u001b[0m \u001b[0mself\u001b[0m\u001b[1;33m.\u001b[0m\u001b[0mengine\u001b[0m\u001b[1;33m)\u001b[0m\u001b[1;33m\u001b[0m\u001b[1;33m\u001b[0m\u001b[0m\n\u001b[0m\u001b[0;32m    933\u001b[0m \u001b[1;33m\u001b[0m\u001b[0m\n\u001b[0;32m    934\u001b[0m     \u001b[1;32mdef\u001b[0m \u001b[0mclose\u001b[0m\u001b[1;33m(\u001b[0m\u001b[0mself\u001b[0m\u001b[1;33m)\u001b[0m\u001b[1;33m:\u001b[0m\u001b[1;33m\u001b[0m\u001b[1;33m\u001b[0m\u001b[0m\n",
      "\u001b[1;32m~\\anaconda3\\lib\\site-packages\\pandas\\io\\parsers\\readers.py\u001b[0m in \u001b[0;36m_make_engine\u001b[1;34m(self, f, engine)\u001b[0m\n\u001b[0;32m   1214\u001b[0m             \u001b[1;31m# \"Union[str, PathLike[str], ReadCsvBuffer[bytes], ReadCsvBuffer[str]]\"\u001b[0m\u001b[1;33m\u001b[0m\u001b[1;33m\u001b[0m\u001b[0m\n\u001b[0;32m   1215\u001b[0m             \u001b[1;31m# , \"str\", \"bool\", \"Any\", \"Any\", \"Any\", \"Any\", \"Any\"\u001b[0m\u001b[1;33m\u001b[0m\u001b[1;33m\u001b[0m\u001b[0m\n\u001b[1;32m-> 1216\u001b[1;33m             self.handles = get_handle(  # type: ignore[call-overload]\n\u001b[0m\u001b[0;32m   1217\u001b[0m                 \u001b[0mf\u001b[0m\u001b[1;33m,\u001b[0m\u001b[1;33m\u001b[0m\u001b[1;33m\u001b[0m\u001b[0m\n\u001b[0;32m   1218\u001b[0m                 \u001b[0mmode\u001b[0m\u001b[1;33m,\u001b[0m\u001b[1;33m\u001b[0m\u001b[1;33m\u001b[0m\u001b[0m\n",
      "\u001b[1;32m~\\anaconda3\\lib\\site-packages\\pandas\\io\\common.py\u001b[0m in \u001b[0;36mget_handle\u001b[1;34m(path_or_buf, mode, encoding, compression, memory_map, is_text, errors, storage_options)\u001b[0m\n\u001b[0;32m    784\u001b[0m         \u001b[1;32mif\u001b[0m \u001b[0mioargs\u001b[0m\u001b[1;33m.\u001b[0m\u001b[0mencoding\u001b[0m \u001b[1;32mand\u001b[0m \u001b[1;34m\"b\"\u001b[0m \u001b[1;32mnot\u001b[0m \u001b[1;32min\u001b[0m \u001b[0mioargs\u001b[0m\u001b[1;33m.\u001b[0m\u001b[0mmode\u001b[0m\u001b[1;33m:\u001b[0m\u001b[1;33m\u001b[0m\u001b[1;33m\u001b[0m\u001b[0m\n\u001b[0;32m    785\u001b[0m             \u001b[1;31m# Encoding\u001b[0m\u001b[1;33m\u001b[0m\u001b[1;33m\u001b[0m\u001b[0m\n\u001b[1;32m--> 786\u001b[1;33m             handle = open(\n\u001b[0m\u001b[0;32m    787\u001b[0m                 \u001b[0mhandle\u001b[0m\u001b[1;33m,\u001b[0m\u001b[1;33m\u001b[0m\u001b[1;33m\u001b[0m\u001b[0m\n\u001b[0;32m    788\u001b[0m                 \u001b[0mioargs\u001b[0m\u001b[1;33m.\u001b[0m\u001b[0mmode\u001b[0m\u001b[1;33m,\u001b[0m\u001b[1;33m\u001b[0m\u001b[1;33m\u001b[0m\u001b[0m\n",
      "\u001b[1;31mFileNotFoundError\u001b[0m: [Errno 2] No such file or directory: 'datas/payuse.csv'"
     ]
    }
   ],
   "source": [
    "local_g = pd.read_csv(\"datas/payuse.csv\",encoding=\"CP949\")\n",
    "local_g"
   ]
  },
  {
   "cell_type": "code",
   "execution_count": null,
   "id": "50d2476a-171a-40ae-99f5-c02721064911",
   "metadata": {
    "tags": []
   },
   "outputs": [],
   "source": [
    "local_g.기준년월 = local_g.기준년월.str.split('-').str[0]\n",
    "local_g"
   ]
  },
  {
   "cell_type": "code",
   "execution_count": null,
   "id": "be19996d-57a5-4251-9f4b-ee1c7d0c812f",
   "metadata": {},
   "outputs": [],
   "source": [
    "index = list(set(list(local_g.시군명)))"
   ]
  },
  {
   "cell_type": "markdown",
   "id": "7eaf8f36-7622-49af-b190-80bbf00b775b",
   "metadata": {},
   "source": [
    "### 지역 별 카드 사용액 dataframe(use2019 - use2022)"
   ]
  },
  {
   "cell_type": "code",
   "execution_count": null,
   "id": "cca4e16f-0f30-4e5c-a374-02bb6aad8d6e",
   "metadata": {},
   "outputs": [],
   "source": [
    "use2019 = local_g[local_g.기준년월 == \"2019\"]\n",
    "use2020 = local_g[local_g.기준년월 == \"2020\"]\n",
    "use2021 = local_g[local_g.기준년월 == \"2021\"]\n",
    "use2022 = local_g[local_g.기준년월 == \"2022\"]"
   ]
  },
  {
   "cell_type": "code",
   "execution_count": null,
   "id": "6b1dcae9-920e-4df1-be72-02834e141e0e",
   "metadata": {},
   "outputs": [],
   "source": [
    "pay= []\n",
    "for i in index:    \n",
    "    pay.append(use2019[use2019.시군명 == i][\"월별카드사용액(천원)\"].sum())\n",
    "use2019 = pd.Series(data = pay, index = index)\n",
    "\n",
    "pay= []\n",
    "for i in index:    \n",
    "    pay.append(use2020[use2020.시군명 == i][\"월별카드사용액(천원)\"].sum())\n",
    "use2020 = pd.Series(data = pay, index = index)\n",
    "\n",
    "pay= []\n",
    "for i in index:    \n",
    "    pay.append(use2021[use2021.시군명 == i][\"월별카드사용액(천원)\"].sum())\n",
    "use2021 = pd.Series(data = pay, index = index)\n",
    "\n",
    "pay= []\n",
    "for i in index:    \n",
    "    pay.append(use2022[use2022.시군명 == i][\"월별카드사용액(천원)\"].sum())\n",
    "use2022 = pd.Series(data = pay, index = index)"
   ]
  },
  {
   "cell_type": "code",
   "execution_count": null,
   "id": "c9e7d22d-19f8-4c30-9016-39262df820cd",
   "metadata": {
    "tags": []
   },
   "outputs": [],
   "source": [
    "gg= \"https://raw.githubusercontent.com/southkorea/southkorea-maps/master/kostat/2018/json/skorea-municipalities-2018-geo.json\"\n",
    "\n",
    "response = requests.get(gg)\n",
    "gg_json = response.json()\n",
    "\n",
    "gg_list = [i['properties']['name'] for i in gg_json['features']]"
   ]
  },
  {
   "cell_type": "code",
   "execution_count": null,
   "id": "f14e517e-8770-476a-99ad-ef6ff14d70fe",
   "metadata": {},
   "outputs": [],
   "source": [
    "nindex = ['용인시', '수원시', '성남시', '안양시', '안산시', '고양시']"
   ]
  },
  {
   "cell_type": "code",
   "execution_count": null,
   "id": "c08fa54b-3ff6-4ca1-8c0d-a88cb4ede8f7",
   "metadata": {},
   "outputs": [],
   "source": [
    "ch = []\n",
    "for i in gg_list:\n",
    "    for j in nindex:\n",
    "        if j in i:\n",
    "            use2019[i]=use2019[j]\n",
    "            use2020[i]=use2020[j]\n",
    "            use2021[i]=use2021[j]\n",
    "            use2022[i]=use2022[j]"
   ]
  },
  {
   "cell_type": "code",
   "execution_count": null,
   "id": "9e85334b-f237-4903-b1ae-5e2002bcf9c2",
   "metadata": {},
   "outputs": [],
   "source": [
    "use2022.max()"
   ]
  },
  {
   "cell_type": "code",
   "execution_count": null,
   "id": "d248924b-698a-45e0-9052-83c8d129351e",
   "metadata": {},
   "outputs": [],
   "source": [
    "# threshold 넣을 값 \n",
    "bins = [420000000*i for i in [0,0.01,0.10,0.20,0.30,0.40,0.60,0.80,1.00]]\n",
    "bins[0]"
   ]
  },
  {
   "cell_type": "code",
   "execution_count": null,
   "id": "5ad3ff4d-8d1b-4cf5-b4d3-8986c53d4d46",
   "metadata": {
    "tags": []
   },
   "outputs": [],
   "source": [
    "# 지역 별 카드사용액 지도\n",
    "map = g.Map(location = [37.5502, 126.982], zoom_start = 8,tiles='cartodbpositron')\n",
    "g.Choropleth(geo_data = gg,\n",
    "                  data = use2019,\n",
    "                  threshold_scale=bins,\n",
    "                  fill_color='YlGn',\n",
    "                  line_opacity=0.5,\n",
    "                  fill_opacity=0.7,\n",
    "                  key_on='feature.properties.name').add_to(map)\n",
    "map"
   ]
  },
  {
   "cell_type": "code",
   "execution_count": null,
   "id": "2f2c83d3-c1f7-4c9e-a6a7-8528776d7736",
   "metadata": {
    "tags": []
   },
   "outputs": [],
   "source": [
    "map = g.Map(location = [37.5502, 126.982], zoom_start = 8,tiles='cartodbpositron')\n",
    "g.Choropleth(geo_data = gg,\n",
    "                  data = use2020,\n",
    "                  threshold_scale=bins,\n",
    "                  fill_color='YlGn',\n",
    "                  line_opacity=0.5,\n",
    "                  fill_opacity=0.7,\n",
    "                  key_on='feature.properties.name').add_to(map)\n",
    "map"
   ]
  },
  {
   "cell_type": "code",
   "execution_count": null,
   "id": "92c93f1c-3c39-4394-8192-b625ee5e2cfb",
   "metadata": {
    "tags": []
   },
   "outputs": [],
   "source": [
    "map = g.Map(location = [37.5502, 126.982], zoom_start = 8,tiles='cartodbpositron')\n",
    "g.Choropleth(geo_data = gg,\n",
    "                  data = use2021,\n",
    "                  threshold_scale=bins,\n",
    "                  fill_color='YlGn',\n",
    "                  line_opacity=0.5,\n",
    "                  fill_opacity=0.7,\n",
    "                  key_on='feature.properties.name').add_to(map)\n",
    "map"
   ]
  },
  {
   "cell_type": "code",
   "execution_count": null,
   "id": "6c3d4479-554d-4a7a-8af1-ddda735cdc03",
   "metadata": {
    "tags": []
   },
   "outputs": [],
   "source": [
    "map = g.Map(location = [37.5502, 126.982], zoom_start = 8,tiles='cartodbpositron')\n",
    "g.Choropleth(geo_data = gg,\n",
    "                  data = use2022,\n",
    "                  threshold_scale=bins,\n",
    "                  fill_color='YlGn',\n",
    "                  line_opacity=0.5,\n",
    "                  fill_opacity=0.7,\n",
    "                  key_on='feature.properties.name').add_to(map)\n",
    "map"
   ]
  },
  {
   "cell_type": "markdown",
   "id": "9367af8e-6185-4200-a4e7-cb6a86e36ad8",
   "metadata": {},
   "source": [
    "# 지역 화폐 가맹점"
   ]
  },
  {
   "cell_type": "markdown",
   "id": "0fad31be-0c2f-4e5b-8b28-619d46e277fa",
   "metadata": {},
   "source": [
    "- 데이터 가져오기"
   ]
  },
  {
   "cell_type": "code",
   "execution_count": null,
   "id": "309e1554-116f-439a-9764-a2740cfe38a6",
   "metadata": {
    "tags": []
   },
   "outputs": [],
   "source": [
    "pay_store=pd.read_csv(\"datas/lpay.csv\", encoding = \"CP949\", low_memory = False, usecols = [\"상호명\" , \"업종명(종목명)\", \"소재지도로명주소\", \"위도\",\"경도\",\"업종코드\",\"폐업일자\" ] )\n",
    "pay_store"
   ]
  },
  {
   "cell_type": "markdown",
   "id": "0393476e-40ef-4e15-8503-a226be735dc4",
   "metadata": {},
   "source": [
    "- 결측치 제거"
   ]
  },
  {
   "cell_type": "code",
   "execution_count": null,
   "id": "4ca3ca2d-7e0d-415d-9080-321721f5a92f",
   "metadata": {
    "tags": []
   },
   "outputs": [],
   "source": [
    "# 폐업 상점 삭제\n",
    "pay_store = pay_store[pay_store.폐업일자.isna()]\n",
    "\n",
    "# 위경도, 주소 결측치 제거\n",
    "pay_store = pay_store[pay_store.위도.notnull()]\n",
    "pay_store = pay_store[pay_store.소재지도로명주소.notnull()]\n",
    "\n",
    "print(sum(pay_store.위도.isna()), sum(pay_store.폐업일자.notnull()))"
   ]
  },
  {
   "cell_type": "code",
   "execution_count": null,
   "id": "98bb9581-17e0-412d-8c97-d57951c4695f",
   "metadata": {
    "tags": []
   },
   "outputs": [],
   "source": [
    "pay_store.drop([\"폐업일자\"], axis = 1, inplace =True)"
   ]
  },
  {
   "cell_type": "code",
   "execution_count": null,
   "id": "0e6d926c-2c20-40af-b099-4a48b1e0c53a",
   "metadata": {},
   "outputs": [],
   "source": [
    "pay_store.drop([\"상호명\"], axis = 1, inplace =True)"
   ]
  },
  {
   "cell_type": "code",
   "execution_count": null,
   "id": "bcb2cb62-886e-4c00-93e5-7289a5d2ef3b",
   "metadata": {
    "tags": []
   },
   "outputs": [],
   "source": [
    "#기타 업종 제거\n",
    "pay_store = pay_store[(pay_store[\"업종명(종목명)\"]) != \"기타\"]\n",
    "pay_store = pay_store[(pay_store[\"업종명(종목명)\"]) != \"기타1\"]\n",
    "pay_store = pay_store[(pay_store[\"업종명(종목명)\"]) != \"기타2\"]\n",
    "pay_store = pay_store[(pay_store[\"업종명(종목명)\"]) != \"기타3\"]\n",
    "pay_store = pay_store[(pay_store[\"업종명(종목명)\"]) != \"기타4\"]\n",
    "len(pay_store)"
   ]
  },
  {
   "cell_type": "code",
   "execution_count": null,
   "id": "d0a85af2-8eec-4c72-b4fe-3e313a799398",
   "metadata": {},
   "outputs": [],
   "source": [
    "pay_store[\"시\"] = pay_store.소재지도로명주소.str.split(' ').str[1]"
   ]
  },
  {
   "cell_type": "code",
   "execution_count": null,
   "id": "b136e531-a4f7-4470-bd5c-c5c5788ca362",
   "metadata": {
    "tags": []
   },
   "outputs": [],
   "source": [
    "#주소에서 구만 남기기\n",
    "\n",
    "except_city = ['고양시', '수원시', '성남시', '용인시', '안양시', '안산시']\n",
    "\n",
    "pay_store[\"시군구\"] = pay_store.소재지도로명주소.str.split(' ').str[1]\n",
    "except_city_idx = pay_store[pay_store.소재지도로명주소.str.split(' ').str[1].isin(except_city)].index"
   ]
  },
  {
   "cell_type": "code",
   "execution_count": null,
   "id": "bfed4feb-ce6f-487a-b3a7-8835d45f8ae2",
   "metadata": {
    "tags": []
   },
   "outputs": [],
   "source": [
    "pay_store.loc[except_city_idx, \"시군구\"] = pay_store.loc[except_city_idx, '소재지도로명주소'].str.split().str[1].astype(\"str\") + pay_store.loc[except_city_idx, '소재지도로명주소'].str.split().str[2].astype(\"str\")"
   ]
  },
  {
   "cell_type": "code",
   "execution_count": null,
   "id": "eddbeb3e-d3d9-40cc-b1ac-d542f7b51f5a",
   "metadata": {
    "tags": []
   },
   "outputs": [],
   "source": [
    "pay_store"
   ]
  },
  {
   "cell_type": "markdown",
   "id": "59329a33-d257-48d7-9d61-bb95d2f2e8d2",
   "metadata": {},
   "source": [
    "- 업종 분류"
   ]
  },
  {
   "cell_type": "code",
   "execution_count": null,
   "id": "8077783b-c359-4c6f-8be1-ec593f377d4b",
   "metadata": {},
   "outputs": [],
   "source": [
    "cat1 = ['일반자판기','기타음료식품','일반한식','서양음식','중국식', '스넥','갈비전문점','한정식','음식점업','일식회집','기타음료식품'] #요식업\n",
    "cat2 = ['1급호텔', '2급호텔', '숙박업', '여관/기타숙박업', '콘도'] #숙박업\n",
    "cat3 = ['쌍용S-OIL', '쌍용S-OIL가스충전소' , '주유소', 'E1가스충전소', 'GS가스충전소', 'GS주유소', 'LPG취급점', 'SK가스충전소', 'SK주유소','현대정유(오일뱅크)','현대정유가스충전소'] #주유소\n",
    "cat4 = ['기타잡화', '내의판매', '정장', '신발', '스포츠의류', '아동의류', '내의판매', '맞춤복점', '정장(여성)', '캐주얼의류', '와이셔츠타이','단체복','기타의류','가방','액세서리',\n",
    "        '귀금속','시계','안경'] #의류 잡화\n",
    "cat5 = ['기타의료기관및기타의료기기','약국','의원', '치과의원', '한의원', '동물병원', '병원', '보건업', '한약방', '한방병원', '치과병원', '종합병원'] #병원\n",
    "cat6 = ['제과점'] #카페/베이커리\n",
    "cat7 = ['통신기기(무이자할부)', '통신기기', '일반(통신판매)','사무통신기기수리','통신판매업2'] #통신기기\n",
    "cat8 = ['교육서비스', '교육서비스업', '기능학원', '예체능계학원', '외국어학원', '유아원', '보습학원', '기타교육기관', '유치원', '컴퓨터학원', '학원', '학습지교육', '독서실','유학원'] #교육서비스\n",
    "cat9 = ['고속버스', '기타교통수단', '고속버스', '택시','교통수단'] #교통수단\n",
    "cat10 = ['여객선','헬스클럽', '당구장', '수영장', '스포츠레져용품', '기타레져업소' , '골프용품전문점', '골프경기장', '골프연습장', '레져용품수리', '레져업소', '볼링장', '테니스장',\n",
    "         '스포츠및여가관련서비스업', '이륜차판매','종합레져타운','스크린골프'] #레저/스포츠\n",
    "cat11 = ['주점', '칵테일바','유흥주점'] #주점\n",
    "cat12 = ['서적', '기타서적문구','전문서적','일반서적','화원', '노래방', '화랑','사우나', '티켓','문화취미기타','영화관','음반/영상물','수족관','회원제형태업소','관광여행'] #문화/취미\n",
    "cat13 = ['기계공구','애완동물', '상품권', '과학기자재', '냉열기기', '기타광학제품', '카메라','대형할인점', '농축수산가공품','기타전기제품', '사무용OA기기', '기타농업관련','농기계', '조명기구', '보일러펌프샷시','일반가구', '목재석재철물','가전제품',\n",
    "         '농축수산품','정육점','주방용식기','주방용구','카페트,커튼,천막,지물','악기점','농,축협직영매장','농협하나로클럽','소매업','화방표구점','개인서비스업', '건강식품',\n",
    "         '골동품점', '구내매점', '기념품점', '기타건강식품', '기타사무용품', '기타용품', '문구용품', '문화취미기타', '미용재료', '기타직물', '비료','사료','종자', '성인용품점',\n",
    "         '완구점', '의료용품', '주류판매점', '페인트', '홍삼제품'] #도/소매업\n",
    "cat14 = ['슈퍼마켓', '편의점'] #편의점\n",
    "cat15 = ['중고자동차판매','렌터카','중장비수리','주차장','세차장','카인테리어','가타자동차서비스', '견인서비스', '수입자동차', '자동차부품', '자동차서비스', '자동차시트타이어', '자동차정비',\n",
    "         '중고차판매', '국산신차직영부품정비업소','국산신차판매',] #자동차 관련업\n",
    "cat16 = ['화장품', '피부미용실', '미용원','이용원'] #뷰티\n",
    "cat17 = ['여성청소년생필품','비영리/대상', '비영리/비대상'] #비영리\n",
    "cat18 = ['기타용역서비스','용역서비스',\n",
    "       '기타유통업', '사진관', '기타건축자재', '기타대인서비스', '인테리어전문', '세탁소',\n",
    "       '기타가구', '기타운송', '기타전문점', '건축용요업제품', '침구수예점', '소프트웨어',\n",
    "       '위탁급식업', '가정용품수리', '유류판매', '레저/서비스', '부동산중개임대', '출판및인쇄물',\n",
    "       '법률회계서비스(개인)', '화물운송', '민예공예품', '종합용역', '중고자동차판매', '제화', '컴퓨터',\n",
    "       '유리', '산후조리원', '인삼제품', '안마시술소', '비료,사료,종자', '옷감직물', '윤활유전문판매',\n",
    "       '미곡상', '기타수리서비스', '정보서비스', '혼수전문점', '가례서비스업', '인터넷Mall',\n",
    "       '혼례서비스', '기타연료', '법률회계서비스(법인)', '신변잡화수리', '조세서비스', '구내매점(국가기관등)',\n",
    "       '정수기', '보관및창고업', '정기간행물', '피아노대리점', '철제가구', '기타주방용구', '복지매장',\n",
    "       '자체물품대금', '상품권전문판매', '기타보험', '제약회사', '전자(상우회)', '양품점',\n",
    "       '조산원', '조세서비스(특약)', '연쇄점', '제조업', '교육용테이프판매', '부동산분양', 'CATV'] # 서비스/기타"
   ]
  },
  {
   "cell_type": "code",
   "execution_count": null,
   "id": "9a9928a6-071e-48b8-8d02-74fcaecf656d",
   "metadata": {},
   "outputs": [],
   "source": [
    "pay_store.replace(cat1,'요식업', inplace =True)\n",
    "pay_store.replace(cat2,'숙박업', inplace =True)\n",
    "pay_store.replace(cat3,'주유소', inplace =True)\n",
    "pay_store.replace(cat4,'의류/잡화', inplace =True)\n",
    "pay_store.replace(cat5,'병원', inplace =True)\n",
    "pay_store.replace(cat6,'카페/베이커리', inplace =True)\n",
    "pay_store.replace(cat7,'통신기기', inplace =True)\n",
    "pay_store.replace(cat8,'교육', inplace =True)\n",
    "pay_store.replace(cat9,'교통수단', inplace =True)\n",
    "pay_store.replace(cat10,'레저/스포츠', inplace =True)\n",
    "pay_store.replace(cat11,'주점', inplace =True)\n",
    "pay_store.replace(cat12,'문화/취미', inplace =True)\n",
    "pay_store.replace(cat13,'도/소매업', inplace =True)\n",
    "pay_store.replace(cat14,'편의점', inplace =True)\n",
    "pay_store.replace(cat15,'자동차 관련업', inplace =True)\n",
    "pay_store.replace(cat16,'뷰티', inplace =True)\n",
    "pay_store.replace(cat17,'비영리', inplace =True)\n",
    "pay_store.replace(cat18,'서비스/기타', inplace =True)"
   ]
  },
  {
   "cell_type": "code",
   "execution_count": null,
   "id": "19c1b414-7d7e-4cee-9d95-701599e13540",
   "metadata": {},
   "outputs": [],
   "source": [
    "pay_store[\"업종명(종목명)\"].unique()"
   ]
  },
  {
   "cell_type": "code",
   "execution_count": null,
   "id": "36461e4b-809e-486d-9712-ca3c61353cb1",
   "metadata": {},
   "outputs": [],
   "source": [
    "pay_store"
   ]
  },
  {
   "cell_type": "markdown",
   "id": "60e55ef1-d1bf-4a59-a844-79a55d241f5a",
   "metadata": {},
   "source": [
    "- 가맹점 데이터 시각화"
   ]
  },
  {
   "cell_type": "code",
   "execution_count": null,
   "id": "f7ca88bf-a163-42a0-9f5d-f0f2034dac8c",
   "metadata": {},
   "outputs": [],
   "source": [
    "plt.figure(figsize = (5,10))\n",
    "fig = sns.barplot(x = pay_store.시.value_counts(), y = pay_store.시.value_counts().index)\n",
    "plt.xlabel(None)\n",
    "plt.ylabel(None)\n",
    "plt.title('시 별 가맹점 수 합계')\n",
    "plt.show()"
   ]
  },
  {
   "cell_type": "code",
   "execution_count": null,
   "id": "b91c93f8-fa09-42c3-b1c1-ea99f681286f",
   "metadata": {},
   "outputs": [],
   "source": [
    "plt.figure(figsize = (5,10))\n",
    "sns.barplot(x = pay_store[\"업종명(종목명)\"].value_counts(), y =  pay_store[\"업종명(종목명)\"].value_counts().index)\n",
    "plt.xlabel(None)\n",
    "plt.ylabel(None)\n",
    "plt.title('업종별 가맹점 수 합계')\n",
    "plt.show()"
   ]
  },
  {
   "cell_type": "code",
   "execution_count": null,
   "id": "9407f528-c87c-4fc7-b05c-52024b10f168",
   "metadata": {},
   "outputs": [],
   "source": [
    "# 업종 비율 트리맵\n",
    "! pip install squarify\n",
    "import squarify\n",
    "plt.rcParams['font.size'] = 20\n",
    "fig, ax = plt.subplots(1, figsize = (20,10))\n",
    "squarify.plot(pay_store[\"업종명(종목명)\"].value_counts(),label=pay_store[\"업종명(종목명)\"].value_counts().index)\n",
    "plt.axis('off')\n",
    "plt.show()"
   ]
  },
  {
   "cell_type": "markdown",
   "id": "8e6b0a5e-c5a2-49da-8546-80295466e0f0",
   "metadata": {},
   "source": [
    "- 지도 시각화"
   ]
  },
  {
   "cell_type": "code",
   "execution_count": null,
   "id": "93b0457d-bdeb-450d-bf08-1b2b27f1df76",
   "metadata": {},
   "outputs": [],
   "source": [
    "#시 별 가맹점 수 데이터 프레임 생성\n",
    "gg_city = pd.Series(data = pay_store.시군구.value_counts(),\n",
    "                  index = pay_store.시군구.value_counts().index)\n"
   ]
  },
  {
   "cell_type": "code",
   "execution_count": null,
   "id": "d0c612ad-a91d-4de0-965e-e33214108798",
   "metadata": {
    "tags": []
   },
   "outputs": [],
   "source": [
    "gg_city"
   ]
  },
  {
   "cell_type": "code",
   "execution_count": null,
   "id": "7bb9b7ac-e961-40c9-8d98-36033e2e68e4",
   "metadata": {},
   "outputs": [],
   "source": [
    "# 한국 좌표 geojson\n",
    "geojson = \"https://raw.githubusercontent.com/southkorea/southkorea-maps/master/kostat/2018/json/skorea-municipalities-2018-geo.json\""
   ]
  },
  {
   "cell_type": "code",
   "execution_count": null,
   "id": "451b6caa-7af1-403d-bb58-db0a93b87465",
   "metadata": {},
   "outputs": [],
   "source": [
    "text_data = urllib.request.urlopen(geojson).read().decode('utf-8')\n",
    "gg = json.loads(text_data)"
   ]
  },
  {
   "cell_type": "code",
   "execution_count": null,
   "id": "8704a402-e802-4681-9668-66804cb87e0f",
   "metadata": {
    "tags": []
   },
   "outputs": [],
   "source": [
    "# 고양시, 수원시, 성남시, 용인시, 안양시, 안산시\n",
    "gg_city"
   ]
  },
  {
   "cell_type": "code",
   "execution_count": null,
   "id": "92fa7ed6-c10e-4eda-be96-01657fce8e0e",
   "metadata": {
    "tags": []
   },
   "outputs": [],
   "source": [
    "city_names = [feature['properties']['name'] for feature in gg['features']]\n",
    "city_names"
   ]
  },
  {
   "cell_type": "code",
   "execution_count": null,
   "id": "f9f56cd5-b692-4a19-8009-ad645245c1b2",
   "metadata": {
    "tags": []
   },
   "outputs": [],
   "source": [
    "gg_city"
   ]
  },
  {
   "cell_type": "code",
   "execution_count": null,
   "id": "407cb805-1e0e-48c9-9760-73f0d72d5fc2",
   "metadata": {},
   "outputs": [],
   "source": [
    "bins = [np.percentile(gg_city.values, i) for i in range(0, 101, 25)]\n",
    "bins"
   ]
  },
  {
   "cell_type": "code",
   "execution_count": null,
   "id": "dc55b23b-3782-45a6-aead-24c0df924dab",
   "metadata": {},
   "outputs": [],
   "source": [
    "map = g.Map(location = [37.5502, 126.982], zoom_start = 8,tiles='cartodbpositron')\n",
    "g.Choropleth(geo_data = geojson,\n",
    "                  data = gg_city,\n",
    "                  # columns= [gg_city.index, gg_city],\n",
    "                  threshold_scale=bins,\n",
    "                  fill_color='YlGn',\n",
    "                  line_opacity=0.5,\n",
    "                  fill_opacity=0.7,\n",
    "                  key_on='feature.properties.name').add_to(map)\n",
    "map"
   ]
  },
  {
   "cell_type": "markdown",
   "id": "7be0f6b7-6085-47c2-9290-4874d18c51bf",
   "metadata": {},
   "source": [
    "### 4개 도시 확인(화성, 광주, 수원, 성남)"
   ]
  },
  {
   "cell_type": "markdown",
   "id": "67c0bb5f-efa4-4a1b-bf33-4589332fa90a",
   "metadata": {},
   "source": [
    "- 데이터 불러오기"
   ]
  },
  {
   "cell_type": "code",
   "execution_count": null,
   "id": "09137614-e517-4f45-818d-b135287b2a0a",
   "metadata": {
    "tags": []
   },
   "outputs": [],
   "source": [
    "age = pd.read_csv(\"datas/주민등록.csv\", encoding = \"CP949\")\n",
    "use_data = pd.read_csv(\"datas/payuse.csv\", encoding = \"CP949\")"
   ]
  },
  {
   "cell_type": "markdown",
   "id": "6229d457-d7eb-42d2-8fd6-5ee695f69233",
   "metadata": {},
   "source": [
    "- 인구 데이터"
   ]
  },
  {
   "cell_type": "code",
   "execution_count": null,
   "id": "e60d69bc-7f0c-473b-846d-112b20f3bb60",
   "metadata": {},
   "outputs": [],
   "source": [
    "age = age.iloc[:,:16] #사용할 컬럼"
   ]
  },
  {
   "cell_type": "code",
   "execution_count": null,
   "id": "7e036093-63db-4351-bc9a-6e8c7ce11f3d",
   "metadata": {},
   "outputs": [],
   "source": [
    "age = age[age['연도'] >= 2019]\n",
    "age = age[age['연도'] <= 2022]"
   ]
  },
  {
   "cell_type": "code",
   "execution_count": null,
   "id": "df079097-a876-4866-a729-146e40c26678",
   "metadata": {},
   "outputs": [],
   "source": [
    "#시군명 컬럼 생성\n",
    "age[\"시군명\"] = age.행정구역명.str.split().str[1]"
   ]
  },
  {
   "cell_type": "code",
   "execution_count": null,
   "id": "f60d316c-8ba3-4a4d-b97f-03ca560304ff",
   "metadata": {},
   "outputs": [],
   "source": [
    "age.dropna(subset = \"시군명\", inplace = True)"
   ]
  },
  {
   "cell_type": "code",
   "execution_count": null,
   "id": "96178010-f03a-41ad-9534-278aa5635fdb",
   "metadata": {
    "tags": []
   },
   "outputs": [],
   "source": [
    "age"
   ]
  },
  {
   "cell_type": "code",
   "execution_count": null,
   "id": "45057595-cc9c-4e78-9d55-1baa9b9fb13d",
   "metadata": {},
   "outputs": [],
   "source": [
    "peo = age[[\"시군명\",\"총 인구수\"]].groupby(\"시군명\").mean() #시군 별 총 인구 수(평균)"
   ]
  },
  {
   "cell_type": "code",
   "execution_count": null,
   "id": "d38240c7-cdbc-4850-ab76-2981a06dc991",
   "metadata": {},
   "outputs": [],
   "source": [
    "peo = peo/peo.sum() #비율"
   ]
  },
  {
   "cell_type": "code",
   "execution_count": null,
   "id": "cf87f663-81e0-4edf-b7e4-14011f4ed2b5",
   "metadata": {
    "tags": []
   },
   "outputs": [],
   "source": [
    "peo = peo.loc[[\"성남시\", \"화성시\" ,\"수원시\", \"광주시\"]] #4개 지역 총 인구 수 비율 데이터"
   ]
  },
  {
   "cell_type": "markdown",
   "id": "bc0ed8b3-f25a-4406-b85c-0444fa520e5d",
   "metadata": {},
   "source": [
    "- 카드 사용 데이터"
   ]
  },
  {
   "cell_type": "code",
   "execution_count": null,
   "id": "dca391e1-447e-4da1-9d2e-bc5950f7378e",
   "metadata": {
    "tags": []
   },
   "outputs": [],
   "source": [
    "use_data[\"기준년월\"] = use_data[\"기준년월\"].str.split('-').str[0] "
   ]
  },
  {
   "cell_type": "code",
   "execution_count": null,
   "id": "99e2ea29-5ded-4fa3-ab2d-2887bf9a3a5d",
   "metadata": {},
   "outputs": [],
   "source": [
    "use_data = use_data[[\"시군명\",\"월별카드사용액(천원)\"]].groupby(\"시군명\").mean()/1000"
   ]
  },
  {
   "cell_type": "code",
   "execution_count": null,
   "id": "a22e3ab9-a26f-4c7d-95fc-373b39286138",
   "metadata": {},
   "outputs": [],
   "source": [
    "use_data = use_data/use_data.sum()"
   ]
  },
  {
   "cell_type": "code",
   "execution_count": null,
   "id": "79ba69e0-2647-42c5-85ce-3de0c9cba64d",
   "metadata": {
    "tags": []
   },
   "outputs": [],
   "source": [
    "use_data"
   ]
  },
  {
   "cell_type": "code",
   "execution_count": null,
   "id": "bc54c0ad-af7b-406f-afbc-9f267b392799",
   "metadata": {},
   "outputs": [],
   "source": [
    "use = use_data.loc[[\"성남시\", \"화성시\" ,\"수원시\", \"광주시\"]]"
   ]
  },
  {
   "cell_type": "code",
   "execution_count": null,
   "id": "1ccaf07e-5106-45ef-9aa6-1668f1a8dd7f",
   "metadata": {},
   "outputs": [],
   "source": [
    "age_data = age[[\"시군명\",\"총 인구수\"]]"
   ]
  },
  {
   "cell_type": "code",
   "execution_count": null,
   "id": "f12eed38-e4d6-4230-9438-8761bda2a8b8",
   "metadata": {
    "tags": []
   },
   "outputs": [],
   "source": [
    "age_data = age_data.groupby([\"시군명\"]).mean()"
   ]
  },
  {
   "cell_type": "code",
   "execution_count": null,
   "id": "a384f5d0-9e28-4dd1-b780-13c493e53887",
   "metadata": {},
   "outputs": [],
   "source": [
    "age.시군명.unique()"
   ]
  },
  {
   "cell_type": "code",
   "execution_count": null,
   "id": "d8c3e2d2-d749-4499-96cb-2f35437a8c55",
   "metadata": {
    "tags": []
   },
   "outputs": [],
   "source": [
    "age_data = age_data.loc[[\"성남시\", \"화성시\" ,\"수원시\", \"광주시\"]]"
   ]
  },
  {
   "cell_type": "code",
   "execution_count": null,
   "id": "fdd13802-6752-4b7a-b819-b465b2f46a17",
   "metadata": {
    "tags": []
   },
   "outputs": [],
   "source": [
    "age_data"
   ]
  },
  {
   "cell_type": "markdown",
   "id": "e07a75d7-1b78-4c67-a75e-d48065fc9f61",
   "metadata": {},
   "source": [
    "- 그래프"
   ]
  },
  {
   "cell_type": "code",
   "execution_count": null,
   "id": "16e37587-baf0-4d32-9bf8-a91b0e20c662",
   "metadata": {},
   "outputs": [],
   "source": [
    "import seaborn as sns"
   ]
  },
  {
   "cell_type": "code",
   "execution_count": null,
   "id": "c7787be7-391b-4bca-a9f9-25670c99b60c",
   "metadata": {},
   "outputs": [],
   "source": [
    "sns.barplot(x = age_data.loc[\"성남시\"].index, y = age_data.loc[\"성남시\"].values)\n",
    "plt.xticks(rotation = 90)\n",
    "plt.title(\"성남시 인구 분포\")\n",
    "plt.show()"
   ]
  },
  {
   "cell_type": "code",
   "execution_count": null,
   "id": "8fb218c9-8afb-4a74-be06-f883f2d414bb",
   "metadata": {},
   "outputs": [],
   "source": [
    "sns.barplot(x = age_data.loc[\"화성시\"].index, y = age_data.loc[\"화성시\"].values)\n",
    "plt.xticks(rotation = 90)\n",
    "plt.title(\"화성시 인구 분포\")\n",
    "plt.show()"
   ]
  },
  {
   "cell_type": "code",
   "execution_count": null,
   "id": "57a2b2a7-25e8-4549-a7ab-4bc112410f86",
   "metadata": {},
   "outputs": [],
   "source": [
    "sns.barplot(x = age_data.loc[\"광주시\"].index, y = age_data.loc[\"광주시\"].values)\n",
    "plt.xticks(rotation = 90)\n",
    "plt.title(\"광주시 인구 분포\")\n",
    "plt.show()"
   ]
  },
  {
   "cell_type": "code",
   "execution_count": null,
   "id": "e8d848ec-2653-4318-a61a-c391ae4f973d",
   "metadata": {},
   "outputs": [],
   "source": [
    "ax1 = plt.plot("
   ]
  },
  {
   "cell_type": "code",
   "execution_count": null,
   "id": "422e2ddb-2514-4fe3-aae5-2c9eca478b29",
   "metadata": {},
   "outputs": [],
   "source": [
    "\n",
    "plt.subplot(2, 2, 1)\n",
    "plt.plot(age_data.loc[\"성남시\"].index,age_data.loc[\"성남시\"].values)\n",
    "plt.xticks(rotation = 90)\n",
    "plt.title(\"성남시 인구 분포\")\n",
    "\n",
    "plt.subplot(2, 2, 2)\n",
    "plt.plot(age_data.loc[\"화성시\"].index,age_data.loc[\"화성시\"].values)\n",
    "plt.xticks(rotation = 90)\n",
    "plt.title(\"화성시 인구 분포\")\n",
    "\n",
    "plt.show()"
   ]
  },
  {
   "cell_type": "code",
   "execution_count": null,
   "id": "8f4ee862-749a-4bcb-83c1-52b7a658fd84",
   "metadata": {},
   "outputs": [],
   "source": [
    "plt.plot(age_data.columns, age_data.loc['성남시'].values/age_data.loc['성남시'].values.sum(), label = \"성남시\")\n",
    "plt.plot(age_data.columns, age_data.loc['화성시'].values/age_data.loc['화성시'].values.sum(), label = \"화성시\")\n",
    "plt.plot(age_data.columns, age_data.loc['부천시'].values/age_data.loc['부천시'].values.sum(), label = \"수원시\")\n",
    "plt.plot(age_data.columns, age_data.loc['광주시'].values/age_data.loc['광주시'].values.sum(), label = \"광주시\")\n",
    "plt.xticks(rotation = 90)\n",
    "plt.title(\"지역 별 인구 분포\")\n",
    "plt.legend()\n",
    "\n",
    "plt.show()"
   ]
  },
  {
   "cell_type": "code",
   "execution_count": null,
   "id": "84232997-dffe-4f9b-bb48-b04069b349cf",
   "metadata": {},
   "outputs": [],
   "source": [
    "plt.bar(age_data.columns, age_data.loc['성남시'].values/age_data.loc['성남시'].values.sum(), alpha = 0.4, label = \"성남시\")\n",
    "plt.bar(age_data.columns, age_data.loc['화성시'].values/age_data.loc['화성시'].values.sum(), alpha = 0.4, label = \"화성시\")\n",
    "plt.xticks(rotation = 90)\n",
    "plt.title(\"성남/화성 인구 분포\")\n",
    "plt.legend()\n",
    "plt.show()"
   ]
  },
  {
   "cell_type": "code",
   "execution_count": null,
   "id": "0db665c3-0b0d-4a91-a4ad-044e12275ed6",
   "metadata": {},
   "outputs": [],
   "source": [
    "sns.histplot(data = age_data.loc[\"광주시\"], x = age_data.loc[\"광주시\"].values, kde = True)\n",
    "plt.xticks(labels = age_data.loc[\"광주시\"].index)"
   ]
  },
  {
   "cell_type": "code",
   "execution_count": null,
   "id": "055f9c09-9a03-486b-a540-c013e07cd425",
   "metadata": {},
   "outputs": [],
   "source": [
    "plt.plot(age_data.loc[\"광주시\"].index,age_data.loc[\"광주시\"].values)"
   ]
  },
  {
   "cell_type": "code",
   "execution_count": null,
   "id": "2b682e6c-29f7-4fbc-8706-de24cdda1834",
   "metadata": {},
   "outputs": [],
   "source": [
    "peo[\"월별카드사용액(천원)\"] = use[\"월별카드사용액(천원)\"]\n",
    "peo.reset_index(inplace = True)"
   ]
  },
  {
   "cell_type": "code",
   "execution_count": null,
   "id": "3a7aa8d8-652d-4ed7-be36-a605a574ab32",
   "metadata": {},
   "outputs": [],
   "source": [
    "pop_df2 = peo.set_index('시군명')\n",
    "#.sort_values(by='인구평균', ascending=False)\n",
    "# 인구 및 지역화폐 결제 금액에 대한 표\n",
    "ax=pop_df2.sort_values(by='총 인구수', ascending=False).plot(kind='bar', figsize=(12, 8), legend=True, fontsize=12, color=['#E866BA','#98B3FF'])\n",
    "ax.set_xlabel('지역명', fontsize=12)\n",
    "ax.set_ylabel('비율', fontsize=12)\n",
    "plt.title(\"인구 및 지역화폐 결제금액\", fontsize=15)\n",
    "ax.legend(['거주인구비율', '결제금액비율'], fontsize=12)\n",
    "plt.show()"
   ]
  }
 ],
 "metadata": {
  "kernelspec": {
   "display_name": "Python 3 (ipykernel)",
   "language": "python",
   "name": "python3"
  },
  "language_info": {
   "codemirror_mode": {
    "name": "ipython",
    "version": 3
   },
   "file_extension": ".py",
   "mimetype": "text/x-python",
   "name": "python",
   "nbconvert_exporter": "python",
   "pygments_lexer": "ipython3",
   "version": "3.9.13"
  }
 },
 "nbformat": 4,
 "nbformat_minor": 5
}
