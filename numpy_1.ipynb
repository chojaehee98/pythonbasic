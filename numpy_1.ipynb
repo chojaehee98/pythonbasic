{
 "cells": [
  {
   "cell_type": "code",
   "execution_count": 5,
   "id": "8dee8c6b-3128-4f98-91f3-8b7b0e87ac8a",
   "metadata": {
    "scrolled": true,
    "tags": []
   },
   "outputs": [
    {
     "name": "stdout",
     "output_type": "stream",
     "text": [
      "# packages in environment at C:\\Users\\jaehee\\anaconda3:\n",
      "#\n",
      "# Name                    Version                   Build  Channel\n",
      "_ipyw_jlab_nb_ext_conf    0.1.0            py39haa95532_0  \n",
      "alabaster                 0.7.12             pyhd3eb1b0_0  \n",
      "anaconda                  2022.10                  py39_0  \n",
      "anaconda-client           1.11.0           py39haa95532_0  \n",
      "anaconda-navigator        2.3.1            py39haa95532_0  \n",
      "anaconda-project          0.11.1           py39haa95532_0  \n",
      "anyio                     3.5.0            py39haa95532_0  \n",
      "appdirs                   1.4.4              pyhd3eb1b0_0  \n",
      "argon2-cffi               21.3.0             pyhd3eb1b0_0  \n",
      "argon2-cffi-bindings      21.2.0           py39h2bbff1b_0  \n",
      "arrow                     1.2.2              pyhd3eb1b0_0  \n",
      "astroid                   2.11.7           py39haa95532_0  \n",
      "astropy                   5.1              py39h080aedc_0  \n",
      "atomicwrites              1.4.0                      py_0  \n",
      "attrs                     21.4.0             pyhd3eb1b0_0  \n",
      "automat                   20.2.0                     py_0  \n",
      "autopep8                  1.6.0              pyhd3eb1b0_1  \n",
      "babel                     2.9.1              pyhd3eb1b0_0  \n",
      "backcall                  0.2.0              pyhd3eb1b0_0  \n",
      "backports                 1.1                pyhd3eb1b0_0  \n",
      "backports.functools_lru_cache 1.6.4              pyhd3eb1b0_0  \n",
      "backports.tempfile        1.0                pyhd3eb1b0_1  \n",
      "backports.weakref         1.0.post1                  py_1  \n",
      "bcrypt                    3.2.0            py39h2bbff1b_1  \n",
      "beautifulsoup4            4.11.1           py39haa95532_0  \n",
      "binaryornot               0.4.4              pyhd3eb1b0_1  \n",
      "bitarray                  2.5.1            py39h2bbff1b_0  \n",
      "bkcharts                  0.2              py39haa95532_1  \n",
      "black                     22.6.0           py39haa95532_0  \n",
      "blas                      1.0                         mkl  \n",
      "bleach                    4.1.0              pyhd3eb1b0_0  \n",
      "blosc                     1.21.0               h19a0ad4_1  \n",
      "bokeh                     2.4.3            py39haa95532_0  \n",
      "boto3                     1.24.28          py39haa95532_0  \n",
      "botocore                  1.27.28          py39haa95532_0  \n",
      "bottleneck                1.3.5            py39h080aedc_0  \n",
      "brotli                    1.0.9                h2bbff1b_7  \n",
      "brotli-bin                1.0.9                h2bbff1b_7  \n",
      "brotlipy                  0.7.0           py39h2bbff1b_1003  \n",
      "bzip2                     1.0.8                he774522_0  \n",
      "ca-certificates           2022.07.19           haa95532_0  \n",
      "certifi                   2022.9.14        py39haa95532_0  \n",
      "cffi                      1.15.1           py39h2bbff1b_0  \n",
      "cfitsio                   3.470                h2bbff1b_7  \n",
      "chardet                   4.0.0           py39haa95532_1003  \n",
      "charls                    2.2.0                h6c2663c_0  \n",
      "charset-normalizer        2.0.4              pyhd3eb1b0_0  \n",
      "click                     8.0.4            py39haa95532_0  \n",
      "cloudpickle               2.0.0              pyhd3eb1b0_0  \n",
      "clyent                    1.2.2            py39haa95532_1  \n",
      "colorama                  0.4.5            py39haa95532_0  \n",
      "colorcet                  3.0.0            py39haa95532_0  \n",
      "comtypes                  1.1.10          py39haa95532_1002  \n",
      "conda                     22.9.0           py39haa95532_0  \n",
      "conda-build               3.22.0           py39haa95532_0  \n",
      "conda-content-trust       0.1.3            py39haa95532_0  \n",
      "conda-env                 2.6.0                haa95532_1  \n",
      "conda-pack                0.6.0              pyhd3eb1b0_0  \n",
      "conda-package-handling    1.9.0            py39h8cc25b3_0  \n",
      "conda-repo-cli            1.0.20           py39haa95532_0  \n",
      "conda-token               0.4.0              pyhd3eb1b0_0  \n",
      "conda-verify              3.4.2                      py_1  \n",
      "console_shortcut          0.1.1                         4  \n",
      "constantly                15.1.0             pyh2b92418_0  \n",
      "cookiecutter              1.7.3              pyhd3eb1b0_0  \n",
      "cryptography              37.0.1           py39h21b164f_0  \n",
      "cssselect                 1.1.0              pyhd3eb1b0_0  \n",
      "curl                      7.84.0               h2bbff1b_0  \n",
      "cycler                    0.11.0             pyhd3eb1b0_0  \n",
      "cython                    0.29.32          py39hd77b12b_0  \n",
      "cytoolz                   0.11.0           py39h2bbff1b_0  \n",
      "daal4py                   2021.6.0         py39h757b272_1  \n",
      "dal                       2021.6.0           h59b6b97_874  \n",
      "dask                      2022.7.0         py39haa95532_0  \n",
      "dask-core                 2022.7.0         py39haa95532_0  \n",
      "dataclasses               0.8                pyh6d0b6a4_7  \n",
      "datashader                0.14.1           py39haa95532_0  \n",
      "datashape                 0.5.4            py39haa95532_1  \n",
      "debugpy                   1.5.1            py39hd77b12b_0  \n",
      "decorator                 5.1.1              pyhd3eb1b0_0  \n",
      "defusedxml                0.7.1              pyhd3eb1b0_0  \n",
      "diff-match-patch          20200713           pyhd3eb1b0_0  \n",
      "dill                      0.3.4              pyhd3eb1b0_0  \n",
      "distributed               2022.7.0         py39haa95532_0  \n",
      "docutils                  0.18.1           py39haa95532_3  \n",
      "entrypoints               0.4              py39haa95532_0  \n",
      "et_xmlfile                1.1.0            py39haa95532_0  \n",
      "fftw                      3.3.9                h2bbff1b_1  \n",
      "filelock                  3.6.0              pyhd3eb1b0_0  \n",
      "flake8                    4.0.1              pyhd3eb1b0_1  \n",
      "flask                     1.1.2              pyhd3eb1b0_0  \n",
      "fonttools                 4.25.0             pyhd3eb1b0_0  \n",
      "freetype                  2.10.4               hd328e21_0  \n",
      "fsspec                    2022.7.1         py39haa95532_0  \n",
      "future                    0.18.2           py39haa95532_1  \n",
      "gensim                    4.1.2            py39hd77b12b_0  \n",
      "giflib                    5.2.1                h62dcd97_0  \n",
      "glob2                     0.7                pyhd3eb1b0_0  \n",
      "greenlet                  1.1.1            py39hd77b12b_0  \n",
      "h5py                      3.7.0            py39h3de5c98_0  \n",
      "hdf5                      1.10.6               h1756f20_1  \n",
      "heapdict                  1.0.1              pyhd3eb1b0_0  \n",
      "holoviews                 1.15.0           py39haa95532_0  \n",
      "hvplot                    0.8.0            py39haa95532_0  \n",
      "hyperlink                 21.0.0             pyhd3eb1b0_0  \n",
      "icc_rt                    2022.1.0             h6049295_2  \n",
      "icu                       58.2                 ha925a31_3  \n",
      "idna                      3.3                pyhd3eb1b0_0  \n",
      "imagecodecs               2021.8.26        py39hc0a7faf_1  \n",
      "imageio                   2.19.3           py39haa95532_0  \n",
      "imagesize                 1.4.1            py39haa95532_0  \n",
      "importlib-metadata        4.11.3           py39haa95532_0  \n",
      "importlib_metadata        4.11.3               hd3eb1b0_0  \n",
      "incremental               21.3.0             pyhd3eb1b0_0  \n",
      "inflection                0.5.1            py39haa95532_0  \n",
      "iniconfig                 1.1.1              pyhd3eb1b0_0  \n",
      "intake                    0.6.5              pyhd3eb1b0_0  \n",
      "intel-openmp              2021.4.0          haa95532_3556  \n",
      "intervaltree              3.1.0              pyhd3eb1b0_0  \n",
      "ipykernel                 6.15.2           py39haa95532_0  \n",
      "ipython                   7.31.1           py39haa95532_1  \n",
      "ipython_genutils          0.2.0              pyhd3eb1b0_1  \n",
      "ipywidgets                7.6.5              pyhd3eb1b0_1  \n",
      "isort                     5.9.3              pyhd3eb1b0_0  \n",
      "itemadapter               0.3.0              pyhd3eb1b0_0  \n",
      "itemloaders               1.0.4              pyhd3eb1b0_1  \n",
      "itsdangerous              2.0.1              pyhd3eb1b0_0  \n",
      "jdcal                     1.4.1              pyhd3eb1b0_0  \n",
      "jedi                      0.18.1           py39haa95532_1  \n",
      "jellyfish                 0.9.0            py39h2bbff1b_0  \n",
      "jinja2                    2.11.3             pyhd3eb1b0_0  \n",
      "jinja2-time               0.2.0              pyhd3eb1b0_3  \n",
      "jmespath                  0.10.0             pyhd3eb1b0_0  \n",
      "joblib                    1.1.0              pyhd3eb1b0_0  \n",
      "jpeg                      9e                   h2bbff1b_0  \n",
      "jq                        1.6                  haa95532_1  \n",
      "json5                     0.9.6              pyhd3eb1b0_0  \n",
      "jsonschema                4.16.0           py39haa95532_0  \n",
      "jupyter                   1.0.0            py39haa95532_8  \n",
      "jupyter_client            7.3.4            py39haa95532_0  \n",
      "jupyter_console           6.4.3              pyhd3eb1b0_0  \n",
      "jupyter_core              4.11.1           py39haa95532_0  \n",
      "jupyter_server            1.18.1           py39haa95532_0  \n",
      "jupyterlab                3.4.4            py39haa95532_0  \n",
      "jupyterlab_pygments       0.1.2                      py_0  \n",
      "jupyterlab_server         2.10.3             pyhd3eb1b0_1  \n",
      "jupyterlab_widgets        1.0.0              pyhd3eb1b0_1  \n",
      "keyring                   23.4.0           py39haa95532_0  \n",
      "kiwisolver                1.4.2            py39hd77b12b_0  \n",
      "lazy-object-proxy         1.6.0            py39h2bbff1b_0  \n",
      "lcms2                     2.12                 h83e58a3_0  \n",
      "lerc                      3.0                  hd77b12b_0  \n",
      "libaec                    1.0.4                h33f27b4_1  \n",
      "libarchive                3.6.1                hebabd0d_0  \n",
      "libbrotlicommon           1.0.9                h2bbff1b_7  \n",
      "libbrotlidec              1.0.9                h2bbff1b_7  \n",
      "libbrotlienc              1.0.9                h2bbff1b_7  \n",
      "libcurl                   7.84.0               h86230a5_0  \n",
      "libdeflate                1.8                  h2bbff1b_5  \n",
      "libiconv                  1.16                 h2bbff1b_2  \n",
      "liblief                   0.11.5               hd77b12b_1  \n",
      "libpng                    1.6.37               h2a8f88b_0  \n",
      "libsodium                 1.0.18               h62dcd97_0  \n",
      "libspatialindex           1.9.3                h6c2663c_0  \n",
      "libssh2                   1.10.0               hcd4344a_0  \n",
      "libtiff                   4.4.0                h8a3f274_0  \n",
      "libwebp                   1.2.2                h2bbff1b_0  \n",
      "libxml2                   2.9.14               h0ad7f3c_0  \n",
      "libxslt                   1.1.35               h2bbff1b_0  \n",
      "libzopfli                 1.0.3                ha925a31_0  \n",
      "llvmlite                  0.38.0           py39h23ce68f_0  \n",
      "locket                    1.0.0            py39haa95532_0  \n",
      "lxml                      4.9.1            py39h1985fb9_0  \n",
      "lz4                       3.1.3            py39h2bbff1b_0  \n",
      "lz4-c                     1.9.3                h2bbff1b_1  \n",
      "lzo                       2.10                 he774522_2  \n",
      "m2-msys2-runtime          2.5.0.17080.65c939c               3  \n",
      "m2-patch                  2.7.5                         2  \n",
      "m2w64-libwinpthread-git   5.0.0.4634.697f757               2  \n",
      "markdown                  3.3.4            py39haa95532_0  \n",
      "markupsafe                2.0.1            py39h2bbff1b_0  \n",
      "matplotlib                3.5.2            py39haa95532_0  \n",
      "matplotlib-base           3.5.2            py39hd77b12b_0  \n",
      "matplotlib-inline         0.1.6            py39haa95532_0  \n",
      "mccabe                    0.6.1            py39haa95532_2  \n",
      "menuinst                  1.4.19           py39h59b6b97_0  \n",
      "mistune                   0.8.4           py39h2bbff1b_1000  \n",
      "mkl                       2021.4.0           haa95532_640  \n",
      "mkl-service               2.4.0            py39h2bbff1b_0  \n",
      "mkl_fft                   1.3.1            py39h277e83a_0  \n",
      "mkl_random                1.2.2            py39hf11a4ad_0  \n",
      "mock                      4.0.3              pyhd3eb1b0_0  \n",
      "mpmath                    1.2.1            py39haa95532_0  \n",
      "msgpack-python            1.0.3            py39h59b6b97_0  \n",
      "msys2-conda-epoch         20160418                      1  \n",
      "multipledispatch          0.6.0            py39haa95532_0  \n",
      "munkres                   1.1.4                      py_0  \n",
      "mypy_extensions           0.4.3            py39haa95532_1  \n",
      "navigator-updater         0.3.0            py39haa95532_0  \n",
      "nbclassic                 0.3.5              pyhd3eb1b0_0  \n",
      "nbclient                  0.5.13           py39haa95532_0  \n",
      "nbconvert                 6.4.4            py39haa95532_0  \n",
      "nbformat                  5.5.0            py39haa95532_0  \n",
      "nest-asyncio              1.5.5            py39haa95532_0  \n",
      "networkx                  2.8.4            py39haa95532_0  \n",
      "nltk                      3.7                pyhd3eb1b0_0  \n",
      "nose                      1.3.7           pyhd3eb1b0_1008  \n",
      "notebook                  6.4.12           py39haa95532_0  \n",
      "numba                     0.55.1           py39hf11a4ad_0  \n",
      "numexpr                   2.8.3            py39hb80d3ca_0  \n",
      "numpy                     1.21.5           py39h7a0a035_3  \n",
      "numpy-base                1.21.5           py39hca35cd5_3  \n",
      "numpydoc                  1.4.0            py39haa95532_0  \n",
      "olefile                   0.46               pyhd3eb1b0_0  \n",
      "opendartreader            0.2.1                    pypi_0    pypi\n",
      "openjpeg                  2.4.0                h4fc8c34_0  \n",
      "openpyxl                  3.0.10           py39h2bbff1b_0  \n",
      "openssl                   1.1.1q               h2bbff1b_0  \n",
      "packaging                 21.3               pyhd3eb1b0_0  \n",
      "pandas                    1.4.4            py39hd77b12b_0  \n",
      "pandocfilters             1.5.0              pyhd3eb1b0_0  \n",
      "panel                     0.13.1           py39haa95532_0  \n",
      "param                     1.12.0             pyhd3eb1b0_0  \n",
      "paramiko                  2.8.1              pyhd3eb1b0_0  \n",
      "parsel                    1.6.0            py39haa95532_0  \n",
      "parso                     0.8.3              pyhd3eb1b0_0  \n",
      "partd                     1.2.0              pyhd3eb1b0_1  \n",
      "pathlib                   1.0.1              pyhd3eb1b0_1  \n",
      "pathspec                  0.9.0            py39haa95532_0  \n",
      "patsy                     0.5.2            py39haa95532_1  \n",
      "pep8                      1.7.1            py39haa95532_1  \n",
      "pexpect                   4.8.0              pyhd3eb1b0_3  \n",
      "pickleshare               0.7.5           pyhd3eb1b0_1003  \n",
      "pillow                    9.2.0            py39hdc2b20a_1  \n",
      "pip                       22.2.2           py39haa95532_0  \n",
      "pkginfo                   1.8.2              pyhd3eb1b0_0  \n",
      "platformdirs              2.5.2            py39haa95532_0  \n",
      "plotly                    5.9.0            py39haa95532_0  \n",
      "pluggy                    1.0.0            py39haa95532_1  \n",
      "powershell_shortcut       0.0.1                         3  \n",
      "poyo                      0.5.0              pyhd3eb1b0_0  \n",
      "prometheus_client         0.14.1           py39haa95532_0  \n",
      "prompt-toolkit            3.0.20             pyhd3eb1b0_0  \n",
      "prompt_toolkit            3.0.20               hd3eb1b0_0  \n",
      "protego                   0.1.16                     py_0  \n",
      "psutil                    5.9.0            py39h2bbff1b_0  \n",
      "ptyprocess                0.7.0              pyhd3eb1b0_2  \n",
      "py                        1.11.0             pyhd3eb1b0_0  \n",
      "py-lief                   0.11.5           py39hd77b12b_1  \n",
      "pyasn1                    0.4.8              pyhd3eb1b0_0  \n",
      "pyasn1-modules            0.2.8                      py_0  \n",
      "pycodestyle               2.8.0              pyhd3eb1b0_0  \n",
      "pycosat                   0.6.3            py39h2bbff1b_0  \n",
      "pycparser                 2.21               pyhd3eb1b0_0  \n",
      "pyct                      0.4.8            py39haa95532_1  \n",
      "pycurl                    7.45.1           py39hcd4344a_0  \n",
      "pydispatcher              2.0.5            py39haa95532_2  \n",
      "pydocstyle                6.1.1              pyhd3eb1b0_0  \n",
      "pyerfa                    2.0.0            py39h2bbff1b_0  \n",
      "pyflakes                  2.4.0              pyhd3eb1b0_0  \n",
      "pygments                  2.11.2             pyhd3eb1b0_0  \n",
      "pyhamcrest                2.0.2              pyhd3eb1b0_2  \n",
      "pyjwt                     2.4.0            py39haa95532_0  \n",
      "pylint                    2.14.5           py39haa95532_0  \n",
      "pyls-spyder               0.4.0              pyhd3eb1b0_0  \n",
      "pymysql                   1.0.2                    pypi_0    pypi\n",
      "pynacl                    1.5.0            py39h8cc25b3_0  \n",
      "pyodbc                    4.0.34           py39hd77b12b_0  \n",
      "pyopenssl                 22.0.0             pyhd3eb1b0_0  \n",
      "pyparsing                 3.0.9            py39haa95532_0  \n",
      "pyqt                      5.9.2            py39hd77b12b_6  \n",
      "pyrsistent                0.18.0           py39h196d8e1_0  \n",
      "pysocks                   1.7.1            py39haa95532_0  \n",
      "pytables                  3.6.1            py39h56d22b6_1  \n",
      "pytest                    7.1.2            py39haa95532_0  \n",
      "python                    3.9.13               h6244533_1  \n",
      "python-dateutil           2.8.2              pyhd3eb1b0_0  \n",
      "python-fastjsonschema     2.16.2           py39haa95532_0  \n",
      "python-libarchive-c       2.9                pyhd3eb1b0_1  \n",
      "python-lsp-black          1.0.0              pyhd3eb1b0_0  \n",
      "python-lsp-jsonrpc        1.0.0              pyhd3eb1b0_0  \n",
      "python-lsp-server         1.3.3              pyhd3eb1b0_0  \n",
      "python-slugify            5.0.2              pyhd3eb1b0_0  \n",
      "python-snappy             0.6.0            py39hd77b12b_3  \n",
      "pytz                      2022.1           py39haa95532_0  \n",
      "pyviz_comms               2.0.2              pyhd3eb1b0_0  \n",
      "pywavelets                1.3.0            py39h2bbff1b_0  \n",
      "pywin32                   302              py39h2bbff1b_2  \n",
      "pywin32-ctypes            0.2.0           py39haa95532_1000  \n",
      "pywinpty                  2.0.2            py39h5da7b33_0  \n",
      "pyyaml                    6.0              py39h2bbff1b_1  \n",
      "pyzmq                     23.2.0           py39hd77b12b_0  \n",
      "qdarkstyle                3.0.2              pyhd3eb1b0_0  \n",
      "qstylizer                 0.1.10             pyhd3eb1b0_0  \n",
      "qt                        5.9.7            vc14h73c81de_0  \n",
      "qtawesome                 1.0.3              pyhd3eb1b0_0  \n",
      "qtconsole                 5.2.2              pyhd3eb1b0_0  \n",
      "qtpy                      2.2.0            py39haa95532_0  \n",
      "queuelib                  1.5.0            py39haa95532_0  \n",
      "regex                     2022.7.9         py39h2bbff1b_0  \n",
      "requests                  2.28.1           py39haa95532_0  \n",
      "requests-file             1.5.1              pyhd3eb1b0_0  \n",
      "rope                      0.22.0             pyhd3eb1b0_0  \n",
      "rtree                     0.9.7            py39h2eaa2aa_1  \n",
      "ruamel_yaml               0.15.100         py39h2bbff1b_0  \n",
      "s3transfer                0.6.0            py39haa95532_0  \n",
      "scikit-image              0.19.2           py39hf11a4ad_0  \n",
      "scikit-learn              1.0.2            py39hf11a4ad_1  \n",
      "scikit-learn-intelex      2021.6.0         py39haa95532_0  \n",
      "scipy                     1.9.1            py39he11b74f_0  \n",
      "scrapy                    2.6.2            py39haa95532_0  \n",
      "seaborn                   0.11.2             pyhd3eb1b0_0  \n",
      "send2trash                1.8.0              pyhd3eb1b0_1  \n",
      "service_identity          18.1.0             pyhd3eb1b0_1  \n",
      "setuptools                63.4.1           py39haa95532_0  \n",
      "sip                       4.19.13          py39hd77b12b_0  \n",
      "six                       1.16.0             pyhd3eb1b0_1  \n",
      "smart_open                5.2.1            py39haa95532_0  \n",
      "snappy                    1.1.9                h6c2663c_0  \n",
      "sniffio                   1.2.0            py39haa95532_1  \n",
      "snowballstemmer           2.2.0              pyhd3eb1b0_0  \n",
      "sortedcollections         2.1.0              pyhd3eb1b0_0  \n",
      "sortedcontainers          2.4.0              pyhd3eb1b0_0  \n",
      "soupsieve                 2.3.1              pyhd3eb1b0_0  \n",
      "sphinx                    5.0.2            py39haa95532_0  \n",
      "sphinxcontrib-applehelp   1.0.2              pyhd3eb1b0_0  \n",
      "sphinxcontrib-devhelp     1.0.2              pyhd3eb1b0_0  \n",
      "sphinxcontrib-htmlhelp    2.0.0              pyhd3eb1b0_0  \n",
      "sphinxcontrib-jsmath      1.0.1              pyhd3eb1b0_0  \n",
      "sphinxcontrib-qthelp      1.0.3              pyhd3eb1b0_0  \n",
      "sphinxcontrib-serializinghtml 1.1.5              pyhd3eb1b0_0  \n",
      "spyder                    5.2.2            py39haa95532_1  \n",
      "spyder-kernels            2.2.1            py39haa95532_0  \n",
      "sqlalchemy                1.4.39           py39h2bbff1b_0  \n",
      "sqlite                    3.39.3               h2bbff1b_0  \n",
      "statsmodels               0.13.2           py39h2bbff1b_0  \n",
      "sympy                     1.10.1           py39haa95532_0  \n",
      "tabulate                  0.8.10           py39haa95532_0  \n",
      "tbb                       2021.6.0             h59b6b97_0  \n",
      "tbb4py                    2021.6.0         py39h59b6b97_0  \n",
      "tblib                     1.7.0              pyhd3eb1b0_0  \n",
      "tenacity                  8.0.1            py39haa95532_1  \n",
      "terminado                 0.13.1           py39haa95532_0  \n",
      "testpath                  0.6.0            py39haa95532_0  \n",
      "text-unidecode            1.3                pyhd3eb1b0_0  \n",
      "textdistance              4.2.1              pyhd3eb1b0_0  \n",
      "threadpoolctl             2.2.0              pyh0d69192_0  \n",
      "three-merge               0.1.1              pyhd3eb1b0_0  \n",
      "tifffile                  2021.7.2           pyhd3eb1b0_2  \n",
      "tinycss                   0.4             pyhd3eb1b0_1002  \n",
      "tk                        8.6.12               h2bbff1b_0  \n",
      "tldextract                3.2.0              pyhd3eb1b0_0  \n",
      "toml                      0.10.2             pyhd3eb1b0_0  \n",
      "tomli                     2.0.1            py39haa95532_0  \n",
      "tomlkit                   0.11.1           py39haa95532_0  \n",
      "toolz                     0.11.2             pyhd3eb1b0_0  \n",
      "tornado                   6.1              py39h2bbff1b_0  \n",
      "tqdm                      4.64.1           py39haa95532_0  \n",
      "traitlets                 5.1.1              pyhd3eb1b0_0  \n",
      "twisted                   22.2.0           py39h2bbff1b_1  \n",
      "twisted-iocpsupport       1.0.2            py39h2bbff1b_0  \n",
      "typing-extensions         4.3.0            py39haa95532_0  \n",
      "typing_extensions         4.3.0            py39haa95532_0  \n",
      "tzdata                    2022c                h04d1e81_0  \n",
      "ujson                     5.4.0            py39hd77b12b_0  \n",
      "unidecode                 1.2.0              pyhd3eb1b0_0  \n",
      "urllib3                   1.26.11          py39haa95532_0  \n",
      "vc                        14.2                 h21ff451_1  \n",
      "vs2015_runtime            14.27.29016          h5e58377_2  \n",
      "w3lib                     1.21.0             pyhd3eb1b0_0  \n",
      "watchdog                  2.1.6            py39haa95532_0  \n",
      "wcwidth                   0.2.5              pyhd3eb1b0_0  \n",
      "webencodings              0.5.1            py39haa95532_1  \n",
      "websocket-client          0.58.0           py39haa95532_4  \n",
      "werkzeug                  2.0.3              pyhd3eb1b0_0  \n",
      "wheel                     0.37.1             pyhd3eb1b0_0  \n",
      "widgetsnbextension        3.5.2            py39haa95532_0  \n",
      "win_inet_pton             1.1.0            py39haa95532_0  \n",
      "win_unicode_console       0.5              py39haa95532_0  \n",
      "wincertstore              0.2              py39haa95532_2  \n",
      "winpty                    0.4.3                         4  \n",
      "wrapt                     1.14.1           py39h2bbff1b_0  \n",
      "xarray                    0.20.1             pyhd3eb1b0_1  \n",
      "xlrd                      2.0.1              pyhd3eb1b0_0  \n",
      "xlsxwriter                3.0.3              pyhd3eb1b0_0  \n",
      "xlwings                   0.27.15          py39haa95532_0  \n",
      "xmltodict                 0.13.0                   pypi_0    pypi\n",
      "xz                        5.2.6                h8cc25b3_0  \n",
      "yaml                      0.2.5                he774522_0  \n",
      "yapf                      0.31.0             pyhd3eb1b0_0  \n",
      "zeromq                    4.3.4                hd77b12b_0  \n",
      "zfp                       0.5.5                hd77b12b_6  \n",
      "zict                      2.1.0            py39haa95532_0  \n",
      "zipp                      3.8.0            py39haa95532_0  \n",
      "zlib                      1.2.12               h8cc25b3_3  \n",
      "zope                      1.0              py39haa95532_1  \n",
      "zope.interface            5.4.0            py39h2bbff1b_0  \n",
      "zstd                      1.5.2                h19a0ad4_0  \n"
     ]
    }
   ],
   "source": [
    "!conda list"
   ]
  },
  {
   "cell_type": "code",
   "execution_count": null,
   "id": "ac6e7d99-794a-4b31-8843-7d131f01828e",
   "metadata": {},
   "outputs": [],
   "source": [
    "list는 섞여서 자료를 가질 수 있다.\n",
    "numpy array는 동일한 자료"
   ]
  },
  {
   "cell_type": "code",
   "execution_count": 6,
   "id": "33f3c800-4389-4297-87fb-a1c2ff4a17aa",
   "metadata": {},
   "outputs": [],
   "source": [
    "import numpy as np"
   ]
  },
  {
   "cell_type": "code",
   "execution_count": 10,
   "id": "bb397d5e-14d1-466b-88ba-1a7316db7c6b",
   "metadata": {},
   "outputs": [
    {
     "data": {
      "text/plain": [
       "array([0, 1, 2, 3, 4, 5, 6, 7, 8, 9])"
      ]
     },
     "execution_count": 10,
     "metadata": {},
     "output_type": "execute_result"
    }
   ],
   "source": [
    "# 1D array(1차원 배열) \n",
    "# ndarray class로부터 객체를 생성한다.\n",
    "ar = np.array([_ for _ in range(10)])\n",
    "ar"
   ]
  },
  {
   "cell_type": "code",
   "execution_count": 11,
   "id": "d54b816f-c5fe-4c8f-989c-184f32a1b807",
   "metadata": {},
   "outputs": [
    {
     "data": {
      "text/plain": [
       "numpy.ndarray"
      ]
     },
     "execution_count": 11,
     "metadata": {},
     "output_type": "execute_result"
    }
   ],
   "source": [
    "type(ar)"
   ]
  },
  {
   "cell_type": "code",
   "execution_count": 12,
   "id": "abd032eb-5d27-43ac-9595-6254c0ac1276",
   "metadata": {},
   "outputs": [
    {
     "data": {
      "text/plain": [
       "(10,)"
      ]
     },
     "execution_count": 12,
     "metadata": {},
     "output_type": "execute_result"
    }
   ],
   "source": [
    "ar.shape  # 객체가 갖는 속성을 보여줌 : .shape"
   ]
  },
  {
   "cell_type": "code",
   "execution_count": 14,
   "id": "dd57ad27-1c3e-4566-8e95-c868e726d19b",
   "metadata": {},
   "outputs": [
    {
     "data": {
      "text/plain": [
       "array([ 0.1 , 12.  , 50.  ,  2.  ,  3.14])"
      ]
     },
     "execution_count": 14,
     "metadata": {},
     "output_type": "execute_result"
    }
   ],
   "source": [
    "# 모든 요소가 같은 자료형이어야 하고, 접근의 개수에 제한없이 삽입\n",
    "ar2 = np.array([0.1, 12, 50 ,2, 3.14])\n",
    "ar2"
   ]
  },
  {
   "cell_type": "code",
   "execution_count": 15,
   "id": "1b1bbefc-c98b-4cac-9b80-321a1f8d3bc6",
   "metadata": {},
   "outputs": [
    {
     "data": {
      "text/plain": [
       "dtype('int32')"
      ]
     },
     "execution_count": 15,
     "metadata": {},
     "output_type": "execute_result"
    }
   ],
   "source": [
    "ar.dtype"
   ]
  },
  {
   "cell_type": "code",
   "execution_count": 16,
   "id": "3af30139-e0f2-4bca-8edd-14e286df9b26",
   "metadata": {},
   "outputs": [
    {
     "data": {
      "text/plain": [
       "dtype('float64')"
      ]
     },
     "execution_count": 16,
     "metadata": {},
     "output_type": "execute_result"
    }
   ],
   "source": [
    "ar2.dtype"
   ]
  },
  {
   "cell_type": "code",
   "execution_count": 17,
   "id": "2c1b789d-bb37-4277-aadf-79461af4084e",
   "metadata": {},
   "outputs": [
    {
     "data": {
      "text/plain": [
       "dtype('float32')"
      ]
     },
     "execution_count": 17,
     "metadata": {},
     "output_type": "execute_result"
    }
   ],
   "source": [
    "x = np.array([1,2,3,4], dtype = 'f')\n",
    "x.dtype"
   ]
  },
  {
   "cell_type": "code",
   "execution_count": 18,
   "id": "c94718a3-65d0-47d0-83da-129407d8fe0a",
   "metadata": {},
   "outputs": [
    {
     "data": {
      "text/plain": [
       "3.0"
      ]
     },
     "execution_count": 18,
     "metadata": {},
     "output_type": "execute_result"
    }
   ],
   "source": [
    "x[0]+x[1]"
   ]
  },
  {
   "cell_type": "code",
   "execution_count": 19,
   "id": "29c44953-2acd-4a5d-a396-4fdeea64f4b0",
   "metadata": {},
   "outputs": [
    {
     "data": {
      "text/plain": [
       "dtype('<U1')"
      ]
     },
     "execution_count": 19,
     "metadata": {},
     "output_type": "execute_result"
    }
   ],
   "source": [
    "x = np.array([1,2,3], dtype = 'U')\n",
    "x.dtype"
   ]
  },
  {
   "cell_type": "code",
   "execution_count": 24,
   "id": "fdcaa4e4-c10f-422b-803c-638bb08dae86",
   "metadata": {},
   "outputs": [
    {
     "data": {
      "text/plain": [
       "'23'"
      ]
     },
     "execution_count": 24,
     "metadata": {},
     "output_type": "execute_result"
    }
   ],
   "source": [
    "x[1]+x[2]"
   ]
  },
  {
   "cell_type": "code",
   "execution_count": 26,
   "id": "ce139546-40af-4bd9-bde1-3bcc2b11fded",
   "metadata": {},
   "outputs": [
    {
     "name": "stderr",
     "output_type": "stream",
     "text": [
      "C:\\Users\\jaehee\\AppData\\Local\\Temp\\ipykernel_10964\\567499939.py:2: RuntimeWarning: divide by zero encountered in true_divide\n",
      "  np.array([0,1,-1,0])/ np.array([1,0,0,0])\n",
      "C:\\Users\\jaehee\\AppData\\Local\\Temp\\ipykernel_10964\\567499939.py:2: RuntimeWarning: invalid value encountered in true_divide\n",
      "  np.array([0,1,-1,0])/ np.array([1,0,0,0])\n"
     ]
    },
    {
     "data": {
      "text/plain": [
       "array([  0.,  inf, -inf,  nan])"
      ]
     },
     "execution_count": 26,
     "metadata": {},
     "output_type": "execute_result"
    }
   ],
   "source": [
    "# inf : 무한대 nan : 정의할 수 업는 숫자\n",
    "np.array([0,1,-1,0])/ np.array([1,0,0,0])"
   ]
  },
  {
   "cell_type": "code",
   "execution_count": 33,
   "id": "d69e9447-33b1-4c3a-805b-a88881d850af",
   "metadata": {},
   "outputs": [
    {
     "name": "stdout",
     "output_type": "stream",
     "text": [
      "[0, 2, 4, 6, 8, 10, 12, 14, 16, 18]\n"
     ]
    }
   ],
   "source": [
    "# 백터와 연산\n",
    "data = [0,1,2,3,4,5,6,7,8,9]\n",
    "answer = [2*d for d in data]\n",
    "print(answer)"
   ]
  },
  {
   "cell_type": "code",
   "execution_count": 35,
   "id": "f3072af0-58d5-473e-b65a-bea054f15a7d",
   "metadata": {},
   "outputs": [
    {
     "data": {
      "text/plain": [
       "array([ 0,  2,  4,  6,  8, 10, 12, 14, 16, 18])"
      ]
     },
     "execution_count": 35,
     "metadata": {},
     "output_type": "execute_result"
    }
   ],
   "source": [
    "x = np.array(data)\n",
    "x* 2"
   ]
  },
  {
   "cell_type": "code",
   "execution_count": 36,
   "id": "eec0b3bf-4f39-4265-bfb6-fe960daed14e",
   "metadata": {},
   "outputs": [
    {
     "name": "stdout",
     "output_type": "stream",
     "text": [
      "[0, 1, 2, 0, 1, 2, 0, 1, 2, 0, 1, 2, 0, 1, 2]\n"
     ]
    }
   ],
   "source": [
    "list_samp = [_ for _ in range(3)]\n",
    "print(list_samp * 5)"
   ]
  },
  {
   "cell_type": "code",
   "execution_count": 37,
   "id": "09e2e155-0d2d-457d-9ab8-e587a844ff17",
   "metadata": {},
   "outputs": [
    {
     "data": {
      "text/plain": [
       "array([12, 24, 36])"
      ]
     },
     "execution_count": 37,
     "metadata": {},
     "output_type": "execute_result"
    }
   ],
   "source": [
    "a = np.array([1,2,3])\n",
    "b = np.array([10,20,30])\n",
    "2 * a+b"
   ]
  },
  {
   "cell_type": "code",
   "execution_count": 38,
   "id": "953dce39-bcb1-451c-aa85-aface6729b72",
   "metadata": {},
   "outputs": [
    {
     "data": {
      "text/plain": [
       "array([False,  True, False])"
      ]
     },
     "execution_count": 38,
     "metadata": {},
     "output_type": "execute_result"
    }
   ],
   "source": [
    "a == 2"
   ]
  },
  {
   "cell_type": "code",
   "execution_count": 39,
   "id": "99513f70-2a4a-468c-8215-3acde4d565c6",
   "metadata": {},
   "outputs": [
    {
     "data": {
      "text/plain": [
       "array([False,  True,  True])"
      ]
     },
     "execution_count": 39,
     "metadata": {},
     "output_type": "execute_result"
    }
   ],
   "source": [
    "b > 10"
   ]
  },
  {
   "cell_type": "code",
   "execution_count": 40,
   "id": "a36a6af3-4efd-45d5-8853-468688cc2d5e",
   "metadata": {},
   "outputs": [
    {
     "data": {
      "text/plain": [
       "array([False,  True, False])"
      ]
     },
     "execution_count": 40,
     "metadata": {},
     "output_type": "execute_result"
    }
   ],
   "source": [
    "(a == 2) & (b > 10) # and와 비슷함 &"
   ]
  },
  {
   "cell_type": "code",
   "execution_count": 41,
   "id": "77d0c88e-310b-44b6-8a35-d3a27daf9ee4",
   "metadata": {},
   "outputs": [
    {
     "data": {
      "text/plain": [
       "array([[0, 1, 2],\n",
       "       [3, 4, 5]])"
      ]
     },
     "execution_count": 41,
     "metadata": {},
     "output_type": "execute_result"
    }
   ],
   "source": [
    "# 2차원 배열 만들기 shape: (2,3) 앞에가 세로 뒤에가 가로\n",
    "c = np.array([[0,1,2],\n",
    "              [3,4,5]])\n",
    "c"
   ]
  },
  {
   "cell_type": "code",
   "execution_count": 42,
   "id": "06b6f0da-3e3f-4de3-ae2a-701a0fb6a5cb",
   "metadata": {},
   "outputs": [
    {
     "data": {
      "text/plain": [
       "(2, 3)"
      ]
     },
     "execution_count": 42,
     "metadata": {},
     "output_type": "execute_result"
    }
   ],
   "source": [
    "c.shape"
   ]
  },
  {
   "cell_type": "code",
   "execution_count": 43,
   "id": "4834211c-a2b3-4984-afdd-9a23bcd05cd0",
   "metadata": {},
   "outputs": [
    {
     "data": {
      "text/plain": [
       "2"
      ]
     },
     "execution_count": 43,
     "metadata": {},
     "output_type": "execute_result"
    }
   ],
   "source": [
    "# 행의 갯수 세로\n",
    "len(c)"
   ]
  },
  {
   "cell_type": "code",
   "execution_count": 44,
   "id": "78c090cd-7c26-4084-8271-48f47543060d",
   "metadata": {},
   "outputs": [
    {
     "data": {
      "text/plain": [
       "3"
      ]
     },
     "execution_count": 44,
     "metadata": {},
     "output_type": "execute_result"
    }
   ],
   "source": [
    "# 열의 갯수 가로\n",
    "len(c[0])"
   ]
  },
  {
   "cell_type": "code",
   "execution_count": 46,
   "id": "84b1a2ad-07e6-4b04-8ef7-88e5c9e34251",
   "metadata": {},
   "outputs": [
    {
     "data": {
      "text/plain": [
       "array([[10, 20, 30, 40],\n",
       "       [50, 60, 70, 80]])"
      ]
     },
     "execution_count": 46,
     "metadata": {},
     "output_type": "execute_result"
    }
   ],
   "source": [
    "y = np.array([[10,20,30,40],\n",
    "             [50,60,70,80]])\n",
    "y"
   ]
  },
  {
   "cell_type": "code",
   "execution_count": 47,
   "id": "8eb43223-c245-42fc-92da-77598035852c",
   "metadata": {},
   "outputs": [
    {
     "data": {
      "text/plain": [
       "array([[[ 1,  2,  3,  4],\n",
       "        [ 5,  6,  7,  8],\n",
       "        [ 9, 10, 11, 12]],\n",
       "\n",
       "       [[11, 12, 13, 14],\n",
       "        [15, 16, 17, 18],\n",
       "        [19, 20, 21, 22]]])"
      ]
     },
     "execution_count": 47,
     "metadata": {},
     "output_type": "execute_result"
    }
   ],
   "source": [
    "# 3차원 배열 (깊이, 행, 열)(높, 가, 세)\n",
    "d = np.array([[[1,2,3,4],\n",
    "               [5,6,7,8],\n",
    "               [9,10,11,12]],\n",
    "              [[11,12,13,14],\n",
    "               [15,16,17,18],\n",
    "               [19,20,21,22]]])\n",
    "d"
   ]
  },
  {
   "cell_type": "code",
   "execution_count": 48,
   "id": "80fdd652-4b3c-4038-ab2c-70f44ad9b4cf",
   "metadata": {},
   "outputs": [
    {
     "data": {
      "text/plain": [
       "(2, 3, 4)"
      ]
     },
     "execution_count": 48,
     "metadata": {},
     "output_type": "execute_result"
    }
   ],
   "source": [
    "len(d), len(d[0]), len(d[0][0])"
   ]
  },
  {
   "cell_type": "code",
   "execution_count": 49,
   "id": "04e30b45-bed4-4607-b71d-c8ec178b25ec",
   "metadata": {},
   "outputs": [
    {
     "data": {
      "text/plain": [
       "(2, 3, 4)"
      ]
     },
     "execution_count": 49,
     "metadata": {},
     "output_type": "execute_result"
    }
   ],
   "source": [
    "d.shape"
   ]
  },
  {
   "cell_type": "code",
   "execution_count": 50,
   "id": "aa7a8907-dcf6-4d6d-9302-7dfe4df79f8f",
   "metadata": {},
   "outputs": [
    {
     "name": "stdout",
     "output_type": "stream",
     "text": [
      "1\n",
      "(3,)\n"
     ]
    }
   ],
   "source": [
    "# 배열의 차원과 크기 알아내기\n",
    "a = np.array([1,2,3])\n",
    "\n",
    "print(a.ndim)   # ndim 차원을 알 수 있다\n",
    "print(a.shape)"
   ]
  },
  {
   "cell_type": "code",
   "execution_count": 51,
   "id": "b031a968-9d89-40d6-9809-436aa5d035ed",
   "metadata": {},
   "outputs": [
    {
     "data": {
      "text/plain": [
       "2"
      ]
     },
     "execution_count": 51,
     "metadata": {},
     "output_type": "execute_result"
    }
   ],
   "source": [
    "a = np.array([0,1,2,3,4])\n",
    "a[2]"
   ]
  },
  {
   "cell_type": "code",
   "execution_count": 52,
   "id": "d4958490-d061-475b-9036-bc2984d15258",
   "metadata": {},
   "outputs": [
    {
     "data": {
      "text/plain": [
       "4"
      ]
     },
     "execution_count": 52,
     "metadata": {},
     "output_type": "execute_result"
    }
   ],
   "source": [
    "a[-1]"
   ]
  },
  {
   "cell_type": "code",
   "execution_count": 71,
   "id": "88207941-f0e6-48e2-855d-999f8326ac25",
   "metadata": {},
   "outputs": [],
   "source": [
    "a = [[1,2,3,4],[5,6,7,8]]"
   ]
  },
  {
   "cell_type": "code",
   "execution_count": 83,
   "id": "cf1c6bf9-1f02-4b26-b666-21b4857fa7eb",
   "metadata": {},
   "outputs": [
    {
     "data": {
      "text/plain": [
       "[1, 2, 3]"
      ]
     },
     "execution_count": 83,
     "metadata": {},
     "output_type": "execute_result"
    }
   ],
   "source": [
    "a[0][0:3]"
   ]
  },
  {
   "cell_type": "code",
   "execution_count": 61,
   "id": "69876fea-dc51-4362-81ef-e1bf0530144f",
   "metadata": {},
   "outputs": [
    {
     "data": {
      "text/plain": [
       "array([[0, 1, 2],\n",
       "       [3, 4, 5]])"
      ]
     },
     "execution_count": 61,
     "metadata": {},
     "output_type": "execute_result"
    }
   ],
   "source": [
    "a = np.array([[0,1,2],\n",
    "              [3,4,5]])\n",
    "a"
   ]
  },
  {
   "cell_type": "code",
   "execution_count": 62,
   "id": "6809ad36-98bd-4c3d-b876-f76b6718b66c",
   "metadata": {},
   "outputs": [
    {
     "data": {
      "text/plain": [
       "0"
      ]
     },
     "execution_count": 62,
     "metadata": {},
     "output_type": "execute_result"
    }
   ],
   "source": [
    "a[0,0]"
   ]
  },
  {
   "cell_type": "code",
   "execution_count": 68,
   "id": "9bb7d161-3b1d-4554-82c6-75e742ed553e",
   "metadata": {},
   "outputs": [
    {
     "data": {
      "text/plain": [
       "5"
      ]
     },
     "execution_count": 68,
     "metadata": {},
     "output_type": "execute_result"
    }
   ],
   "source": [
    "a[1,2]"
   ]
  },
  {
   "cell_type": "code",
   "execution_count": 70,
   "id": "96d40bce-c186-413b-84e3-93c7ded3a1b1",
   "metadata": {},
   "outputs": [
    {
     "data": {
      "text/plain": [
       "1"
      ]
     },
     "execution_count": 70,
     "metadata": {},
     "output_type": "execute_result"
    }
   ],
   "source": [
    "a[-2,-2]"
   ]
  },
  {
   "cell_type": "code",
   "execution_count": 91,
   "id": "d40d53fc-a971-474b-adc3-6d7850d47134",
   "metadata": {},
   "outputs": [
    {
     "data": {
      "text/plain": [
       "array([[0, 1, 2, 3],\n",
       "       [4, 5, 6, 7]])"
      ]
     },
     "execution_count": 91,
     "metadata": {},
     "output_type": "execute_result"
    }
   ],
   "source": [
    "a = np.array([[0,1,2,3],[4,5,6,7]])\n",
    "a"
   ]
  },
  {
   "cell_type": "code",
   "execution_count": 92,
   "id": "cbdc14f5-0d8c-4f1c-88b0-aa998d589ca5",
   "metadata": {},
   "outputs": [
    {
     "data": {
      "text/plain": [
       "array([0, 1, 2, 3])"
      ]
     },
     "execution_count": 92,
     "metadata": {},
     "output_type": "execute_result"
    }
   ],
   "source": [
    "a[0, :]"
   ]
  },
  {
   "cell_type": "code",
   "execution_count": 93,
   "id": "4528bf6a-7e17-4169-8455-65c96c1fe80e",
   "metadata": {},
   "outputs": [
    {
     "data": {
      "text/plain": [
       "array([1, 5])"
      ]
     },
     "execution_count": 93,
     "metadata": {},
     "output_type": "execute_result"
    }
   ],
   "source": [
    "a[:, 1]"
   ]
  },
  {
   "cell_type": "code",
   "execution_count": 94,
   "id": "81823ce5-1ed0-4f7d-9c0f-c64206a9d4e8",
   "metadata": {},
   "outputs": [
    {
     "data": {
      "text/plain": [
       "array([5, 6, 7])"
      ]
     },
     "execution_count": 94,
     "metadata": {},
     "output_type": "execute_result"
    }
   ],
   "source": [
    "a[1, 1:]"
   ]
  },
  {
   "cell_type": "code",
   "execution_count": 95,
   "id": "23ab624f-b934-4d3e-b1ba-ab34e7273269",
   "metadata": {},
   "outputs": [
    {
     "data": {
      "text/plain": [
       "array([[0, 1],\n",
       "       [4, 5]])"
      ]
     },
     "execution_count": 95,
     "metadata": {},
     "output_type": "execute_result"
    }
   ],
   "source": [
    "a[:2, :2]"
   ]
  },
  {
   "cell_type": "code",
   "execution_count": 96,
   "id": "ddecc134-1273-4fea-baf0-4cf8587e8359",
   "metadata": {},
   "outputs": [
    {
     "data": {
      "text/plain": [
       "array([[ 0,  1,  2,  3,  4],\n",
       "       [ 5,  6,  7,  8,  9],\n",
       "       [10, 11, 12, 13, 14]])"
      ]
     },
     "execution_count": 96,
     "metadata": {},
     "output_type": "execute_result"
    }
   ],
   "source": [
    "m = np.array([[0,1,2,3,4],\n",
    "              [5,6,7,8,9],\n",
    "              [10,11,12,13,14]])\n",
    "m"
   ]
  },
  {
   "cell_type": "code",
   "execution_count": 127,
   "id": "a0249ec1-6eb8-4d49-aacd-70ff97a3aad2",
   "metadata": {},
   "outputs": [
    {
     "data": {
      "text/plain": [
       "(7,\n",
       " 14,\n",
       " array([6, 7]),\n",
       " array([ 7, 12]),\n",
       " array([[3, 4],\n",
       "        [8, 9]]))"
      ]
     },
     "execution_count": 127,
     "metadata": {},
     "output_type": "execute_result"
    }
   ],
   "source": [
    "m[1,2],m[2,4],m[1, 1:3],m[1:, 2],m[:2, 3:]"
   ]
  },
  {
   "cell_type": "code",
   "execution_count": 128,
   "id": "e98b5a7e-b734-42b6-9057-422d0b9abaac",
   "metadata": {},
   "outputs": [],
   "source": [
    "# 배열 생성\n",
    "c = np.zeros((5,2), dtype = 'i')"
   ]
  },
  {
   "cell_type": "code",
   "execution_count": 129,
   "id": "68a99b86-d408-43f0-9dd4-546abcaddb97",
   "metadata": {},
   "outputs": [
    {
     "data": {
      "text/plain": [
       "array([[0, 0],\n",
       "       [0, 0],\n",
       "       [0, 0],\n",
       "       [0, 0],\n",
       "       [0, 0]], dtype=int32)"
      ]
     },
     "execution_count": 129,
     "metadata": {},
     "output_type": "execute_result"
    }
   ],
   "source": [
    "c"
   ]
  },
  {
   "cell_type": "code",
   "execution_count": 131,
   "id": "47b9d192-2632-4d29-b314-4f5bcbd62e4b",
   "metadata": {},
   "outputs": [],
   "source": [
    "d = np.zeros(5,dtype='U4')"
   ]
  },
  {
   "cell_type": "code",
   "execution_count": 132,
   "id": "96b6798a-4c69-43e9-99ab-f69c732e3bf7",
   "metadata": {},
   "outputs": [
    {
     "data": {
      "text/plain": [
       "array(['', '', '', '', ''], dtype='<U4')"
      ]
     },
     "execution_count": 132,
     "metadata": {},
     "output_type": "execute_result"
    }
   ],
   "source": [
    "d"
   ]
  },
  {
   "cell_type": "code",
   "execution_count": 133,
   "id": "c56e2049-70a8-4b7b-a931-498b5808d26c",
   "metadata": {},
   "outputs": [
    {
     "data": {
      "text/plain": [
       "array(['abc', 'abcd', 'ABCD', '', ''], dtype='<U4')"
      ]
     },
     "execution_count": 133,
     "metadata": {},
     "output_type": "execute_result"
    }
   ],
   "source": [
    "d[0] = \"abc\"\n",
    "d[1] = \"abcd\"\n",
    "d[2] = \"ABCDE\"\n",
    "d"
   ]
  },
  {
   "cell_type": "code",
   "execution_count": 134,
   "id": "418dc56a-c0c9-44d0-84ad-f75ccdbed564",
   "metadata": {},
   "outputs": [],
   "source": [
    "e = np.ones((2,3,4),dtype=\"i8\")"
   ]
  },
  {
   "cell_type": "code",
   "execution_count": 135,
   "id": "c4bac552-2308-46a9-9b5d-53dee93be177",
   "metadata": {},
   "outputs": [
    {
     "data": {
      "text/plain": [
       "array([[[1, 1, 1, 1],\n",
       "        [1, 1, 1, 1],\n",
       "        [1, 1, 1, 1]],\n",
       "\n",
       "       [[1, 1, 1, 1],\n",
       "        [1, 1, 1, 1],\n",
       "        [1, 1, 1, 1]]], dtype=int64)"
      ]
     },
     "execution_count": 135,
     "metadata": {},
     "output_type": "execute_result"
    }
   ],
   "source": [
    "e"
   ]
  },
  {
   "cell_type": "code",
   "execution_count": 136,
   "id": "ce955431-8f5e-43fb-8558-7a04e5034688",
   "metadata": {},
   "outputs": [],
   "source": [
    "f = np.ones_like(b, dtype=\"f\")"
   ]
  },
  {
   "cell_type": "code",
   "execution_count": 137,
   "id": "9f191bd0-c4ca-4a83-92f5-a771e1bb7cce",
   "metadata": {},
   "outputs": [
    {
     "data": {
      "text/plain": [
       "array([1., 1., 1.], dtype=float32)"
      ]
     },
     "execution_count": 137,
     "metadata": {},
     "output_type": "execute_result"
    }
   ],
   "source": [
    "f"
   ]
  },
  {
   "cell_type": "code",
   "execution_count": 139,
   "id": "23ce3ace-9d4e-4b30-9964-34a75f4a9cdb",
   "metadata": {},
   "outputs": [],
   "source": [
    "g = np.empty((4,3))"
   ]
  },
  {
   "cell_type": "code",
   "execution_count": 140,
   "id": "6e91ff37-e838-4aad-9a85-81bcac0f3131",
   "metadata": {},
   "outputs": [
    {
     "data": {
      "text/plain": [
       "array([[8.61202913e-312, 3.16202013e-322, 0.00000000e+000],\n",
       "       [0.00000000e+000, 0.00000000e+000, 6.23358265e-038],\n",
       "       [4.19949997e+175, 4.08763581e-033, 6.12265291e+169],\n",
       "       [1.93217555e+184, 3.92978878e-061, 1.86957139e-051]])"
      ]
     },
     "execution_count": 140,
     "metadata": {},
     "output_type": "execute_result"
    }
   ],
   "source": [
    "g"
   ]
  },
  {
   "cell_type": "code",
   "execution_count": 141,
   "id": "9137e50b-03a1-4428-be57-c691adac845a",
   "metadata": {},
   "outputs": [
    {
     "data": {
      "text/plain": [
       "array([0, 1, 2, 3, 4, 5, 6, 7, 8, 9])"
      ]
     },
     "execution_count": 141,
     "metadata": {},
     "output_type": "execute_result"
    }
   ],
   "source": [
    "# arange명령 : numpy버전의 range 명령이다.\n",
    "np.arange(10)"
   ]
  },
  {
   "cell_type": "code",
   "execution_count": 142,
   "id": "c30d08a4-03fa-409a-982c-84e42607e181",
   "metadata": {},
   "outputs": [
    {
     "data": {
      "text/plain": [
       "array([ 3,  5,  7,  9, 11, 13, 15, 17, 19])"
      ]
     },
     "execution_count": 142,
     "metadata": {},
     "output_type": "execute_result"
    }
   ],
   "source": [
    "np.arange(3,21,2) # 시작, 끝(포함x), 상승 값"
   ]
  },
  {
   "cell_type": "code",
   "execution_count": 143,
   "id": "2f2c8600-2737-4aa2-bc5e-d7c59b29e0b1",
   "metadata": {},
   "outputs": [],
   "source": [
    "# linspace 명령 : 선형 구간 혹은 로그 구간을 지정한 구간의 수만큼 분할\n",
    "ex = np.linspace(0,100,5)   # 5 = 구간이요"
   ]
  },
  {
   "cell_type": "code",
   "execution_count": 144,
   "id": "5b196331-226d-4349-b452-3d8f314e9a92",
   "metadata": {},
   "outputs": [
    {
     "data": {
      "text/plain": [
       "array([  0.,  25.,  50.,  75., 100.])"
      ]
     },
     "execution_count": 144,
     "metadata": {},
     "output_type": "execute_result"
    }
   ],
   "source": [
    "ex"
   ]
  },
  {
   "cell_type": "code",
   "execution_count": 145,
   "id": "ddc839b4-4ad0-46ac-b274-45822b40e57d",
   "metadata": {},
   "outputs": [],
   "source": [
    "ex2 = np.logspace(0, 100, 5)"
   ]
  },
  {
   "cell_type": "code",
   "execution_count": 146,
   "id": "dbfaa244-9b5c-4db6-90dd-807e9f58518f",
   "metadata": {},
   "outputs": [
    {
     "data": {
      "text/plain": [
       "array([1.e+000, 1.e+025, 1.e+050, 1.e+075, 1.e+100])"
      ]
     },
     "execution_count": 146,
     "metadata": {},
     "output_type": "execute_result"
    }
   ],
   "source": [
    "ex2"
   ]
  },
  {
   "cell_type": "code",
   "execution_count": 147,
   "id": "ba5cecbe-3aae-469e-b6d9-2ccaa0134a32",
   "metadata": {},
   "outputs": [],
   "source": [
    "# 전치 연산 : 2차 배열의 전치 연산은 행과 열을 바꾸는 작업\n",
    "\n",
    "A = np.array([[1,2,3],[4,5,6]])"
   ]
  },
  {
   "cell_type": "code",
   "execution_count": 148,
   "id": "020c8dfc-b58a-4336-96bf-8cde19cdd5e1",
   "metadata": {},
   "outputs": [
    {
     "data": {
      "text/plain": [
       "array([[1, 2, 3],\n",
       "       [4, 5, 6]])"
      ]
     },
     "execution_count": 148,
     "metadata": {},
     "output_type": "execute_result"
    }
   ],
   "source": [
    "A"
   ]
  },
  {
   "cell_type": "code",
   "execution_count": 149,
   "id": "8c22a71b-6201-4b41-9bd7-17f17eec3050",
   "metadata": {},
   "outputs": [
    {
     "data": {
      "text/plain": [
       "array([[1, 4],\n",
       "       [2, 5],\n",
       "       [3, 6]])"
      ]
     },
     "execution_count": 149,
     "metadata": {},
     "output_type": "execute_result"
    }
   ],
   "source": [
    "A.T"
   ]
  },
  {
   "cell_type": "code",
   "execution_count": 150,
   "id": "12dbaa25-6944-4eb9-bc36-50f556466493",
   "metadata": {},
   "outputs": [],
   "source": [
    "# 배열의 크기 변형 : reshape 1차원 행렬을 2차원 행렬로 변경개능\n",
    "a= np.arange(12)"
   ]
  },
  {
   "cell_type": "code",
   "execution_count": 151,
   "id": "474d0ce1-e16f-4db9-ae78-b81f5cb383a1",
   "metadata": {},
   "outputs": [
    {
     "data": {
      "text/plain": [
       "array([ 0,  1,  2,  3,  4,  5,  6,  7,  8,  9, 10, 11])"
      ]
     },
     "execution_count": 151,
     "metadata": {},
     "output_type": "execute_result"
    }
   ],
   "source": [
    "a"
   ]
  },
  {
   "cell_type": "code",
   "execution_count": 152,
   "id": "047a25bb-917e-407d-8125-c288b545fa8c",
   "metadata": {},
   "outputs": [],
   "source": [
    "b = a.reshape(3,4)"
   ]
  },
  {
   "cell_type": "code",
   "execution_count": 153,
   "id": "63fbe4f1-3c9d-4849-896d-612f2c83fdf0",
   "metadata": {},
   "outputs": [
    {
     "data": {
      "text/plain": [
       "array([[ 0,  1,  2,  3],\n",
       "       [ 4,  5,  6,  7],\n",
       "       [ 8,  9, 10, 11]])"
      ]
     },
     "execution_count": 153,
     "metadata": {},
     "output_type": "execute_result"
    }
   ],
   "source": [
    "b"
   ]
  },
  {
   "cell_type": "code",
   "execution_count": 154,
   "id": "ffe98d40-43a7-4af9-a56d-b6242fe431e9",
   "metadata": {},
   "outputs": [
    {
     "data": {
      "text/plain": [
       "array([[ 0,  1,  2,  3],\n",
       "       [ 4,  5,  6,  7],\n",
       "       [ 8,  9, 10, 11]])"
      ]
     },
     "execution_count": 154,
     "metadata": {},
     "output_type": "execute_result"
    }
   ],
   "source": [
    "a.reshape(3, -1)"
   ]
  },
  {
   "cell_type": "code",
   "execution_count": 155,
   "id": "f9840d83-afac-45a1-9b51-7461158ad3d0",
   "metadata": {},
   "outputs": [
    {
     "data": {
      "text/plain": [
       "array([[[ 0,  1,  2],\n",
       "        [ 3,  4,  5]],\n",
       "\n",
       "       [[ 6,  7,  8],\n",
       "        [ 9, 10, 11]]])"
      ]
     },
     "execution_count": 155,
     "metadata": {},
     "output_type": "execute_result"
    }
   ],
   "source": [
    "a.reshape(2,2,-1)"
   ]
  },
  {
   "cell_type": "code",
   "execution_count": 156,
   "id": "02fd7bb6-79ad-40f2-b9eb-9c8c4fefce6f",
   "metadata": {},
   "outputs": [
    {
     "data": {
      "text/plain": [
       "array([[[ 0,  1],\n",
       "        [ 2,  3],\n",
       "        [ 4,  5]],\n",
       "\n",
       "       [[ 6,  7],\n",
       "        [ 8,  9],\n",
       "        [10, 11]]])"
      ]
     },
     "execution_count": 156,
     "metadata": {},
     "output_type": "execute_result"
    }
   ],
   "source": [
    "a.reshape(2,-1,2)"
   ]
  },
  {
   "cell_type": "code",
   "execution_count": 158,
   "id": "99d6fee6-e6e0-4d6e-b49d-b07b41f0bff8",
   "metadata": {},
   "outputs": [
    {
     "data": {
      "text/plain": [
       "array([ 0,  1,  2,  3,  4,  5,  6,  7,  8,  9, 10, 11])"
      ]
     },
     "execution_count": 158,
     "metadata": {},
     "output_type": "execute_result"
    }
   ],
   "source": [
    "# 다차원 배열을 1차원으로 만들기 위헤서 flatten, ravel메서드 사용\n",
    "\n",
    "a.reshape(2,2,-1).flatten()"
   ]
  },
  {
   "cell_type": "code",
   "execution_count": 159,
   "id": "ff0c7d81-fb5e-43bc-906b-f78b055fcb1d",
   "metadata": {},
   "outputs": [],
   "source": [
    "x = np.arange(5)"
   ]
  },
  {
   "cell_type": "code",
   "execution_count": 161,
   "id": "ba182403-bd9c-4eb4-8b88-a7fc0e0230fa",
   "metadata": {},
   "outputs": [
    {
     "data": {
      "text/plain": [
       "array([[0],\n",
       "       [1],\n",
       "       [2],\n",
       "       [3],\n",
       "       [4]])"
      ]
     },
     "execution_count": 161,
     "metadata": {},
     "output_type": "execute_result"
    }
   ],
   "source": [
    "x[:, np.newaxis]"
   ]
  },
  {
   "cell_type": "code",
   "execution_count": null,
   "id": "7c92c8a6-b382-4474-a646-528de35ec172",
   "metadata": {},
   "outputs": [],
   "source": [
    "# 배열 연결 : 행의 수나 같은두개 이상의 배열을 연결하여 더 큰 배열을 만들 때 쓰는 명령\n",
    "\n",
    "hstack : 행의 수가 같은 두 개 이상의 배열을 옆으로 연결하여 열의 수가 더 많은 배열을 만든다\n",
    "vstack : 수직\n",
    "dstack : 제일 안쪽 차원?\n",
    "stack :\n",
    "r__ \n",
    "c__\n",
    "tile\n",
    "hstack"
   ]
  },
  {
   "cell_type": "code",
   "execution_count": 186,
   "id": "b7f89a29-d594-4ee9-a7ad-7c5f70959ecf",
   "metadata": {},
   "outputs": [],
   "source": [
    "d1 = np.ones((4,5))\n",
    "d2 = np.zeros((4, 5))\n",
    "d3 = np.arange(20).reshape(4,5)"
   ]
  },
  {
   "cell_type": "code",
   "execution_count": 187,
   "id": "82251cef-40d8-427b-b6e1-a56e64545974",
   "metadata": {},
   "outputs": [
    {
     "data": {
      "text/plain": [
       "array([[1., 1., 1., 1., 1.],\n",
       "       [1., 1., 1., 1., 1.],\n",
       "       [1., 1., 1., 1., 1.],\n",
       "       [1., 1., 1., 1., 1.]])"
      ]
     },
     "execution_count": 187,
     "metadata": {},
     "output_type": "execute_result"
    }
   ],
   "source": [
    "d1"
   ]
  },
  {
   "cell_type": "code",
   "execution_count": 183,
   "id": "4e3ad4e3-c155-48ce-85c1-ff255cfc250e",
   "metadata": {},
   "outputs": [
    {
     "data": {
      "text/plain": [
       "array([[0., 0., 0., 0., 0.],\n",
       "       [0., 0., 0., 0., 0.],\n",
       "       [0., 0., 0., 0., 0.],\n",
       "       [0., 0., 0., 0., 0.]])"
      ]
     },
     "execution_count": 183,
     "metadata": {},
     "output_type": "execute_result"
    }
   ],
   "source": [
    "d2"
   ]
  },
  {
   "cell_type": "code",
   "execution_count": 184,
   "id": "27fde39b-3c74-4bdb-a8c5-9c81cedfe131",
   "metadata": {},
   "outputs": [
    {
     "data": {
      "text/plain": [
       "array([[ 0,  1,  2,  3,  4],\n",
       "       [ 5,  6,  7,  8,  9],\n",
       "       [10, 11, 12, 13, 14],\n",
       "       [15, 16, 17, 18, 19]])"
      ]
     },
     "execution_count": 184,
     "metadata": {},
     "output_type": "execute_result"
    }
   ],
   "source": [
    "d3"
   ]
  },
  {
   "cell_type": "code",
   "execution_count": 188,
   "id": "86e14c0f-009b-4a82-9e25-9b4d386af24e",
   "metadata": {},
   "outputs": [
    {
     "data": {
      "text/plain": [
       "array([[[ 1.,  1.,  1.,  1.,  1.],\n",
       "        [ 0.,  0.,  0.,  0.,  0.],\n",
       "        [ 0.,  1.,  2.,  3.,  4.]],\n",
       "\n",
       "       [[ 1.,  1.,  1.,  1.,  1.],\n",
       "        [ 0.,  0.,  0.,  0.,  0.],\n",
       "        [ 5.,  6.,  7.,  8.,  9.]],\n",
       "\n",
       "       [[ 1.,  1.,  1.,  1.,  1.],\n",
       "        [ 0.,  0.,  0.,  0.,  0.],\n",
       "        [10., 11., 12., 13., 14.]],\n",
       "\n",
       "       [[ 1.,  1.,  1.,  1.,  1.],\n",
       "        [ 0.,  0.,  0.,  0.,  0.],\n",
       "        [15., 16., 17., 18., 19.]]])"
      ]
     },
     "execution_count": 188,
     "metadata": {},
     "output_type": "execute_result"
    }
   ],
   "source": [
    "np.stack([d1,d2,d3], axis = 1)"
   ]
  },
  {
   "cell_type": "code",
   "execution_count": 192,
   "id": "06473fbc-6654-46ab-81ff-6098a8148895",
   "metadata": {},
   "outputs": [
    {
     "data": {
      "text/plain": [
       "array([[[ 1.,  0.,  0.],\n",
       "        [ 1.,  0.,  1.],\n",
       "        [ 1.,  0.,  2.],\n",
       "        [ 1.,  0.,  3.],\n",
       "        [ 1.,  0.,  4.]],\n",
       "\n",
       "       [[ 1.,  0.,  5.],\n",
       "        [ 1.,  0.,  6.],\n",
       "        [ 1.,  0.,  7.],\n",
       "        [ 1.,  0.,  8.],\n",
       "        [ 1.,  0.,  9.]],\n",
       "\n",
       "       [[ 1.,  0., 10.],\n",
       "        [ 1.,  0., 11.],\n",
       "        [ 1.,  0., 12.],\n",
       "        [ 1.,  0., 13.],\n",
       "        [ 1.,  0., 14.]],\n",
       "\n",
       "       [[ 1.,  0., 15.],\n",
       "        [ 1.,  0., 16.],\n",
       "        [ 1.,  0., 17.],\n",
       "        [ 1.,  0., 18.],\n",
       "        [ 1.,  0., 19.]]])"
      ]
     },
     "execution_count": 192,
     "metadata": {},
     "output_type": "execute_result"
    }
   ],
   "source": [
    "np.stack([d1,d2,d3], axis = 2)"
   ]
  },
  {
   "cell_type": "code",
   "execution_count": 193,
   "id": "fc79e497-87a2-4ea2-84f4-666d91da34bb",
   "metadata": {},
   "outputs": [
    {
     "data": {
      "text/plain": [
       "array([[[ 1.,  1.,  1.,  1.,  1.],\n",
       "        [ 1.,  1.,  1.,  1.,  1.],\n",
       "        [ 1.,  1.,  1.,  1.,  1.],\n",
       "        [ 1.,  1.,  1.,  1.,  1.]],\n",
       "\n",
       "       [[ 0.,  0.,  0.,  0.,  0.],\n",
       "        [ 0.,  0.,  0.,  0.,  0.],\n",
       "        [ 0.,  0.,  0.,  0.,  0.],\n",
       "        [ 0.,  0.,  0.,  0.,  0.]],\n",
       "\n",
       "       [[ 0.,  1.,  2.,  3.,  4.],\n",
       "        [ 5.,  6.,  7.,  8.,  9.],\n",
       "        [10., 11., 12., 13., 14.],\n",
       "        [15., 16., 17., 18., 19.]]])"
      ]
     },
     "execution_count": 193,
     "metadata": {},
     "output_type": "execute_result"
    }
   ],
   "source": [
    "np.stack([d1,d2,d3], axis = 0)"
   ]
  },
  {
   "cell_type": "code",
   "execution_count": 189,
   "id": "b227a2e7-5d53-4fa6-a08e-ed8d326ad659",
   "metadata": {},
   "outputs": [
    {
     "data": {
      "text/plain": [
       "(4, 3, 5)"
      ]
     },
     "execution_count": 189,
     "metadata": {},
     "output_type": "execute_result"
    }
   ],
   "source": [
    "np.stack([d1,d2,d3], axis = 1).shape"
   ]
  },
  {
   "cell_type": "code",
   "execution_count": 163,
   "id": "085a8a91-41b9-42a0-ad09-d5a68403ab3e",
   "metadata": {},
   "outputs": [],
   "source": [
    "# vstack\n",
    "b1 = np.ones((2,3)) "
   ]
  },
  {
   "cell_type": "code",
   "execution_count": 164,
   "id": "1e8a7137-c028-49fe-8516-956287885163",
   "metadata": {},
   "outputs": [
    {
     "data": {
      "text/plain": [
       "array([[1., 1., 1.],\n",
       "       [1., 1., 1.]])"
      ]
     },
     "execution_count": 164,
     "metadata": {},
     "output_type": "execute_result"
    }
   ],
   "source": [
    "b1"
   ]
  },
  {
   "cell_type": "code",
   "execution_count": 165,
   "id": "117896ec-e40f-4141-b6fa-ed35aa716598",
   "metadata": {},
   "outputs": [],
   "source": [
    "b2 = np.ones((3,3))"
   ]
  },
  {
   "cell_type": "code",
   "execution_count": 168,
   "id": "7684b1c9-a7c1-4391-acaf-6a327713030b",
   "metadata": {},
   "outputs": [
    {
     "data": {
      "text/plain": [
       "array([[1., 1., 1.],\n",
       "       [1., 1., 1.]])"
      ]
     },
     "execution_count": 168,
     "metadata": {},
     "output_type": "execute_result"
    }
   ],
   "source": [
    "b2"
   ]
  },
  {
   "cell_type": "code",
   "execution_count": 169,
   "id": "86544598-a5fc-467f-9f71-22bff22c778e",
   "metadata": {},
   "outputs": [
    {
     "data": {
      "text/plain": [
       "array([[1., 1., 1.],\n",
       "       [1., 1., 1.],\n",
       "       [1., 1., 1.],\n",
       "       [1., 1., 1.]])"
      ]
     },
     "execution_count": 169,
     "metadata": {},
     "output_type": "execute_result"
    }
   ],
   "source": [
    "np.vstack([b1,b2])"
   ]
  },
  {
   "cell_type": "code",
   "execution_count": 170,
   "id": "3e5040d8-03e0-43a8-b0c2-8e704d28ff84",
   "metadata": {},
   "outputs": [],
   "source": [
    "# dstack : 깊이 방향으로 배열을 합친다.\n",
    "\n",
    "c1 = np.ones((3,4))"
   ]
  },
  {
   "cell_type": "code",
   "execution_count": 171,
   "id": "d8083f58-a9e8-49a7-8b37-d7c0965fca40",
   "metadata": {},
   "outputs": [
    {
     "data": {
      "text/plain": [
       "array([[1., 1., 1., 1.],\n",
       "       [1., 1., 1., 1.],\n",
       "       [1., 1., 1., 1.]])"
      ]
     },
     "execution_count": 171,
     "metadata": {},
     "output_type": "execute_result"
    }
   ],
   "source": [
    "c1"
   ]
  },
  {
   "cell_type": "code",
   "execution_count": 172,
   "id": "28f0a8a9-0f81-4803-8fb0-68cd288e6c1c",
   "metadata": {},
   "outputs": [],
   "source": [
    "c2 = np.zeros((3,4))"
   ]
  },
  {
   "cell_type": "code",
   "execution_count": 173,
   "id": "26e7225f-60ae-474d-8100-eecbb2cbaf58",
   "metadata": {},
   "outputs": [
    {
     "data": {
      "text/plain": [
       "array([[0., 0., 0., 0.],\n",
       "       [0., 0., 0., 0.],\n",
       "       [0., 0., 0., 0.]])"
      ]
     },
     "execution_count": 173,
     "metadata": {},
     "output_type": "execute_result"
    }
   ],
   "source": [
    "c2"
   ]
  },
  {
   "cell_type": "code",
   "execution_count": 177,
   "id": "ebcc13b6-d36e-44e8-b094-aaed3b50243a",
   "metadata": {},
   "outputs": [
    {
     "data": {
      "text/plain": [
       "array([[[1., 0.],\n",
       "        [1., 0.],\n",
       "        [1., 0.],\n",
       "        [1., 0.]],\n",
       "\n",
       "       [[1., 0.],\n",
       "        [1., 0.],\n",
       "        [1., 0.],\n",
       "        [1., 0.]],\n",
       "\n",
       "       [[1., 0.],\n",
       "        [1., 0.],\n",
       "        [1., 0.],\n",
       "        [1., 0.]]])"
      ]
     },
     "execution_count": 177,
     "metadata": {},
     "output_type": "execute_result"
    }
   ],
   "source": [
    "np.dstack([c1, c2])"
   ]
  },
  {
   "cell_type": "code",
   "execution_count": null,
   "id": "ccd5bf7f-c400-47fc-b745-1e1498ae020c",
   "metadata": {},
   "outputs": [],
   "source": [
    "# stack 명령은 dstack 기능을 확장한 것으로 dstack 처럼 마지막 차원으로\n"
   ]
  },
  {
   "cell_type": "code",
   "execution_count": 194,
   "id": "ac026a0c-5abe-437a-ad03-fc21888028c4",
   "metadata": {},
   "outputs": [
    {
     "data": {
      "text/plain": [
       "array([1, 2, 3, 4, 5, 6])"
      ]
     },
     "execution_count": 194,
     "metadata": {},
     "output_type": "execute_result"
    }
   ],
   "source": [
    "# r__ 메서드 hstack 명령과 비슷하게 배열을 좌우로 연결.\n",
    "\n",
    "np.r_[np.array([1,2,3]), np.array([4,5,6])]"
   ]
  },
  {
   "cell_type": "code",
   "execution_count": 196,
   "id": "069be6f1-d496-4b5a-be00-f18c4cf55724",
   "metadata": {},
   "outputs": [
    {
     "ename": "SyntaxError",
     "evalue": "unexpected EOF while parsing (4256299995.py, line 3)",
     "output_type": "error",
     "traceback": [
      "\u001b[1;36m  File \u001b[1;32m\"C:\\Users\\jaehee\\AppData\\Local\\Temp\\ipykernel_10964\\4256299995.py\"\u001b[1;36m, line \u001b[1;32m3\u001b[0m\n\u001b[1;33m    np.c_([np.array([1,2,3]), np.array([4,5,6])\u001b[0m\n\u001b[1;37m                                               ^\u001b[0m\n\u001b[1;31mSyntaxError\u001b[0m\u001b[1;31m:\u001b[0m unexpected EOF while parsing\n"
     ]
    }
   ],
   "source": [
    "# c_ 메서드는 배열의 차원을 증가시킨 후 좌우로 연결합니다\n",
    "\n",
    "np.c_([np.array([1,2,3]), np.array([4,5,6])"
   ]
  },
  {
   "cell_type": "code",
   "execution_count": null,
   "id": "47a418ac-6ed9-4b13-b03b-a6e68a8457b2",
   "metadata": {},
   "outputs": [],
   "source": [
    "# tile 명령은 동일한 배열을 반복하여 연결\n",
    "\n",
    "np.arange(6).reshp"
   ]
  },
  {
   "cell_type": "code",
   "execution_count": 212,
   "id": "41b7ce84-4f19-4e5e-9624-fa33af7be6dd",
   "metadata": {},
   "outputs": [],
   "source": [
    "a = np.zeros((3,3))\n",
    "b = np.ones((3,2))\n",
    "c = np.arange(10, 151, 10)\n",
    "c = c.reshape(3,5)\n",
    "d = np.hstack((a, b))\n",
    "e = np.vstack((d, c))\n",
    "f = np.tile(e, (2,1))"
   ]
  },
  {
   "cell_type": "code",
   "execution_count": 213,
   "id": "e3013bea-a76f-4bda-964c-094de0f0e7df",
   "metadata": {},
   "outputs": [
    {
     "data": {
      "text/plain": [
       "array([[0., 0., 0.],\n",
       "       [0., 0., 0.],\n",
       "       [0., 0., 0.]])"
      ]
     },
     "execution_count": 213,
     "metadata": {},
     "output_type": "execute_result"
    }
   ],
   "source": [
    "a"
   ]
  },
  {
   "cell_type": "code",
   "execution_count": 214,
   "id": "15acc05d-1fb7-4f9e-be16-a122c2551ffa",
   "metadata": {},
   "outputs": [
    {
     "data": {
      "text/plain": [
       "array([[1., 1.],\n",
       "       [1., 1.],\n",
       "       [1., 1.]])"
      ]
     },
     "execution_count": 214,
     "metadata": {},
     "output_type": "execute_result"
    }
   ],
   "source": [
    "b"
   ]
  },
  {
   "cell_type": "code",
   "execution_count": 215,
   "id": "0f50d227-fd48-4849-b320-82637dbec281",
   "metadata": {},
   "outputs": [
    {
     "data": {
      "text/plain": [
       "array([[ 10,  20,  30,  40,  50],\n",
       "       [ 60,  70,  80,  90, 100],\n",
       "       [110, 120, 130, 140, 150]])"
      ]
     },
     "execution_count": 215,
     "metadata": {},
     "output_type": "execute_result"
    }
   ],
   "source": [
    "c"
   ]
  },
  {
   "cell_type": "code",
   "execution_count": 216,
   "id": "f342d0fe-7128-404c-9a9d-6bb58e944d64",
   "metadata": {},
   "outputs": [
    {
     "data": {
      "text/plain": [
       "array([[0., 0., 0., 1., 1.],\n",
       "       [0., 0., 0., 1., 1.],\n",
       "       [0., 0., 0., 1., 1.]])"
      ]
     },
     "execution_count": 216,
     "metadata": {},
     "output_type": "execute_result"
    }
   ],
   "source": [
    "d"
   ]
  },
  {
   "cell_type": "code",
   "execution_count": 217,
   "id": "bee44bf8-0924-4b0e-a8d6-34ca624b9420",
   "metadata": {},
   "outputs": [
    {
     "data": {
      "text/plain": [
       "array([[  0.,   0.,   0.,   1.,   1.],\n",
       "       [  0.,   0.,   0.,   1.,   1.],\n",
       "       [  0.,   0.,   0.,   1.,   1.],\n",
       "       [ 10.,  20.,  30.,  40.,  50.],\n",
       "       [ 60.,  70.,  80.,  90., 100.],\n",
       "       [110., 120., 130., 140., 150.]])"
      ]
     },
     "execution_count": 217,
     "metadata": {},
     "output_type": "execute_result"
    }
   ],
   "source": [
    "e"
   ]
  },
  {
   "cell_type": "code",
   "execution_count": 218,
   "id": "80d92e85-2c72-451d-a8df-146a631df222",
   "metadata": {},
   "outputs": [
    {
     "data": {
      "text/plain": [
       "array([[  0.,   0.,   0.,   1.,   1.],\n",
       "       [  0.,   0.,   0.,   1.,   1.],\n",
       "       [  0.,   0.,   0.,   1.,   1.],\n",
       "       [ 10.,  20.,  30.,  40.,  50.],\n",
       "       [ 60.,  70.,  80.,  90., 100.],\n",
       "       [110., 120., 130., 140., 150.],\n",
       "       [  0.,   0.,   0.,   1.,   1.],\n",
       "       [  0.,   0.,   0.,   1.,   1.],\n",
       "       [  0.,   0.,   0.,   1.,   1.],\n",
       "       [ 10.,  20.,  30.,  40.,  50.],\n",
       "       [ 60.,  70.,  80.,  90., 100.],\n",
       "       [110., 120., 130., 140., 150.]])"
      ]
     },
     "execution_count": 218,
     "metadata": {},
     "output_type": "execute_result"
    }
   ],
   "source": [
    "f"
   ]
  },
  {
   "cell_type": "code",
   "execution_count": 231,
   "id": "979d1737-cd33-4430-9f67-d0dd91116e4d",
   "metadata": {},
   "outputs": [],
   "source": [
    "z = np.zeros([3,3])\n",
    "o = np.ones([3,2])\n",
    "n= np.reshape(np.arange(10,160,10),(3,-1))\n",
    "res = np.tile(np.vstack([np.hstack("
   ]
  },
  {
   "cell_type": "code",
   "execution_count": null,
   "id": "d23b439a-c83d-42ac-bc32-794ed7349c56",
   "metadata": {},
   "outputs": [],
   "source": [
    "# 백터화 연산"
   ]
  },
  {
   "cell_type": "code",
   "execution_count": 219,
   "id": "9bdabc73-cd8a-4115-80e1-1f5f2e5968c1",
   "metadata": {},
   "outputs": [],
   "source": [
    "x = np.arange(1, 10001)\n",
    "y = np.arange(10001, 20001)"
   ]
  },
  {
   "cell_type": "code",
   "execution_count": 220,
   "id": "f25aa5e7-f410-4aca-85cd-a195a6b15147",
   "metadata": {},
   "outputs": [
    {
     "name": "stdout",
     "output_type": "stream",
     "text": [
      "Wall time: 8.98 ms\n"
     ]
    }
   ],
   "source": [
    "%%time\n",
    "z = np.zeros_like(x)\n",
    "for i in range(10000):\n",
    "    z[i] = x[i]+y[i]"
   ]
  },
  {
   "cell_type": "code",
   "execution_count": 221,
   "id": "7e63a783-5295-4001-a62a-9b357dea17c2",
   "metadata": {},
   "outputs": [],
   "source": [
    "a = np.array([1,2,3,4])\n",
    "b = np.array([4,2,2,4])\n",
    "c = np.array([1,2,3,4])"
   ]
  },
  {
   "cell_type": "code",
   "execution_count": 224,
   "id": "404a84d2-fc3c-44da-862b-2bc3731c10dd",
   "metadata": {},
   "outputs": [
    {
     "data": {
      "text/plain": [
       "False"
      ]
     },
     "execution_count": 224,
     "metadata": {},
     "output_type": "execute_result"
    }
   ],
   "source": [
    "np.all (a == b)"
   ]
  },
  {
   "cell_type": "code",
   "execution_count": 225,
   "id": "568df69c-9be3-41f9-9609-2e0659e16291",
   "metadata": {},
   "outputs": [
    {
     "data": {
      "text/plain": [
       "True"
      ]
     },
     "execution_count": 225,
     "metadata": {},
     "output_type": "execute_result"
    }
   ],
   "source": [
    "np.all (a == c)"
   ]
  },
  {
   "cell_type": "code",
   "execution_count": null,
   "id": "63887b06-686f-45af-92f6-0bbffcb81347",
   "metadata": {},
   "outputs": [],
   "source": [
    "# 스칼라와 벡터/행렬의 곱셈"
   ]
  },
  {
   "cell_type": "code",
   "execution_count": 226,
   "id": "ea80e0d1-d091-4fa9-b9a6-398f8ed64d98",
   "metadata": {},
   "outputs": [
    {
     "data": {
      "text/plain": [
       "array([0, 1, 2, 3, 4, 5, 6, 7, 8, 9])"
      ]
     },
     "execution_count": 226,
     "metadata": {},
     "output_type": "execute_result"
    }
   ],
   "source": [
    "x = np.arange(10)\n",
    "x"
   ]
  },
  {
   "cell_type": "code",
   "execution_count": 227,
   "id": "ff599574-295c-4a60-a753-d33fd0d76e3a",
   "metadata": {},
   "outputs": [
    {
     "data": {
      "text/plain": [
       "array([  0, 100, 200, 300, 400, 500, 600, 700, 800, 900])"
      ]
     },
     "execution_count": 227,
     "metadata": {},
     "output_type": "execute_result"
    }
   ],
   "source": [
    "100*x"
   ]
  },
  {
   "cell_type": "code",
   "execution_count": 228,
   "id": "33c1cd17-bf10-45ca-9898-6fd201494b8d",
   "metadata": {},
   "outputs": [
    {
     "data": {
      "text/plain": [
       "array([[ 0,  1,  2,  3],\n",
       "       [ 4,  5,  6,  7],\n",
       "       [ 8,  9, 10, 11]])"
      ]
     },
     "execution_count": 228,
     "metadata": {},
     "output_type": "execute_result"
    }
   ],
   "source": [
    "x = np.arange(12).reshape(3,4)\n",
    "x"
   ]
  },
  {
   "cell_type": "code",
   "execution_count": 229,
   "id": "f0ab000f-7a7f-4dba-bb7c-a999c7893eb0",
   "metadata": {},
   "outputs": [
    {
     "data": {
      "text/plain": [
       "array([[   0,  100,  200,  300],\n",
       "       [ 400,  500,  600,  700],\n",
       "       [ 800,  900, 1000, 1100]])"
      ]
     },
     "execution_count": 229,
     "metadata": {},
     "output_type": "execute_result"
    }
   ],
   "source": [
    "100*x"
   ]
  },
  {
   "cell_type": "code",
   "execution_count": null,
   "id": "79ae28cf-5fca-4015-8045-34693b39b7ed",
   "metadata": {},
   "outputs": [],
   "source": [
    "# 브로드캐스팅 :  산술 연산을 할려면 shape 가 같아야됨"
   ]
  },
  {
   "cell_type": "code",
   "execution_count": null,
   "id": "c7f4cd61-982f-42ff-b085-cbb2afcd1c37",
   "metadata": {},
   "outputs": [],
   "source": [
    "모양이 다른 배열 간의 연산이 가능하도록 배열의 크기를 변환시켜주는 브로드캐스팅을 지원"
   ]
  },
  {
   "cell_type": "code",
   "execution_count": 230,
   "id": "b88418c1-7aff-4ddd-9b25-ba681cac840f",
   "metadata": {},
   "outputs": [
    {
     "data": {
      "text/plain": [
       "array([2., 4., 6.])"
      ]
     },
     "execution_count": 230,
     "metadata": {},
     "output_type": "execute_result"
    }
   ],
   "source": [
    "a = np.array([1.0,2.0,3.0])\n",
    "b = 2.0\n",
    "a * b"
   ]
  },
  {
   "cell_type": "code",
   "execution_count": null,
   "id": "a9eae03d-b6d2-4db2-ac4b-1d897df5476a",
   "metadata": {},
   "outputs": [],
   "source": [
    "확장이 가능한 경우 : 배열의 shape을 우측 정렬하고, 각 차원별로 숫자를 비교"
   ]
  },
  {
   "cell_type": "code",
   "execution_count": null,
   "id": "8be521de-58f6-4588-a0f3-b92bc57a4da0",
   "metadata": {},
   "outputs": [],
   "source": [
    "차원 축소 연산 : 최대/최소 : min, argmin,\n",
    " 통계 : sum, mean\n",
    "불 : "
   ]
  },
  {
   "cell_type": "code",
   "execution_count": null,
   "id": "4cc3c977-470b-4231-ba4c-3e4c99d32703",
   "metadata": {},
   "outputs": [],
   "source": [
    "sum() : 해당 배열의 합산 결과를 반환 2차원 이상일 때에는 axis 키워드 인수 사용가능"
   ]
  },
  {
   "cell_type": "code",
   "execution_count": 233,
   "id": "91569eb8-e1ca-4128-adab-6c4e83c9c2c2",
   "metadata": {},
   "outputs": [
    {
     "data": {
      "text/plain": [
       "array([[ 0,  1,  2,  3],\n",
       "       [ 4,  5,  6,  7],\n",
       "       [ 8,  9, 10, 11]])"
      ]
     },
     "execution_count": 233,
     "metadata": {},
     "output_type": "execute_result"
    }
   ],
   "source": [
    "x = np.arange(12).reshape(3,-1)\n",
    "x"
   ]
  },
  {
   "cell_type": "code",
   "execution_count": 235,
   "id": "c187ca43-3d96-4a55-a932-156e02284385",
   "metadata": {},
   "outputs": [
    {
     "data": {
      "text/plain": [
       "array([[[ 0,  1],\n",
       "        [ 2,  3],\n",
       "        [ 4,  5],\n",
       "        [ 6,  7],\n",
       "        [ 8,  9]],\n",
       "\n",
       "       [[10, 11],\n",
       "        [12, 13],\n",
       "        [14, 15],\n",
       "        [16, 17],\n",
       "        [18, 19]]])"
      ]
     },
     "execution_count": 235,
     "metadata": {},
     "output_type": "execute_result"
    }
   ],
   "source": [
    "x = np.arange(20).reshape(2,5,-1)\n",
    "x"
   ]
  },
  {
   "cell_type": "code",
   "execution_count": 237,
   "id": "a4902668-616b-43c7-9a7a-93f9d6e2d7dd",
   "metadata": {},
   "outputs": [
    {
     "data": {
      "text/plain": [
       "0"
      ]
     },
     "execution_count": 237,
     "metadata": {},
     "output_type": "execute_result"
    }
   ],
   "source": [
    "x.min()"
   ]
  },
  {
   "cell_type": "code",
   "execution_count": 239,
   "id": "ccdc38a1-f418-4965-b3a5-da6cc309bcda",
   "metadata": {},
   "outputs": [
    {
     "data": {
      "text/plain": [
       "0"
      ]
     },
     "execution_count": 239,
     "metadata": {},
     "output_type": "execute_result"
    }
   ],
   "source": [
    "np.min(x)"
   ]
  },
  {
   "cell_type": "code",
   "execution_count": 241,
   "id": "35a6fc7b-a774-483b-a2b4-993e61758324",
   "metadata": {},
   "outputs": [
    {
     "data": {
      "text/plain": [
       "array([[0, 1],\n",
       "       [2, 3],\n",
       "       [4, 5],\n",
       "       [6, 7],\n",
       "       [8, 9]])"
      ]
     },
     "execution_count": 241,
     "metadata": {},
     "output_type": "execute_result"
    }
   ],
   "source": [
    "x.min(axis=0)"
   ]
  },
  {
   "cell_type": "code",
   "execution_count": 251,
   "id": "689f559e-7525-4a22-a1cd-5d85b4d66e78",
   "metadata": {},
   "outputs": [],
   "source": [
    "# 차원 축소 연산= argmin()\n",
    "x = np.arange(20).reshape(2,5,-1)\n",
    "\n",
    "# x.ardmin(axis=0)"
   ]
  },
  {
   "cell_type": "code",
   "execution_count": 252,
   "id": "7495f9c3-9866-4209-873d-f8ad70fa0a12",
   "metadata": {},
   "outputs": [
    {
     "data": {
      "text/plain": [
       "19"
      ]
     },
     "execution_count": 252,
     "metadata": {},
     "output_type": "execute_result"
    }
   ],
   "source": [
    "x.argmax()"
   ]
  },
  {
   "cell_type": "code",
   "execution_count": 253,
   "id": "e6294cd3-0dd9-4ab3-b17e-284a2e922059",
   "metadata": {},
   "outputs": [
    {
     "data": {
      "text/plain": [
       "19"
      ]
     },
     "execution_count": 253,
     "metadata": {},
     "output_type": "execute_result"
    }
   ],
   "source": [
    "np.argmax(x)"
   ]
  },
  {
   "cell_type": "code",
   "execution_count": 254,
   "id": "bdff7e94-4203-44e4-8d2c-75d3692c7560",
   "metadata": {},
   "outputs": [
    {
     "data": {
      "text/plain": [
       "array([[1, 1],\n",
       "       [1, 1],\n",
       "       [1, 1],\n",
       "       [1, 1],\n",
       "       [1, 1]], dtype=int64)"
      ]
     },
     "execution_count": 254,
     "metadata": {},
     "output_type": "execute_result"
    }
   ],
   "source": [
    "x.argmax(axis=0)"
   ]
  },
  {
   "cell_type": "code",
   "execution_count": 255,
   "id": "d2c7f200-5c35-4753-83ea-6e0d100771d4",
   "metadata": {},
   "outputs": [
    {
     "data": {
      "text/plain": [
       "array([[4, 4],\n",
       "       [4, 4]], dtype=int64)"
      ]
     },
     "execution_count": 255,
     "metadata": {},
     "output_type": "execute_result"
    }
   ],
   "source": [
    "np.argmax(x,axis =1)"
   ]
  },
  {
   "cell_type": "code",
   "execution_count": 256,
   "id": "bcf9bbe8-9fd9-4b93-932f-492ea9e6a765",
   "metadata": {},
   "outputs": [
    {
     "data": {
      "text/plain": [
       "array([[1, 1, 1, 1, 1],\n",
       "       [1, 1, 1, 1, 1]], dtype=int64)"
      ]
     },
     "execution_count": 256,
     "metadata": {},
     "output_type": "execute_result"
    }
   ],
   "source": [
    "x.argmax(axis=2)"
   ]
  },
  {
   "cell_type": "code",
   "execution_count": 1,
   "id": "44d749d1-9330-4e74-82d6-6fea339853f0",
   "metadata": {},
   "outputs": [],
   "source": [
    "import numpy as np\n",
    "import random\n"
   ]
  },
  {
   "cell_type": "code",
   "execution_count": null,
   "id": "6c3d1518-66cd-40f1-a7b1-c248793bc21a",
   "metadata": {},
   "outputs": [],
   "source": [
    "# 차원 축소 연산\n",
    "- mean() :평균\n",
    "- median() : 중앙값\n",
    "- np.any() : 요소가 단 하나라도 T이면 T, 모두 F일 때는 F를 반환\n",
    "- np.all() : 모든 요소가 T이면 T, 하나라도 F이면 F를 반환\n"
   ]
  },
  {
   "cell_type": "code",
   "execution_count": 261,
   "id": "95762d80-ffc4-4e4a-8744-89716e7a4809",
   "metadata": {},
   "outputs": [
    {
     "data": {
      "text/plain": [
       "array([[0, 0, 0, ..., 0, 0, 0],\n",
       "       [0, 0, 0, ..., 0, 0, 0],\n",
       "       [0, 0, 0, ..., 0, 0, 0],\n",
       "       ...,\n",
       "       [0, 0, 0, ..., 0, 0, 0],\n",
       "       [0, 0, 0, ..., 0, 0, 0],\n",
       "       [0, 0, 0, ..., 0, 0, 0]], dtype=int64)"
      ]
     },
     "execution_count": 261,
     "metadata": {},
     "output_type": "execute_result"
    }
   ],
   "source": [
    "a =np.zeros((100,100), dtype=np.int64)\n",
    "a"
   ]
  },
  {
   "cell_type": "code",
   "execution_count": 262,
   "id": "1c63ddfd-c709-46da-b9c9-39315cc7d7cd",
   "metadata": {},
   "outputs": [
    {
     "data": {
      "text/plain": [
       "False"
      ]
     },
     "execution_count": 262,
     "metadata": {},
     "output_type": "execute_result"
    }
   ],
   "source": [
    "np.any(a != 0)"
   ]
  },
  {
   "cell_type": "code",
   "execution_count": 263,
   "id": "7a110634-82f7-4526-986b-d0b9754f8cc1",
   "metadata": {},
   "outputs": [
    {
     "data": {
      "text/plain": [
       "True"
      ]
     },
     "execution_count": 263,
     "metadata": {},
     "output_type": "execute_result"
    }
   ],
   "source": [
    "np.all(a == a)"
   ]
  },
  {
   "cell_type": "code",
   "execution_count": 281,
   "id": "12d1b29a-d9c4-4c10-8bba-74e23d837aa8",
   "metadata": {},
   "outputs": [],
   "source": [
    "practice = np.array([[1.1, 7.1, 8.0, 2.1, 6.5, 7.2],\n",
    "                    [2.7, 5.2, 3.3, 9.0, 7.7, 2.8],\n",
    "                    [0.7, 8.8, 4.2, 8.9, 4.3, 7.4],\n",
    "                    [8.2, 1.1, 5.4, 2.9, 6.9, 0.2],\n",
    "                    [7.4, 4.8, 2.7, 3.1, 2.8, 8.9]])\n"
   ]
  },
  {
   "cell_type": "code",
   "execution_count": 283,
   "id": "a6da3a12-7a88-4da2-a79f-c58822008b67",
   "metadata": {},
   "outputs": [
    {
     "data": {
      "text/plain": [
       "(9.0,\n",
       " array([20.1, 27. , 23.6, 26. , 28.2, 26.5]),\n",
       " array([8.2, 8.8, 8. , 9. , 7.7, 8.9]),\n",
       " array([5.33333333, 5.11666667, 5.71666667, 4.11666667, 4.95      ]),\n",
       " array([1.1, 2.7, 0.7, 0.2, 2.7]))"
      ]
     },
     "execution_count": 283,
     "metadata": {},
     "output_type": "execute_result"
    }
   ],
   "source": [
    "practice.max(),practice.sum(axis=0),practice.max(axis=0),practice.mean(axis=1),practice.min(axis=1)\n",
    "\n"
   ]
  },
  {
   "cell_type": "code",
   "execution_count": 284,
   "id": "2c0e7e3e-2d7c-4786-9608-2ba4a14d3a04",
   "metadata": {},
   "outputs": [
    {
     "data": {
      "text/plain": [
       "array([2, 3, 1, 0], dtype=int64)"
      ]
     },
     "execution_count": 284,
     "metadata": {},
     "output_type": "execute_result"
    }
   ],
   "source": [
    "# 정렬  자체변화(in-place)메서드이므로 주의 필요\n",
    "# 정렬하는 것이 아니라 순서만 알고 싶다면 argsort명령을 사용\n",
    "a = np.array([42,38,12,25])\n",
    "j = np.argsort(a)\n",
    "j"
   ]
  },
  {
   "cell_type": "code",
   "execution_count": 285,
   "id": "c4749910-a7fb-4e97-8067-46607c5823cb",
   "metadata": {},
   "outputs": [
    {
     "data": {
      "text/plain": [
       "array([12, 25, 38, 42])"
      ]
     },
     "execution_count": 285,
     "metadata": {},
     "output_type": "execute_result"
    }
   ],
   "source": [
    "a[j]"
   ]
  },
  {
   "cell_type": "code",
   "execution_count": 286,
   "id": "52b1b9af-0844-4228-bc94-bc1016bba0b5",
   "metadata": {},
   "outputs": [
    {
     "data": {
      "text/plain": [
       "array([12, 25, 38, 42])"
      ]
     },
     "execution_count": 286,
     "metadata": {},
     "output_type": "execute_result"
    }
   ],
   "source": [
    "np.sort(a)"
   ]
  },
  {
   "cell_type": "code",
   "execution_count": 287,
   "id": "0a666d54-0a91-4b2f-99a6-7ad3903761bf",
   "metadata": {},
   "outputs": [
    {
     "data": {
      "text/plain": [
       "array([[1, 2],\n",
       "       [3, 4],\n",
       "       [5, 6]])"
      ]
     },
     "execution_count": 287,
     "metadata": {},
     "output_type": "execute_result"
    }
   ],
   "source": [
    "a = np.array([[1,2],[3,4],[5,6]])\n",
    "a"
   ]
  },
  {
   "cell_type": "code",
   "execution_count": 288,
   "id": "88b7d1bf-14b5-48ef-8266-5dfc9722a5f7",
   "metadata": {},
   "outputs": [
    {
     "name": "stdout",
     "output_type": "stream",
     "text": [
      "[1 4 5]\n"
     ]
    }
   ],
   "source": [
    "print(a[[0,1,2],[0,1,0]])"
   ]
  },
  {
   "cell_type": "code",
   "execution_count": 289,
   "id": "096cff56-0072-42a1-af7e-bd6a25614a6a",
   "metadata": {},
   "outputs": [
    {
     "data": {
      "text/plain": [
       "array([[1, 2],\n",
       "       [3, 4],\n",
       "       [5, 6]])"
      ]
     },
     "execution_count": 289,
     "metadata": {},
     "output_type": "execute_result"
    }
   ],
   "source": [
    "a = np.array([[1,2],[3,4],[5,6]])\n",
    "a"
   ]
  },
  {
   "cell_type": "code",
   "execution_count": 293,
   "id": "d018471a-44ca-407b-a52f-ae0512b9ffd4",
   "metadata": {},
   "outputs": [
    {
     "name": "stdout",
     "output_type": "stream",
     "text": [
      "[[1 2 1]\n",
      " [3 4 3]\n",
      " [5 6 5]]\n"
     ]
    }
   ],
   "source": [
    "print(a[:, [0,1,0]])"
   ]
  },
  {
   "cell_type": "code",
   "execution_count": 301,
   "id": "e902e074-167c-4ba3-93a9-d584ff9caa3d",
   "metadata": {},
   "outputs": [],
   "source": [
    "scores = np.array([[1, 2, 3, 4],\n",
    "                   [46, 99, 100, 71],\n",
    "                   [81, 59, 90, 100]])\n",
    "row = np.argsort(scores[1, :])"
   ]
  },
  {
   "cell_type": "code",
   "execution_count": 302,
   "id": "bec5dd76-1122-40df-8ba4-9112778b6ff4",
   "metadata": {},
   "outputs": [
    {
     "data": {
      "text/plain": [
       "array([0, 3, 1, 2], dtype=int64)"
      ]
     },
     "execution_count": 302,
     "metadata": {},
     "output_type": "execute_result"
    }
   ],
   "source": [
    "row"
   ]
  },
  {
   "cell_type": "code",
   "execution_count": 303,
   "id": "45041db1-7ce9-4885-a019-3055621c1c80",
   "metadata": {},
   "outputs": [
    {
     "data": {
      "text/plain": [
       "array([[  1,   4,   2,   3],\n",
       "       [ 46,  71,  99, 100],\n",
       "       [ 81, 100,  59,  90]])"
      ]
     },
     "execution_count": 303,
     "metadata": {},
     "output_type": "execute_result"
    }
   ],
   "source": [
    "scores[:, row]"
   ]
  },
  {
   "cell_type": "code",
   "execution_count": 304,
   "id": "a3713281-c327-4d8a-824c-fa96c35d08ac",
   "metadata": {},
   "outputs": [],
   "source": [
    "# 표본 평균 : np.mean(x)\n",
    "# 분산 : np.var(x) ddof=1\n",
    "# 표준 편차 : np.std(x)\n",
    "# 중앙값 : np.median(x)\n",
    "# 사분위수 : 1사분위수는 25% 백분위수와 같다. 2사 분위수는 중앙값 3사분위수는 75%\n",
    "# 난수 발생과 카운팅 \n",
    "# 시드 설정하기 \n",
    "np.random.seed(0)"
   ]
  },
  {
   "cell_type": "code",
   "execution_count": 305,
   "id": "48ca3c9a-88fa-4a47-8c3c-008780f35f4b",
   "metadata": {},
   "outputs": [
    {
     "data": {
      "text/plain": [
       "array([0.5488135 , 0.71518937, 0.60276338, 0.54488318, 0.4236548 ])"
      ]
     },
     "execution_count": 305,
     "metadata": {},
     "output_type": "execute_result"
    }
   ],
   "source": [
    "np.random.rand(5)"
   ]
  },
  {
   "cell_type": "code",
   "execution_count": 306,
   "id": "4b689255-7636-4d49-b7c3-00dedb5b703e",
   "metadata": {},
   "outputs": [
    {
     "data": {
      "text/plain": [
       "array([0.64589411, 0.43758721, 0.891773  , 0.96366276, 0.38344152,\n",
       "       0.79172504, 0.52889492, 0.56804456, 0.92559664, 0.07103606])"
      ]
     },
     "execution_count": 306,
     "metadata": {},
     "output_type": "execute_result"
    }
   ],
   "source": [
    "np.random.rand(10)"
   ]
  },
  {
   "cell_type": "code",
   "execution_count": 307,
   "id": "d5983522-a1bc-49e6-978d-213db447d621",
   "metadata": {},
   "outputs": [
    {
     "data": {
      "text/plain": [
       "array([0.0871293 , 0.0202184 , 0.83261985, 0.77815675, 0.87001215,\n",
       "       0.97861834, 0.79915856, 0.46147936, 0.78052918, 0.11827443])"
      ]
     },
     "execution_count": 307,
     "metadata": {},
     "output_type": "execute_result"
    }
   ],
   "source": [
    "np.random.rand(10)"
   ]
  },
  {
   "cell_type": "code",
   "execution_count": 308,
   "id": "05898b10-a706-4689-899c-6839e4845528",
   "metadata": {},
   "outputs": [],
   "source": [
    "np.random.seed(0)"
   ]
  },
  {
   "cell_type": "code",
   "execution_count": 309,
   "id": "febdf511-0b41-4cb9-aec0-619e551dc4b1",
   "metadata": {},
   "outputs": [
    {
     "data": {
      "text/plain": [
       "array([0.5488135 , 0.71518937, 0.60276338, 0.54488318, 0.4236548 ])"
      ]
     },
     "execution_count": 309,
     "metadata": {},
     "output_type": "execute_result"
    }
   ],
   "source": [
    "np.random.rand(5)"
   ]
  },
  {
   "cell_type": "code",
   "execution_count": 310,
   "id": "3e816ea5-c3b4-473a-99e5-aff71d8f2c28",
   "metadata": {},
   "outputs": [
    {
     "data": {
      "text/plain": [
       "array([0.64589411, 0.43758721, 0.891773  , 0.96366276, 0.38344152,\n",
       "       0.79172504, 0.52889492, 0.56804456, 0.92559664, 0.07103606])"
      ]
     },
     "execution_count": 310,
     "metadata": {},
     "output_type": "execute_result"
    }
   ],
   "source": [
    "np.random.rand(10)"
   ]
  },
  {
   "cell_type": "code",
   "execution_count": 311,
   "id": "94d1b621-d3c8-4f7a-b84b-e38168a2c190",
   "metadata": {},
   "outputs": [
    {
     "data": {
      "text/plain": [
       "array([0.0871293 , 0.0202184 , 0.83261985, 0.77815675, 0.87001215,\n",
       "       0.97861834, 0.79915856, 0.46147936, 0.78052918, 0.11827443])"
      ]
     },
     "execution_count": 311,
     "metadata": {},
     "output_type": "execute_result"
    }
   ],
   "source": [
    "np.random.rand(10)"
   ]
  },
  {
   "cell_type": "code",
   "execution_count": 312,
   "id": "c67d0654-f8c7-4895-bf87-62109337a518",
   "metadata": {},
   "outputs": [
    {
     "data": {
      "text/plain": [
       "array([0, 1, 2, 3, 4, 5, 6, 7, 8, 9])"
      ]
     },
     "execution_count": 312,
     "metadata": {},
     "output_type": "execute_result"
    }
   ],
   "source": [
    "# 데이터의 순서 바꾸기 \n",
    "x = np.arange(10) \n",
    "x"
   ]
  },
  {
   "cell_type": "code",
   "execution_count": 313,
   "id": "a58ff6a1-9067-46d3-a85e-c84766eaf5bb",
   "metadata": {},
   "outputs": [
    {
     "data": {
      "text/plain": [
       "array([3, 6, 4, 5, 2, 9, 7, 8, 1, 0])"
      ]
     },
     "execution_count": 313,
     "metadata": {},
     "output_type": "execute_result"
    }
   ],
   "source": [
    "np.random.shuffle(x)   #임의로 순서를 바꿔줌\n",
    "x"
   ]
  },
  {
   "cell_type": "code",
   "execution_count": 314,
   "id": "fa02f7df-a2ca-494f-a39e-1539fe3e18d1",
   "metadata": {},
   "outputs": [
    {
     "data": {
      "text/plain": [
       "array([5, 7, 6, 1, 9, 3, 0, 2, 8, 4])"
      ]
     },
     "execution_count": 314,
     "metadata": {},
     "output_type": "execute_result"
    }
   ],
   "source": [
    "np.random.shuffle(x)\n",
    "x"
   ]
  },
  {
   "cell_type": "code",
   "execution_count": 315,
   "id": "4dd236ec-c124-4c35-8965-f91aacbc70bf",
   "metadata": {},
   "outputs": [
    {
     "data": {
      "text/plain": [
       "array([3, 2, 1, 4, 0])"
      ]
     },
     "execution_count": 315,
     "metadata": {},
     "output_type": "execute_result"
    }
   ],
   "source": [
    "# 데이터 샘플링 : choice 함수를 사용 \n",
    "# a: 배열이면 원래의 데이터 size: 정수 replace:불리언 p\n",
    "\n",
    "np.random.choice(5, 5, replace=False) # shuffle 명령과 같다"
   ]
  },
  {
   "cell_type": "code",
   "execution_count": 316,
   "id": "7cb76402-0c03-4fb1-982c-9ef1b8379f0f",
   "metadata": {},
   "outputs": [
    {
     "data": {
      "text/plain": [
       "array([3, 0, 2])"
      ]
     },
     "execution_count": 316,
     "metadata": {},
     "output_type": "execute_result"
    }
   ],
   "source": [
    "np.random.choice(5, 3, replace=False)"
   ]
  },
  {
   "cell_type": "code",
   "execution_count": 317,
   "id": "ff24e53f-e4f4-4af8-b7f0-2546a12aefaa",
   "metadata": {},
   "outputs": [
    {
     "data": {
      "text/plain": [
       "array([0, 1, 1, 1, 1, 3, 3, 2, 3, 0])"
      ]
     },
     "execution_count": 317,
     "metadata": {},
     "output_type": "execute_result"
    }
   ],
   "source": [
    "np.random.choice(5,10)"
   ]
  },
  {
   "cell_type": "code",
   "execution_count": 318,
   "id": "1e0b9424-0d93-467d-9a22-2de9cbe9b9c0",
   "metadata": {},
   "outputs": [
    {
     "data": {
      "text/plain": [
       "array([2, 2, 3, 3, 3, 2, 2, 2, 3, 2])"
      ]
     },
     "execution_count": 318,
     "metadata": {},
     "output_type": "execute_result"
    }
   ],
   "source": [
    "np.random.choice(5, 10, p =[0.1, 0, 0.3, 0.6, 0])"
   ]
  },
  {
   "cell_type": "code",
   "execution_count": 319,
   "id": "2146b060-3d7b-4490-8591-6285d9211b1c",
   "metadata": {},
   "outputs": [
    {
     "data": {
      "text/plain": [
       "array([0.46631077, 0.24442559, 0.15896958, 0.11037514, 0.65632959,\n",
       "       0.13818295, 0.19658236, 0.36872517, 0.82099323, 0.09710128])"
      ]
     },
     "execution_count": 319,
     "metadata": {},
     "output_type": "execute_result"
    }
   ],
   "source": [
    "# 난수 생성 \n",
    "# rand  : \n",
    "# randn : 기댓값(mean)이 0이고 표준편차가 1인 표준 정규 분포를 따르는 난수를 생성\n",
    "# randint : (low, high=None, size=None) 만약 high를 입력하지 않으면 0과 low사이의 숫자를, \n",
    "# high를 입력하면 low와 high 사이의 숫자를 출력\n",
    "np.random.rand(10)"
   ]
  },
  {
   "cell_type": "code",
   "execution_count": 320,
   "id": "b3076db1-dde9-4ea8-ab29-007fbd7099f5",
   "metadata": {},
   "outputs": [
    {
     "data": {
      "text/plain": [
       "array([[0.83794491, 0.09609841, 0.97645947, 0.4686512 , 0.97676109],\n",
       "       [0.60484552, 0.73926358, 0.03918779, 0.28280696, 0.12019656],\n",
       "       [0.2961402 , 0.11872772, 0.31798318, 0.41426299, 0.0641475 ]])"
      ]
     },
     "execution_count": 320,
     "metadata": {},
     "output_type": "execute_result"
    }
   ],
   "source": [
    "np.random.rand(3,5)"
   ]
  },
  {
   "cell_type": "code",
   "execution_count": 321,
   "id": "32a498c2-bc59-4ac3-bb18-81fe2232eb0d",
   "metadata": {},
   "outputs": [
    {
     "data": {
      "text/plain": [
       "array([ 0.61980106,  1.79116846,  0.17100044, -1.72567135,  0.16065854,\n",
       "       -0.85898532, -0.20642094,  0.48842647, -0.83833097,  0.38116374])"
      ]
     },
     "execution_count": 321,
     "metadata": {},
     "output_type": "execute_result"
    }
   ],
   "source": [
    "np.random.randn(10)"
   ]
  },
  {
   "cell_type": "code",
   "execution_count": 322,
   "id": "458053c4-8432-4b97-9b62-f163c1d74793",
   "metadata": {},
   "outputs": [
    {
     "data": {
      "text/plain": [
       "array([[-0.99090328,  1.01788005,  0.3415874 , -1.25088622,  0.92525075],\n",
       "       [-0.90478616,  1.84369153,  1.52550724, -1.44553558,  0.37716061],\n",
       "       [-0.07055723,  0.60415971,  0.472149  ,  0.81991729,  0.90751962]])"
      ]
     },
     "execution_count": 322,
     "metadata": {},
     "output_type": "execute_result"
    }
   ],
   "source": [
    "np.random.randn(3, 5)"
   ]
  },
  {
   "cell_type": "code",
   "execution_count": 324,
   "id": "53ff0634-8589-41bd-abe6-36a2c1431377",
   "metadata": {},
   "outputs": [
    {
     "data": {
      "text/plain": [
       "array([8, 0, 8, 5, 9, 0, 9, 6, 5, 3])"
      ]
     },
     "execution_count": 324,
     "metadata": {},
     "output_type": "execute_result"
    }
   ],
   "source": [
    "np.random.randint(10, size=10)"
   ]
  },
  {
   "cell_type": "code",
   "execution_count": 336,
   "id": "fb2b472f-3dd7-4f79-adbb-807fa495ebb2",
   "metadata": {},
   "outputs": [
    {
     "data": {
      "text/plain": [
       "0.56"
      ]
     },
     "execution_count": 336,
     "metadata": {},
     "output_type": "execute_result"
    }
   ],
   "source": [
    "np.random.seed(0)\n",
    "k = [np.random.randint(0, 2) for _ in range(100) ]\n",
    "np.mean(k)"
   ]
  },
  {
   "cell_type": "code",
   "execution_count": 337,
   "id": "9a285a21-14c1-4532-bf3a-361fda29ff11",
   "metadata": {},
   "outputs": [
    {
     "data": {
      "text/plain": [
       "0.56"
      ]
     },
     "execution_count": 337,
     "metadata": {},
     "output_type": "execute_result"
    }
   ],
   "source": [
    "np.random.seed(0)\n",
    "res = np.random.randint(0, 2, 100)\n",
    "res.sum() / len(res)"
   ]
  },
  {
   "cell_type": "code",
   "execution_count": 338,
   "id": "8f2c43dc-9c6e-423d-aaa4-8876c2db6432",
   "metadata": {},
   "outputs": [
    {
     "data": {
      "text/plain": [
       "0.56"
      ]
     },
     "execution_count": 338,
     "metadata": {},
     "output_type": "execute_result"
    }
   ],
   "source": [
    "np.random.seed(0)\n",
    "a= np.random.randint(2, size=100)\n",
    "np.mean(a)"
   ]
  },
  {
   "cell_type": "code",
   "execution_count": 339,
   "id": "7be49f27-80fd-48b7-9a39-560fb7611add",
   "metadata": {},
   "outputs": [
    {
     "data": {
      "text/plain": [
       "array([0, 2, 3, 1, 0, 0], dtype=int64)"
      ]
     },
     "execution_count": 339,
     "metadata": {},
     "output_type": "execute_result"
    }
   ],
   "source": [
    "# 정수 데이터 카운팅 : unique명령, bincount명령으로 데이터 값을 분석할 수 있다.\n",
    "# unique()함수는 데이터에서 중복된 값을 제거하고 중복되지 않는 값의 리스트를 출력\n",
    "np.bincount([1,1,2,2,2,3], minlength=6)"
   ]
  },
  {
   "cell_type": "code",
   "execution_count": null,
   "id": "3c61ba5e-d694-4645-a745-38d5d185ace9",
   "metadata": {},
   "outputs": [],
   "source": []
  }
 ],
 "metadata": {
  "kernelspec": {
   "display_name": "Python 3 (ipykernel)",
   "language": "python",
   "name": "python3"
  },
  "language_info": {
   "codemirror_mode": {
    "name": "ipython",
    "version": 3
   },
   "file_extension": ".py",
   "mimetype": "text/x-python",
   "name": "python",
   "nbconvert_exporter": "python",
   "pygments_lexer": "ipython3",
   "version": "3.9.13"
  }
 },
 "nbformat": 4,
 "nbformat_minor": 5
}
