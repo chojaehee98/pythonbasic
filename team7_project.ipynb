{
 "cells": [
  {
   "cell_type": "code",
   "execution_count": null,
   "id": "6888159b-08ae-45e4-bd99-f287352867d8",
   "metadata": {},
   "outputs": [],
   "source": [
    "# 연령별, 성별 이용현환 csv 파일 불러오기\n",
    "sex = pd.read_csv('datas/지역화폐연령별성별이용현황.csv',index_col = False, encoding='CP949', low_memory=False)"
   ]
  },
  {
   "cell_type": "code",
   "execution_count": null,
   "id": "315700dc-7bdd-426a-8af8-ed330fed0f32",
   "metadata": {},
   "outputs": [],
   "source": [
    "sex = sex[(sex['성별'] == '남') | (sex['성별'] == '여')]  # 불러온 파일의 column중 성별에서 남,여만 나오게 추출\n",
    "sex[\"연령대\"] = sex['연령대'].str[:2] # 연령대에서 두 글자까지의 개수만 출력 \n",
    "sex=sex.iloc[:,0:6]   # 성별이용현황 성별: nan값 뺀 거\n",
    "sex2021 = sex[sex.기준연도==2021]\n",
    "sex21=sex2021.set_index('기준연도')"
   ]
  },
  {
   "cell_type": "code",
   "execution_count": null,
   "id": "2af05336-83cc-4fc3-ba2e-377f90d0db3d",
   "metadata": {},
   "outputs": [],
   "source": [
    "se = sex21[(sex21['연령대'] == '10')|(sex21['연령대'] == '20')|(sex21['연령대'] == '30')|(sex21['연령대'] == '40')|(sex21['연령대'] == '50')|(sex21['연령대'] == '60')|(sex21['연령대'] == '70')]\n",
    "se   # 연령대에서 10~70대까지의 값만 가질수있게 함"
   ]
  },
  {
   "cell_type": "code",
   "execution_count": null,
   "id": "acf4ccae-3c7f-45db-a041-3d87201f34ba",
   "metadata": {},
   "outputs": [],
   "source": [
    "# 불러온 csv 파일에 겹치는 데이터가 많아서 type을 바꿔주고 drop을 사용하여 중복된 값 삭제\n",
    "se.성별 = se.성별.astype('category')\n",
    "se.연령대 = se.연령대.astype('int')\n",
    "se.info()\n",
    "se.drop_duplicates(inplace=True)"
   ]
  },
  {
   "cell_type": "code",
   "execution_count": null,
   "id": "9c7932db-0607-49ac-955d-bafcea72884b",
   "metadata": {},
   "outputs": [],
   "source": [
    "man = se[se['성별'] == '남']  # 남자 데이터만 나오게 한다.\n",
    "man"
   ]
  },
  {
   "cell_type": "code",
   "execution_count": null,
   "id": "4fc4fb4a-532a-4286-83e3-5c62d898d0fa",
   "metadata": {},
   "outputs": [],
   "source": [
    "man_10_1 = man[man['연령대'] == 10]\n",
    "man_20_1 = man[man['연령대'] == 20]\n",
    "man_30_1 = man[man['연령대'] == 30]\n",
    "man_40_1 = man[man['연령대'] == 40]\n",
    "man_50_1 = man[man['연령대'] == 50]\n",
    "man_60_1 = man[man['연령대'] == 60]\n",
    "man_70_1 = man[man['연령대'] == 70]"
   ]
  },
  {
   "cell_type": "code",
   "execution_count": null,
   "id": "1450f90e-cc29-4cc0-9bfd-834f1596f0c3",
   "metadata": {},
   "outputs": [],
   "source": [
    "# 결제금액의 합을 구하고 경기도 연령별 남자 인구를 나누면\n",
    "# 경기도 연령별 연 평균 결제금액이 나온다.\n",
    "a = round((man_10_1['결제금액'].sum()/698771),0)\n",
    "b = round((man_20_1['결제금액'].sum()/1273058),0)\n",
    "c = round((man_30_1['결제금액'].sum()/1301183),0)\n",
    "d = round((man_40_1['결제금액'].sum()/1368463),0)\n",
    "e = round((man_50_1['결제금액'].sum()/1229784),0)\n",
    "f = round((man_60_1['결제금액'].sum()/827358),0)\n",
    "g = round((man_70_1['결제금액'].sum()/463035),0)"
   ]
  },
  {
   "cell_type": "code",
   "execution_count": null,
   "id": "355e2a3e-225b-4dc3-90e2-5325d2c0f44b",
   "metadata": {},
   "outputs": [],
   "source": [
    "woman = se[se['성별'] == '여'] # 여자 데이터만 출력한다."
   ]
  },
  {
   "cell_type": "code",
   "execution_count": null,
   "id": "408b1d2b-3ff3-4186-b9d0-6427131089d7",
   "metadata": {},
   "outputs": [],
   "source": [
    "woman_10_1 = woman[woman['연령대'] == 10] #10대\n",
    "woman_20_1 = woman[woman['연령대'] == 20] #20대\n",
    "woman_30_1 = woman[woman['연령대'] == 30] #30대\n",
    "woman_40_1 = woman[woman['연령대'] == 40] #40대\n",
    "woman_50_1 = woman[woman['연령대'] == 50] #50대\n",
    "woman_60_1 = woman[woman['연령대'] == 60] #60대\n",
    "woman_70_1 = woman[woman['연령대'] == 70] #70대"
   ]
  },
  {
   "cell_type": "code",
   "execution_count": null,
   "id": "54828542-9b24-4e4f-ab73-5f395a3111d4",
   "metadata": {},
   "outputs": [],
   "source": [
    "# 결제금액의 합을 구하고 경기도 연령별 여성 인구를 나눈다\n",
    "q = round((woman_10_1['결제금액'].sum()/696715),0) \n",
    "w = round((woman_20_1['결제금액'].sum()/1197362),0)\n",
    "e = round((woman_30_1['결제금액'].sum()/1215053),0)\n",
    "r = round((woman_40_1['결제금액'].sum()/1288006),0)\n",
    "t = round((woman_50_1['결제금액'].sum()/1227040),0)\n",
    "n = round((woman_60_1['결제금액'].sum()/843535),0)\n",
    "u = round((woman_70_1['결제금액'].sum()/539107),0)"
   ]
  },
  {
   "cell_type": "code",
   "execution_count": null,
   "id": "3eed4cf6-092e-48a1-8dec-92c41318ecf5",
   "metadata": {},
   "outputs": [],
   "source": [
    "# 남자 연령별 1인 연 평균 사용 비율 데이터프레임으로 만든다\n",
    "x = ['10대','20대','30대','40대','50대','60대','70대']\n",
    "y = [a,b,c,d,e,f,g]\n",
    "\n",
    "df = pd.DataFrame({'연령':x,'화폐':y}, columns=['연령','화폐'])\n",
    "df"
   ]
  },
  {
   "cell_type": "code",
   "execution_count": null,
   "id": "0740f50d-e7ae-4818-84eb-95f4e2df9c77",
   "metadata": {},
   "outputs": [],
   "source": [
    "# 여자 연령별 1인 연 평균 사용 비율 데이터프레임으로 만든다\n",
    "x = ['10대','20대','30대','40대','50대','60대','70대']\n",
    "y = [q,w,e,r,t,n,u] \n",
    "\n",
    "wy = pd.DataFrame({'연령':x,'화폐':y}, columns=['연령','화폐'])\n",
    "wy"
   ]
  },
  {
   "cell_type": "code",
   "execution_count": null,
   "id": "85743639-1b96-46b9-8bc3-d2fb1a2669f4",
   "metadata": {},
   "outputs": [],
   "source": [
    "df['성별'] = '남'  # 성별 column 추가\n",
    "df"
   ]
  },
  {
   "cell_type": "code",
   "execution_count": null,
   "id": "06e57bef-262b-4261-bcd9-09caf0a81484",
   "metadata": {},
   "outputs": [],
   "source": [
    "wy['성별'] = '여' \n",
    "wy"
   ]
  },
  {
   "cell_type": "code",
   "execution_count": null,
   "id": "05ab1b5f-1aad-48f2-afc2-1e397f870c1a",
   "metadata": {},
   "outputs": [],
   "source": [
    "# 남, 여 데이터프레임 합침\n",
    "result = pd.concat([df, wy], axis=0)  "
   ]
  },
  {
   "cell_type": "code",
   "execution_count": null,
   "id": "825d44bf-bfb1-4a11-8c60-b562c57e6a4e",
   "metadata": {},
   "outputs": [],
   "source": [
    "# 인덱스 값 0부터 순차적으로 진행되게 한다.\n",
    "result.reset_index(inplace=True, drop=True)\n",
    "result"
   ]
  },
  {
   "cell_type": "code",
   "execution_count": null,
   "id": "5c47e06c-3659-42dd-9b79-03160daed73d",
   "metadata": {},
   "outputs": [],
   "source": [
    "ax = sns.lineplot(data=result, x ='연령', y='화폐', hue= '성별')\n",
    "plt.title('경기도 지역화폐 성별 1인 연평균 결제량')\n",
    "current_values = plt.gca().get_yticks()\n",
    "plt.gca().set_yticklabels(['{:,.0f}'.format(x) for x in current_values])\n",
    "\n",
    "for patch in ax.patches:\n",
    "    # 2개의 patch 값을 가짐\n",
    "    ax.text(x = patch.get_x(),# + 100,\n",
    "            y = patch.get_height(),\n",
    "            s = f'{(patch.get_height()):1.0f}',\n",
    "            ha = 'left')\n",
    "plt.rc('font', size=11)\n",
    "plt.savefig('성별 이용량.png',bbox_inches='tight')"
   ]
  }
 ],
 "metadata": {
  "kernelspec": {
   "display_name": "Python 3 (ipykernel)",
   "language": "python",
   "name": "python3"
  },
  "language_info": {
   "codemirror_mode": {
    "name": "ipython",
    "version": 3
   },
   "file_extension": ".py",
   "mimetype": "text/x-python",
   "name": "python",
   "nbconvert_exporter": "python",
   "pygments_lexer": "ipython3",
   "version": "3.9.13"
  }
 },
 "nbformat": 4,
 "nbformat_minor": 5
}
