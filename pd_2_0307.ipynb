{
 "cells": [
  {
   "cell_type": "code",
   "execution_count": 169,
   "id": "20291996-1ee8-4c12-9fe7-8e04f99b5a28",
   "metadata": {},
   "outputs": [],
   "source": [
    "import pandas as pd\n",
    "import numpy as np"
   ]
  },
  {
   "cell_type": "code",
   "execution_count": 6,
   "id": "4e11c522-3be8-437f-9806-f79ef09d9279",
   "metadata": {},
   "outputs": [
    {
     "data": {
      "text/plain": [
       "0        0\n",
       "1        1\n",
       "2        2\n",
       "3        3\n",
       "4        4\n",
       "      ... \n",
       "495    495\n",
       "496    496\n",
       "497    497\n",
       "498    498\n",
       "499    499\n",
       "Length: 500, dtype: int64"
      ]
     },
     "execution_count": 6,
     "metadata": {},
     "output_type": "execute_result"
    }
   ],
   "source": [
    "# 500개의 값을 갖는 시리즈 생성\n",
    "nums = pd.Series(range(500))      # nums '...'이란 표시가 존재하고 값이 생략되었음을 의미\n",
    "nums"
   ]
  },
  {
   "cell_type": "code",
   "execution_count": 5,
   "id": "e75a2877-522c-4340-8fe4-fd00841a7496",
   "metadata": {},
   "outputs": [
    {
     "data": {
      "text/plain": [
       "0    0\n",
       "1    1\n",
       "2    2\n",
       "3    3\n",
       "4    4\n",
       "5    5\n",
       "6    6\n",
       "7    7\n",
       "8    8\n",
       "9    9\n",
       "dtype: int64"
      ]
     },
     "execution_count": 5,
     "metadata": {},
     "output_type": "execute_result"
    }
   ],
   "source": [
    "# 앞의 데이터를 추출해볼 때 사용할 수 있는 메서드 head()\n",
    "nums.head(10)                                     # 디폴트 값은 5"
   ]
  },
  {
   "cell_type": "code",
   "execution_count": 7,
   "id": "86bc99b1-3a2d-49d0-99b5-e289b358659e",
   "metadata": {},
   "outputs": [
    {
     "data": {
      "text/plain": [
       "490    490\n",
       "491    491\n",
       "492    492\n",
       "493    493\n",
       "494    494\n",
       "495    495\n",
       "496    496\n",
       "497    497\n",
       "498    498\n",
       "499    499\n",
       "dtype: int64"
      ]
     },
     "execution_count": 7,
     "metadata": {},
     "output_type": "execute_result"
    }
   ],
   "source": [
    "# 뒤에서부터 데이터를 추출 tail() 디폴트 값 5\n",
    "nums.tail(10)"
   ]
  },
  {
   "cell_type": "code",
   "execution_count": 9,
   "id": "fc1c0d48-3763-4d9c-855d-316eb9f1c83a",
   "metadata": {},
   "outputs": [
    {
     "data": {
      "text/plain": [
       "0    1.0\n",
       "1    2.0\n",
       "2    NaN\n",
       "3    4.0\n",
       "4    5.0\n",
       "dtype: float64"
      ]
     },
     "execution_count": 9,
     "metadata": {},
     "output_type": "execute_result"
    }
   ],
   "source": [
    "# Series 수학 연산   , np.nan의 데이터는 float형식\n",
    "nums = pd.Series([1, 2, np.nan, 4, 5])\n",
    "nums"
   ]
  },
  {
   "cell_type": "code",
   "execution_count": 10,
   "id": "e5f8cd50-e04e-467d-9d6a-3b43faccff86",
   "metadata": {},
   "outputs": [
    {
     "data": {
      "text/plain": [
       "0    h\n",
       "1    e\n",
       "2    l\n",
       "3    l\n",
       "4    o\n",
       "dtype: object"
      ]
     },
     "execution_count": 10,
     "metadata": {},
     "output_type": "execute_result"
    }
   ],
   "source": [
    "hello = pd.Series(list(\"hello\"))\n",
    "hello"
   ]
  },
  {
   "cell_type": "code",
   "execution_count": 12,
   "id": "ab37b21f-3784-45c3-a591-e53674d41f80",
   "metadata": {},
   "outputs": [
    {
     "data": {
      "text/plain": [
       "4"
      ]
     },
     "execution_count": 12,
     "metadata": {},
     "output_type": "execute_result"
    }
   ],
   "source": [
    "# nunique() 메서드는 고유한 값의 개수를 계산할 때 사용, 겹치는 값은 하나로 계산\n",
    "hello.nunique()                                            # 종류"
   ]
  },
  {
   "cell_type": "code",
   "execution_count": 13,
   "id": "cbe73735-cb53-4cb9-b9d2-00e271910c1f",
   "metadata": {},
   "outputs": [
    {
     "data": {
      "text/plain": [
       "4"
      ]
     },
     "execution_count": 13,
     "metadata": {},
     "output_type": "execute_result"
    }
   ],
   "source": [
    "# count() 메서드는 데이터의 개수를 계산 nan 값은 개수에 포함x\n",
    "nums.count()"
   ]
  },
  {
   "cell_type": "code",
   "execution_count": 15,
   "id": "666f1810-199d-47e1-9da9-da2259a50470",
   "metadata": {},
   "outputs": [
    {
     "data": {
      "text/plain": [
       "5"
      ]
     },
     "execution_count": 15,
     "metadata": {},
     "output_type": "execute_result"
    }
   ],
   "source": [
    "len(nums)   # len()은 nan값도 개수에 포함"
   ]
  },
  {
   "cell_type": "code",
   "execution_count": 16,
   "id": "4c7a1ef7-2413-441b-9a43-c979bdcf580b",
   "metadata": {},
   "outputs": [
    {
     "data": {
      "text/plain": [
       "12.0"
      ]
     },
     "execution_count": 16,
     "metadata": {},
     "output_type": "execute_result"
    }
   ],
   "source": [
    "nums.sum()"
   ]
  },
  {
   "cell_type": "code",
   "execution_count": 17,
   "id": "e7e2e01c-ed1b-4626-8fb9-ca2ee997ec30",
   "metadata": {},
   "outputs": [
    {
     "data": {
      "text/plain": [
       "nan"
      ]
     },
     "execution_count": 17,
     "metadata": {},
     "output_type": "execute_result"
    }
   ],
   "source": [
    "nums.sum(skipna=False)  # skipha 파라미터는 기본 값이 True이기 때문에 False 값을 주면 nan 출력"
   ]
  },
  {
   "cell_type": "code",
   "execution_count": 21,
   "id": "539cc488-37f8-4b64-a251-3f3b65efafa8",
   "metadata": {},
   "outputs": [
    {
     "data": {
      "text/plain": [
       "(3.0, 3.0, 1.8257418583505538)"
      ]
     },
     "execution_count": 21,
     "metadata": {},
     "output_type": "execute_result"
    }
   ],
   "source": [
    "nums.mean(), nums.median(), nums.std() # 평균 중앙값 분산값"
   ]
  },
  {
   "cell_type": "code",
   "execution_count": 22,
   "id": "f260ce5b-68d7-4ddc-a971-67db37d26352",
   "metadata": {},
   "outputs": [
    {
     "data": {
      "text/plain": [
       "(5.0, 1.0)"
      ]
     },
     "execution_count": 22,
     "metadata": {},
     "output_type": "execute_result"
    }
   ],
   "source": [
    "nums.max(), nums.min()   # 가장 큰 값, 가장 작은 값"
   ]
  },
  {
   "cell_type": "code",
   "execution_count": 27,
   "id": "1389230c-7761-4ac7-a1a0-4f6763955555",
   "metadata": {},
   "outputs": [
    {
     "data": {
      "text/plain": [
       "('c', 'A')"
      ]
     },
     "execution_count": 27,
     "metadata": {},
     "output_type": "execute_result"
    }
   ],
   "source": [
    "somechar = pd.Series(list(\"AaBbCc\")) # Series 값이 문자인 경우도 최대값과 최소값을 구할 수 있다.\n",
    "somechar\n",
    "somechar.max(), somechar.min()"
   ]
  },
  {
   "cell_type": "code",
   "execution_count": 30,
   "id": "c775751b-9015-4006-b12b-499a0d1bfa5d",
   "metadata": {},
   "outputs": [
    {
     "data": {
      "text/plain": [
       "(99, 97, 98)"
      ]
     },
     "execution_count": 30,
     "metadata": {},
     "output_type": "execute_result"
    }
   ],
   "source": [
    "# ord() 함수는 하나의 문자를 unicode 숫자로 변경 그 크기를 가지고 값 비교\n",
    "ord('c'), ord('a'), ord('b')"
   ]
  },
  {
   "cell_type": "code",
   "execution_count": 31,
   "id": "78a2be42-9e2f-4c4d-a55c-67ce1a0ac54e",
   "metadata": {},
   "outputs": [
    {
     "data": {
      "text/plain": [
       "count    4.000000\n",
       "mean     3.000000\n",
       "std      1.825742\n",
       "min      1.000000\n",
       "25%      1.750000\n",
       "50%      3.000000\n",
       "75%      4.250000\n",
       "max      5.000000\n",
       "dtype: float64"
      ]
     },
     "execution_count": 31,
     "metadata": {},
     "output_type": "execute_result"
    }
   ],
   "source": [
    "#count, mean, std, min ,25%, median, 75%, max에 대한 모든 통계를 구해줌: describe()메서드\n",
    "nums.describe()"
   ]
  },
  {
   "cell_type": "code",
   "execution_count": 33,
   "id": "080ac272-52be-4854-ad98-93586c88caf0",
   "metadata": {},
   "outputs": [
    {
     "data": {
      "text/plain": [
       "count     5\n",
       "unique    4\n",
       "top       l\n",
       "freq      2\n",
       "dtype: object"
      ]
     },
     "execution_count": 33,
     "metadata": {},
     "output_type": "execute_result"
    }
   ],
   "source": [
    "hello.describe()  # object값은 최빈 값 top, 최빈 값의 빈도 freq"
   ]
  },
  {
   "cell_type": "code",
   "execution_count": 34,
   "id": "90d0c7a6-e376-41a3-af7b-a66aa4c8f54e",
   "metadata": {},
   "outputs": [
    {
     "data": {
      "text/plain": [
       "0    1.0\n",
       "1    2.0\n",
       "2    NaN\n",
       "3    4.0\n",
       "4    5.0\n",
       "dtype: float64"
      ]
     },
     "execution_count": 34,
     "metadata": {},
     "output_type": "execute_result"
    }
   ],
   "source": [
    "# Series를 list와 dict로 바꾸기\n",
    "nums"
   ]
  },
  {
   "cell_type": "code",
   "execution_count": 37,
   "id": "8ed1d26b-b89a-4fb2-8c4c-387095ea5f70",
   "metadata": {},
   "outputs": [
    {
     "data": {
      "text/plain": [
       "[1.0, 2.0, nan, 4.0, 5.0]"
      ]
     },
     "execution_count": 37,
     "metadata": {},
     "output_type": "execute_result"
    }
   ],
   "source": [
    "list(nums)   #series의 객체를 list의 객체로 변경"
   ]
  },
  {
   "cell_type": "code",
   "execution_count": 36,
   "id": "5f17f14e-6be9-4637-9de3-55fd53024efd",
   "metadata": {},
   "outputs": [
    {
     "data": {
      "text/plain": [
       "{0: 1.0, 1: 2.0, 2: nan, 3: 4.0, 4: 5.0}"
      ]
     },
     "execution_count": 36,
     "metadata": {},
     "output_type": "execute_result"
    }
   ],
   "source": [
    "dict(nums) #index는 key가 되고 values는 values가 됨"
   ]
  },
  {
   "cell_type": "code",
   "execution_count": 40,
   "id": "9ded78a1-0188-41c9-bde2-a7ca06231cbb",
   "metadata": {},
   "outputs": [
    {
     "data": {
      "text/plain": [
       "Batman             100\n",
       "Superman           120\n",
       "Spider-Man          90\n",
       "Iron Man            95\n",
       "Captain America    110\n",
       "Wonder Woman       120\n",
       "dtype: int64"
      ]
     },
     "execution_count": 40,
     "metadata": {},
     "output_type": "execute_result"
    }
   ],
   "source": [
    "superheros = [\n",
    "    \"Batman\",\n",
    "    \"Superman\",\n",
    "    \"Spider-Man\",\n",
    "    \"Iron Man\",\n",
    "    \"Captain America\",\n",
    "    \"Wonder Woman\"\n",
    "]\n",
    "strength_levels = (100, 120, 90, 95, 110, 120)\n",
    "x = pd.Series(strength_levels,superheros)\n",
    "x"
   ]
  },
  {
   "cell_type": "code",
   "execution_count": 42,
   "id": "81e54b7c-f0cd-496c-bced-711284e3c638",
   "metadata": {},
   "outputs": [
    {
     "data": {
      "text/plain": [
       "Spider-Man          90\n",
       "Iron Man            95\n",
       "Captain America    110\n",
       "Wonder Woman       120\n",
       "dtype: int64"
      ]
     },
     "execution_count": 42,
     "metadata": {},
     "output_type": "execute_result"
    }
   ],
   "source": [
    "x.tail(4)"
   ]
  },
  {
   "cell_type": "code",
   "execution_count": 44,
   "id": "be6c8a0c-33e7-4ba4-a762-4404c7d9e6a0",
   "metadata": {},
   "outputs": [
    {
     "data": {
      "text/plain": [
       "Spider-Man          90\n",
       "Iron Man            95\n",
       "Captain America    110\n",
       "Wonder Woman       120\n",
       "dtype: int64"
      ]
     },
     "execution_count": 44,
     "metadata": {},
     "output_type": "execute_result"
    }
   ],
   "source": [
    "x[2:]"
   ]
  },
  {
   "cell_type": "code",
   "execution_count": 45,
   "id": "aa2ccda5-3f2f-4271-b1b5-3011ac445e19",
   "metadata": {},
   "outputs": [
    {
     "data": {
      "text/plain": [
       "5"
      ]
     },
     "execution_count": 45,
     "metadata": {},
     "output_type": "execute_result"
    }
   ],
   "source": [
    "x.nunique()"
   ]
  },
  {
   "cell_type": "code",
   "execution_count": 46,
   "id": "fede987e-284d-444e-8388-f0dad25ff0d5",
   "metadata": {},
   "outputs": [
    {
     "data": {
      "text/plain": [
       "count      6.000000\n",
       "mean     105.833333\n",
       "std       12.812754\n",
       "min       90.000000\n",
       "25%       96.250000\n",
       "50%      105.000000\n",
       "75%      117.500000\n",
       "max      120.000000\n",
       "dtype: float64"
      ]
     },
     "execution_count": 46,
     "metadata": {},
     "output_type": "execute_result"
    }
   ],
   "source": [
    "x.describe()"
   ]
  },
  {
   "cell_type": "code",
   "execution_count": 48,
   "id": "398eea89-0e6d-4891-8148-0e6e1dde8c55",
   "metadata": {},
   "outputs": [
    {
     "data": {
      "text/plain": [
       "(105.83333333333333, 105.0, 120, 90)"
      ]
     },
     "execution_count": 48,
     "metadata": {},
     "output_type": "execute_result"
    }
   ],
   "source": [
    "x.mean(), x.median(), x.max(), x.min()"
   ]
  },
  {
   "cell_type": "code",
   "execution_count": 49,
   "id": "20275a92-62bd-4540-adc7-753000a6578b",
   "metadata": {},
   "outputs": [
    {
     "data": {
      "text/plain": [
       "{'Batman': 100,\n",
       " 'Superman': 120,\n",
       " 'Spider-Man': 90,\n",
       " 'Iron Man': 95,\n",
       " 'Captain America': 110,\n",
       " 'Wonder Woman': 120}"
      ]
     },
     "execution_count": 49,
     "metadata": {},
     "output_type": "execute_result"
    }
   ],
   "source": [
    "dict(x)"
   ]
  },
  {
   "cell_type": "code",
   "execution_count": null,
   "id": "868274bb-6e55-423e-9307-28776e2d281c",
   "metadata": {},
   "outputs": [],
   "source": [
    "# pandas 데이터 입출력 : 데이터 파일을 읽어 Series 혹은 DataFrame을 만들 수 있다\n",
    "CSV(Comman Separated Value)포맷 입출력 : 콤마로 구분되는 텍스트파일"
   ]
  },
  {
   "cell_type": "code",
   "execution_count": 69,
   "id": "ef4060ee-c239-41cc-b4e3-338dc07e6a3c",
   "metadata": {},
   "outputs": [
    {
     "data": {
      "text/plain": [
       "Pokemon\n",
       "Bulbasaur      Grass / Poison\n",
       "Ivysaur        Grass / Poison\n",
       "Venusaur       Grass / Poison\n",
       "Charmander               Fire\n",
       "Charmeleon               Fire\n",
       "                    ...      \n",
       "Stakataka        Rock / Steel\n",
       "Blacephalon      Fire / Ghost\n",
       "Zeraora              Electric\n",
       "Meltan                  Steel\n",
       "Melmetal                Steel\n",
       "Name: Type, Length: 809, dtype: object"
      ]
     },
     "execution_count": 69,
     "metadata": {},
     "output_type": "execute_result"
    }
   ],
   "source": [
    "# squeeze 매개변수는 하나의 열을 갖는 DataFrame을 Series로 변환\n",
    "# index_col을 index로 사용하기 위해 column으로 지정\n",
    "import pandas as pd\n",
    "import numpy as np\n",
    "Pokemons = pd.read_csv(\"datas/pokemon.csv\", index_col=\"Pokemon\").squeeze(\"columns\")\n",
    "Pokemons"
   ]
  },
  {
   "cell_type": "code",
   "execution_count": 71,
   "id": "caaf6678-9896-4651-b140-036e23dbcbf8",
   "metadata": {},
   "outputs": [
    {
     "data": {
      "text/plain": [
       "count        809\n",
       "unique       159\n",
       "top       Normal\n",
       "freq          65\n",
       "Name: Type, dtype: object"
      ]
     },
     "execution_count": 71,
     "metadata": {},
     "output_type": "execute_result"
    }
   ],
   "source": [
    "Pokemons.describe()"
   ]
  },
  {
   "cell_type": "code",
   "execution_count": 72,
   "id": "fa2e4f8c-6675-4e6b-8fe9-5d62d1647709",
   "metadata": {},
   "outputs": [
    {
     "data": {
      "text/plain": [
       "Pokemon\n",
       "Illumise                Bug\n",
       "Silcoon                 Bug\n",
       "Pinsir                  Bug\n",
       "Burmy                   Bug\n",
       "Wurmple                 Bug\n",
       "                  ...      \n",
       "Tirtouga       Water / Rock\n",
       "Relicanth      Water / Rock\n",
       "Corsola        Water / Rock\n",
       "Carracosta     Water / Rock\n",
       "Empoleon      Water / Steel\n",
       "Name: Type, Length: 809, dtype: object"
      ]
     },
     "execution_count": 72,
     "metadata": {},
     "output_type": "execute_result"
    }
   ],
   "source": [
    "#Series의 값 정렬하기 : sort_values()메서드\n",
    "\n",
    "Pokemons.sort_values()"
   ]
  },
  {
   "cell_type": "code",
   "execution_count": 74,
   "id": "66e6c107-d60c-4012-84e2-13ed4767c1d3",
   "metadata": {},
   "outputs": [
    {
     "data": {
      "text/plain": [
       "Pokemon\n",
       "Empoleon      Water / Steel\n",
       "Corsola        Water / Rock\n",
       "Relicanth      Water / Rock\n",
       "Carracosta     Water / Rock\n",
       "Tirtouga       Water / Rock\n",
       "                  ...      \n",
       "Kricketune              Bug\n",
       "Cascoon                 Bug\n",
       "Scatterbug              Bug\n",
       "Kricketot               Bug\n",
       "Grubbin                 Bug\n",
       "Name: Type, Length: 809, dtype: object"
      ]
     },
     "execution_count": 74,
     "metadata": {},
     "output_type": "execute_result"
    }
   ],
   "source": [
    "#반대로 정렬하기  메서드에 키워드 인자 ascending에 값을 False로 전달한다.\n",
    "\n",
    "Pokemons.sort_values(ascending=False)"
   ]
  },
  {
   "cell_type": "code",
   "execution_count": 132,
   "id": "25d2320b-e3f4-425e-9ace-db34dd6282c0",
   "metadata": {},
   "outputs": [
    {
     "data": {
      "text/plain": [
       "Date\n",
       "2004-08-19      49.98\n",
       "2004-08-20      53.95\n",
       "2004-08-23      54.50\n",
       "2004-08-24      52.24\n",
       "2004-08-25      52.80\n",
       "               ...   \n",
       "2019-10-21    1246.15\n",
       "2019-10-22    1242.80\n",
       "2019-10-23    1259.13\n",
       "2019-10-24    1260.99\n",
       "2019-10-25    1265.13\n",
       "Name: Close, Length: 3824, dtype: float64"
      ]
     },
     "execution_count": 132,
     "metadata": {},
     "output_type": "execute_result"
    }
   ],
   "source": [
    "#parse_dates: 파싱할 데이터 바꿔줌?\n",
    "google = pd.read_csv(\"datas/google_stocks.csv\",\n",
    "                parse_dates=[\"Date\"],\n",
    "                index_col=\"Date\").squeeze(\"columns\")\n",
    "google"
   ]
  },
  {
   "cell_type": "code",
   "execution_count": 89,
   "id": "d81bb085-2756-4cc8-b871-18b5285f7756",
   "metadata": {},
   "outputs": [
    {
     "data": {
      "text/plain": [
       "Start Date\n",
       "1774-09-01    Massachusetts\n",
       "1774-12-14    New Hampshire\n",
       "1775-04-19    Massachusetts\n",
       "1775-04-19    Massachusetts\n",
       "1775-04-20         Virginia\n",
       "                  ...      \n",
       "1782-09-11         Virginia\n",
       "1782-09-13              NaN\n",
       "1782-10-18              NaN\n",
       "1782-12-06              NaN\n",
       "1783-01-22         Virginia\n",
       "Name: State, Length: 232, dtype: object"
      ]
     },
     "execution_count": 89,
     "metadata": {},
     "output_type": "execute_result"
    }
   ],
   "source": [
    "war = pd.read_csv(\"datas/revolutionary_war.csv\",\n",
    "                  parse_dates=[\"Start Date\"],\n",
    "                  index_col=\"Start Date\",\n",
    "                  usecols=[\"Start Date\",\"State\"]).squeeze(\"columns\")\n",
    "war"
   ]
  },
  {
   "cell_type": "code",
   "execution_count": 92,
   "id": "43e930b1-932e-41c3-a510-ae0cd441dd22",
   "metadata": {},
   "outputs": [
    {
     "data": {
      "text/plain": [
       "count                162\n",
       "unique                17\n",
       "top       South Carolina\n",
       "freq                  31\n",
       "Name: State, dtype: object"
      ]
     },
     "execution_count": 92,
     "metadata": {},
     "output_type": "execute_result"
    }
   ],
   "source": [
    "war.describe()"
   ]
  },
  {
   "cell_type": "code",
   "execution_count": 98,
   "id": "e2147a2f-6c0f-40b5-8558-07d58f0113b6",
   "metadata": {},
   "outputs": [
    {
     "data": {
      "text/plain": [
       "(70, 162, 17)"
      ]
     },
     "execution_count": 98,
     "metadata": {},
     "output_type": "execute_result"
    }
   ],
   "source": [
    "war.isnull().sum(), war.count(), war.nunique()"
   ]
  },
  {
   "cell_type": "code",
   "execution_count": 99,
   "id": "9f9de3a5-78fd-474a-ab1f-1bb59c7e7a92",
   "metadata": {},
   "outputs": [
    {
     "data": {
      "text/plain": [
       "162"
      ]
     },
     "execution_count": 99,
     "metadata": {},
     "output_type": "execute_result"
    }
   ],
   "source": [
    "war.notnull().sum()"
   ]
  },
  {
   "cell_type": "code",
   "execution_count": 100,
   "id": "80c35f62-dc11-4638-b8b6-242ef917a5b3",
   "metadata": {},
   "outputs": [
    {
     "data": {
      "text/plain": [
       "Start Date\n",
       "1775-09-17         NaN\n",
       "1775-12-31         NaN\n",
       "1776-03-03         NaN\n",
       "1776-03-25         NaN\n",
       "1776-05-18         NaN\n",
       "                ...   \n",
       "1781-07-06    Virginia\n",
       "1781-07-01    Virginia\n",
       "1781-06-26    Virginia\n",
       "1781-04-25    Virginia\n",
       "1783-01-22    Virginia\n",
       "Name: State, Length: 232, dtype: object"
      ]
     },
     "execution_count": 100,
     "metadata": {},
     "output_type": "execute_result"
    }
   ],
   "source": [
    "# sort_values에서 nan값을 정렬할때 키워드 인자 na_position=\"first\"를 쓴다\n",
    "\n",
    "war.sort_values(na_position=\"first\")"
   ]
  },
  {
   "cell_type": "code",
   "execution_count": 101,
   "id": "5ecd27c9-e921-459e-8978-46a0767e1e8c",
   "metadata": {},
   "outputs": [
    {
     "data": {
      "text/plain": [
       "Start Date\n",
       "1781-09-06    Connecticut\n",
       "1779-07-05    Connecticut\n",
       "1777-04-27    Connecticut\n",
       "1777-09-03       Delaware\n",
       "1777-05-17        Florida\n",
       "                 ...     \n",
       "1782-08-08            NaN\n",
       "1782-08-25            NaN\n",
       "1782-09-13            NaN\n",
       "1782-10-18            NaN\n",
       "1782-12-06            NaN\n",
       "Name: State, Length: 232, dtype: object"
      ]
     },
     "execution_count": 101,
     "metadata": {},
     "output_type": "execute_result"
    }
   ],
   "source": [
    "war.sort_values(na_position=\"last\")"
   ]
  },
  {
   "cell_type": "code",
   "execution_count": 102,
   "id": "2455fbbd-5725-45cc-af66-e020acf2a23d",
   "metadata": {},
   "outputs": [
    {
     "data": {
      "text/plain": [
       "Start Date\n",
       "1774-09-01     Massachusetts\n",
       "1774-12-14     New Hampshire\n",
       "1775-04-19     Massachusetts\n",
       "1775-04-19     Massachusetts\n",
       "1775-04-20          Virginia\n",
       "                   ...      \n",
       "1782-08-15          Virginia\n",
       "1782-08-19          Virginia\n",
       "1782-08-26    South Carolina\n",
       "1782-09-11          Virginia\n",
       "1783-01-22          Virginia\n",
       "Name: State, Length: 162, dtype: object"
      ]
     },
     "execution_count": 102,
     "metadata": {},
     "output_type": "execute_result"
    }
   ],
   "source": [
    "# Series의 값 중 nan 배제하기 : dropna()\n",
    "\n",
    "war.dropna()"
   ]
  },
  {
   "cell_type": "code",
   "execution_count": 106,
   "id": "e3bee584-cfb1-4cce-a71d-848f46d3ca63",
   "metadata": {},
   "outputs": [
    {
     "data": {
      "text/plain": [
       "Pokemon\n",
       "Abomasnow        Grass / Ice\n",
       "Abra                 Psychic\n",
       "Absol                   Dark\n",
       "Accelgor                 Bug\n",
       "Aegislash      Steel / Ghost\n",
       "                  ...       \n",
       "Zoroark                 Dark\n",
       "Zorua                   Dark\n",
       "Zubat        Poison / Flying\n",
       "Zweilous       Dark / Dragon\n",
       "Zygarde      Dragon / Ground\n",
       "Name: Type, Length: 809, dtype: object"
      ]
     },
     "execution_count": 106,
     "metadata": {},
     "output_type": "execute_result"
    }
   ],
   "source": [
    "# Series의 index를 기준으로 정렬\n",
    "\n",
    "Pokemons.sort_index(ascending=True)  # 큰거 부터 정렬"
   ]
  },
  {
   "cell_type": "code",
   "execution_count": 107,
   "id": "559b5703-a6a2-4ec0-b1fd-21e23eaec691",
   "metadata": {},
   "outputs": [
    {
     "data": {
      "text/plain": [
       "Pokemon\n",
       "Zygarde      Dragon / Ground\n",
       "Zweilous       Dark / Dragon\n",
       "Zubat        Poison / Flying\n",
       "Zorua                   Dark\n",
       "Zoroark                 Dark\n",
       "                  ...       \n",
       "Aegislash      Steel / Ghost\n",
       "Accelgor                 Bug\n",
       "Absol                   Dark\n",
       "Abra                 Psychic\n",
       "Abomasnow        Grass / Ice\n",
       "Name: Type, Length: 809, dtype: object"
      ]
     },
     "execution_count": 107,
     "metadata": {},
     "output_type": "execute_result"
    }
   ],
   "source": [
    "Pokemons.sort_index(ascending=False) # 작은거 부터 정렬"
   ]
  },
  {
   "cell_type": "code",
   "execution_count": 108,
   "id": "45358dad-8a65-40b0-8240-41de57bbcdaa",
   "metadata": {},
   "outputs": [
    {
     "data": {
      "text/plain": [
       "Start Date\n",
       "1774-09-01    Massachusetts\n",
       "1774-12-14    New Hampshire\n",
       "1775-04-19    Massachusetts\n",
       "1775-04-19    Massachusetts\n",
       "1775-04-20         Virginia\n",
       "                  ...      \n",
       "1783-01-22         Virginia\n",
       "NaT              New Jersey\n",
       "NaT                Virginia\n",
       "NaT                     NaN\n",
       "NaT                     NaN\n",
       "Name: State, Length: 232, dtype: object"
      ]
     },
     "execution_count": 108,
     "metadata": {},
     "output_type": "execute_result"
    }
   ],
   "source": [
    "war.sort_index() # NaT: float인 반면 NaT는 날짜/시간 유형의 데이터이다"
   ]
  },
  {
   "cell_type": "code",
   "execution_count": 109,
   "id": "2cec4b2f-f696-43f7-987d-754fe801e1ce",
   "metadata": {},
   "outputs": [
    {
     "data": {
      "text/plain": [
       "Start Date\n",
       "NaT              New Jersey\n",
       "NaT                Virginia\n",
       "NaT                     NaN\n",
       "NaT                     NaN\n",
       "1774-09-01    Massachusetts\n",
       "                  ...      \n",
       "1782-09-11         Virginia\n",
       "1782-09-13              NaN\n",
       "1782-10-18              NaN\n",
       "1782-12-06              NaN\n",
       "1783-01-22         Virginia\n",
       "Name: State, Length: 232, dtype: object"
      ]
     },
     "execution_count": 109,
     "metadata": {},
     "output_type": "execute_result"
    }
   ],
   "source": [
    "war.sort_index(na_position=\"first\")"
   ]
  },
  {
   "cell_type": "code",
   "execution_count": 110,
   "id": "36086779-c74b-4205-8fce-c1f3fdccf78b",
   "metadata": {},
   "outputs": [
    {
     "data": {
      "text/plain": [
       "Start Date\n",
       "1774-09-01    Massachusetts\n",
       "1774-12-14    New Hampshire\n",
       "1775-04-19    Massachusetts\n",
       "1775-04-19    Massachusetts\n",
       "1775-04-20         Virginia\n",
       "                  ...      \n",
       "1783-01-22         Virginia\n",
       "NaT              New Jersey\n",
       "NaT                Virginia\n",
       "NaT                     NaN\n",
       "NaT                     NaN\n",
       "Name: State, Length: 232, dtype: object"
      ]
     },
     "execution_count": 110,
     "metadata": {},
     "output_type": "execute_result"
    }
   ],
   "source": [
    "war.sort_index(na_position=\"last\")"
   ]
  },
  {
   "cell_type": "code",
   "execution_count": 111,
   "id": "128c958e-b326-425a-ad6d-3fc81ebb0f36",
   "metadata": {},
   "outputs": [
    {
     "data": {
      "text/plain": [
       "Start Date\n",
       "1774-09-01    Massachusetts\n",
       "1774-12-14    New Hampshire\n",
       "1775-04-19    Massachusetts\n",
       "1775-04-19    Massachusetts\n",
       "1775-04-19    Massachusetts\n",
       "                  ...      \n",
       "1782-09-11         Virginia\n",
       "1782-09-13              NaN\n",
       "1782-10-18              NaN\n",
       "1782-12-06              NaN\n",
       "1783-01-22         Virginia\n",
       "Name: State, Length: 250, dtype: object"
      ]
     },
     "execution_count": 111,
     "metadata": {},
     "output_type": "execute_result"
    }
   ],
   "source": [
    "# Series의 index에 NaT 배제\n",
    "\n",
    "war.loc[war.index.dropna()]   # dropna()를 쓰려면 index의 중복이 없어야 한다."
   ]
  },
  {
   "cell_type": "code",
   "execution_count": 112,
   "id": "a14bfd59-5086-4bf2-a062-a8487db8c713",
   "metadata": {},
   "outputs": [
    {
     "data": {
      "text/plain": [
       "Start Date\n",
       "1774-09-01    Massachusetts\n",
       "1774-12-14    New Hampshire\n",
       "1775-04-19    Massachusetts\n",
       "1775-04-19    Massachusetts\n",
       "1775-04-20         Virginia\n",
       "                  ...      \n",
       "1782-09-11         Virginia\n",
       "1782-09-13              NaN\n",
       "1782-10-18              NaN\n",
       "1782-12-06              NaN\n",
       "1783-01-22         Virginia\n",
       "Name: State, Length: 228, dtype: object"
      ]
     },
     "execution_count": 112,
     "metadata": {},
     "output_type": "execute_result"
    }
   ],
   "source": [
    "war.loc[war.index.notnull()]"
   ]
  },
  {
   "cell_type": "code",
   "execution_count": 126,
   "id": "38118a9e-75e1-4a98-8237-102613f6a2ae",
   "metadata": {},
   "outputs": [
    {
     "data": {
      "text/plain": [
       "Date\n",
       "2004-09-03      49.82\n",
       "2004-09-01      49.94\n",
       "2004-08-19      49.98\n",
       "2004-09-02      50.57\n",
       "2004-09-07      50.60\n",
       "               ...   \n",
       "2019-04-23    1264.55\n",
       "2019-10-25    1265.13\n",
       "2018-07-26    1268.33\n",
       "2019-04-26    1272.18\n",
       "2019-04-29    1287.58\n",
       "Name: Close, Length: 3824, dtype: float64"
      ]
     },
     "execution_count": 126,
     "metadata": {},
     "output_type": "execute_result"
    }
   ],
   "source": [
    "google.sort_values()"
   ]
  },
  {
   "cell_type": "code",
   "execution_count": 124,
   "id": "0fbf8eb0-039a-40f4-9622-e89ab8e2667e",
   "metadata": {},
   "outputs": [
    {
     "data": {
      "text/plain": [
       "Date\n",
       "2019-04-29    1287.58\n",
       "2019-04-26    1272.18\n",
       "2018-07-26    1268.33\n",
       "2019-10-25    1265.13\n",
       "2019-04-23    1264.55\n",
       "2018-07-25    1263.70\n",
       "2019-04-25    1263.45\n",
       "2019-10-24    1260.99\n",
       "2019-10-23    1259.13\n",
       "2019-04-24    1256.00\n",
       "Name: Close, dtype: float64"
      ]
     },
     "execution_count": 124,
     "metadata": {},
     "output_type": "execute_result"
    }
   ],
   "source": [
    "google.sort_values(ascending=False).head(10)"
   ]
  },
  {
   "cell_type": "code",
   "execution_count": 125,
   "id": "a350d41e-7aeb-4f93-a6f7-d9922bb3ffa2",
   "metadata": {},
   "outputs": [
    {
     "data": {
      "text/plain": [
       "Date\n",
       "2004-09-03    49.82\n",
       "2004-09-01    49.94\n",
       "2004-08-19    49.98\n",
       "2004-09-02    50.57\n",
       "2004-09-07    50.60\n",
       "2004-08-30    50.81\n",
       "2004-09-08    50.96\n",
       "2004-09-09    50.96\n",
       "2004-08-31    50.99\n",
       "2004-08-24    52.24\n",
       "Name: Close, dtype: float64"
      ]
     },
     "execution_count": 125,
     "metadata": {},
     "output_type": "execute_result"
    }
   ],
   "source": [
    "google.sort_values().head(10)"
   ]
  },
  {
   "cell_type": "code",
   "execution_count": 127,
   "id": "1534ad28-5560-4394-bbc5-0637af16b3eb",
   "metadata": {},
   "outputs": [
    {
     "data": {
      "text/plain": [
       "1781-04-25    2\n",
       "1781-05-22    2\n",
       "1780-08-18    2\n",
       "1781-09-13    2\n",
       "1782-03-16    2\n",
       "1780-05-25    2\n",
       "1778-09-07    2\n",
       "1782-01-11    2\n",
       "1777-08-22    2\n",
       "1775-04-19    2\n",
       "1781-04-15    2\n",
       "Name: Start Date, dtype: int64"
      ]
     },
     "execution_count": 127,
     "metadata": {},
     "output_type": "execute_result"
    }
   ],
   "source": [
    "war.index.value_counts()[:11]"
   ]
  },
  {
   "cell_type": "code",
   "execution_count": 134,
   "id": "10e4c4f6-44d0-4d42-a03d-3e88003a9440",
   "metadata": {},
   "outputs": [
    {
     "data": {
      "text/plain": [
       "Date\n",
       "2019-04-29    1287.58\n",
       "2019-04-26    1272.18\n",
       "2018-07-26    1268.33\n",
       "2019-10-25    1265.13\n",
       "2019-04-23    1264.55\n",
       "2018-07-25    1263.70\n",
       "2019-04-25    1263.45\n",
       "2019-10-24    1260.99\n",
       "2019-10-23    1259.13\n",
       "2019-04-24    1256.00\n",
       "Name: Close, dtype: float64"
      ]
     },
     "execution_count": 134,
     "metadata": {},
     "output_type": "execute_result"
    }
   ],
   "source": [
    "# 앞서 구한 값을 메서드로 구할 수 있다: nlargest()\n",
    "google.nlargest(10)"
   ]
  },
  {
   "cell_type": "code",
   "execution_count": 135,
   "id": "0007ef1c-be54-460d-bf3f-aa32d9767803",
   "metadata": {},
   "outputs": [
    {
     "data": {
      "text/plain": [
       "Date\n",
       "2004-09-03    49.82\n",
       "2004-09-01    49.94\n",
       "2004-08-19    49.98\n",
       "2004-09-02    50.57\n",
       "2004-09-07    50.60\n",
       "2004-08-30    50.81\n",
       "2004-09-08    50.96\n",
       "2004-09-09    50.96\n",
       "2004-08-31    50.99\n",
       "2004-08-24    52.24\n",
       "Name: Close, dtype: float64"
      ]
     },
     "execution_count": 135,
     "metadata": {},
     "output_type": "execute_result"
    }
   ],
   "source": [
    "google.nsmallest(10)"
   ]
  },
  {
   "cell_type": "code",
   "execution_count": 136,
   "id": "82a96a9d-4b77-4202-8411-c45f64b4143c",
   "metadata": {},
   "outputs": [
    {
     "data": {
      "text/plain": [
       "Normal                65\n",
       "Water                 61\n",
       "Grass                 38\n",
       "Psychic               35\n",
       "Fire                  30\n",
       "                      ..\n",
       "Fire / Psychic         1\n",
       "Normal / Ground        1\n",
       "Psychic / Fighting     1\n",
       "Dark / Ghost           1\n",
       "Fire / Ghost           1\n",
       "Name: Type, Length: 159, dtype: int64"
      ]
     },
     "execution_count": 136,
     "metadata": {},
     "output_type": "execute_result"
    }
   ],
   "source": [
    "# Series value_counts()메서드 :  데이터의 고유한 값의 빈도를 볼 때 활용\n",
    "Pokemons.value_counts()"
   ]
  },
  {
   "cell_type": "code",
   "execution_count": 137,
   "id": "f0b9a78f-e432-4818-b6de-4a66c9be7a79",
   "metadata": {},
   "outputs": [
    {
     "data": {
      "text/plain": [
       "count    3824.000000\n",
       "mean      479.945860\n",
       "std       328.528592\n",
       "min        49.820000\n",
       "25%       235.860000\n",
       "50%       314.680000\n",
       "75%       708.205000\n",
       "max      1287.580000\n",
       "Name: Close, dtype: float64"
      ]
     },
     "execution_count": 137,
     "metadata": {},
     "output_type": "execute_result"
    }
   ],
   "source": [
    "google.describe()"
   ]
  },
  {
   "cell_type": "code",
   "execution_count": 138,
   "id": "13465f5b-fb5e-4c7b-a201-8fd9f6cb9ebe",
   "metadata": {},
   "outputs": [
    {
     "data": {
      "text/plain": [
       "array([   0.,  200.,  400.,  600.,  800., 1000., 1200., 1400.])"
      ]
     },
     "execution_count": 138,
     "metadata": {},
     "output_type": "execute_result"
    }
   ],
   "source": [
    "bins = np.linspace(0,1400,8)\n",
    "bins"
   ]
  },
  {
   "cell_type": "code",
   "execution_count": 139,
   "id": "2ab41581-8026-4984-b5bc-ab3f82c3c02a",
   "metadata": {},
   "outputs": [
    {
     "data": {
      "text/plain": [
       "(200.0, 400.0]      1568\n",
       "(-0.001, 200.0]      595\n",
       "(400.0, 600.0]       575\n",
       "(1000.0, 1200.0]     406\n",
       "(600.0, 800.0]       380\n",
       "(800.0, 1000.0]      207\n",
       "(1200.0, 1400.0]      93\n",
       "Name: Close, dtype: int64"
      ]
     },
     "execution_count": 139,
     "metadata": {},
     "output_type": "execute_result"
    }
   ],
   "source": [
    "google.value_counts(bins=bins) \n",
    "# Series에 대해서 범주를 나눠 값의 빈도를 확인할 수 있다\n",
    "# bins인수에 값의 구간을 갖는 리스트를 넘겨주면 된다. \n",
    "# 리스트의 모든 인접한 쌍을 각구간의 하한, 상한값으로 사용"
   ]
  },
  {
   "cell_type": "code",
   "execution_count": 151,
   "id": "85d2ae4f-aa91-460d-9ad3-b01c84ec9b70",
   "metadata": {},
   "outputs": [
    {
     "data": {
      "text/plain": [
       "array([   0.,  200.,  400.,  600.,  800., 1000., 1200., 1400.])"
      ]
     },
     "execution_count": 151,
     "metadata": {},
     "output_type": "execute_result"
    }
   ],
   "source": [
    "bins = np.linspace(0,1400,8)\n",
    "bins"
   ]
  },
  {
   "cell_type": "code",
   "execution_count": 152,
   "id": "8834dc3c-51b2-4da6-8cc8-37977e86d1f7",
   "metadata": {},
   "outputs": [
    {
     "data": {
      "text/plain": [
       "(-0.001, 200.0]      595\n",
       "(200.0, 400.0]      1568\n",
       "(400.0, 600.0]       575\n",
       "(600.0, 800.0]       380\n",
       "(800.0, 1000.0]      207\n",
       "(1000.0, 1200.0]     406\n",
       "(1200.0, 1400.0]      93\n",
       "Name: Close, dtype: int64"
      ]
     },
     "execution_count": 152,
     "metadata": {},
     "output_type": "execute_result"
    }
   ],
   "source": [
    "google.value_counts(bins=bins).sort_index()"
   ]
  },
  {
   "cell_type": "code",
   "execution_count": 155,
   "id": "45683ebd-091a-4085-b366-7d4fd855fcf6",
   "metadata": {},
   "outputs": [
    {
     "data": {
      "text/plain": [
       "(48.581, 204.54]       651\n",
       "(204.54, 359.26]      1435\n",
       "(359.26, 513.98]       263\n",
       "(513.98, 668.7]        466\n",
       "(668.7, 823.42]        334\n",
       "(823.42, 978.14]       161\n",
       "(978.14, 1132.86]      283\n",
       "(1132.86, 1287.58]     231\n",
       "Name: Close, dtype: int64"
      ]
     },
     "execution_count": 155,
     "metadata": {},
     "output_type": "execute_result"
    }
   ],
   "source": [
    "# 범주를 정수로 전달하면 그 정수만큼 알아서 구간을 나눕니다.\n",
    "google.value_counts(bins=8, sort=False)"
   ]
  },
  {
   "cell_type": "code",
   "execution_count": 158,
   "id": "952c76f3-5135-4863-8247-f0407a8e88f3",
   "metadata": {},
   "outputs": [
    {
     "data": {
      "text/html": [
       "<div>\n",
       "<style scoped>\n",
       "    .dataframe tbody tr th:only-of-type {\n",
       "        vertical-align: middle;\n",
       "    }\n",
       "\n",
       "    .dataframe tbody tr th {\n",
       "        vertical-align: top;\n",
       "    }\n",
       "\n",
       "    .dataframe thead th {\n",
       "        text-align: right;\n",
       "    }\n",
       "</style>\n",
       "<table border=\"1\" class=\"dataframe\">\n",
       "  <thead>\n",
       "    <tr style=\"text-align: right;\">\n",
       "      <th></th>\n",
       "      <th>c1</th>\n",
       "      <th>c2</th>\n",
       "      <th>c3</th>\n",
       "    </tr>\n",
       "  </thead>\n",
       "  <tbody>\n",
       "    <tr>\n",
       "      <th>0</th>\n",
       "      <td>1</td>\n",
       "      <td>1.11</td>\n",
       "      <td>one</td>\n",
       "    </tr>\n",
       "    <tr>\n",
       "      <th>1</th>\n",
       "      <td>2</td>\n",
       "      <td></td>\n",
       "      <td>two</td>\n",
       "    </tr>\n",
       "    <tr>\n",
       "      <th>2</th>\n",
       "      <td>누락</td>\n",
       "      <td>3.33</td>\n",
       "      <td>three</td>\n",
       "    </tr>\n",
       "  </tbody>\n",
       "</table>\n",
       "</div>"
      ],
      "text/plain": [
       "   c1    c2     c3\n",
       "0   1  1.11    one\n",
       "1   2          two\n",
       "2  누락  3.33  three"
      ]
     },
     "execution_count": 158,
     "metadata": {},
     "output_type": "execute_result"
    }
   ],
   "source": [
    "data={\n",
    "    'c1' : [1,2,'누락'],\n",
    "    'c2' : [1.11,'',3.33],\n",
    "    'c3' : ['one','two','three']\n",
    "}\n",
    "x = pd.DataFrame(data)\n",
    "x"
   ]
  },
  {
   "cell_type": "code",
   "execution_count": 165,
   "id": "53a673d9-0bc3-4f16-997b-eed71022cc13",
   "metadata": {},
   "outputs": [],
   "source": [
    "# pandas 데이터 csv로 출력하기 : 데이터를 csv파일로 출력할 땐 to_csv()메서드를 활용\n",
    "\n",
    "x.to_csv(\"datas/sample1.csv\", index=False)"
   ]
  },
  {
   "cell_type": "code",
   "execution_count": 166,
   "id": "d57c5809-5cbd-44aa-acd0-2732b1886b82",
   "metadata": {},
   "outputs": [
    {
     "data": {
      "text/plain": [
       "'C:\\\\python'"
      ]
     },
     "execution_count": 166,
     "metadata": {},
     "output_type": "execute_result"
    }
   ],
   "source": [
    "%pwd"
   ]
  },
  {
   "cell_type": "code",
   "execution_count": 167,
   "id": "d01e7310-bc28-48bf-8bff-b11791383446",
   "metadata": {},
   "outputs": [
    {
     "name": "stdout",
     "output_type": "stream",
     "text": [
      "C:\\python\\datas\n"
     ]
    }
   ],
   "source": [
    "%cd C:\\\\python\\\\datas"
   ]
  },
  {
   "cell_type": "code",
   "execution_count": null,
   "id": "4c91a5d2-2fa4-4b80-8edf-2d44e479b2ca",
   "metadata": {},
   "outputs": [],
   "source": [
    "#pandas csv로부터 데이터 입력하기\n",
    "pd.read_csv()   # ,*,옆으로 오는 것은 키워드로 쓰는 것"
   ]
  },
  {
   "cell_type": "code",
   "execution_count": 173,
   "id": "61920b8d-4ec1-45a5-a5c8-c382750bdf18",
   "metadata": {},
   "outputs": [
    {
     "data": {
      "text/html": [
       "<div>\n",
       "<style scoped>\n",
       "    .dataframe tbody tr th:only-of-type {\n",
       "        vertical-align: middle;\n",
       "    }\n",
       "\n",
       "    .dataframe tbody tr th {\n",
       "        vertical-align: top;\n",
       "    }\n",
       "\n",
       "    .dataframe thead th {\n",
       "        text-align: right;\n",
       "    }\n",
       "</style>\n",
       "<table border=\"1\" class=\"dataframe\">\n",
       "  <thead>\n",
       "    <tr style=\"text-align: right;\">\n",
       "      <th></th>\n",
       "      <th>c1</th>\n",
       "      <th>c2</th>\n",
       "      <th>c3</th>\n",
       "    </tr>\n",
       "  </thead>\n",
       "  <tbody>\n",
       "    <tr>\n",
       "      <th>0</th>\n",
       "      <td>1</td>\n",
       "      <td>1.11</td>\n",
       "      <td>one</td>\n",
       "    </tr>\n",
       "    <tr>\n",
       "      <th>1</th>\n",
       "      <td>2</td>\n",
       "      <td>NaN</td>\n",
       "      <td>two</td>\n",
       "    </tr>\n",
       "    <tr>\n",
       "      <th>2</th>\n",
       "      <td>누락</td>\n",
       "      <td>3.33</td>\n",
       "      <td>three</td>\n",
       "    </tr>\n",
       "  </tbody>\n",
       "</table>\n",
       "</div>"
      ],
      "text/plain": [
       "   c1    c2     c3\n",
       "0   1  1.11    one\n",
       "1   2   NaN    two\n",
       "2  누락  3.33  three"
      ]
     },
     "execution_count": 173,
     "metadata": {},
     "output_type": "execute_result"
    }
   ],
   "source": [
    "df_read = pd.read_csv(\"sample1.csv\")\n",
    "df_read  # row 인덱스 정보가 없으므로 0부터 함"
   ]
  },
  {
   "cell_type": "code",
   "execution_count": 178,
   "id": "b60944e1-8f98-439c-bb9e-530c94fa4cc3",
   "metadata": {},
   "outputs": [
    {
     "data": {
      "text/plain": [
       "'C:\\\\python\\\\datas'"
      ]
     },
     "execution_count": 178,
     "metadata": {},
     "output_type": "execute_result"
    }
   ],
   "source": [
    "%pwd"
   ]
  },
  {
   "cell_type": "code",
   "execution_count": 176,
   "id": "c008bd52-0fd1-44be-8249-83367133c40e",
   "metadata": {},
   "outputs": [
    {
     "name": "stdout",
     "output_type": "stream",
     "text": [
      "C:\\Users\\jaehee\n"
     ]
    }
   ],
   "source": [
    "%cd"
   ]
  },
  {
   "cell_type": "code",
   "execution_count": 183,
   "id": "96257d8e-9596-4ca9-94ec-e3bd8d8241eb",
   "metadata": {},
   "outputs": [
    {
     "data": {
      "text/plain": [
       "'C:\\\\python\\\\datas'"
      ]
     },
     "execution_count": 183,
     "metadata": {},
     "output_type": "execute_result"
    }
   ],
   "source": [
    "%pwd"
   ]
  },
  {
   "cell_type": "code",
   "execution_count": 184,
   "id": "8ccdaf4c-c6d1-49e0-b90c-1732aca2063b",
   "metadata": {},
   "outputs": [],
   "source": [
    "# Pandas 데이터 csv로 출력하기\n",
    "# column 인덱스를 배제하고 저장\n",
    "\n",
    "x.to_csv(\"sample2.csv\",index=False, header=False)"
   ]
  },
  {
   "cell_type": "code",
   "execution_count": 186,
   "id": "43bfa35b-a6b7-4215-a015-c2f81107a3ea",
   "metadata": {},
   "outputs": [
    {
     "data": {
      "text/html": [
       "<div>\n",
       "<style scoped>\n",
       "    .dataframe tbody tr th:only-of-type {\n",
       "        vertical-align: middle;\n",
       "    }\n",
       "\n",
       "    .dataframe tbody tr th {\n",
       "        vertical-align: top;\n",
       "    }\n",
       "\n",
       "    .dataframe thead th {\n",
       "        text-align: right;\n",
       "    }\n",
       "</style>\n",
       "<table border=\"1\" class=\"dataframe\">\n",
       "  <thead>\n",
       "    <tr style=\"text-align: right;\">\n",
       "      <th></th>\n",
       "      <th>c1</th>\n",
       "      <th>c2</th>\n",
       "      <th>c3</th>\n",
       "    </tr>\n",
       "  </thead>\n",
       "  <tbody>\n",
       "    <tr>\n",
       "      <th>0</th>\n",
       "      <td>1</td>\n",
       "      <td>1.11</td>\n",
       "      <td>one</td>\n",
       "    </tr>\n",
       "    <tr>\n",
       "      <th>1</th>\n",
       "      <td>2</td>\n",
       "      <td>NaN</td>\n",
       "      <td>two</td>\n",
       "    </tr>\n",
       "    <tr>\n",
       "      <th>2</th>\n",
       "      <td>누락</td>\n",
       "      <td>3.33</td>\n",
       "      <td>three</td>\n",
       "    </tr>\n",
       "  </tbody>\n",
       "</table>\n",
       "</div>"
      ],
      "text/plain": [
       "   c1    c2     c3\n",
       "0   1  1.11    one\n",
       "1   2   NaN    two\n",
       "2  누락  3.33  three"
      ]
     },
     "execution_count": 186,
     "metadata": {},
     "output_type": "execute_result"
    }
   ],
   "source": [
    "d=pd.read_csv('sample2.csv', names=['c1','c2','c3'])\n",
    "d    #columns index가 없을때는 name 키워드 인자를 사용하여 사용"
   ]
  },
  {
   "cell_type": "code",
   "execution_count": 187,
   "id": "623f96cb-9a83-4cea-b71d-7f0f54f838dc",
   "metadata": {},
   "outputs": [
    {
     "name": "stdout",
     "output_type": "stream",
     "text": [
      "Writing sample3.txt\n"
     ]
    }
   ],
   "source": [
    "%%writefile sample3.txt      # 매직 명령어인 %%writefile 파일명 을 사용하여 저장할 수 있다.\n",
    "c1        c2        c3        c4\n",
    "0.179181 -1.538472  1.347553  0.43381\n",
    "1.024209  0.087307 -1.281997  0.49265\n",
    "0.417899 -2.002308  0.255245 -1.10515"
   ]
  },
  {
   "cell_type": "code",
   "execution_count": 188,
   "id": "027368ae-7478-4e6b-8089-95acfae80b93",
   "metadata": {},
   "outputs": [
    {
     "data": {
      "text/html": [
       "<div>\n",
       "<style scoped>\n",
       "    .dataframe tbody tr th:only-of-type {\n",
       "        vertical-align: middle;\n",
       "    }\n",
       "\n",
       "    .dataframe tbody tr th {\n",
       "        vertical-align: top;\n",
       "    }\n",
       "\n",
       "    .dataframe thead th {\n",
       "        text-align: right;\n",
       "    }\n",
       "</style>\n",
       "<table border=\"1\" class=\"dataframe\">\n",
       "  <thead>\n",
       "    <tr style=\"text-align: right;\">\n",
       "      <th></th>\n",
       "      <th>c1</th>\n",
       "      <th>c2</th>\n",
       "      <th>c3</th>\n",
       "      <th>c4</th>\n",
       "    </tr>\n",
       "  </thead>\n",
       "  <tbody>\n",
       "    <tr>\n",
       "      <th>0</th>\n",
       "      <td>0.179181</td>\n",
       "      <td>-1.538472</td>\n",
       "      <td>1.347553</td>\n",
       "      <td>0.43381</td>\n",
       "    </tr>\n",
       "    <tr>\n",
       "      <th>1</th>\n",
       "      <td>1.024209</td>\n",
       "      <td>0.087307</td>\n",
       "      <td>-1.281997</td>\n",
       "      <td>0.49265</td>\n",
       "    </tr>\n",
       "    <tr>\n",
       "      <th>2</th>\n",
       "      <td>0.417899</td>\n",
       "      <td>-2.002308</td>\n",
       "      <td>0.255245</td>\n",
       "      <td>-1.10515</td>\n",
       "    </tr>\n",
       "  </tbody>\n",
       "</table>\n",
       "</div>"
      ],
      "text/plain": [
       "         c1        c2        c3       c4\n",
       "0  0.179181 -1.538472  1.347553  0.43381\n",
       "1  1.024209  0.087307 -1.281997  0.49265\n",
       "2  0.417899 -2.002308  0.255245 -1.10515"
      ]
     },
     "execution_count": 188,
     "metadata": {},
     "output_type": "execute_result"
    }
   ],
   "source": [
    "a = pd.read_table('sample3.txt', sep = '\\s+')\n",
    "a    # 데이터를 구분하는 구분자가 콤마가 아니면 sep인수를 써서 구분자를 사용자가 지정해줘야 한다.\n",
    "     # 길이가 정해지지 않은 공백이 구분자인 경우에 '\\s+'정규식 문자열을 사용합니다."
   ]
  },
  {
   "cell_type": "code",
   "execution_count": 189,
   "id": "6ac870e3-78d5-4736-8f82-75ed0ce1356f",
   "metadata": {},
   "outputs": [
    {
     "name": "stdout",
     "output_type": "stream",
     "text": [
      "Writing sample4.txt\n"
     ]
    }
   ],
   "source": [
    "%%writefile sample4.txt\n",
    "파일 제목: sample4.txt\n",
    "데이터 포맷의 설명:\n",
    "c1, c2, c3\n",
    "1, 1.11, one\n",
    "2, 2.22, two\n",
    "3, 3.33, three"
   ]
  },
  {
   "cell_type": "code",
   "execution_count": 190,
   "id": "3f990862-b722-4544-bd82-0bb08c837fe7",
   "metadata": {},
   "outputs": [
    {
     "data": {
      "text/html": [
       "<div>\n",
       "<style scoped>\n",
       "    .dataframe tbody tr th:only-of-type {\n",
       "        vertical-align: middle;\n",
       "    }\n",
       "\n",
       "    .dataframe tbody tr th {\n",
       "        vertical-align: top;\n",
       "    }\n",
       "\n",
       "    .dataframe thead th {\n",
       "        text-align: right;\n",
       "    }\n",
       "</style>\n",
       "<table border=\"1\" class=\"dataframe\">\n",
       "  <thead>\n",
       "    <tr style=\"text-align: right;\">\n",
       "      <th></th>\n",
       "      <th>c1, c2, c3</th>\n",
       "    </tr>\n",
       "  </thead>\n",
       "  <tbody>\n",
       "    <tr>\n",
       "      <th>0</th>\n",
       "      <td>1, 1.11, one</td>\n",
       "    </tr>\n",
       "    <tr>\n",
       "      <th>1</th>\n",
       "      <td>2, 2.22, two</td>\n",
       "    </tr>\n",
       "    <tr>\n",
       "      <th>2</th>\n",
       "      <td>3, 3.33, three</td>\n",
       "    </tr>\n",
       "  </tbody>\n",
       "</table>\n",
       "</div>"
      ],
      "text/plain": [
       "       c1, c2, c3\n",
       "0    1, 1.11, one\n",
       "1    2, 2.22, two\n",
       "2  3, 3.33, three"
      ]
     },
     "execution_count": 190,
     "metadata": {},
     "output_type": "execute_result"
    }
   ],
   "source": [
    "b = pd.read_table('sample4.txt', skiprows=[0,1])\n",
    "b      # 데이터를 불러올 자료 중에 건너 뛰어야 할 상단 행이 있으면 skiprows을 사용"
   ]
  },
  {
   "cell_type": "code",
   "execution_count": 192,
   "id": "415e95b3-bab1-4bf6-a421-996cb3b9c58a",
   "metadata": {},
   "outputs": [
    {
     "data": {
      "text/html": [
       "<div>\n",
       "<style scoped>\n",
       "    .dataframe tbody tr th:only-of-type {\n",
       "        vertical-align: middle;\n",
       "    }\n",
       "\n",
       "    .dataframe tbody tr th {\n",
       "        vertical-align: top;\n",
       "    }\n",
       "\n",
       "    .dataframe thead th {\n",
       "        text-align: right;\n",
       "    }\n",
       "</style>\n",
       "<table border=\"1\" class=\"dataframe\">\n",
       "  <thead>\n",
       "    <tr style=\"text-align: right;\">\n",
       "      <th></th>\n",
       "      <th>c1, c2, c3</th>\n",
       "    </tr>\n",
       "  </thead>\n",
       "  <tbody>\n",
       "    <tr>\n",
       "      <th>0</th>\n",
       "      <td>1, 1.11, one</td>\n",
       "    </tr>\n",
       "    <tr>\n",
       "      <th>1</th>\n",
       "      <td>2, 2.22, two</td>\n",
       "    </tr>\n",
       "    <tr>\n",
       "      <th>2</th>\n",
       "      <td>3, 3.33, three</td>\n",
       "    </tr>\n",
       "  </tbody>\n",
       "</table>\n",
       "</div>"
      ],
      "text/plain": [
       "       c1, c2, c3\n",
       "0    1, 1.11, one\n",
       "1    2, 2.22, two\n",
       "2  3, 3.33, three"
      ]
     },
     "execution_count": 192,
     "metadata": {},
     "output_type": "execute_result"
    }
   ],
   "source": [
    "c = pd.read_table('sample4.txt', skiprows=range(2))\n",
    "c"
   ]
  },
  {
   "cell_type": "code",
   "execution_count": null,
   "id": "7d35942f-5859-4251-b4ec-6305a9e230ab",
   "metadata": {},
   "outputs": [],
   "source": [
    "# 데이터로 불러올 자료 안 특정한 값을 NaN으로 \n",
    "# 취급하고 싶다면 na_values인수에 NaN 값으로 취급할 값을 넣는다."
   ]
  },
  {
   "cell_type": "code",
   "execution_count": 194,
   "id": "74cb0d8f-7415-48df-9faf-e551c91cfdc6",
   "metadata": {},
   "outputs": [
    {
     "data": {
      "text/html": [
       "<div>\n",
       "<style scoped>\n",
       "    .dataframe tbody tr th:only-of-type {\n",
       "        vertical-align: middle;\n",
       "    }\n",
       "\n",
       "    .dataframe tbody tr th {\n",
       "        vertical-align: top;\n",
       "    }\n",
       "\n",
       "    .dataframe thead th {\n",
       "        text-align: right;\n",
       "    }\n",
       "</style>\n",
       "<table border=\"1\" class=\"dataframe\">\n",
       "  <thead>\n",
       "    <tr style=\"text-align: right;\">\n",
       "      <th></th>\n",
       "      <th>c1</th>\n",
       "      <th>c2</th>\n",
       "      <th>c3</th>\n",
       "    </tr>\n",
       "  </thead>\n",
       "  <tbody>\n",
       "    <tr>\n",
       "      <th>0</th>\n",
       "      <td>1.0</td>\n",
       "      <td>1.11</td>\n",
       "      <td>one</td>\n",
       "    </tr>\n",
       "    <tr>\n",
       "      <th>1</th>\n",
       "      <td>2.0</td>\n",
       "      <td>NaN</td>\n",
       "      <td>two</td>\n",
       "    </tr>\n",
       "    <tr>\n",
       "      <th>2</th>\n",
       "      <td>NaN</td>\n",
       "      <td>3.33</td>\n",
       "      <td>three</td>\n",
       "    </tr>\n",
       "  </tbody>\n",
       "</table>\n",
       "</div>"
      ],
      "text/plain": [
       "    c1    c2     c3\n",
       "0  1.0  1.11    one\n",
       "1  2.0   NaN    two\n",
       "2  NaN  3.33  three"
      ]
     },
     "execution_count": 194,
     "metadata": {},
     "output_type": "execute_result"
    }
   ],
   "source": [
    "df_na_val = pd.read_csv('sample1.csv', na_values=['누락'])\n",
    "df_na_val"
   ]
  },
  {
   "cell_type": "code",
   "execution_count": 195,
   "id": "5fc0e557-a913-4938-bdcc-1c2742d0cc4b",
   "metadata": {},
   "outputs": [],
   "source": [
    "df_na_val.to_csv('sample5.txt',sep='|')"
   ]
  },
  {
   "cell_type": "code",
   "execution_count": 196,
   "id": "a77fadfe-1bc0-460f-b750-4e5aa806ce74",
   "metadata": {},
   "outputs": [],
   "source": [
    "df_na_val.to_csv('sample6.csv', na_rep=\"누락\")"
   ]
  },
  {
   "cell_type": "code",
   "execution_count": 197,
   "id": "74d40f63-4ca3-4570-85bd-02c7bc8fa154",
   "metadata": {},
   "outputs": [],
   "source": [
    "titanic = pd.read_csv(\"https://storage.googleapis.com/tf-datasets/titanic/train.csv\")"
   ]
  },
  {
   "cell_type": "code",
   "execution_count": 198,
   "id": "a9368c18-f69c-4efa-819f-64f26de794d0",
   "metadata": {},
   "outputs": [
    {
     "data": {
      "text/html": [
       "<div>\n",
       "<style scoped>\n",
       "    .dataframe tbody tr th:only-of-type {\n",
       "        vertical-align: middle;\n",
       "    }\n",
       "\n",
       "    .dataframe tbody tr th {\n",
       "        vertical-align: top;\n",
       "    }\n",
       "\n",
       "    .dataframe thead th {\n",
       "        text-align: right;\n",
       "    }\n",
       "</style>\n",
       "<table border=\"1\" class=\"dataframe\">\n",
       "  <thead>\n",
       "    <tr style=\"text-align: right;\">\n",
       "      <th></th>\n",
       "      <th>survived</th>\n",
       "      <th>sex</th>\n",
       "      <th>age</th>\n",
       "      <th>n_siblings_spouses</th>\n",
       "      <th>parch</th>\n",
       "      <th>fare</th>\n",
       "      <th>class</th>\n",
       "      <th>deck</th>\n",
       "      <th>embark_town</th>\n",
       "      <th>alone</th>\n",
       "    </tr>\n",
       "  </thead>\n",
       "  <tbody>\n",
       "    <tr>\n",
       "      <th>0</th>\n",
       "      <td>0</td>\n",
       "      <td>male</td>\n",
       "      <td>22.0</td>\n",
       "      <td>1</td>\n",
       "      <td>0</td>\n",
       "      <td>7.2500</td>\n",
       "      <td>Third</td>\n",
       "      <td>unknown</td>\n",
       "      <td>Southampton</td>\n",
       "      <td>n</td>\n",
       "    </tr>\n",
       "    <tr>\n",
       "      <th>1</th>\n",
       "      <td>1</td>\n",
       "      <td>female</td>\n",
       "      <td>38.0</td>\n",
       "      <td>1</td>\n",
       "      <td>0</td>\n",
       "      <td>71.2833</td>\n",
       "      <td>First</td>\n",
       "      <td>C</td>\n",
       "      <td>Cherbourg</td>\n",
       "      <td>n</td>\n",
       "    </tr>\n",
       "    <tr>\n",
       "      <th>2</th>\n",
       "      <td>1</td>\n",
       "      <td>female</td>\n",
       "      <td>26.0</td>\n",
       "      <td>0</td>\n",
       "      <td>0</td>\n",
       "      <td>7.9250</td>\n",
       "      <td>Third</td>\n",
       "      <td>unknown</td>\n",
       "      <td>Southampton</td>\n",
       "      <td>y</td>\n",
       "    </tr>\n",
       "    <tr>\n",
       "      <th>3</th>\n",
       "      <td>1</td>\n",
       "      <td>female</td>\n",
       "      <td>35.0</td>\n",
       "      <td>1</td>\n",
       "      <td>0</td>\n",
       "      <td>53.1000</td>\n",
       "      <td>First</td>\n",
       "      <td>C</td>\n",
       "      <td>Southampton</td>\n",
       "      <td>n</td>\n",
       "    </tr>\n",
       "    <tr>\n",
       "      <th>4</th>\n",
       "      <td>0</td>\n",
       "      <td>male</td>\n",
       "      <td>28.0</td>\n",
       "      <td>0</td>\n",
       "      <td>0</td>\n",
       "      <td>8.4583</td>\n",
       "      <td>Third</td>\n",
       "      <td>unknown</td>\n",
       "      <td>Queenstown</td>\n",
       "      <td>y</td>\n",
       "    </tr>\n",
       "    <tr>\n",
       "      <th>...</th>\n",
       "      <td>...</td>\n",
       "      <td>...</td>\n",
       "      <td>...</td>\n",
       "      <td>...</td>\n",
       "      <td>...</td>\n",
       "      <td>...</td>\n",
       "      <td>...</td>\n",
       "      <td>...</td>\n",
       "      <td>...</td>\n",
       "      <td>...</td>\n",
       "    </tr>\n",
       "    <tr>\n",
       "      <th>622</th>\n",
       "      <td>0</td>\n",
       "      <td>male</td>\n",
       "      <td>28.0</td>\n",
       "      <td>0</td>\n",
       "      <td>0</td>\n",
       "      <td>10.5000</td>\n",
       "      <td>Second</td>\n",
       "      <td>unknown</td>\n",
       "      <td>Southampton</td>\n",
       "      <td>y</td>\n",
       "    </tr>\n",
       "    <tr>\n",
       "      <th>623</th>\n",
       "      <td>0</td>\n",
       "      <td>male</td>\n",
       "      <td>25.0</td>\n",
       "      <td>0</td>\n",
       "      <td>0</td>\n",
       "      <td>7.0500</td>\n",
       "      <td>Third</td>\n",
       "      <td>unknown</td>\n",
       "      <td>Southampton</td>\n",
       "      <td>y</td>\n",
       "    </tr>\n",
       "    <tr>\n",
       "      <th>624</th>\n",
       "      <td>1</td>\n",
       "      <td>female</td>\n",
       "      <td>19.0</td>\n",
       "      <td>0</td>\n",
       "      <td>0</td>\n",
       "      <td>30.0000</td>\n",
       "      <td>First</td>\n",
       "      <td>B</td>\n",
       "      <td>Southampton</td>\n",
       "      <td>y</td>\n",
       "    </tr>\n",
       "    <tr>\n",
       "      <th>625</th>\n",
       "      <td>0</td>\n",
       "      <td>female</td>\n",
       "      <td>28.0</td>\n",
       "      <td>1</td>\n",
       "      <td>2</td>\n",
       "      <td>23.4500</td>\n",
       "      <td>Third</td>\n",
       "      <td>unknown</td>\n",
       "      <td>Southampton</td>\n",
       "      <td>n</td>\n",
       "    </tr>\n",
       "    <tr>\n",
       "      <th>626</th>\n",
       "      <td>0</td>\n",
       "      <td>male</td>\n",
       "      <td>32.0</td>\n",
       "      <td>0</td>\n",
       "      <td>0</td>\n",
       "      <td>7.7500</td>\n",
       "      <td>Third</td>\n",
       "      <td>unknown</td>\n",
       "      <td>Queenstown</td>\n",
       "      <td>y</td>\n",
       "    </tr>\n",
       "  </tbody>\n",
       "</table>\n",
       "<p>627 rows × 10 columns</p>\n",
       "</div>"
      ],
      "text/plain": [
       "     survived     sex   age  n_siblings_spouses  parch     fare   class  \\\n",
       "0           0    male  22.0                   1      0   7.2500   Third   \n",
       "1           1  female  38.0                   1      0  71.2833   First   \n",
       "2           1  female  26.0                   0      0   7.9250   Third   \n",
       "3           1  female  35.0                   1      0  53.1000   First   \n",
       "4           0    male  28.0                   0      0   8.4583   Third   \n",
       "..        ...     ...   ...                 ...    ...      ...     ...   \n",
       "622         0    male  28.0                   0      0  10.5000  Second   \n",
       "623         0    male  25.0                   0      0   7.0500   Third   \n",
       "624         1  female  19.0                   0      0  30.0000   First   \n",
       "625         0  female  28.0                   1      2  23.4500   Third   \n",
       "626         0    male  32.0                   0      0   7.7500   Third   \n",
       "\n",
       "        deck  embark_town alone  \n",
       "0    unknown  Southampton     n  \n",
       "1          C    Cherbourg     n  \n",
       "2    unknown  Southampton     y  \n",
       "3          C  Southampton     n  \n",
       "4    unknown   Queenstown     y  \n",
       "..       ...          ...   ...  \n",
       "622  unknown  Southampton     y  \n",
       "623  unknown  Southampton     y  \n",
       "624        B  Southampton     y  \n",
       "625  unknown  Southampton     n  \n",
       "626  unknown   Queenstown     y  \n",
       "\n",
       "[627 rows x 10 columns]"
      ]
     },
     "execution_count": 198,
     "metadata": {},
     "output_type": "execute_result"
    }
   ],
   "source": [
    "titanic"
   ]
  },
  {
   "cell_type": "code",
   "execution_count": 199,
   "id": "d885dad5-5c0e-458b-929c-d86fe18b0f2c",
   "metadata": {},
   "outputs": [
    {
     "data": {
      "text/html": [
       "<div>\n",
       "<style scoped>\n",
       "    .dataframe tbody tr th:only-of-type {\n",
       "        vertical-align: middle;\n",
       "    }\n",
       "\n",
       "    .dataframe tbody tr th {\n",
       "        vertical-align: top;\n",
       "    }\n",
       "\n",
       "    .dataframe thead th {\n",
       "        text-align: right;\n",
       "    }\n",
       "</style>\n",
       "<table border=\"1\" class=\"dataframe\">\n",
       "  <thead>\n",
       "    <tr style=\"text-align: right;\">\n",
       "      <th></th>\n",
       "      <th>survived</th>\n",
       "      <th>sex</th>\n",
       "      <th>age</th>\n",
       "      <th>n_siblings_spouses</th>\n",
       "      <th>parch</th>\n",
       "      <th>fare</th>\n",
       "      <th>class</th>\n",
       "      <th>deck</th>\n",
       "      <th>embark_town</th>\n",
       "      <th>alone</th>\n",
       "    </tr>\n",
       "  </thead>\n",
       "  <tbody>\n",
       "    <tr>\n",
       "      <th>0</th>\n",
       "      <td>0</td>\n",
       "      <td>male</td>\n",
       "      <td>22.0</td>\n",
       "      <td>1</td>\n",
       "      <td>0</td>\n",
       "      <td>7.2500</td>\n",
       "      <td>Third</td>\n",
       "      <td>unknown</td>\n",
       "      <td>Southampton</td>\n",
       "      <td>n</td>\n",
       "    </tr>\n",
       "    <tr>\n",
       "      <th>1</th>\n",
       "      <td>1</td>\n",
       "      <td>female</td>\n",
       "      <td>38.0</td>\n",
       "      <td>1</td>\n",
       "      <td>0</td>\n",
       "      <td>71.2833</td>\n",
       "      <td>First</td>\n",
       "      <td>C</td>\n",
       "      <td>Cherbourg</td>\n",
       "      <td>n</td>\n",
       "    </tr>\n",
       "    <tr>\n",
       "      <th>2</th>\n",
       "      <td>1</td>\n",
       "      <td>female</td>\n",
       "      <td>26.0</td>\n",
       "      <td>0</td>\n",
       "      <td>0</td>\n",
       "      <td>7.9250</td>\n",
       "      <td>Third</td>\n",
       "      <td>unknown</td>\n",
       "      <td>Southampton</td>\n",
       "      <td>y</td>\n",
       "    </tr>\n",
       "    <tr>\n",
       "      <th>3</th>\n",
       "      <td>1</td>\n",
       "      <td>female</td>\n",
       "      <td>35.0</td>\n",
       "      <td>1</td>\n",
       "      <td>0</td>\n",
       "      <td>53.1000</td>\n",
       "      <td>First</td>\n",
       "      <td>C</td>\n",
       "      <td>Southampton</td>\n",
       "      <td>n</td>\n",
       "    </tr>\n",
       "    <tr>\n",
       "      <th>4</th>\n",
       "      <td>0</td>\n",
       "      <td>male</td>\n",
       "      <td>28.0</td>\n",
       "      <td>0</td>\n",
       "      <td>0</td>\n",
       "      <td>8.4583</td>\n",
       "      <td>Third</td>\n",
       "      <td>unknown</td>\n",
       "      <td>Queenstown</td>\n",
       "      <td>y</td>\n",
       "    </tr>\n",
       "    <tr>\n",
       "      <th>5</th>\n",
       "      <td>0</td>\n",
       "      <td>male</td>\n",
       "      <td>2.0</td>\n",
       "      <td>3</td>\n",
       "      <td>1</td>\n",
       "      <td>21.0750</td>\n",
       "      <td>Third</td>\n",
       "      <td>unknown</td>\n",
       "      <td>Southampton</td>\n",
       "      <td>n</td>\n",
       "    </tr>\n",
       "    <tr>\n",
       "      <th>6</th>\n",
       "      <td>1</td>\n",
       "      <td>female</td>\n",
       "      <td>27.0</td>\n",
       "      <td>0</td>\n",
       "      <td>2</td>\n",
       "      <td>11.1333</td>\n",
       "      <td>Third</td>\n",
       "      <td>unknown</td>\n",
       "      <td>Southampton</td>\n",
       "      <td>n</td>\n",
       "    </tr>\n",
       "    <tr>\n",
       "      <th>7</th>\n",
       "      <td>1</td>\n",
       "      <td>female</td>\n",
       "      <td>14.0</td>\n",
       "      <td>1</td>\n",
       "      <td>0</td>\n",
       "      <td>30.0708</td>\n",
       "      <td>Second</td>\n",
       "      <td>unknown</td>\n",
       "      <td>Cherbourg</td>\n",
       "      <td>n</td>\n",
       "    </tr>\n",
       "    <tr>\n",
       "      <th>8</th>\n",
       "      <td>1</td>\n",
       "      <td>female</td>\n",
       "      <td>4.0</td>\n",
       "      <td>1</td>\n",
       "      <td>1</td>\n",
       "      <td>16.7000</td>\n",
       "      <td>Third</td>\n",
       "      <td>G</td>\n",
       "      <td>Southampton</td>\n",
       "      <td>n</td>\n",
       "    </tr>\n",
       "    <tr>\n",
       "      <th>9</th>\n",
       "      <td>0</td>\n",
       "      <td>male</td>\n",
       "      <td>20.0</td>\n",
       "      <td>0</td>\n",
       "      <td>0</td>\n",
       "      <td>8.0500</td>\n",
       "      <td>Third</td>\n",
       "      <td>unknown</td>\n",
       "      <td>Southampton</td>\n",
       "      <td>y</td>\n",
       "    </tr>\n",
       "    <tr>\n",
       "      <th>10</th>\n",
       "      <td>0</td>\n",
       "      <td>male</td>\n",
       "      <td>39.0</td>\n",
       "      <td>1</td>\n",
       "      <td>5</td>\n",
       "      <td>31.2750</td>\n",
       "      <td>Third</td>\n",
       "      <td>unknown</td>\n",
       "      <td>Southampton</td>\n",
       "      <td>n</td>\n",
       "    </tr>\n",
       "    <tr>\n",
       "      <th>11</th>\n",
       "      <td>0</td>\n",
       "      <td>female</td>\n",
       "      <td>14.0</td>\n",
       "      <td>0</td>\n",
       "      <td>0</td>\n",
       "      <td>7.8542</td>\n",
       "      <td>Third</td>\n",
       "      <td>unknown</td>\n",
       "      <td>Southampton</td>\n",
       "      <td>y</td>\n",
       "    </tr>\n",
       "    <tr>\n",
       "      <th>12</th>\n",
       "      <td>0</td>\n",
       "      <td>male</td>\n",
       "      <td>2.0</td>\n",
       "      <td>4</td>\n",
       "      <td>1</td>\n",
       "      <td>29.1250</td>\n",
       "      <td>Third</td>\n",
       "      <td>unknown</td>\n",
       "      <td>Queenstown</td>\n",
       "      <td>n</td>\n",
       "    </tr>\n",
       "    <tr>\n",
       "      <th>13</th>\n",
       "      <td>1</td>\n",
       "      <td>male</td>\n",
       "      <td>28.0</td>\n",
       "      <td>0</td>\n",
       "      <td>0</td>\n",
       "      <td>13.0000</td>\n",
       "      <td>Second</td>\n",
       "      <td>unknown</td>\n",
       "      <td>Southampton</td>\n",
       "      <td>y</td>\n",
       "    </tr>\n",
       "    <tr>\n",
       "      <th>14</th>\n",
       "      <td>0</td>\n",
       "      <td>female</td>\n",
       "      <td>31.0</td>\n",
       "      <td>1</td>\n",
       "      <td>0</td>\n",
       "      <td>18.0000</td>\n",
       "      <td>Third</td>\n",
       "      <td>unknown</td>\n",
       "      <td>Southampton</td>\n",
       "      <td>n</td>\n",
       "    </tr>\n",
       "    <tr>\n",
       "      <th>15</th>\n",
       "      <td>1</td>\n",
       "      <td>female</td>\n",
       "      <td>28.0</td>\n",
       "      <td>0</td>\n",
       "      <td>0</td>\n",
       "      <td>7.2250</td>\n",
       "      <td>Third</td>\n",
       "      <td>unknown</td>\n",
       "      <td>Cherbourg</td>\n",
       "      <td>y</td>\n",
       "    </tr>\n",
       "    <tr>\n",
       "      <th>16</th>\n",
       "      <td>0</td>\n",
       "      <td>male</td>\n",
       "      <td>35.0</td>\n",
       "      <td>0</td>\n",
       "      <td>0</td>\n",
       "      <td>26.0000</td>\n",
       "      <td>Second</td>\n",
       "      <td>unknown</td>\n",
       "      <td>Southampton</td>\n",
       "      <td>y</td>\n",
       "    </tr>\n",
       "    <tr>\n",
       "      <th>17</th>\n",
       "      <td>1</td>\n",
       "      <td>male</td>\n",
       "      <td>28.0</td>\n",
       "      <td>0</td>\n",
       "      <td>0</td>\n",
       "      <td>35.5000</td>\n",
       "      <td>First</td>\n",
       "      <td>A</td>\n",
       "      <td>Southampton</td>\n",
       "      <td>y</td>\n",
       "    </tr>\n",
       "    <tr>\n",
       "      <th>18</th>\n",
       "      <td>1</td>\n",
       "      <td>female</td>\n",
       "      <td>38.0</td>\n",
       "      <td>1</td>\n",
       "      <td>5</td>\n",
       "      <td>31.3875</td>\n",
       "      <td>Third</td>\n",
       "      <td>unknown</td>\n",
       "      <td>Southampton</td>\n",
       "      <td>n</td>\n",
       "    </tr>\n",
       "    <tr>\n",
       "      <th>19</th>\n",
       "      <td>0</td>\n",
       "      <td>male</td>\n",
       "      <td>28.0</td>\n",
       "      <td>0</td>\n",
       "      <td>0</td>\n",
       "      <td>7.2250</td>\n",
       "      <td>Third</td>\n",
       "      <td>unknown</td>\n",
       "      <td>Cherbourg</td>\n",
       "      <td>y</td>\n",
       "    </tr>\n",
       "  </tbody>\n",
       "</table>\n",
       "</div>"
      ],
      "text/plain": [
       "    survived     sex   age  n_siblings_spouses  parch     fare   class  \\\n",
       "0          0    male  22.0                   1      0   7.2500   Third   \n",
       "1          1  female  38.0                   1      0  71.2833   First   \n",
       "2          1  female  26.0                   0      0   7.9250   Third   \n",
       "3          1  female  35.0                   1      0  53.1000   First   \n",
       "4          0    male  28.0                   0      0   8.4583   Third   \n",
       "5          0    male   2.0                   3      1  21.0750   Third   \n",
       "6          1  female  27.0                   0      2  11.1333   Third   \n",
       "7          1  female  14.0                   1      0  30.0708  Second   \n",
       "8          1  female   4.0                   1      1  16.7000   Third   \n",
       "9          0    male  20.0                   0      0   8.0500   Third   \n",
       "10         0    male  39.0                   1      5  31.2750   Third   \n",
       "11         0  female  14.0                   0      0   7.8542   Third   \n",
       "12         0    male   2.0                   4      1  29.1250   Third   \n",
       "13         1    male  28.0                   0      0  13.0000  Second   \n",
       "14         0  female  31.0                   1      0  18.0000   Third   \n",
       "15         1  female  28.0                   0      0   7.2250   Third   \n",
       "16         0    male  35.0                   0      0  26.0000  Second   \n",
       "17         1    male  28.0                   0      0  35.5000   First   \n",
       "18         1  female  38.0                   1      5  31.3875   Third   \n",
       "19         0    male  28.0                   0      0   7.2250   Third   \n",
       "\n",
       "       deck  embark_town alone  \n",
       "0   unknown  Southampton     n  \n",
       "1         C    Cherbourg     n  \n",
       "2   unknown  Southampton     y  \n",
       "3         C  Southampton     n  \n",
       "4   unknown   Queenstown     y  \n",
       "5   unknown  Southampton     n  \n",
       "6   unknown  Southampton     n  \n",
       "7   unknown    Cherbourg     n  \n",
       "8         G  Southampton     n  \n",
       "9   unknown  Southampton     y  \n",
       "10  unknown  Southampton     n  \n",
       "11  unknown  Southampton     y  \n",
       "12  unknown   Queenstown     n  \n",
       "13  unknown  Southampton     y  \n",
       "14  unknown  Southampton     n  \n",
       "15  unknown    Cherbourg     y  \n",
       "16  unknown  Southampton     y  \n",
       "17        A  Southampton     y  \n",
       "18  unknown  Southampton     n  \n",
       "19  unknown    Cherbourg     y  "
      ]
     },
     "execution_count": 199,
     "metadata": {},
     "output_type": "execute_result"
    }
   ],
   "source": [
    "titanic.head(20) # tail()메서드 사용"
   ]
  },
  {
   "cell_type": "code",
   "execution_count": 202,
   "id": "c0d539bc-b936-44a1-9218-df643fa37a0b",
   "metadata": {},
   "outputs": [
    {
     "data": {
      "text/html": [
       "<div>\n",
       "<style scoped>\n",
       "    .dataframe tbody tr th:only-of-type {\n",
       "        vertical-align: middle;\n",
       "    }\n",
       "\n",
       "    .dataframe tbody tr th {\n",
       "        vertical-align: top;\n",
       "    }\n",
       "\n",
       "    .dataframe thead th {\n",
       "        text-align: right;\n",
       "    }\n",
       "</style>\n",
       "<table border=\"1\" class=\"dataframe\">\n",
       "  <thead>\n",
       "    <tr style=\"text-align: right;\">\n",
       "      <th></th>\n",
       "      <th>Gender</th>\n",
       "      <th>Height</th>\n",
       "      <th>Weight</th>\n",
       "      <th>Label</th>\n",
       "    </tr>\n",
       "  </thead>\n",
       "  <tbody>\n",
       "    <tr>\n",
       "      <th>0</th>\n",
       "      <td>Male</td>\n",
       "      <td>174</td>\n",
       "      <td>96</td>\n",
       "      <td>Obesity</td>\n",
       "    </tr>\n",
       "    <tr>\n",
       "      <th>1</th>\n",
       "      <td>Male</td>\n",
       "      <td>189</td>\n",
       "      <td>87</td>\n",
       "      <td>Normal</td>\n",
       "    </tr>\n",
       "    <tr>\n",
       "      <th>2</th>\n",
       "      <td>Female</td>\n",
       "      <td>185</td>\n",
       "      <td>110</td>\n",
       "      <td>Obesity</td>\n",
       "    </tr>\n",
       "    <tr>\n",
       "      <th>3</th>\n",
       "      <td>Female</td>\n",
       "      <td>195</td>\n",
       "      <td>104</td>\n",
       "      <td>Overweight</td>\n",
       "    </tr>\n",
       "    <tr>\n",
       "      <th>4</th>\n",
       "      <td>Male</td>\n",
       "      <td>149</td>\n",
       "      <td>61</td>\n",
       "      <td>Overweight</td>\n",
       "    </tr>\n",
       "    <tr>\n",
       "      <th>...</th>\n",
       "      <td>...</td>\n",
       "      <td>...</td>\n",
       "      <td>...</td>\n",
       "      <td>...</td>\n",
       "    </tr>\n",
       "    <tr>\n",
       "      <th>495</th>\n",
       "      <td>Female</td>\n",
       "      <td>150</td>\n",
       "      <td>153</td>\n",
       "      <td>Extreme Obesity</td>\n",
       "    </tr>\n",
       "    <tr>\n",
       "      <th>496</th>\n",
       "      <td>Female</td>\n",
       "      <td>184</td>\n",
       "      <td>121</td>\n",
       "      <td>Obesity</td>\n",
       "    </tr>\n",
       "    <tr>\n",
       "      <th>497</th>\n",
       "      <td>Female</td>\n",
       "      <td>141</td>\n",
       "      <td>136</td>\n",
       "      <td>Extreme Obesity</td>\n",
       "    </tr>\n",
       "    <tr>\n",
       "      <th>498</th>\n",
       "      <td>Male</td>\n",
       "      <td>150</td>\n",
       "      <td>95</td>\n",
       "      <td>Extreme Obesity</td>\n",
       "    </tr>\n",
       "    <tr>\n",
       "      <th>499</th>\n",
       "      <td>Male</td>\n",
       "      <td>173</td>\n",
       "      <td>131</td>\n",
       "      <td>Extreme Obesity</td>\n",
       "    </tr>\n",
       "  </tbody>\n",
       "</table>\n",
       "<p>500 rows × 4 columns</p>\n",
       "</div>"
      ],
      "text/plain": [
       "     Gender  Height  Weight            Label\n",
       "0      Male     174      96          Obesity\n",
       "1      Male     189      87           Normal\n",
       "2    Female     185     110          Obesity\n",
       "3    Female     195     104       Overweight\n",
       "4      Male     149      61       Overweight\n",
       "..      ...     ...     ...              ...\n",
       "495  Female     150     153  Extreme Obesity\n",
       "496  Female     184     121          Obesity\n",
       "497  Female     141     136  Extreme Obesity\n",
       "498    Male     150      95  Extreme Obesity\n",
       "499    Male     173     131  Extreme Obesity\n",
       "\n",
       "[500 rows x 4 columns]"
      ]
     },
     "execution_count": 202,
     "metadata": {},
     "output_type": "execute_result"
    }
   ],
   "source": [
    "# bmi 파일\n",
    "a=pd.read_csv(\"https://blog.kakaocdn.net/dn/bzNWe6/btrdpLD2Fu6/tRnRNyptPUOCwptW4K5TTK/bmi_500.csv?attach=1&knm=tfile.csv\")\n",
    "a  # csv 파일 깨지면 (,encoding=\"cp949\")쓴다."
   ]
  },
  {
   "cell_type": "code",
   "execution_count": 203,
   "id": "27f5d5c1-ad12-4ee8-b7db-1e8389839cd5",
   "metadata": {},
   "outputs": [
    {
     "data": {
      "text/html": [
       "<div>\n",
       "<style scoped>\n",
       "    .dataframe tbody tr th:only-of-type {\n",
       "        vertical-align: middle;\n",
       "    }\n",
       "\n",
       "    .dataframe tbody tr th {\n",
       "        vertical-align: top;\n",
       "    }\n",
       "\n",
       "    .dataframe thead th {\n",
       "        text-align: right;\n",
       "    }\n",
       "</style>\n",
       "<table border=\"1\" class=\"dataframe\">\n",
       "  <thead>\n",
       "    <tr style=\"text-align: right;\">\n",
       "      <th></th>\n",
       "      <th>18.0</th>\n",
       "      <th>8</th>\n",
       "      <th>307.0</th>\n",
       "      <th>130.0</th>\n",
       "      <th>3504.</th>\n",
       "      <th>12.0</th>\n",
       "      <th>70</th>\n",
       "      <th>1</th>\n",
       "      <th>chevrolet chevelle malibu</th>\n",
       "    </tr>\n",
       "  </thead>\n",
       "  <tbody>\n",
       "    <tr>\n",
       "      <th>0</th>\n",
       "      <td>15.0</td>\n",
       "      <td>8</td>\n",
       "      <td>350.0</td>\n",
       "      <td>165.0</td>\n",
       "      <td>3693.0</td>\n",
       "      <td>11.5</td>\n",
       "      <td>70</td>\n",
       "      <td>1</td>\n",
       "      <td>buick skylark 320</td>\n",
       "    </tr>\n",
       "    <tr>\n",
       "      <th>1</th>\n",
       "      <td>18.0</td>\n",
       "      <td>8</td>\n",
       "      <td>318.0</td>\n",
       "      <td>150.0</td>\n",
       "      <td>3436.0</td>\n",
       "      <td>11.0</td>\n",
       "      <td>70</td>\n",
       "      <td>1</td>\n",
       "      <td>plymouth satellite</td>\n",
       "    </tr>\n",
       "    <tr>\n",
       "      <th>2</th>\n",
       "      <td>16.0</td>\n",
       "      <td>8</td>\n",
       "      <td>304.0</td>\n",
       "      <td>150.0</td>\n",
       "      <td>3433.0</td>\n",
       "      <td>12.0</td>\n",
       "      <td>70</td>\n",
       "      <td>1</td>\n",
       "      <td>amc rebel sst</td>\n",
       "    </tr>\n",
       "    <tr>\n",
       "      <th>3</th>\n",
       "      <td>17.0</td>\n",
       "      <td>8</td>\n",
       "      <td>302.0</td>\n",
       "      <td>140.0</td>\n",
       "      <td>3449.0</td>\n",
       "      <td>10.5</td>\n",
       "      <td>70</td>\n",
       "      <td>1</td>\n",
       "      <td>ford torino</td>\n",
       "    </tr>\n",
       "    <tr>\n",
       "      <th>4</th>\n",
       "      <td>15.0</td>\n",
       "      <td>8</td>\n",
       "      <td>429.0</td>\n",
       "      <td>198.0</td>\n",
       "      <td>4341.0</td>\n",
       "      <td>10.0</td>\n",
       "      <td>70</td>\n",
       "      <td>1</td>\n",
       "      <td>ford galaxie 500</td>\n",
       "    </tr>\n",
       "    <tr>\n",
       "      <th>...</th>\n",
       "      <td>...</td>\n",
       "      <td>...</td>\n",
       "      <td>...</td>\n",
       "      <td>...</td>\n",
       "      <td>...</td>\n",
       "      <td>...</td>\n",
       "      <td>...</td>\n",
       "      <td>...</td>\n",
       "      <td>...</td>\n",
       "    </tr>\n",
       "    <tr>\n",
       "      <th>392</th>\n",
       "      <td>27.0</td>\n",
       "      <td>4</td>\n",
       "      <td>140.0</td>\n",
       "      <td>86.00</td>\n",
       "      <td>2790.0</td>\n",
       "      <td>15.6</td>\n",
       "      <td>82</td>\n",
       "      <td>1</td>\n",
       "      <td>ford mustang gl</td>\n",
       "    </tr>\n",
       "    <tr>\n",
       "      <th>393</th>\n",
       "      <td>44.0</td>\n",
       "      <td>4</td>\n",
       "      <td>97.0</td>\n",
       "      <td>52.00</td>\n",
       "      <td>2130.0</td>\n",
       "      <td>24.6</td>\n",
       "      <td>82</td>\n",
       "      <td>2</td>\n",
       "      <td>vw pickup</td>\n",
       "    </tr>\n",
       "    <tr>\n",
       "      <th>394</th>\n",
       "      <td>32.0</td>\n",
       "      <td>4</td>\n",
       "      <td>135.0</td>\n",
       "      <td>84.00</td>\n",
       "      <td>2295.0</td>\n",
       "      <td>11.6</td>\n",
       "      <td>82</td>\n",
       "      <td>1</td>\n",
       "      <td>dodge rampage</td>\n",
       "    </tr>\n",
       "    <tr>\n",
       "      <th>395</th>\n",
       "      <td>28.0</td>\n",
       "      <td>4</td>\n",
       "      <td>120.0</td>\n",
       "      <td>79.00</td>\n",
       "      <td>2625.0</td>\n",
       "      <td>18.6</td>\n",
       "      <td>82</td>\n",
       "      <td>1</td>\n",
       "      <td>ford ranger</td>\n",
       "    </tr>\n",
       "    <tr>\n",
       "      <th>396</th>\n",
       "      <td>31.0</td>\n",
       "      <td>4</td>\n",
       "      <td>119.0</td>\n",
       "      <td>82.00</td>\n",
       "      <td>2720.0</td>\n",
       "      <td>19.4</td>\n",
       "      <td>82</td>\n",
       "      <td>1</td>\n",
       "      <td>chevy s-10</td>\n",
       "    </tr>\n",
       "  </tbody>\n",
       "</table>\n",
       "<p>397 rows × 9 columns</p>\n",
       "</div>"
      ],
      "text/plain": [
       "     18.0  8  307.0  130.0   3504.  12.0  70  1 chevrolet chevelle malibu\n",
       "0    15.0  8  350.0  165.0  3693.0  11.5  70  1         buick skylark 320\n",
       "1    18.0  8  318.0  150.0  3436.0  11.0  70  1        plymouth satellite\n",
       "2    16.0  8  304.0  150.0  3433.0  12.0  70  1             amc rebel sst\n",
       "3    17.0  8  302.0  140.0  3449.0  10.5  70  1               ford torino\n",
       "4    15.0  8  429.0  198.0  4341.0  10.0  70  1          ford galaxie 500\n",
       "..    ... ..    ...    ...     ...   ...  .. ..                       ...\n",
       "392  27.0  4  140.0  86.00  2790.0  15.6  82  1           ford mustang gl\n",
       "393  44.0  4   97.0  52.00  2130.0  24.6  82  2                 vw pickup\n",
       "394  32.0  4  135.0  84.00  2295.0  11.6  82  1             dodge rampage\n",
       "395  28.0  4  120.0  79.00  2625.0  18.6  82  1               ford ranger\n",
       "396  31.0  4  119.0  82.00  2720.0  19.4  82  1                chevy s-10\n",
       "\n",
       "[397 rows x 9 columns]"
      ]
     },
     "execution_count": 203,
     "metadata": {},
     "output_type": "execute_result"
    }
   ],
   "source": [
    "b = pd.read_csv(\"https://blog.kakaocdn.net/dn/yH7cd/btqT19bdTXb/OvDQM98eNA0sOr8JxK734K/auto-mpg.csv?attach=1&knm=tfile.csv\")\n",
    "b"
   ]
  },
  {
   "cell_type": "code",
   "execution_count": null,
   "id": "d8e040f9-09a7-4f76-aa20-6d5c2533ee00",
   "metadata": {},
   "outputs": [],
   "source": []
  }
 ],
 "metadata": {
  "kernelspec": {
   "display_name": "Python 3 (ipykernel)",
   "language": "python",
   "name": "python3"
  },
  "language_info": {
   "codemirror_mode": {
    "name": "ipython",
    "version": 3
   },
   "file_extension": ".py",
   "mimetype": "text/x-python",
   "name": "python",
   "nbconvert_exporter": "python",
   "pygments_lexer": "ipython3",
   "version": "3.9.13"
  }
 },
 "nbformat": 4,
 "nbformat_minor": 5
}
