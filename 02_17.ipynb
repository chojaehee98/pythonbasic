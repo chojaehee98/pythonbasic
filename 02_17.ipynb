{
 "cells": [
  {
   "cell_type": "code",
   "execution_count": 1,
   "id": "bda20924-c3ab-4ee4-9899-2bd8d08b85d9",
   "metadata": {},
   "outputs": [
    {
     "name": "stdout",
     "output_type": "stream",
     "text": [
      "1 2 3 4 5 6 7 8 9 10 "
     ]
    }
   ],
   "source": [
    "for _ in range(1,11):\n",
    "    print(_,end=' ')"
   ]
  },
  {
   "cell_type": "code",
   "execution_count": 2,
   "id": "b4949a58-e234-4f93-a5a4-5f4306c51237",
   "metadata": {},
   "outputs": [
    {
     "name": "stdout",
     "output_type": "stream",
     "text": [
      "1 2 3 4 5 6 7 8 9 10 "
     ]
    }
   ],
   "source": [
    "i =1 \n",
    "while i < 11:\n",
    "    print(i,end = \" \")\n",
    "    i +=1"
   ]
  },
  {
   "cell_type": "code",
   "execution_count": 3,
   "id": "ebc81b74-b487-47fe-abdd-24e29a4e0c39",
   "metadata": {},
   "outputs": [
    {
     "name": "stdout",
     "output_type": "stream",
     "text": [
      "79.0\n"
     ]
    }
   ],
   "source": [
    "class_a = (70, 60, 55, 75, 95, 90, 80, 80, 85, 100)\n",
    "i=0\n",
    "sum = 0\n",
    "while i < len(class_a):\n",
    "    sum+=class_a[i]\n",
    "    i+=1\n",
    "print(sum / len(class_a))"
   ]
  },
  {
   "cell_type": "code",
   "execution_count": 4,
   "id": "e26e2534-b763-4e4e-88a0-e74833bfad10",
   "metadata": {},
   "outputs": [
    {
     "name": "stdout",
     "output_type": "stream",
     "text": [
      "0\n",
      "1\n",
      "2\n"
     ]
    }
   ],
   "source": [
    "for _ in range(10000):\n",
    "    print(_)\n",
    "    if _ == 2:\n",
    "        break"
   ]
  },
  {
   "cell_type": "code",
   "execution_count": 5,
   "id": "4bb2ebca-7ee5-45c6-aed6-50f26fe3ad8b",
   "metadata": {},
   "outputs": [
    {
     "name": "stdout",
     "output_type": "stream",
     "text": [
      "Hello World\n"
     ]
    }
   ],
   "source": [
    "i = 0\n",
    "while True:\n",
    "    print(\"Hello World\")\n",
    "    i += 1\n",
    "    if _ == 2:\n",
    "        break"
   ]
  },
  {
   "cell_type": "code",
   "execution_count": 6,
   "id": "c4d361e2-c179-4284-a8ea-89c0bb1aff36",
   "metadata": {},
   "outputs": [
    {
     "name": "stdout",
     "output_type": "stream",
     "text": [
      "5050\n"
     ]
    }
   ],
   "source": [
    "i = 0\n",
    "total = 0\n",
    "while True:\n",
    "    i+=1\n",
    "    total += i\n",
    "    if i == 100: \n",
    "        break\n",
    "print(total)"
   ]
  },
  {
   "cell_type": "code",
   "execution_count": 8,
   "id": "7620c59c-23a4-4c66-b57f-c8e13ab1e032",
   "metadata": {},
   "outputs": [
    {
     "name": "stdin",
     "output_type": "stream",
     "text": [
      "q를 입력하면 종료됩니다. 진짜>\n",
      "q를 입력하면 종료됩니다. 정말\n",
      "q를 입력하면 종료됩니다. q\n"
     ]
    },
    {
     "name": "stdout",
     "output_type": "stream",
     "text": [
      "프로그램을 종료합니다.\n"
     ]
    }
   ],
   "source": [
    "while True:\n",
    "    input_value = input(\"q를 입력하면 종료됩니다.\")\n",
    "    if input_value == 'q': break\n",
    "print(\"프로그램을 종료합니다.\")"
   ]
  },
  {
   "cell_type": "code",
   "execution_count": 12,
   "id": "a58fa24e-fcd4-427e-ac69-e9d811805a4c",
   "metadata": {},
   "outputs": [
    {
     "name": "stdout",
     "output_type": "stream",
     "text": [
      "1\t3\t5\t7\t9\t11\t13\t15\t17\t19\t21\t23\t25\t27\t29\t31\t33\t35\t37\t39\t41\t43\t45\t47\t49\t51\t53\t55\t57\t59\t61\t63\t65\t67\t69\t71\t73\t75\t77\t79\t81\t83\t85\t87\t89\t91\t93\t95\t97\t99\t"
     ]
    }
   ],
   "source": [
    "for i in range(100):\n",
    "    if i % 2 == 0:\n",
    "        continue\n",
    "    print(i,end = '\\t')"
   ]
  },
  {
   "cell_type": "code",
   "execution_count": 19,
   "id": "32f4dbe4-b46d-4c38-b50b-d1ca6659579a",
   "metadata": {},
   "outputs": [
    {
     "name": "stdin",
     "output_type": "stream",
     "text": [
      "시작하는 정수 입력: 1\n",
      "끝나는 정수 입력: 10\n"
     ]
    },
    {
     "name": "stdout",
     "output_type": "stream",
     "text": [
      "1 부터 10 까지의 합은 55 입니다.\n"
     ]
    }
   ],
   "source": [
    "n=int(input(\"시작하는 정수 입력:\"))\n",
    "m=int(input(\"끝나는 정수 입력:\"))\n",
    "result = 0\n",
    "for _ in range(n,m+1):\n",
    "    result +=  _\n",
    "print(n,'부터',m,'까지의 합은',result,'입니다.')"
   ]
  },
  {
   "cell_type": "code",
   "execution_count": 21,
   "id": "e23f8d89-f52f-4a02-80fb-bae6f510b301",
   "metadata": {},
   "outputs": [
    {
     "name": "stdin",
     "output_type": "stream",
     "text": [
      "시작하는 정수 입력: 1\n",
      "끝나는 정수 입력: 10\n"
     ]
    },
    {
     "name": "stdout",
     "output_type": "stream",
     "text": [
      "1 부터 10 까지의 합은 65 입니다.\n"
     ]
    }
   ],
   "source": [
    "n=int(input(\"시작하는 정수 입력:\"))\n",
    "m=int(input(\"끝나는 정수 입력:\"))\n",
    "i = n\n",
    "total = 0\n",
    "while i <= m:\n",
    "    i += 1\n",
    "    total += i\n",
    "print(n,'부터',m,'까지의 합은',total,'입니다.')"
   ]
  },
  {
   "cell_type": "code",
   "execution_count": 25,
   "id": "e6a9687e-5d52-403a-aa9e-8979391269a5",
   "metadata": {},
   "outputs": [
    {
     "name": "stdout",
     "output_type": "stream",
     "text": [
      "<class 'dict'>\n",
      "{'key': 'value'}\n"
     ]
    }
   ],
   "source": [
    "dic_var = {\"key\": \"value\"}\n",
    "print(type(dic_var))\n",
    "print(dic_var)"
   ]
  },
  {
   "cell_type": "code",
   "execution_count": 26,
   "id": "371f8d1c-3bf8-4e8c-8bb1-8822809cdf55",
   "metadata": {},
   "outputs": [
    {
     "name": "stdout",
     "output_type": "stream",
     "text": [
      "{'key': 'last value'}\n"
     ]
    }
   ],
   "source": [
    "dic_var = {'key':'value', 'key':'last value'}\n",
    "print(dic_var)"
   ]
  },
  {
   "cell_type": "code",
   "execution_count": 30,
   "id": "e22d7bd4-9374-47ef-8be7-12f13dcb92b4",
   "metadata": {},
   "outputs": [
    {
     "name": "stdout",
     "output_type": "stream",
     "text": [
      "[<class 'str'>, <class 'int'>, <class 'float'>, <class 'tuple'>]\n"
     ]
    }
   ],
   "source": [
    "dic_var = {'key':'value', 1:'value2',1.1:'value3',True:'value4',('key',1,1.1,True):'value2'}\n",
    "print(list(map(type, dic_var.keys())))\n"
   ]
  },
  {
   "cell_type": "code",
   "execution_count": 31,
   "id": "ddf12341-f046-41ec-b28d-39d6d60435af",
   "metadata": {},
   "outputs": [
    {
     "name": "stdout",
     "output_type": "stream",
     "text": [
      "[<class 'str'>, <class 'bool'>, <class 'float'>, <class 'tuple'>, <class 'list'>, <class 'dict'>, <class 'set'>]\n"
     ]
    }
   ],
   "source": [
    "dic_var = {\"key\" : \"value\",\n",
    "           1 : 1,\n",
    "           1.1 : 1.1,\n",
    "           True : False,\n",
    "           (\"key\", 1, 1.1, True) : (\"key\", 1, 1.1, True),\n",
    "           \"list\" : [1, '가', 1.1, True, (1, '나')],\n",
    "           \"dict\" : {\"key\" : \"value\", \"key2\" : \"value2\"},\n",
    "           \"set\" : {\"key\", \"value\"}\n",
    "          }\n",
    "print(list(map(type, dic_var.values())))"
   ]
  },
  {
   "cell_type": "code",
   "execution_count": 34,
   "id": "c1dc0dd5-d370-4e14-b644-59150f366c26",
   "metadata": {},
   "outputs": [
    {
     "name": "stdout",
     "output_type": "stream",
     "text": [
      "{}\n",
      "<class 'dict'>\n"
     ]
    }
   ],
   "source": [
    "empty_dict =dict ()  # = {}\n",
    "print(empty_dict)\n",
    "print(type(empty_dict))"
   ]
  },
  {
   "cell_type": "code",
   "execution_count": 37,
   "id": "a6b37fac-8d80-4376-bbcf-880dc11dbe11",
   "metadata": {},
   "outputs": [
    {
     "name": "stdout",
     "output_type": "stream",
     "text": [
      "{'key': 'value', 'key2': 'value2', 'key3': 'value3'}\n"
     ]
    }
   ],
   "source": [
    "dict_a = dict(key = 'value',key2='value2',key3='value3')\n",
    "print(dict_a)"
   ]
  },
  {
   "cell_type": "code",
   "execution_count": 38,
   "id": "59867d58-49db-472d-8547-4d564ba49486",
   "metadata": {},
   "outputs": [
    {
     "data": {
      "text/plain": [
       "{'key': 'vlaue', 'key2': 'value2'}"
      ]
     },
     "execution_count": 38,
     "metadata": {},
     "output_type": "execute_result"
    }
   ],
   "source": [
    "dict([('key','vlaue'),('key2','value2')])"
   ]
  },
  {
   "cell_type": "code",
   "execution_count": 42,
   "id": "382c124e-eb55-404a-8aac-cd23e1cadfec",
   "metadata": {},
   "outputs": [
    {
     "name": "stdout",
     "output_type": "stream",
     "text": [
      "{'key': 'value', 'key2': 'value2', 'key3': 'value3'}\n",
      "{'key': 'super value', 'key2': 'value2', 'key3': 'value3'}\n"
     ]
    }
   ],
   "source": [
    "print(dict_a)\n",
    "dict_a['key'] = 'super value'\n",
    "print(dict_a)"
   ]
  },
  {
   "cell_type": "code",
   "execution_count": 43,
   "id": "0c94e38f-dc2d-4163-a5c9-50c1cd30968b",
   "metadata": {},
   "outputs": [
    {
     "name": "stdout",
     "output_type": "stream",
     "text": [
      "{'key': 'super value', 'key2': 'value2', 'key3': 'value3'}\n",
      "{'key': 'super value', 'key2': 'value2', 'key3': 'value3', 'new one': 'new value'}\n"
     ]
    }
   ],
   "source": [
    "print(dict_a)\n",
    "dict_a['new one'] = 'new value'\n",
    "print(dict_a)"
   ]
  },
  {
   "cell_type": "code",
   "execution_count": 44,
   "id": "d1a011a0-4065-4ae2-91af-be5262ed6c1b",
   "metadata": {},
   "outputs": [
    {
     "name": "stdout",
     "output_type": "stream",
     "text": [
      "{'key': 'super value', 'key2': 'value2', 'key3': 'value3', 'new one': 'new value'}\n",
      "True\n"
     ]
    }
   ],
   "source": [
    "print(dict_a)\n",
    "print('key' in dict_a)"
   ]
  },
  {
   "cell_type": "code",
   "execution_count": 45,
   "id": "c83d9622-2579-4596-8142-7456cb0e8632",
   "metadata": {},
   "outputs": [
    {
     "name": "stdout",
     "output_type": "stream",
     "text": [
      "{'key': 'super value', 'key2': 'value2', 'key3': 'value3', 'new one': 'new value'}\n",
      "True\n"
     ]
    }
   ],
   "source": [
    "print(dict_a)\n",
    "print('value2' in dict_a.values())"
   ]
  },
  {
   "cell_type": "code",
   "execution_count": 46,
   "id": "3d757c79-9f46-4fa9-a2ad-e46edc3ffbfd",
   "metadata": {},
   "outputs": [
    {
     "name": "stdout",
     "output_type": "stream",
     "text": [
      "{'key': 'super value', 'key2': 'value2', 'key3': 'value3', 'new one': 'new value'}\n",
      "{'key': 'super value', 'key2': 'value2', 'key3': 'value3'}\n"
     ]
    }
   ],
   "source": [
    "print(dict_a)\n",
    "del dict_a['new one']\n",
    "print(dict_a)"
   ]
  },
  {
   "cell_type": "code",
   "execution_count": 50,
   "id": "fcda2a34-dade-4b6c-b121-6b15cb0014ff",
   "metadata": {},
   "outputs": [
    {
     "name": "stdin",
     "output_type": "stream",
     "text": [
      "과일 이름을 입력하세요. 사과\n"
     ]
    },
    {
     "name": "stdout",
     "output_type": "stream",
     "text": [
      "사과 의 가격은 1000원 원입니다.\n"
     ]
    }
   ],
   "source": [
    "name=input(\"과일 이름을 입력하세요.\")\n",
    "key = ['사과','바나나','오렌지','파인애플']\n",
    "value = ['1000원','700원','1500원','2000원']\n",
    "dict_c = dict(zip(key,value))\n",
    "print(name,'의 가격은',dict_c[name],'원입니다.')"
   ]
  },
  {
   "cell_type": "code",
   "execution_count": 52,
   "id": "6d7c1192-9b53-4c37-adb6-f1eb47b6e58e",
   "metadata": {},
   "outputs": [
    {
     "name": "stdin",
     "output_type": "stream",
     "text": [
      "과일 이름을 입력하세요. 사과\n"
     ]
    },
    {
     "name": "stdout",
     "output_type": "stream",
     "text": [
      "사과 의 가격은 1000원 원입니다.\n"
     ]
    }
   ],
   "source": [
    "name=input(\"과일 이름을 입력하세요.\")\n",
    "\n",
    "dict_c = {'사과':'1000원','바나나':'700원','오렌지':'1500원','파인애플':'2000원'}\n",
    "print(name,'의 가격은',dict_c[name],'원입니다.')"
   ]
  },
  {
   "cell_type": "code",
   "execution_count": 53,
   "id": "30291cdb-940d-4f8c-99e0-dac41f46b3ba",
   "metadata": {},
   "outputs": [
    {
     "name": "stdin",
     "output_type": "stream",
     "text": [
      "과일 이름을 입력하세요. 사과\n"
     ]
    },
    {
     "name": "stdout",
     "output_type": "stream",
     "text": [
      "사과의 가격은 1000원원 입니다.\n"
     ]
    }
   ],
   "source": [
    "name=input(\"과일 이름을 입력하세요.\")\n",
    "dict_c = {'사과':'1000원','바나나':'700원','오렌지':'1500원','파인애플':'2000원'}\n",
    "\n",
    "print(f\"{name}의 가격은 {dict_c[name]}원 입니다.\")\n"
   ]
  },
  {
   "cell_type": "code",
   "execution_count": 71,
   "id": "36be388b-2d85-4380-a2c6-aeed68a9fa1a",
   "metadata": {},
   "outputs": [
    {
     "name": "stdin",
     "output_type": "stream",
     "text": [
      "이름을 기입해주세요. 뽀로로 루피 크롱 스누피\n",
      "몸무게를 입력해주세요. 20.4 16.2 22.3 5.2\n"
     ]
    },
    {
     "name": "stdout",
     "output_type": "stream",
     "text": [
      "{'뽀로로': 20.4, '루피': 16.2, '크롱': 22.3, '스누피': 5.2}\n"
     ]
    }
   ],
   "source": [
    "name = input(\"이름을 기입해주세요.\").split(\" \")\n",
    "h = map(float,input(\"몸무게를 입력해주세요.\").split(' '))\n",
    "dict_v = dict(zip(name,h))\n",
    "print(dict_v)"
   ]
  },
  {
   "cell_type": "code",
   "execution_count": null,
   "id": "0663e45e-2007-4650-afd7-0ced62ef256c",
   "metadata": {},
   "outputs": [],
   "source": [
    "#이름이랑 몸무게 입력받기\n",
    "name_list = input(\"이름을 입력하세요: \").split(' ')\n",
    "weight_list = input(\"몸무게를 입력하세요: \").split(' ')\n",
    "#이름과 몸무게 매칭 딕셔너리 만들기\n",
    "weight_dict = {name_list[i]: float(weight_list[i]) for i in range(len(name_list))}\n",
    "print(weight_dict)"
   ]
  },
  {
   "cell_type": "code",
   "execution_count": 1,
   "id": "8ac20109-0510-4f9a-b142-0995246fdcac",
   "metadata": {},
   "outputs": [
    {
     "name": "stdout",
     "output_type": "stream",
     "text": [
      "<class 'list'>\n",
      "[48, 48, 33, 95]\n"
     ]
    }
   ],
   "source": [
    "list_a = [48,48,33,95]\n",
    "print(type(list_a))\n",
    "print(list_a)"
   ]
  },
  {
   "cell_type": "code",
   "execution_count": 3,
   "id": "039094a3-e454-43a9-960d-36305b7ed109",
   "metadata": {},
   "outputs": [
    {
     "name": "stdout",
     "output_type": "stream",
     "text": [
      "[]\n",
      "<class 'list'>\n"
     ]
    }
   ],
   "source": [
    "empty_list = []\n",
    "print(empty_list)\n",
    "print(type(empty_list))"
   ]
  },
  {
   "cell_type": "code",
   "execution_count": 6,
   "id": "4eca610a-149c-449d-8fab-105850e69349",
   "metadata": {},
   "outputs": [
    {
     "name": "stdin",
     "output_type": "stream",
     "text": [
      " 53 46 64\n"
     ]
    },
    {
     "name": "stdout",
     "output_type": "stream",
     "text": [
      "<class 'list'>\n",
      "[53, 46, 64]\n"
     ]
    }
   ],
   "source": [
    "list_b = list(map(int, input(\"\").split()))\n",
    "print(type(list_b))\n",
    "print(list_b)"
   ]
  },
  {
   "cell_type": "code",
   "execution_count": 7,
   "id": "570fab05-8c4f-45c4-b444-5eee34405ece",
   "metadata": {},
   "outputs": [
    {
     "data": {
      "text/plain": [
       "[0, 1, 4, 9, 16, 25, 36, 49, 64, 81]"
      ]
     },
     "execution_count": 7,
     "metadata": {},
     "output_type": "execute_result"
    }
   ],
   "source": [
    "# list :          # list comprehension\n",
    "[i **2 for i in list(range(10))]"
   ]
  },
  {
   "cell_type": "code",
   "execution_count": null,
   "id": "413b5a40-4d45-4011-899f-43a7ba3607b6",
   "metadata": {},
   "outputs": [],
   "source": [
    "list_variable = [expression for 변수 in iterable]"
   ]
  },
  {
   "cell_type": "code",
   "execution_count": 8,
   "id": "47907272-c577-44d1-b379-1e321dfada1b",
   "metadata": {},
   "outputs": [
    {
     "name": "stdout",
     "output_type": "stream",
     "text": [
      "[1, 2, 3, 4, 5, 6, 7, 8, 9]\n"
     ]
    }
   ],
   "source": [
    "list_c = [i for i in range(1, 10)]\n",
    "print(list_c)"
   ]
  },
  {
   "cell_type": "code",
   "execution_count": 13,
   "id": "f6180e8b-7c48-40ba-a5ff-f5f0e2180ead",
   "metadata": {},
   "outputs": [
    {
     "name": "stdout",
     "output_type": "stream",
     "text": [
      "<class 'list'>\n",
      "[1, 4, 9, 16, 25, 36, 49, 64, 81]\n"
     ]
    }
   ],
   "source": [
    "prac_result = [i*i for i in range(1,10)]\n",
    "print(type(prac_result))\n",
    "print(prac_result)"
   ]
  },
  {
   "cell_type": "code",
   "execution_count": 30,
   "id": "235923fb-544a-46a4-8354-f8b67247c438",
   "metadata": {},
   "outputs": [
    {
     "name": "stdout",
     "output_type": "stream",
     "text": [
      "[1, 3, 5, 7, 9]\n"
     ]
    }
   ],
   "source": [
    "prac_result2 = [ i for i in range(1,10,2)]\n",
    "print(prac_result2)"
   ]
  },
  {
   "cell_type": "code",
   "execution_count": 36,
   "id": "9ad9c231-7de9-47e5-b4f3-fe67a5e233f7",
   "metadata": {},
   "outputs": [
    {
     "name": "stdout",
     "output_type": "stream",
     "text": [
      "['a', 'b', 'c', 'd', 'e', 'f', 'g', 'h', 'i', 'j', 'k']\n"
     ]
    }
   ],
   "source": [
    "prac_result3= [ i for i in 'abcdefghijk']\n",
    "print(prac_result3)"
   ]
  },
  {
   "cell_type": "code",
   "execution_count": 3,
   "id": "181879bf-75c6-4637-8fb0-8d61a9217a9b",
   "metadata": {},
   "outputs": [
    {
     "name": "stdout",
     "output_type": "stream",
     "text": [
      "['2', '3', '4', '5', '6', '7', '8', '9', '10', 'J', 'O', 'K', 'A']\n"
     ]
    }
   ],
   "source": [
    "prac_result4 = [ str(i) for i in range(2,11)]+[i for i in 'JOKA']\n",
    "print(prac_result4)"
   ]
  },
  {
   "cell_type": "code",
   "execution_count": 10,
   "id": "05f523ea-bbdc-413c-8e17-e07c8c1ded85",
   "metadata": {},
   "outputs": [
    {
     "name": "stdout",
     "output_type": "stream",
     "text": [
      "[['2', '3', '4', '5', '6', '7', '8', '9', '10', 'J', 'O', 'K', 'A'], ['2', '3', '4', '5', '6', '7', '8', '9', '10', 'J', 'O', 'K', 'A'], ['2', '3', '4', '5', '6', '7', '8', '9', '10', 'J', 'O', 'K', 'A'], ['2', '3', '4', '5', '6', '7', '8', '9', '10', 'J', 'O', 'K', 'A']]\n"
     ]
    }
   ],
   "source": [
    "prac_result5 = [str(i) for i in range(2,11)]+[i for i in 'JOKA']\n",
    "print([prac_result5]*4)"
   ]
  },
  {
   "cell_type": "code",
   "execution_count": 11,
   "id": "d8168a68-6ee1-442d-8e85-f781a0f95dd6",
   "metadata": {},
   "outputs": [
    {
     "name": "stdout",
     "output_type": "stream",
     "text": [
      "[['2', '3', '4', '5', '6', '7', '8', '9', '10', 'J', 'O', 'K', 'A'], ['2', '3', '4', '5', '6', '7', '8', '9', '10', 'J', 'O', 'K', 'A'], ['2', '3', '4', '5', '6', '7', '8', '9', '10', 'J', 'O', 'K', 'A'], ['2', '3', '4', '5', '6', '7', '8', '9', '10', 'J', 'O', 'K', 'A']]\n"
     ]
    }
   ],
   "source": [
    "prac_result5 = [prac_result4 for _ in range(4)]\n",
    "print(prac_result5)"
   ]
  },
  {
   "cell_type": "code",
   "execution_count": 12,
   "id": "83d0c527-c17f-44d2-b474-fa05533d1c7f",
   "metadata": {},
   "outputs": [
    {
     "name": "stdout",
     "output_type": "stream",
     "text": [
      "['two', '3', '4', '5', '6', '7', '8', '9', '10', 'J', 'O', 'K', 'A']\n"
     ]
    }
   ],
   "source": [
    "prac_result4[0] = 'two'\n",
    "print(prac_result4)"
   ]
  },
  {
   "cell_type": "code",
   "execution_count": 13,
   "id": "b842288c-f34e-44c5-92a9-d7fa821454f0",
   "metadata": {},
   "outputs": [
    {
     "name": "stdout",
     "output_type": "stream",
     "text": [
      "[['two', '3', '4', '5', '6', '7', '8', '9', '10', 'J', 'O', 'K', 'A'], ['two', '3', '4', '5', '6', '7', '8', '9', '10', 'J', 'O', 'K', 'A'], ['two', '3', '4', '5', '6', '7', '8', '9', '10', 'J', 'O', 'K', 'A'], ['two', '3', '4', '5', '6', '7', '8', '9', '10', 'J', 'O', 'K', 'A']]\n"
     ]
    }
   ],
   "source": [
    "print(prac_result5)"
   ]
  },
  {
   "cell_type": "code",
   "execution_count": 14,
   "id": "71d7112f-7f08-4a35-ab16-92b238175530",
   "metadata": {},
   "outputs": [
    {
     "name": "stdout",
     "output_type": "stream",
     "text": [
      "prac_result4의 id: 1571244672960\n",
      "prac_result5[0]: 1571244672960\n",
      "prac_result5[1]: 1571244672960\n",
      "prac_result5[2]: 1571244672960\n",
      "prac_result5[3]: 1571244672960\n"
     ]
    }
   ],
   "source": [
    "print(\"prac_result4의 id:\",id(prac_result4))\n",
    "\n",
    "for i, v in enumerate(prac_result5):\n",
    "    print(\"prac_result5[\", i, \"]: \",id(v), sep=\"\")"
   ]
  },
  {
   "cell_type": "code",
   "execution_count": 15,
   "id": "04140d79-1392-4b8c-bc77-7d38d58887d3",
   "metadata": {},
   "outputs": [
    {
     "name": "stdout",
     "output_type": "stream",
     "text": [
      "prac_result4의 id: 1571244672960\n",
      "prac_result6[0]: 1571245448000\n",
      "prac_result6[1]: 1571245411072\n",
      "prac_result6[2]: 1571245453440\n",
      "prac_result6[3]: 1571245449088\n"
     ]
    }
   ],
   "source": [
    "prac_result6 = [prac_result4[:] for _ in range(4)]\n",
    "\n",
    "print(\"prac_result4의 id:\",id(prac_result4))     # [:] 슬라이싱은 새로운 객체를 만든다\n",
    "for i, v in enumerate(prac_result6):\n",
    "    print(\"prac_result6[\", i, \"]: \",id(v), sep=\"\") # 각각 다른 메모리상에 존재한다"
   ]
  },
  {
   "cell_type": "code",
   "execution_count": 16,
   "id": "ebe88d77-1d00-473b-ae72-4e512bd360c6",
   "metadata": {},
   "outputs": [
    {
     "name": "stdout",
     "output_type": "stream",
     "text": [
      "1571244669760\n",
      "1571244672000\n",
      "False\n",
      "True\n"
     ]
    }
   ],
   "source": [
    "old_list = list(range(10))    # is - 객체 간 비교함\n",
    "new_list = old_list[:]\n",
    "\n",
    "print(id(old_list))\n",
    "print(id(new_list))\n",
    "print(old_list is new_list)\n",
    "print(old_list == new_list)"
   ]
  },
  {
   "cell_type": "code",
   "execution_count": 17,
   "id": "39cd1fd7-588f-4efc-b71a-8a18e4d56d4a",
   "metadata": {},
   "outputs": [
    {
     "name": "stdout",
     "output_type": "stream",
     "text": [
      "1571245347584\n",
      "1571245454400\n",
      "False\n",
      "True\n"
     ]
    }
   ],
   "source": [
    "old_tuple = list(range(10)) \n",
    "new_tuple = old_tuple[:]\n",
    "\n",
    "print(id(old_tuple))\n",
    "print(id(new_tuple))\n",
    "print(old_tuple is new_tuple)\n",
    "print(old_tuple == new_tuple)"
   ]
  },
  {
   "cell_type": "code",
   "execution_count": 19,
   "id": "5962328c-91a4-4b9f-8664-95b869d3fea4",
   "metadata": {},
   "outputs": [
    {
     "name": "stdout",
     "output_type": "stream",
     "text": [
      "[0, 1, 8, 27, 64, 125, 216, 343, 512, 729]\n"
     ]
    }
   ],
   "source": [
    "list_d = list(i**3 for i in range(10))\n",
    "print(list_d)"
   ]
  },
  {
   "cell_type": "code",
   "execution_count": 20,
   "id": "69f9a5f0-5620-4606-be56-c0c3de61ead7",
   "metadata": {},
   "outputs": [
    {
     "name": "stdout",
     "output_type": "stream",
     "text": [
      "[0, 1, 2, 3, 4, 5, 6, 7, 8, 9]\n"
     ]
    }
   ],
   "source": [
    "list_e = [i for i in range(10)]\n",
    "print(list_e)"
   ]
  },
  {
   "cell_type": "code",
   "execution_count": 23,
   "id": "ec44f334-7750-40eb-957e-256d900e6c4f",
   "metadata": {},
   "outputs": [],
   "source": [
    "# 리스트 변수를 다른 변수에 할당해서 복사하면 객체가 아예 같다고 나옴\n",
    "# 리스트.copy() 메서드는 리스트 객체를 새롭게 복사하지만 객체는 다름\n",
    "# 리스트.copy 와 slicing은 같은 맥락"
   ]
  },
  {
   "cell_type": "code",
   "execution_count": 24,
   "id": "551b8f9f-bf67-4c96-8907-576fb81f1c3a",
   "metadata": {},
   "outputs": [
    {
     "name": "stdout",
     "output_type": "stream",
     "text": [
      "[[0], [0], [0]]\n"
     ]
    }
   ],
   "source": [
    "# 얕은 복사(shallow copy)\n",
    "list_i = [[0]] *3\n",
    "print(list_i)"
   ]
  },
  {
   "cell_type": "code",
   "execution_count": 25,
   "id": "7dfe8abd-c275-412c-8532-7f4ed0e7ca7a",
   "metadata": {},
   "outputs": [],
   "source": [
    "list_i[0][0] = 999"
   ]
  },
  {
   "cell_type": "code",
   "execution_count": 26,
   "id": "9361bde1-9276-4072-bd0c-1c5a40a01f42",
   "metadata": {},
   "outputs": [
    {
     "name": "stdout",
     "output_type": "stream",
     "text": [
      "[[999], [999], [999]]\n"
     ]
    }
   ],
   "source": [
    "print(list_i)   # 단 하나의 요소만 바꿨지만, 모든 요소의 값이 변경 - 객체로 되어있으면 메모리 주소만 복사하는 것을 얕은 복사라고 함"
   ]
  },
  {
   "cell_type": "code",
   "execution_count": 27,
   "id": "d3b2c9c3-2b6c-4435-98a5-5556851760f3",
   "metadata": {},
   "outputs": [
    {
     "name": "stdout",
     "output_type": "stream",
     "text": [
      "True\n"
     ]
    }
   ],
   "source": [
    "# 얕은 복사\n",
    "list_j = [[1,2],[3,4]]\n",
    "list_k = list_j[:]\n",
    "print(list_k[0] is list_j[0])"
   ]
  },
  {
   "cell_type": "code",
   "execution_count": 1,
   "id": "11d395db-57f1-4178-a6a1-8c2fb828604a",
   "metadata": {},
   "outputs": [
    {
     "name": "stdout",
     "output_type": "stream",
     "text": [
      "1495565303680\n",
      "1495565699200\n",
      "False\n"
     ]
    }
   ],
   "source": [
    "list_g = list(range(10))\n",
    "list_h = list_g.copy()\n",
    "print(id(list_g))\n",
    "print(id(list_h))\n",
    "print(list_g is list_h)"
   ]
  },
  {
   "cell_type": "code",
   "execution_count": 16,
   "id": "543e1396-cb29-4ce7-a073-14d44c73a443",
   "metadata": {},
   "outputs": [
    {
     "name": "stdout",
     "output_type": "stream",
     "text": [
      "True\n",
      "True\n"
     ]
    }
   ],
   "source": [
    "list_j = [[1,2], [3,4]] \n",
    "list_k = list_j[:]    # 슬라이싱 복사 껍데기 다름 값은 같음\n",
    "print(list_k[0] is list_j[0])\n",
    "print(list_k[0] == list_j[0])"
   ]
  },
  {
   "cell_type": "code",
   "execution_count": 6,
   "id": "d9bd6a2f-2700-4c66-8430-043fefb44a43",
   "metadata": {},
   "outputs": [
    {
     "name": "stdout",
     "output_type": "stream",
     "text": [
      "[[1, 4], [3, 4]]\n",
      "[[1, 4], [3, 4]]\n"
     ]
    }
   ],
   "source": [
    "list_j[0][1] = 2 ** 2\n",
    "print(list_j)\n",
    "print(list_k)"
   ]
  },
  {
   "cell_type": "code",
   "execution_count": 15,
   "id": "ffa35497-9ee2-4ca9-8996-b88fcd3050fb",
   "metadata": {},
   "outputs": [
    {
     "name": "stdout",
     "output_type": "stream",
     "text": [
      "True\n",
      "True\n"
     ]
    }
   ],
   "source": [
    "list_l = [[5, 6],[7,8]]\n",
    "list_m = list_l.copy()    # copy() 메서드로 복사 껍데기는 다름 값은 같음\n",
    "print(list_l[0] is list_m[0])\n",
    "print(list_l[0] == list_m[0])"
   ]
  },
  {
   "cell_type": "code",
   "execution_count": 10,
   "id": "8a195926-9bf4-49f0-95cb-82a2d1db78a4",
   "metadata": {},
   "outputs": [
    {
     "name": "stdout",
     "output_type": "stream",
     "text": [
      "[[5, 999], [7, 8]]\n",
      "[[5, 999], [7, 8]]\n"
     ]
    }
   ],
   "source": [
    "list_l[0][1] = 999\n",
    "print(list_l)\n",
    "print(list_m)"
   ]
  },
  {
   "cell_type": "code",
   "execution_count": 11,
   "id": "6556014b-f475-4434-84c7-d5b12209bd9b",
   "metadata": {},
   "outputs": [
    {
     "name": "stdout",
     "output_type": "stream",
     "text": [
      "False\n"
     ]
    }
   ],
   "source": [
    "# 깊은 복사 # deepcopy()를 위해서 copy 라이브러리를 필요로 함\n",
    "import copy\n",
    "list_n = [[9,10], [11,12]]\n",
    "list_o = copy.deepcopy(list_n)\n",
    "print(list_n[0] is list_o)"
   ]
  },
  {
   "cell_type": "code",
   "execution_count": 12,
   "id": "8db7a990-5114-4257-acce-e382d95f45ae",
   "metadata": {},
   "outputs": [
    {
     "name": "stdout",
     "output_type": "stream",
     "text": [
      "[[9, 999], [11, 12]]\n",
      "[[9, 10], [11, 12]]\n"
     ]
    }
   ],
   "source": [
    "list_n[0][1] = 999\n",
    "print(list_n)\n",
    "print(list_o)"
   ]
  },
  {
   "cell_type": "code",
   "execution_count": 23,
   "id": "fc6a44f9-bc71-4db7-bb71-5ceb50d8a97a",
   "metadata": {},
   "outputs": [
    {
     "name": "stdout",
     "output_type": "stream",
     "text": [
      "False\n",
      "[7, 8, (9, 10)]\n",
      "[7, 8, (9, 10)]\n"
     ]
    }
   ],
   "source": [
    "l5= [7,8,(9,10)]\n",
    "l6 = l5.copy()\n",
    "print(l5 is l6)\n",
    "l5 == l6\n",
    "print(l5)\n",
    "print(l6)"
   ]
  },
  {
   "cell_type": "code",
   "execution_count": null,
   "id": "376c64c5-cf60-4133-a78a-2f036df569b0",
   "metadata": {},
   "outputs": [],
   "source": []
  },
  {
   "cell_type": "code",
   "execution_count": null,
   "id": "3605d2de-9af4-4fd0-b31a-c7812268f487",
   "metadata": {},
   "outputs": [],
   "source": [
    " list_variable = [expression for 변수 in iterable if 조건식]"
   ]
  },
  {
   "cell_type": "code",
   "execution_count": 24,
   "id": "4cd8ea48-a996-49a7-97c7-6e4315ee108f",
   "metadata": {},
   "outputs": [
    {
     "name": "stdout",
     "output_type": "stream",
     "text": [
      "[0, 3, 6, 9]\n"
     ]
    }
   ],
   "source": [
    "list_p = [i for i in range(10) if i % 3 == 0]\n",
    "print(list_p)"
   ]
  },
  {
   "cell_type": "code",
   "execution_count": 25,
   "id": "4842782d-944b-408e-a0ab-e4f8e7872a45",
   "metadata": {},
   "outputs": [
    {
     "name": "stdout",
     "output_type": "stream",
     "text": [
      "1\n",
      "2\n",
      "3\n",
      "4\n",
      "5\n",
      "3\n",
      "4\n"
     ]
    }
   ],
   "source": [
    "# 중첩 리스트 사용하기\n",
    "easy_list = [[1,2,3,4,5],[3,4]]\n",
    "for item in easy_list:\n",
    "    for i in item:\n",
    "        print(i)"
   ]
  },
  {
   "cell_type": "code",
   "execution_count": 28,
   "id": "898d94a9-db25-47be-8f88-90fd3425199d",
   "metadata": {},
   "outputs": [
    {
     "name": "stdout",
     "output_type": "stream",
     "text": [
      "1\n",
      "2\n",
      "3\n",
      "4\n",
      "5\n",
      "3\n",
      "4\n"
     ]
    }
   ],
   "source": [
    "easy_list = [[1,2,3,4,5],[3,4]]\n",
    "i = 0\n",
    "\n",
    "while i < len(easy_list):\n",
    "    j = 0\n",
    "    while j < len(easy_list[i]):\n",
    "        print(easy_list[i][j])\n",
    "        j += 1\n",
    "    i += 1"
   ]
  },
  {
   "cell_type": "code",
   "execution_count": null,
   "id": "a3d0ca21-b4f7-4bce-89b9-07d2c742558d",
   "metadata": {},
   "outputs": [],
   "source": []
  }
 ],
 "metadata": {
  "kernelspec": {
   "display_name": "Python 3 (ipykernel)",
   "language": "python",
   "name": "python3"
  },
  "language_info": {
   "codemirror_mode": {
    "name": "ipython",
    "version": 3
   },
   "file_extension": ".py",
   "mimetype": "text/x-python",
   "name": "python",
   "nbconvert_exporter": "python",
   "pygments_lexer": "ipython3",
   "version": "3.9.13"
  },
  "toc-autonumbering": false,
  "toc-showmarkdowntxt": false
 },
 "nbformat": 4,
 "nbformat_minor": 5
}
