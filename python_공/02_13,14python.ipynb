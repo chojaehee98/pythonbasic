{
 "cells": [
  {
   "cell_type": "code",
   "execution_count": 3,
   "id": "d2d12f31-b847-4dad-81a6-aa39e0337c78",
   "metadata": {},
   "outputs": [
    {
     "name": "stdout",
     "output_type": "stream",
     "text": [
      "Hello World\n"
     ]
    }
   ],
   "source": [
    "print(\"Hello World\")"
   ]
  },
  {
   "cell_type": "code",
   "execution_count": 4,
   "id": "41d48054-f4df-45fe-89a2-bb0ef5550fef",
   "metadata": {},
   "outputs": [
    {
     "name": "stdout",
     "output_type": "stream",
     "text": [
      "1\n"
     ]
    }
   ],
   "source": [
    "x = 1\n",
    "print(x)"
   ]
  },
  {
   "cell_type": "code",
   "execution_count": 6,
   "id": "4d8f7ceb-9fb0-40f8-94fe-0e0a15e83d3a",
   "metadata": {},
   "outputs": [
    {
     "ename": "SyntaxError",
     "evalue": "invalid syntax (2965318573.py, line 4)",
     "output_type": "error",
     "traceback": [
      "\u001b[1;36m  File \u001b[1;32m\"C:\\Users\\jaehee\\AppData\\Local\\Temp\\ipykernel_5184\\2965318573.py\"\u001b[1;36m, line \u001b[1;32m4\u001b[0m\n\u001b[1;33m    text \"# 이것은 주석이 아닙니다. 따옴표 안은 문자열 리터럴 입니다\"\u001b[0m\n\u001b[1;37m         ^\u001b[0m\n\u001b[1;31mSyntaxError\u001b[0m\u001b[1;31m:\u001b[0m invalid syntax\n"
     ]
    }
   ],
   "source": [
    "# 주석 사용하기\n",
    "x = 1\n",
    "\n",
    "text \"# 이것은 주석이 아닙니다. 따옴표 안은 문자열 리터럴 입니다\"\n"
   ]
  },
  {
   "cell_type": "code",
   "execution_count": 7,
   "id": "5ccdbf00-19cb-4329-a70b-a442dd938563",
   "metadata": {},
   "outputs": [
    {
     "name": "stdout",
     "output_type": "stream",
     "text": [
      "1\n"
     ]
    }
   ],
   "source": [
    "print(x)"
   ]
  },
  {
   "cell_type": "code",
   "execution_count": 9,
   "id": "793fcfcf-2b6c-4467-b150-3679a04e3272",
   "metadata": {},
   "outputs": [
    {
     "name": "stdout",
     "output_type": "stream",
     "text": [
      "Hello, World!\n",
      "Hello, World!\n",
      "Python Programming\n"
     ]
    }
   ],
   "source": [
    "print(\"Hello, World!\")\n",
    "print(\"Hello, World!\")\n",
    "print(\"Python Programming\")"
   ]
  },
  {
   "cell_type": "code",
   "execution_count": 17,
   "id": "29624120-993d-42d2-b87d-31a52af6c5e1",
   "metadata": {},
   "outputs": [
    {
     "name": "stdout",
     "output_type": "stream",
     "text": [
      "89\n"
     ]
    }
   ],
   "source": [
    "print(13 + (22-3) * 4)"
   ]
  },
  {
   "cell_type": "raw",
   "id": "cb3dac95-8b98-4196-8b44-e1a5d57faab2",
   "metadata": {},
   "source": []
  },
  {
   "cell_type": "code",
   "execution_count": 18,
   "id": "c9ec7de7-bb1e-44bd-af71-53e0b324aaaf",
   "metadata": {},
   "outputs": [
    {
     "name": "stdout",
     "output_type": "stream",
     "text": [
      "28.2\n"
     ]
    }
   ],
   "source": [
    "print(13+((22-3)*4/5))"
   ]
  },
  {
   "cell_type": "code",
   "execution_count": 27,
   "id": "9fb3b987-fef5-4501-840f-4db2a6641e56",
   "metadata": {},
   "outputs": [
    {
     "name": "stdout",
     "output_type": "stream",
     "text": [
      "7\n"
     ]
    }
   ],
   "source": [
    "print(int(0.2467*12+4.159))"
   ]
  },
  {
   "cell_type": "code",
   "execution_count": 30,
   "id": "62a7aa52-c7e7-4428-82a4-9bac19ba1653",
   "metadata": {},
   "outputs": [
    {
     "name": "stdout",
     "output_type": "stream",
     "text": [
      "가장 시끄러운 층은 = 7 층\n"
     ]
    }
   ],
   "source": [
    "print(\"가장\",\"시끄러운\",\"층은\",\"=\",7,\"층\")"
   ]
  },
  {
   "cell_type": "code",
   "execution_count": 32,
   "id": "ef3b9296-5f0c-4f44-a52e-b886beb60d37",
   "metadata": {},
   "outputs": [
    {
     "name": "stdout",
     "output_type": "stream",
     "text": [
      "냉장고 가격은 1272000 원 입니다.\n"
     ]
    }
   ],
   "source": [
    "print(\"냉장고 가격은\",int(53000*24),\"원 입니다.\")"
   ]
  },
  {
   "cell_type": "code",
   "execution_count": 36,
   "id": "ac53bb46-f109-400a-85d7-84d0a0674480",
   "metadata": {},
   "outputs": [
    {
     "name": "stdout",
     "output_type": "stream",
     "text": [
      "냉장고 가격은 1272000 원 입니다\n"
     ]
    }
   ],
   "source": [
    "a=int(53000*24)\n",
    "print(\"냉장고 가격은\",a,\"원 입니다\")"
   ]
  },
  {
   "cell_type": "code",
   "execution_count": 45,
   "id": "11096d3d-1fcb-4d53-93d7-3a632a08f8e8",
   "metadata": {},
   "outputs": [
    {
     "name": "stdout",
     "output_type": "stream",
     "text": [
      "총 지불 해야 할 금액은 16500000 원 입니다\n"
     ]
    }
   ],
   "source": [
    "people=250\n",
    "tax=0.1\n",
    "a=int(people*20000*3*(1+tax))\n",
    "print(\"총 지불 해야 할 금액은\",a,\"원 입니다\")"
   ]
  },
  {
   "cell_type": "code",
   "execution_count": 46,
   "id": "518f616f-81da-46ff-b19a-6aa635b61ce7",
   "metadata": {},
   "outputs": [
    {
     "data": {
      "text/plain": [
       "17"
      ]
     },
     "execution_count": 46,
     "metadata": {},
     "output_type": "execute_result"
    }
   ],
   "source": [
    "0b10001"
   ]
  },
  {
   "cell_type": "code",
   "execution_count": 47,
   "id": "fa5a7bf3-2b11-46fb-ac99-c0a44eed5686",
   "metadata": {},
   "outputs": [
    {
     "data": {
      "text/plain": [
       "'0b10001'"
      ]
     },
     "execution_count": 47,
     "metadata": {},
     "output_type": "execute_result"
    }
   ],
   "source": [
    "bin(17)"
   ]
  },
  {
   "cell_type": "code",
   "execution_count": 48,
   "id": "db59254c-a9c2-4f44-8b8d-4b2b7bcf59e4",
   "metadata": {},
   "outputs": [
    {
     "data": {
      "text/plain": [
       "17"
      ]
     },
     "execution_count": 48,
     "metadata": {},
     "output_type": "execute_result"
    }
   ],
   "source": [
    "0o21"
   ]
  },
  {
   "cell_type": "code",
   "execution_count": 49,
   "id": "94180853-901d-4bca-a58e-999f74bb60da",
   "metadata": {},
   "outputs": [
    {
     "data": {
      "text/plain": [
       "'0o21'"
      ]
     },
     "execution_count": 49,
     "metadata": {},
     "output_type": "execute_result"
    }
   ],
   "source": [
    "oct(17)"
   ]
  },
  {
   "cell_type": "code",
   "execution_count": 50,
   "id": "f2ed0799-aa02-46a7-844c-d4b286624a4a",
   "metadata": {},
   "outputs": [
    {
     "data": {
      "text/plain": [
       "31"
      ]
     },
     "execution_count": 50,
     "metadata": {},
     "output_type": "execute_result"
    }
   ],
   "source": [
    "0x1f"
   ]
  },
  {
   "cell_type": "code",
   "execution_count": 51,
   "id": "fc57f619-fe0e-4625-9218-5c1f7a3281e7",
   "metadata": {},
   "outputs": [
    {
     "data": {
      "text/plain": [
       "'0x1f'"
      ]
     },
     "execution_count": 51,
     "metadata": {},
     "output_type": "execute_result"
    }
   ],
   "source": [
    "hex(31)"
   ]
  },
  {
   "cell_type": "code",
   "execution_count": 53,
   "id": "6b41a2fa-b719-403e-b70b-ee2a5389671d",
   "metadata": {},
   "outputs": [
    {
     "name": "stdout",
     "output_type": "stream",
     "text": [
      "실행 결과: 453.0\n"
     ]
    }
   ],
   "source": [
    "AP=380\n",
    "Skill=float((AP*0.6)+225)\n",
    "print(\"실행 결과:\",Skill)"
   ]
  },
  {
   "cell_type": "code",
   "execution_count": 55,
   "id": "6aa93d40-5f32-4174-9dd8-0a7cca75abee",
   "metadata": {},
   "outputs": [
    {
     "name": "stdout",
     "output_type": "stream",
     "text": [
      "30\n"
     ]
    }
   ],
   "source": [
    "a=10\n",
    "a=a+20\n",
    "print(a)"
   ]
  },
  {
   "cell_type": "code",
   "execution_count": 56,
   "id": "4397b417-84b9-4ccd-b725-77cdf65f3e03",
   "metadata": {},
   "outputs": [
    {
     "ename": "NameError",
     "evalue": "name 'a' is not defined",
     "output_type": "error",
     "traceback": [
      "\u001b[1;31m---------------------------------------------------------------------------\u001b[0m",
      "\u001b[1;31mNameError\u001b[0m                                 Traceback (most recent call last)",
      "\u001b[1;32m~\\AppData\\Local\\Temp\\ipykernel_5184\\1497285116.py\u001b[0m in \u001b[0;36m<module>\u001b[1;34m\u001b[0m\n\u001b[0;32m      1\u001b[0m \u001b[1;32mdel\u001b[0m \u001b[0ma\u001b[0m\u001b[1;33m\u001b[0m\u001b[1;33m\u001b[0m\u001b[0m\n\u001b[1;32m----> 2\u001b[1;33m \u001b[0mprint\u001b[0m\u001b[1;33m(\u001b[0m\u001b[0ma\u001b[0m\u001b[1;33m)\u001b[0m\u001b[1;33m\u001b[0m\u001b[1;33m\u001b[0m\u001b[0m\n\u001b[0m",
      "\u001b[1;31mNameError\u001b[0m: name 'a' is not defined"
     ]
    }
   ],
   "source": [
    "del a\n",
    "print(a)"
   ]
  },
  {
   "cell_type": "code",
   "execution_count": 60,
   "id": "e6782d30-4574-4a13-a521-77b9881a399e",
   "metadata": {},
   "outputs": [
    {
     "name": "stdout",
     "output_type": "stream",
     "text": [
      "20\n"
     ]
    }
   ],
   "source": [
    "a=10\n",
    "a+=10\n",
    "print(a)"
   ]
  },
  {
   "cell_type": "code",
   "execution_count": 62,
   "id": "d762f8d3-bc97-4933-a45d-ca537d2904de",
   "metadata": {},
   "outputs": [
    {
     "name": "stdout",
     "output_type": "stream",
     "text": [
      "None\n"
     ]
    }
   ],
   "source": [
    "a=None\n",
    "print(a)"
   ]
  },
  {
   "cell_type": "code",
   "execution_count": 65,
   "id": "bfc180cd-4fea-469e-8a74-40f0baf7e884",
   "metadata": {},
   "outputs": [
    {
     "data": {
      "text/plain": [
       "bool"
      ]
     },
     "execution_count": 65,
     "metadata": {},
     "output_type": "execute_result"
    }
   ],
   "source": [
    "type(True)\n",
    "type(False)"
   ]
  },
  {
   "cell_type": "code",
   "execution_count": 66,
   "id": "7f490f26-e1b8-4574-89d5-161a9f1aa0bc",
   "metadata": {},
   "outputs": [
    {
     "data": {
      "text/plain": [
       "bool"
      ]
     },
     "execution_count": 66,
     "metadata": {},
     "output_type": "execute_result"
    }
   ],
   "source": [
    "type(False)"
   ]
  },
  {
   "cell_type": "code",
   "execution_count": 3,
   "id": "d051d209-0a80-4906-8f8a-e70c8333849c",
   "metadata": {},
   "outputs": [
    {
     "name": "stdout",
     "output_type": "stream",
     "text": [
      "\"안녕\"이라는 그 인사를 듣고 나는'누구지?'라고 생각했다.\n"
     ]
    }
   ],
   "source": [
    "print(\"\\\"안녕\\\"이라는 그 인사를 듣고 나는\\'누구지?\\'라고 생각했다.\")"
   ]
  },
  {
   "cell_type": "code",
   "execution_count": 4,
   "id": "2c41be95-971d-4deb-a26f-51a1c31de533",
   "metadata": {},
   "outputs": [
    {
     "name": "stdout",
     "output_type": "stream",
     "text": [
      "\n",
      "안녕하세요.\n",
      "나는 파이썬을 공부하고 있습니다.\n",
      "반갑습니다.\n",
      "\n"
     ]
    }
   ],
   "source": [
    "s3 = \"\"\"\n",
    "안녕하세요.\n",
    "나는 파이썬을 공부하고 있습니다.\n",
    "반갑습니다.\n",
    "\"\"\"\n",
    "print(s3)"
   ]
  },
  {
   "cell_type": "code",
   "execution_count": 7,
   "id": "2598cc24-b045-4055-870d-36c6cce129c0",
   "metadata": {},
   "outputs": [
    {
     "name": "stdout",
     "output_type": "stream",
     "text": [
      "\\name\n",
      "c\\name\n"
     ]
    }
   ],
   "source": [
    "s1 = r'\\name'\n",
    "s2 = 'c\\\\name'\n",
    "print(s1)\n",
    "print(s2)"
   ]
  },
  {
   "cell_type": "code",
   "execution_count": 8,
   "id": "cbeaa593-732e-489f-a323-7a40783fd155",
   "metadata": {},
   "outputs": [
    {
     "name": "stdout",
     "output_type": "stream",
     "text": [
      "안녕하세요.\n",
      "나는 파이썬을 공부하고 있습니다.\n",
      "반갑습니다.\n",
      "\n"
     ]
    }
   ],
   "source": [
    "s4 = \"\"\"\\\n",
    "안녕하세요.\n",
    "나는 파이썬을 공부하고 있습니다.\n",
    "반갑습니다.\n",
    "\"\"\"\n",
    "print(s4)"
   ]
  },
  {
   "cell_type": "code",
   "execution_count": 14,
   "id": "94c57093-2f10-4f0c-83d7-df1fa2e4eeac",
   "metadata": {},
   "outputs": [
    {
     "name": "stdout",
     "output_type": "stream",
     "text": [
      "안녕하세요.\n",
      "나는 파이썬을 공부하고 있습니다.\n",
      "반갑습니다.\n"
     ]
    }
   ],
   "source": [
    "s2 = \"\"\"\\\n",
    "안녕하세요.\n",
    "나는 파이썬을 공부하고 있습니다.\n",
    "반갑습니다.\"\"\"\n",
    "print(s2)"
   ]
  },
  {
   "cell_type": "code",
   "execution_count": 15,
   "id": "c67c9847-47d6-4dfc-ac8f-a97d324fd31c",
   "metadata": {},
   "outputs": [
    {
     "name": "stdout",
     "output_type": "stream",
     "text": [
      "안녕하세요.\n",
      "나는 파이썬을 공부하고 있습니다.\n",
      "반갑습니다.\n"
     ]
    }
   ],
   "source": [
    "s2 = \"\"\"\\\n",
    "안녕하세요.\n",
    "나는 파이썬을 공부하고 있습니다.\n",
    "반갑습니다.\\\n",
    "\"\"\"\n",
    "print(s2)"
   ]
  },
  {
   "cell_type": "code",
   "execution_count": 17,
   "id": "ecbf2096-74ab-4dc3-947e-335f47d75793",
   "metadata": {},
   "outputs": [
    {
     "name": "stdout",
     "output_type": "stream",
     "text": [
      "\"안녕하세요.\"\n",
      "나는 파이썬을 공부하고 있습니다.\n",
      "반갑습니다.\n"
     ]
    }
   ],
   "source": [
    "s5 = \"\"\"\\\n",
    "\\\"안녕하세요.\"\n",
    "나는 파이썬을 공부하고 있습니다.\n",
    "반갑습니다.\\\n",
    "\"\"\"\n",
    "print(s5)"
   ]
  },
  {
   "cell_type": "code",
   "execution_count": 18,
   "id": "eb257c77-8c01-4a98-8ac6-1b536eb51d32",
   "metadata": {},
   "outputs": [
    {
     "name": "stdout",
     "output_type": "stream",
     "text": [
      "너무 너무 너무 너무 너무 너무 너무 너무 파이썬 공부가 즐겁습니다\n"
     ]
    }
   ],
   "source": [
    "print(\"너무 너무 너무 너무 너무 너무 너무 너무 파이썬 공부가 즐겁습니다\")"
   ]
  },
  {
   "cell_type": "code",
   "execution_count": 20,
   "id": "19ab5aed-bdc1-4b94-a277-81a88475d447",
   "metadata": {},
   "outputs": [
    {
     "name": "stdout",
     "output_type": "stream",
     "text": [
      "너무 너무 너무 너무 너무 너무 너무 너무 너무 너무 너무 너무 너무 너무 너무 너무 너무 너무 너무 너무 너무 너무 너무 너무 너무 너무 너무 너무 너무 너무 너무 너무 너무 너무 너무 너무 너무 너무 너무 너무 너무 너무 너무 너무 너무 너무 너무 너무 너무 너무 너무 너무 너무 너무 너무 너무 너무 너무 너무 너무 너무 너무 너무 너무 너무 너무 너무 너무 너무 너무 너무 너무 너무 너무 너무 너무 너무 너무 너무 너무 너무 너무 너무 너무 너무 너무 너무 너무 너무 너무 너무 너무 너무 너무 너무 너무 너무 너무 너무 너무 파이썬 공부가 즐겁습니다.\n"
     ]
    }
   ],
   "source": [
    "s6 = \"너무 \" * 100+\"파이썬 공부가 즐겁습니다.\"\n",
    "print(s6)"
   ]
  },
  {
   "cell_type": "code",
   "execution_count": 25,
   "id": "ec8cd351-fd56-4e1e-9180-898aead95b22",
   "metadata": {},
   "outputs": [
    {
     "name": "stdout",
     "output_type": "stream",
     "text": [
      "p\n",
      "y\n",
      "n\n",
      "o\n"
     ]
    }
   ],
   "source": [
    "word='python'\n",
    "print(word[0])\n",
    "# 인덱스는 0부터 시작한다\n",
    "print(word[1])\n",
    "print(word[-1])\n",
    "# 음수는 뒤에서부터 시작한다\n",
    "print(word[-2])"
   ]
  },
  {
   "cell_type": "code",
   "execution_count": 29,
   "id": "9771cc76-f4db-4233-86df-5b9b5c88bb3b",
   "metadata": {},
   "outputs": [
    {
     "name": "stdout",
     "output_type": "stream",
     "text": [
      "꺾\n"
     ]
    }
   ],
   "source": [
    "sentence = '중요한 것은 꺾이지 않는 마음'\n",
    "print(sentence[7])"
   ]
  },
  {
   "cell_type": "code",
   "execution_count": 30,
   "id": "36946400-31f4-4116-bf3e-e6447b75fb6a",
   "metadata": {},
   "outputs": [
    {
     "name": "stdout",
     "output_type": "stream",
     "text": [
      "py\n",
      "py\n",
      "py\n",
      "on\n",
      "on\n",
      "\n"
     ]
    }
   ],
   "source": [
    "word = 'python'\n",
    "print(word[0:2])\n",
    "print(word[:2])\n",
    "print(word[:-4])\n",
    "print(word[4:6])\n",
    "print(word[4:])\n",
    "print(word[-2:0])"
   ]
  },
  {
   "cell_type": "code",
   "execution_count": 31,
   "id": "adfdf4a0-ac40-4893-a8cd-e7feb528de8a",
   "metadata": {},
   "outputs": [
    {
     "name": "stdout",
     "output_type": "stream",
     "text": [
      "\n"
     ]
    }
   ],
   "source": [
    "sentence = '중요한 것은 꺾이지 않는 마음'\n",
    "print(sentence[42:])"
   ]
  },
  {
   "cell_type": "code",
   "execution_count": 32,
   "id": "9b9276e6-d852-4e5c-a0e9-b077e12cf6d4",
   "metadata": {},
   "outputs": [
    {
     "name": "stdout",
     "output_type": "stream",
     "text": [
      "꺾이지 않는 마음\n"
     ]
    }
   ],
   "source": [
    "sentence = '중요한 것은 꺾이지 않는 마음'\n",
    "print(sentence[7:16])"
   ]
  },
  {
   "cell_type": "code",
   "execution_count": 36,
   "id": "0873a4fe-59f6-44f3-9786-65944e51b91b",
   "metadata": {},
   "outputs": [
    {
     "name": "stdout",
     "output_type": "stream",
     "text": [
      "꺾이지 않는 마음\n"
     ]
    }
   ],
   "source": [
    "sentence = '중요한 것은 꺾이지 않는 마음'\n",
    "print(sentence[-9:])"
   ]
  },
  {
   "cell_type": "code",
   "execution_count": 58,
   "id": "6568438c-a01e-4c44-ba5c-735e0b8ca3e5",
   "metadata": {},
   "outputs": [
    {
     "name": "stdout",
     "output_type": "stream",
     "text": [
      "한요중\n",
      "한요중\n"
     ]
    }
   ],
   "source": [
    "sentence = '중요한 것은 꺾이지 않는 마음'\n",
    "print(sentence[2::-1])\n",
    "print(sentence[:3][::-1])"
   ]
  },
  {
   "cell_type": "code",
   "execution_count": 59,
   "id": "b9dbf7fc-23bd-4492-9b00-4ac2acd3496e",
   "metadata": {},
   "outputs": [
    {
     "name": "stdout",
     "output_type": "stream",
     "text": [
      "대단한 것은 꺾이지 않는 마음\n"
     ]
    }
   ],
   "source": [
    "sentence= '대단한' + sentence[3:]\n",
    "print(sentence)"
   ]
  },
  {
   "cell_type": "code",
   "execution_count": 64,
   "id": "b5e78df9-27a6-472d-840b-cd482980dd77",
   "metadata": {},
   "outputs": [
    {
     "name": "stdout",
     "output_type": "stream",
     "text": [
      "재밌어요재밌어요재밌어요재밌어요재밌어요재밌어요재밌어요재밌어요재밌어요재밌어요\n",
      "40\n"
     ]
    }
   ],
   "source": [
    "s7='재밌어요'*10\n",
    "print(s7)\n",
    "print(len(s7))"
   ]
  },
  {
   "cell_type": "code",
   "execution_count": 69,
   "id": "e47a8ad0-20b5-4fb4-99ae-8e22e68777af",
   "metadata": {},
   "outputs": [
    {
     "name": "stdout",
     "output_type": "stream",
     "text": [
      "[1, 4, 9, 16, 25]\n",
      "[4, 9]\n"
     ]
    }
   ],
   "source": [
    "squares = [1**2,2**2,3**2,4**2,5**2]\n",
    "print(squares)\n",
    "type(squares)\n",
    "print(squares[1:3:1])"
   ]
  },
  {
   "cell_type": "code",
   "execution_count": 71,
   "id": "a75cf748-487d-4f8d-a117-11217b873c2f",
   "metadata": {},
   "outputs": [
    {
     "name": "stdout",
     "output_type": "stream",
     "text": [
      "1\n",
      "25\n",
      "[9, 16, 25]\n"
     ]
    }
   ],
   "source": [
    "print(squares[0])\n",
    "print(squares[-1])\n",
    "print(squares[-3:])"
   ]
  },
  {
   "cell_type": "code",
   "execution_count": 73,
   "id": "df13c31a-b256-4939-a2e4-1146295a531b",
   "metadata": {},
   "outputs": [
    {
     "name": "stdout",
     "output_type": "stream",
     "text": [
      "[1, 4, 9, 16, 25, 36, 49, 64, 81, 100]\n"
     ]
    }
   ],
   "source": [
    "print(squares + [36, 49, 64, 81, 100])"
   ]
  },
  {
   "cell_type": "code",
   "execution_count": 74,
   "id": "e4297b15-97c8-4d81-8ff0-07c7ef8bb583",
   "metadata": {},
   "outputs": [
    {
     "name": "stdout",
     "output_type": "stream",
     "text": [
      "['a', 'b', 'c', 'd', 'e', 'a', 'b', 'c', 'd', 'e', 'a', 'b', 'c', 'd', 'e']\n"
     ]
    }
   ],
   "source": [
    "letters = ['a', 'b', 'c', 'd', 'e']\n",
    "print(letters * 3)"
   ]
  },
  {
   "cell_type": "code",
   "execution_count": 77,
   "id": "7f7478c1-303b-44e0-96d9-efe92c9f00dd",
   "metadata": {},
   "outputs": [
    {
     "name": "stdout",
     "output_type": "stream",
     "text": [
      "[1, 8, 27, 64, 125]\n"
     ]
    }
   ],
   "source": [
    "cubes = [1, 8, 27, 65, 125]\n",
    "cubes[3] = 4**3\n",
    "print(cubes)"
   ]
  },
  {
   "cell_type": "code",
   "execution_count": 78,
   "id": "46dd7211-a4c8-4e1b-aa4a-824a308476ce",
   "metadata": {},
   "outputs": [
    {
     "name": "stdout",
     "output_type": "stream",
     "text": [
      "['a', 'b', 'C', 'D', 'E']\n"
     ]
    }
   ],
   "source": [
    "letters[2:5] = ['C', 'D', 'E']\n",
    "print(letters)"
   ]
  },
  {
   "cell_type": "code",
   "execution_count": 79,
   "id": "355ac5df-1360-4d8d-8a75-95129b438caa",
   "metadata": {},
   "outputs": [
    {
     "name": "stdout",
     "output_type": "stream",
     "text": [
      "5\n"
     ]
    }
   ],
   "source": [
    "letters = ['a', 'b', 'c', 'd', 'e']\n",
    "print(len(letters))"
   ]
  },
  {
   "cell_type": "code",
   "execution_count": 80,
   "id": "937d90c2-1c56-4200-a36f-42f4740a2cbc",
   "metadata": {},
   "outputs": [
    {
     "name": "stdout",
     "output_type": "stream",
     "text": [
      "[['a', 'b', 'c'], [1, 2, 3]]\n"
     ]
    }
   ],
   "source": [
    "a=['a', 'b', 'c']\n",
    "n=[1, 2, 3]\n",
    "x=[a, n]\n",
    "print(x)"
   ]
  },
  {
   "cell_type": "code",
   "execution_count": 83,
   "id": "dc391369-a77d-4d49-b0e0-b49123f79649",
   "metadata": {},
   "outputs": [
    {
     "name": "stdout",
     "output_type": "stream",
     "text": [
      "b\n"
     ]
    }
   ],
   "source": [
    "print(x[0][1])"
   ]
  },
  {
   "cell_type": "code",
   "execution_count": 85,
   "id": "bc3fa807-c31b-443a-86a7-e3437258734a",
   "metadata": {},
   "outputs": [
    {
     "name": "stdout",
     "output_type": "stream",
     "text": [
      "True\n",
      "False\n"
     ]
    }
   ],
   "source": [
    "numbers=[1, 2, 3, 4, 5, 6, 7]\n",
    "print(5 in numbers)\n",
    "print(10 in numbers)"
   ]
  },
  {
   "cell_type": "code",
   "execution_count": 99,
   "id": "abdd9ac2-5aaf-4051-8619-a2e24bf34108",
   "metadata": {},
   "outputs": [
    {
     "name": "stdout",
     "output_type": "stream",
     "text": [
      "True\n",
      "False\n"
     ]
    }
   ],
   "source": [
    "scores=[88, 73, 89, 59, 77]\n",
    "int=scores[0]+scores[1]+scores[2]+scores[3]+scores[4]/4\n",
    "print(int>=60) # 평균값이 60보다 높다\n",
    "print(scores[0] >=60 and scores[1]>=60 and scores[2] >=60 and scores[3] >=60 and scores[4] >=60)"
   ]
  },
  {
   "cell_type": "code",
   "execution_count": 100,
   "id": "9d60679e-b1a3-4d43-a2d9-da40b0755a04",
   "metadata": {},
   "outputs": [
    {
     "name": "stdout",
     "output_type": "stream",
     "text": [
      "[1, 2, 3, 4, 5, 6, 7, 8]\n"
     ]
    }
   ],
   "source": [
    "numbers=[1, 2, 3, 4, 5, 6, 7]\n",
    "numbers.append(8) # 요소를 하나만 넣음\n",
    "print(numbers)"
   ]
  },
  {
   "cell_type": "code",
   "execution_count": 104,
   "id": "41993b4e-d3ca-43de-8c60-8c98470c3fac",
   "metadata": {},
   "outputs": [
    {
     "name": "stdout",
     "output_type": "stream",
     "text": [
      "[0, 1, 2, 3, 0, 4, 0, 5, 6, 7, 8, 0]\n"
     ]
    }
   ],
   "source": [
    "numbers=[1, 2, 3, 4, 5, 6, 7, 8]\n",
    "numbers.insert(0, 0)\n",
    "numbers.insert(4, 0)\n",
    "numbers.insert(6, 0)\n",
    "numbers.insert(len(numbers), 0)\n",
    "print(numbers)"
   ]
  },
  {
   "cell_type": "code",
   "execution_count": 105,
   "id": "f4429671-20c4-4469-9651-5593696d12e2",
   "metadata": {},
   "outputs": [
    {
     "name": "stdout",
     "output_type": "stream",
     "text": [
      "[0, 1, 2, 3, 0, 4, 0, 5, 6, 7, 8, 0, 9, 10, 11]\n"
     ]
    }
   ],
   "source": [
    "numbers.extend([9, 10, 11])\n",
    "print(numbers)"
   ]
  },
  {
   "cell_type": "code",
   "execution_count": 107,
   "id": "1947d1ad-78d2-45b7-83a7-7697bab731f9",
   "metadata": {},
   "outputs": [
    {
     "name": "stdout",
     "output_type": "stream",
     "text": [
      "[1, 2, 3, 4, 0, 5, 6, 7, 8, 0, 9, 10, 11]\n"
     ]
    }
   ],
   "source": [
    "numbers.remove(0) # 여럿일 경우 먼저 발견된 요소만 제거\n",
    "print(numbers)"
   ]
  },
  {
   "cell_type": "code",
   "execution_count": 114,
   "id": "88794f2e-44e4-4025-aeaf-c679948b0d3b",
   "metadata": {},
   "outputs": [
    {
     "name": "stdout",
     "output_type": "stream",
     "text": [
      "11\n"
     ]
    }
   ],
   "source": [
    "numbers=[1, 2, 3, 4, 0, 5, 6, 7, 8, 0, 9, 10, 11]\n",
    "print(numbers.pop()) # 마지막 요소 제거하면서 값을 반환"
   ]
  },
  {
   "cell_type": "code",
   "execution_count": 115,
   "id": "0cbe8da0-a1b2-49ed-9b0d-448198dfc177",
   "metadata": {},
   "outputs": [
    {
     "name": "stdout",
     "output_type": "stream",
     "text": [
      "[1, 2, 3, 4, 0, 5, 6, 7, 8, 0, 9, 10]\n"
     ]
    }
   ],
   "source": [
    "print(numbers)"
   ]
  },
  {
   "cell_type": "code",
   "execution_count": 120,
   "id": "497100bb-2a1f-4a32-80f7-d9ddef384171",
   "metadata": {},
   "outputs": [
    {
     "name": "stdout",
     "output_type": "stream",
     "text": [
      "[0, 0, 1, 2, 3, 4, 5, 6, 7, 8, 9, 10]\n"
     ]
    }
   ],
   "source": [
    "numbers.index(0)\n",
    "print(numbers)"
   ]
  },
  {
   "cell_type": "code",
   "execution_count": 119,
   "id": "5766b44e-6283-43cf-83cc-bc04007a08c9",
   "metadata": {},
   "outputs": [
    {
     "name": "stdout",
     "output_type": "stream",
     "text": [
      "[0, 0, 1, 2, 3, 4, 5, 6, 7, 8, 9, 10]\n"
     ]
    }
   ],
   "source": [
    "numbers.sort()\n",
    "print(numbers)"
   ]
  },
  {
   "cell_type": "code",
   "execution_count": 121,
   "id": "048b1dc2-b0ee-42ac-bfaa-f4cff6ea02c9",
   "metadata": {},
   "outputs": [
    {
     "name": "stdout",
     "output_type": "stream",
     "text": [
      "[8, 4, 2, 1, 2, 7]\n"
     ]
    }
   ],
   "source": [
    "reverse_test=[7, 2, 1, 2, 4, 8]\n",
    "reverse_test.reverse()\n",
    "print(reverse_test)"
   ]
  },
  {
   "cell_type": "code",
   "execution_count": 122,
   "id": "ab56ea6c-b550-4c0a-b34f-6a61a9be6f7c",
   "metadata": {},
   "outputs": [
    {
     "name": "stdout",
     "output_type": "stream",
     "text": [
      "[3, 4, 5, 6, 7]\n",
      "7\n",
      "[3, 4, 5, 6]\n",
      "6\n",
      "5\n",
      "[3, 4]\n"
     ]
    }
   ],
   "source": [
    "stack = [3, 4, 5]\n",
    "stack.append(6)\n",
    "stack.append(7)\n",
    "print(stack)\n",
    "\n",
    "print(stack.pop())\n",
    "\n",
    "print(stack)\n",
    "\n",
    "print(stack.pop())\n",
    "print(stack.pop())\n",
    "\n",
    "print(stack)"
   ]
  },
  {
   "cell_type": "code",
   "execution_count": 123,
   "id": "82b52a1d-0a8c-4367-8454-267e62edbc6c",
   "metadata": {},
   "outputs": [
    {
     "name": "stdout",
     "output_type": "stream",
     "text": [
      "[]\n"
     ]
    }
   ],
   "source": [
    "numbers.clear()\n",
    "print(numbers)"
   ]
  },
  {
   "cell_type": "code",
   "execution_count": 124,
   "id": "28bfb680-49f5-446b-b384-d6046b26085d",
   "metadata": {},
   "outputs": [
    {
     "name": "stdout",
     "output_type": "stream",
     "text": [
      "0.4171614646911621\n"
     ]
    }
   ],
   "source": [
    "import time\n",
    "\n",
    "start_time = time.time()\n",
    "test = []\n",
    "\n",
    "for _ in range(1_000_000): # 1000000번을 반복해서 tuple만듬\n",
    "    tp = (_, _) #tuple\n",
    "    test.append(tp)\n",
    "    \n",
    "print(time.time() - start_time) # 끝나는 시간 - 시작하는 시간"
   ]
  },
  {
   "cell_type": "code",
   "execution_count": 125,
   "id": "50fda4f0-9ace-483f-bb80-dea07b78b41d",
   "metadata": {},
   "outputs": [
    {
     "name": "stdout",
     "output_type": "stream",
     "text": [
      "1.3811545372009277\n"
     ]
    }
   ],
   "source": [
    "start_time = time.time()\n",
    "test = []\n",
    "for _ in range(1_000_000):\n",
    "    tp = [_, _] # list\n",
    "    test.append(tp)\n",
    "print(time.time() - start_time)"
   ]
  },
  {
   "cell_type": "code",
   "execution_count": 131,
   "id": "88ce4062-ecd3-48ec-9f43-720a7d728ee8",
   "metadata": {},
   "outputs": [
    {
     "name": "stdout",
     "output_type": "stream",
     "text": [
      "text1\n",
      "text2\n"
     ]
    }
   ],
   "source": [
    "s1, s2 = 'text1', 'text2'\n",
    "print(s1)\n",
    "print(s2)"
   ]
  },
  {
   "cell_type": "code",
   "execution_count": 133,
   "id": "a51747de-60c6-4902-a476-8680d2ab9a6a",
   "metadata": {},
   "outputs": [
    {
     "name": "stdout",
     "output_type": "stream",
     "text": [
      "이렇게 리스트도 가능합니다.\n"
     ]
    }
   ],
   "source": [
    "s3, s4, s5 = ['이렇게', '리스트도', '가능합니다.']\n",
    "print(s3, s4, s5)"
   ]
  },
  {
   "cell_type": "code",
   "execution_count": 134,
   "id": "1ed26811-2b07-4dfb-b696-bfb9ef66c2e4",
   "metadata": {},
   "outputs": [
    {
     "name": "stdout",
     "output_type": "stream",
     "text": [
      "문 자 열 도\n"
     ]
    }
   ],
   "source": [
    "s6, s7, s8, s9 = '문자열도'\n",
    "print(s6, s7, s8, s9)"
   ]
  },
  {
   "cell_type": "code",
   "execution_count": 3,
   "id": "8659c335-8d4c-471b-ade5-6a66bbdcacb3",
   "metadata": {},
   "outputs": [
    {
     "name": "stdin",
     "output_type": "stream",
     "text": [
      "Message 1111\n"
     ]
    }
   ],
   "source": [
    "input_value = input('Message')"
   ]
  },
  {
   "cell_type": "code",
   "execution_count": 4,
   "id": "e5c96440-1163-44fb-97c1-1961d665a796",
   "metadata": {},
   "outputs": [
    {
     "name": "stdout",
     "output_type": "stream",
     "text": [
      "input_value: 1111 \n",
      "type: <class 'str'>\n"
     ]
    }
   ],
   "source": [
    "print('input_value:', input_value, '\\ntype:', type(input_value))"
   ]
  },
  {
   "cell_type": "code",
   "execution_count": 5,
   "id": "cb4018b2-a64f-439b-a8dd-5b111293f5ce",
   "metadata": {},
   "outputs": [
    {
     "name": "stdout",
     "output_type": "stream",
     "text": [
      "input_value: 1111 \n",
      "type: <class 'int'>\n"
     ]
    }
   ],
   "source": [
    "input_value = int(input_value)\n",
    "print('input_value:', input_value, '\\ntype:', type(input_value))"
   ]
  },
  {
   "cell_type": "code",
   "execution_count": 144,
   "id": "974acad4-94e6-441b-87e4-0d2b87b4d775",
   "metadata": {},
   "outputs": [
    {
     "name": "stdin",
     "output_type": "stream",
     "text": [
      "1.1 1.1\n"
     ]
    },
    {
     "name": "stdout",
     "output_type": "stream",
     "text": [
      "1.1\n"
     ]
    }
   ],
   "source": [
    "input_value2 = input(1.1)\n",
    "input_value2 = float(input_value2)\n",
    "print(input_value2)"
   ]
  },
  {
   "cell_type": "code",
   "execution_count": 9,
   "id": "550e4882-2f42-4994-9f6b-30a6303efc82",
   "metadata": {},
   "outputs": [
    {
     "name": "stdin",
     "output_type": "stream",
     "text": [
      "정수를 입력해주세요: 5\n"
     ]
    },
    {
     "name": "stdout",
     "output_type": "stream",
     "text": [
      "5\n"
     ]
    }
   ],
   "source": [
    "input_value4 = int(input(\"정수를 입력해주세요:\"))\n",
    "print(input_value4)"
   ]
  },
  {
   "cell_type": "code",
   "execution_count": 25,
   "id": "def8a83d-02ab-44e1-a2fc-98288c704060",
   "metadata": {},
   "outputs": [
    {
     "name": "stdin",
     "output_type": "stream",
     "text": [
      "이름을 입력하시오: 엔코아\n"
     ]
    },
    {
     "name": "stdout",
     "output_type": "stream",
     "text": [
      "엔코아 씨, 안녕하세요?\n",
      "파이썬에 오신 것을 환영합니다\n"
     ]
    },
    {
     "name": "stdin",
     "output_type": "stream",
     "text": [
      "첫 번째 정수를 입력하세요: 300\n",
      "두 번째 정수를 입력하세요: 400\n"
     ]
    },
    {
     "name": "stdout",
     "output_type": "stream",
     "text": [
      "합계: 700\n",
      "300 와 400 의 합은 700 입니다\n"
     ]
    }
   ],
   "source": [
    "input_name = input(\"이름을 입력하시오:\")\n",
    "print('엔코아 씨, 안녕하세요?')\n",
    "print(\"파이썬에 오신 것을 환영합니다\")\n",
    "f = input(\"첫 번째 정수를 입력하세요:\")\n",
    "s = input(\"두 번째 정수를 입력하세요:\")\n",
    "r = int(f)+int(s)\n",
    "print(\"합계:\",r)\n",
    "print(f,'와',s,\"의 합은\",r,\"입니다\")"
   ]
  },
  {
   "cell_type": "code",
   "execution_count": 38,
   "id": "80133ad9-bf93-4096-bed7-9d0043ec5ec5",
   "metadata": {},
   "outputs": [
    {
     "name": "stdin",
     "output_type": "stream",
     "text": [
      "경기장은 어디입니까?: 고척\n",
      "이긴 팀은 어디입니까?: KT\n",
      "진팀은 어디입니까?: LG\n",
      "우수 선수는 누구입니까?: 강백호\n",
      "스코어는 몇대몇입니까?: 10:9\n"
     ]
    },
    {
     "name": "stdout",
     "output_type": "stream",
     "text": [
      "\n",
      "[속보]KT가10:9로 승리...\n",
      "오늘고척경기장에서 야구 경기가 있었습니다.\n",
      "KT와LG는 치열한 공방전을 펼쳤습니다.\n",
      "이 경기에서강백호가 맹활약을 했습니다.\n",
      "그 끝내KT가LG를10:9로 승리하였습니다.\n",
      "기사 끝.\n"
     ]
    }
   ],
   "source": [
    "a=input(\"경기장은 어디입니까?:\")\n",
    "b=input(\"이긴 팀은 어디입니까?:\")\n",
    "c=input(\"진팀은 어디입니까?:\")\n",
    "d=input(\"우수 선수는 누구입니까?:\")\n",
    "e=input(\"스코어는 몇대몇입니까?:\")\n",
    "\n",
    "print('\\n[속보]',b,'가',e,'로 승리...\\n오늘',a,'경기장에서 야구 경기가 있었습니다.\\n',b,'와',c,'는 치열한 공방전을 펼쳤습니다.\\n이 경기에서',d,'가 맹활약을 했습니다.\\n그 끝내',b,'가',c,'를',e,'로 승리하였습니다.\\n''기사 끝.',sep='')"
   ]
  },
  {
   "cell_type": "code",
   "execution_count": 39,
   "id": "bc746a22-c3ee-4a3d-b8e3-4ec963b273a5",
   "metadata": {},
   "outputs": [
    {
     "name": "stdout",
     "output_type": "stream",
     "text": [
      "<class 'list'>\n",
      "['1', '2', '3']\n"
     ]
    }
   ],
   "source": [
    "result = '1,2,3'.split(',')\n",
    "print(type(result))\n",
    "print(result)"
   ]
  },
  {
   "cell_type": "code",
   "execution_count": 58,
   "id": "a1ab89a6-26d2-4b19-a2b4-eddb7e7624ae",
   "metadata": {},
   "outputs": [
    {
     "name": "stdin",
     "output_type": "stream",
     "text": [
      "hh:mm:ss의 형태로 시간을 입력해주세요 12:33:23\n"
     ]
    },
    {
     "name": "stdout",
     "output_type": "stream",
     "text": [
      "시 : 12\n",
      "분 : 33\n",
      "초 : 23\n"
     ]
    }
   ],
   "source": [
    "a=input(\"hh:mm:ss의 형태로 시간을 입력해주세요\")\n",
    "a = a.split(':')\n",
    "\n",
    "print('시 :',a[0])\n",
    "print('분 :',a[1])\n",
    "print('초 :',a[2])"
   ]
  },
  {
   "cell_type": "code",
   "execution_count": 59,
   "id": "82aa0c38-a656-4fad-b4ad-63f59a6acf40",
   "metadata": {},
   "outputs": [
    {
     "data": {
      "text/plain": [
       "int"
      ]
     },
     "execution_count": 59,
     "metadata": {},
     "output_type": "execute_result"
    }
   ],
   "source": [
    "int"
   ]
  },
  {
   "cell_type": "code",
   "execution_count": 1,
   "id": "2c94b06c-0591-4d39-b799-2d29f1c6157a",
   "metadata": {},
   "outputs": [
    {
     "data": {
      "text/plain": [
       "int"
      ]
     },
     "execution_count": 1,
     "metadata": {},
     "output_type": "execute_result"
    }
   ],
   "source": [
    "int"
   ]
  },
  {
   "cell_type": "code",
   "execution_count": 2,
   "id": "a871b77d-f596-416a-9c81-7ed9b70f8cc0",
   "metadata": {},
   "outputs": [
    {
     "name": "stdout",
     "output_type": "stream",
     "text": [
      "[1, 2, 3, 4]\n"
     ]
    }
   ],
   "source": [
    "a = [1.2, 2.5, 3.7, 4.6]\n",
    "a = list(map(int, a))\n",
    "print(a)"
   ]
  },
  {
   "cell_type": "code",
   "execution_count": 2,
   "id": "1bf72321-476b-416b-bec2-a5eada786fd2",
   "metadata": {},
   "outputs": [
    {
     "name": "stdin",
     "output_type": "stream",
     "text": [
      "국어, 영어, 수학, 과학 점수를 입력해주세요. 98,100,96,100\n"
     ]
    },
    {
     "name": "stdout",
     "output_type": "stream",
     "text": [
      "평균은: 98.5 입니다\n"
     ]
    }
   ],
   "source": [
    "a=input(\"국어, 영어, 수학, 과학 점수를 입력해주세요.\")\n",
    "a = a.split(',')\n",
    "a=list(map(int,a)) # a라는 것에 대해서 함수를 다 적용해주는 map\n",
    "print(\"평균은:\",(a[0]+a[1]+a[2]+a[3])/4,\"입니다\")"
   ]
  },
  {
   "cell_type": "code",
   "execution_count": 4,
   "id": "fe3803b9-79ba-42e2-9e0c-29810f68323a",
   "metadata": {},
   "outputs": [
    {
     "name": "stdin",
     "output_type": "stream",
     "text": [
      "국어, 영어, 수학, 과학, 점수를 입력새주세요: 98,100,96,100\n"
     ]
    },
    {
     "name": "stdout",
     "output_type": "stream",
     "text": [
      "평균 점수는 98.5 입니다.\n"
     ]
    }
   ],
   "source": [
    "kor, eng, mat, sci = map(int, input(\"국어, 영어, 수학, 과학, 점수를 입력새주세요:\").split(\",\"))\n",
    "avg = (kor+eng+mat+sci)/4\n",
    "print(\"평균 점수는\",avg,\"입니다.\")"
   ]
  },
  {
   "cell_type": "code",
   "execution_count": null,
   "id": "d6e35db3-54cd-4f49-bbe5-84f1c2a1c871",
   "metadata": {},
   "outputs": [],
   "source": []
  }
 ],
 "metadata": {
  "kernelspec": {
   "display_name": "Python 3 (ipykernel)",
   "language": "python",
   "name": "python3"
  },
  "language_info": {
   "codemirror_mode": {
    "name": "ipython",
    "version": 3
   },
   "file_extension": ".py",
   "mimetype": "text/x-python",
   "name": "python",
   "nbconvert_exporter": "python",
   "pygments_lexer": "ipython3",
   "version": "3.9.13"
  }
 },
 "nbformat": 4,
 "nbformat_minor": 5
}
