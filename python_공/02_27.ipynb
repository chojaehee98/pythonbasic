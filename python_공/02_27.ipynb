{
 "cells": [
  {
   "cell_type": "code",
   "execution_count": 18,
   "id": "4f63ba07-128f-47fa-b394-8446d8d914ac",
   "metadata": {},
   "outputs": [],
   "source": [
    "import pymysql"
   ]
  },
  {
   "cell_type": "code",
   "execution_count": 32,
   "id": "f4133055-1fa4-4bb8-9215-d484708dbee3",
   "metadata": {},
   "outputs": [],
   "source": [
    "import pymysql.cursors\n",
    "\n",
    "# database 접속할 객체를 만듭니다.\n",
    "connection = pymysql.connect(host='localhost',\n",
    "                             user='root',\n",
    "                             password='python1234',\n",
    "                             database='python',\n",
    "                             cursorclass=pymysql.cursors.DictCursor)"
   ]
  },
  {
   "cell_type": "code",
   "execution_count": 30,
   "id": "e31c1648-4c62-4496-8da7-8f049db32176",
   "metadata": {},
   "outputs": [],
   "source": [
    "with connection:\n",
    "    with connection.cursor() as cursor:\n",
    "        # 새로운 값을 삽입합니다.\n",
    "        sql = \"INSERT INTO `users` (`email`, `password`) VALUES (%s, %s)\"\n",
    "        cursor.execute(sql, ('webmaster@python.org', 'very-secret'))\n",
    "\n",
    "    connection.commit()"
   ]
  },
  {
   "cell_type": "code",
   "execution_count": 33,
   "id": "702788fb-baf6-4ad7-ae3e-c1394996b49b",
   "metadata": {},
   "outputs": [
    {
     "name": "stdout",
     "output_type": "stream",
     "text": [
      "{'id': 1, 'password': 'very-secret'}\n"
     ]
    }
   ],
   "source": [
    "with connection:\n",
    "    with connection.cursor() as cursor:\n",
    "        # 데이터를 불러옵니다.\n",
    "        sql = \"SELECT `id`, `password` FROM `users` WHERE `email`=%s\"\n",
    "        cursor.execute(sql, ('webmaster@python.org',))\n",
    "        result = cursor.fetchone()\n",
    "        print(result)"
   ]
  },
  {
   "cell_type": "code",
   "execution_count": null,
   "id": "9b1b8784-2191-4b46-b319-e9c55228eaed",
   "metadata": {},
   "outputs": [],
   "source": [
    "# 예외(Exception):코드를 실행하다 실행불가로 에러가 뜸\n",
    "# 예외 처리 , try, except : 예외가 발생해도 프로그램의 중단 없이 계속 실행되도록 처리하는 것\n",
    "try:\n",
    "    실행할 코드\n",
    "except:\n",
    "    에러 발생 시 실행할 코드"
   ]
  },
  {
   "cell_type": "code",
   "execution_count": 16,
   "id": "b8364312-d88e-4133-9d66-7f239c26aba4",
   "metadata": {},
   "outputs": [
    {
     "name": "stdout",
     "output_type": "stream",
     "text": [
      "0으로 나눌 수 없습니다.\n"
     ]
    }
   ],
   "source": [
    "try:\n",
    "    # 나눗셈 연산 시 0ㅇ로 나누면 에러 발생\n",
    "    result = 128/0\n",
    "    print(f\"연산의 결과는{result}입니다.\")\n",
    "except:\n",
    "    print('0으로 나눌 수 없습니다.')"
   ]
  },
  {
   "cell_type": "code",
   "execution_count": 19,
   "id": "2651f9c5-c0dd-4402-b134-216840342eaf",
   "metadata": {},
   "outputs": [
    {
     "name": "stdin",
     "output_type": "stream",
     "text": [
      "숫자 두개를 입력하세요. 2\n"
     ]
    },
    {
     "name": "stdout",
     "output_type": "stream",
     "text": [
      "값을 잘못 입력하셨습니다.\n"
     ]
    }
   ],
   "source": [
    "try:\n",
    "    x,y = input(\"숫자 두개를 입력하세요.\").split()\n",
    "    print(f\"{x},{y}입니다\")\n",
    "except:\n",
    "    print(\"값을 잘못 입력하셨습니다.\")"
   ]
  },
  {
   "cell_type": "code",
   "execution_count": 20,
   "id": "99cacf8c-d548-4a30-9f0a-f53f64699e71",
   "metadata": {},
   "outputs": [
    {
     "name": "stdout",
     "output_type": "stream",
     "text": [
      "Wall time: 997 µs\n"
     ]
    }
   ],
   "source": [
    "%%time\n",
    "\n",
    "a = []\n",
    "for _ in range(1000):\n",
    "    a.append((_,_,_))"
   ]
  },
  {
   "cell_type": "code",
   "execution_count": 24,
   "id": "1a7004d5-87fa-4255-b2f4-d6b88add5051",
   "metadata": {},
   "outputs": [
    {
     "name": "stdout",
     "output_type": "stream",
     "text": [
      "0으로 나눌 수 없습니다\n",
      "division by zero\n"
     ]
    }
   ],
   "source": [
    "x = range(4)\n",
    "\n",
    "try:\n",
    "    for i in range(4):\n",
    "        y = 10 / x[i]\n",
    "except ZeroDivisionError as e:\n",
    "    print('0으로 나눌 수 없습니다')\n",
    "    print(e)\n",
    "except IndexError as e:\n",
    "    print('인덱스 에러 발생')\n",
    "    print(e)"
   ]
  },
  {
   "cell_type": "code",
   "execution_count": 25,
   "id": "d9dd3971-668b-4414-9b66-3ae8801e830f",
   "metadata": {},
   "outputs": [
    {
     "name": "stdout",
     "output_type": "stream",
     "text": [
      "인덱스 에러 발생\n",
      "range object index out of range\n"
     ]
    }
   ],
   "source": [
    "x = range(1,4)      # as라는 키워드를 써서 별칭을 만들고 그 별칭을 통해 메세지를 출력\n",
    "\n",
    "try:\n",
    "    for i in range(4):\n",
    "        y = 10 / x[i]\n",
    "except ZeroDivisionError as e:\n",
    "    print('0으로 나눌 수 없습니다')\n",
    "    print(e)\n",
    "except IndexError as e:\n",
    "    print('인덱스 에러 발생')\n",
    "    print(e)"
   ]
  },
  {
   "cell_type": "code",
   "execution_count": 26,
   "id": "c1a941a3-0634-4734-99ab-1b396bd854d4",
   "metadata": {},
   "outputs": [
    {
     "name": "stdout",
     "output_type": "stream",
     "text": [
      "에러 없이 실행되었습니다\n"
     ]
    }
   ],
   "source": [
    "x = range(1,5)\n",
    "\n",
    "try:\n",
    "    for i in range(4):\n",
    "        y = 10 / x[i]\n",
    "except ZeroDivisionError as e:\n",
    "    print('0으로 나눌 수 없습니다')\n",
    "    print(e)\n",
    "except IndexError as e:\n",
    "    print('인덱스 에러 발생')\n",
    "    print(e)\n",
    "else:\n",
    "    print(\"에러 없이 실행되었습니다\")"
   ]
  },
  {
   "cell_type": "code",
   "execution_count": 29,
   "id": "8e6c38d0-9dd8-4e02-98ac-e7b9bf605e34",
   "metadata": {},
   "outputs": [
    {
     "name": "stdin",
     "output_type": "stream",
     "text": [
      "정수 2개를 입력하세요:  10\n"
     ]
    },
    {
     "name": "stdout",
     "output_type": "stream",
     "text": [
      "값을 잘못 입력하셨습니다\n"
     ]
    }
   ],
   "source": [
    "try:\n",
    "    x,y = map(int,input(\"정수 2개를 입력하세요: \").split())\n",
    "    result = x / y\n",
    "except ZeroDivisionError as e:\n",
    "    print(\"0으로 나눌 수 없습니다.\")\n",
    "    print(e)\n",
    "except ValueError as e:\n",
    "    print(\"값을 잘못 입력하셨습니다\")\n",
    "    print(e)\n",
    "else:\n",
    "    print(result)"
   ]
  },
  {
   "cell_type": "code",
   "execution_count": 52,
   "id": "ace854ea-c0ad-4320-8677-05b16292ee17",
   "metadata": {},
   "outputs": [
    {
     "name": "stdout",
     "output_type": "stream",
     "text": [
      "무조건 실행됩니다.\n"
     ]
    },
    {
     "ename": "KeyError",
     "evalue": "",
     "output_type": "error",
     "traceback": [
      "\u001b[1;31m---------------------------------------------------------------------------\u001b[0m",
      "\u001b[1;31mKeyError\u001b[0m                                  Traceback (most recent call last)",
      "\u001b[1;32m~\\AppData\\Local\\Temp\\ipykernel_10092\\3430492921.py\u001b[0m in \u001b[0;36m<module>\u001b[1;34m\u001b[0m\n\u001b[0;32m      2\u001b[0m \u001b[1;33m\u001b[0m\u001b[0m\n\u001b[0;32m      3\u001b[0m \u001b[1;32mtry\u001b[0m\u001b[1;33m:\u001b[0m\u001b[1;33m\u001b[0m\u001b[1;33m\u001b[0m\u001b[0m\n\u001b[1;32m----> 4\u001b[1;33m     \u001b[1;32mraise\u001b[0m \u001b[0mKeyError\u001b[0m\u001b[1;33m\u001b[0m\u001b[1;33m\u001b[0m\u001b[0m\n\u001b[0m\u001b[0;32m      5\u001b[0m \u001b[1;32mfinally\u001b[0m\u001b[1;33m:\u001b[0m\u001b[1;33m\u001b[0m\u001b[1;33m\u001b[0m\u001b[0m\n\u001b[0;32m      6\u001b[0m     \u001b[0mprint\u001b[0m\u001b[1;33m(\u001b[0m\u001b[1;34m\"무조건 실행됩니다.\"\u001b[0m\u001b[1;33m)\u001b[0m\u001b[1;33m\u001b[0m\u001b[1;33m\u001b[0m\u001b[0m\n",
      "\u001b[1;31mKeyError\u001b[0m: "
     ]
    }
   ],
   "source": [
    "# 예외 처리, finally\n",
    "\n",
    "try:\n",
    "    raise KeyError\n",
    "finally:\n",
    "    print(\"무조건 실행됩니다.\")"
   ]
  },
  {
   "cell_type": "code",
   "execution_count": 53,
   "id": "6f601c88-336c-4260-9c0b-d5c535a4d5d4",
   "metadata": {},
   "outputs": [
    {
     "name": "stdin",
     "output_type": "stream",
     "text": [
      "정수 2개를 입력하세요:  10 5\n"
     ]
    },
    {
     "name": "stdout",
     "output_type": "stream",
     "text": [
      "2.0\n",
      "프로그램을 종료합니다\n"
     ]
    }
   ],
   "source": [
    "try:\n",
    "    x,y = map(int,input(\"정수 2개를 입력하세요: \").split())\n",
    "    result = x / y\n",
    "except ZeroDivisionError as e:\n",
    "    print(\"0으로 나눌 수 없습니다.\")\n",
    "    print(e)\n",
    "except ValueError as e:\n",
    "    print(\"값을 잘못 입력하셨습니다\")\n",
    "    print(e)\n",
    "else:\n",
    "    print(result)\n",
    "finally:\n",
    "    print(\"프로그램을 종료합니다\")"
   ]
  },
  {
   "cell_type": "code",
   "execution_count": null,
   "id": "cc40b187-1af6-4987-a2e1-422c167678d7",
   "metadata": {},
   "outputs": [],
   "source": []
  }
 ],
 "metadata": {
  "kernelspec": {
   "display_name": "Python 3 (ipykernel)",
   "language": "python",
   "name": "python3"
  },
  "language_info": {
   "codemirror_mode": {
    "name": "ipython",
    "version": 3
   },
   "file_extension": ".py",
   "mimetype": "text/x-python",
   "name": "python",
   "nbconvert_exporter": "python",
   "pygments_lexer": "ipython3",
   "version": "3.9.13"
  }
 },
 "nbformat": 4,
 "nbformat_minor": 5
}
