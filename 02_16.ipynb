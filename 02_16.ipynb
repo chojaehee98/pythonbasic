{
 "cells": [
  {
   "cell_type": "code",
   "execution_count": 1,
   "id": "ce0f0f91-9bbb-40fe-bda6-aad8356bedb8",
   "metadata": {},
   "outputs": [],
   "source": [
    "# range 변수 = range(시작,끝, 증감크기)\n",
    "# 시퀀스(슬라이싱)자료형 변수 [시작, 끝, 증감크기]"
   ]
  },
  {
   "cell_type": "code",
   "execution_count": 2,
   "id": "b4285c17-a4f2-4c6b-85c1-bf1e23e66ff4",
   "metadata": {},
   "outputs": [
    {
     "name": "stdout",
     "output_type": "stream",
     "text": [
      "[2, 4, 6, 8, 10, 12, 14, 16, 18, 20, 22, 24, 26, 28, 30, 32, 34, 36, 38, 40, 42, 44, 46, 48, 50, 52, 54, 56, 58, 60, 62, 64, 66, 68, 70, 72, 74, 76, 78, 80, 82, 84, 86, 88, 90, 92, 94, 96, 98]\n"
     ]
    }
   ],
   "source": [
    "even_numbers = list(range(2,100,2))\n",
    "print(even_numbers)"
   ]
  },
  {
   "cell_type": "code",
   "execution_count": 3,
   "id": "f64f2a06-80b6-4c92-94db-35ae4a606996",
   "metadata": {},
   "outputs": [
    {
     "data": {
      "text/plain": [
       "list"
      ]
     },
     "execution_count": 3,
     "metadata": {},
     "output_type": "execute_result"
    }
   ],
   "source": [
    "type(even_numbers)"
   ]
  },
  {
   "cell_type": "code",
   "execution_count": 6,
   "id": "1376cce9-7ce6-4982-947f-a951bc2b089c",
   "metadata": {},
   "outputs": [],
   "source": [
    "# range 객체 = 실제로 존재하는 것(메모리상에)\n",
    "#원하는 시퀀스 항목(요소)\n",
    "#요소들을 만들어 두는 것이 아니라 필요할 때 그때그때 다음 요소 반환\n",
    "# 객체 루핑(순서대로 다 꺼냄)할 때 좋음, 무한x 유한일 때"
   ]
  },
  {
   "cell_type": "code",
   "execution_count": 7,
   "id": "8663f71d-3e7d-4c5f-889c-477c168b90f7",
   "metadata": {},
   "outputs": [],
   "source": [
    "# for i in range(len(문자열)):  파이썬\n",
    "   # 명령어\n",
    "# for (int i=0; i < 문자열.length(); i++) {\n",
    "# 명령어\n",
    "# } 자바"
   ]
  },
  {
   "cell_type": "code",
   "execution_count": 12,
   "id": "2274dedb-ff98-4593-9d19-47b4003b7759",
   "metadata": {},
   "outputs": [
    {
     "name": "stdout",
     "output_type": "stream",
     "text": [
      "0\n",
      "1\n",
      "2\n",
      "3\n",
      "4\n",
      "5\n",
      "6\n",
      "7\n",
      "8\n",
      "9\n"
     ]
    },
    {
     "data": {
      "text/plain": [
       "int"
      ]
     },
     "execution_count": 12,
     "metadata": {},
     "output_type": "execute_result"
    }
   ],
   "source": [
    "for n in range(10):\n",
    "     print(n)\n",
    "type(n)"
   ]
  },
  {
   "cell_type": "code",
   "execution_count": 14,
   "id": "809bcda2-4508-44f1-8a8e-eefa7c4fa9f0",
   "metadata": {},
   "outputs": [
    {
     "name": "stdout",
     "output_type": "stream",
     "text": [
      "Hello World0\n",
      "Hello World1\n",
      "Hello World2\n"
     ]
    }
   ],
   "source": [
    "for i in range(3):\n",
    "    print(f\"Hello World{i}\")"
   ]
  },
  {
   "cell_type": "code",
   "execution_count": 23,
   "id": "c0c49dda-d0c3-498f-bd5f-69603bf33db9",
   "metadata": {},
   "outputs": [
    {
     "name": "stdout",
     "output_type": "stream",
     "text": [
      "Hello World 1\n",
      "Hello World 2\n",
      "Hello World 3\n",
      "Hello World 4\n",
      "Hello World 5\n",
      "Hello World 6\n",
      "Hello World 7\n",
      "Hello World 8\n",
      "Hello World 9\n",
      "Hello World 10\n",
      "Hello World 11\n",
      "Hello World 12\n",
      "Hello World 13\n",
      "Hello World 14\n",
      "Hello World 15\n",
      "Hello World 16\n",
      "Hello World 17\n",
      "Hello World 18\n",
      "Hello World 19\n",
      "Hello World 20\n",
      "Hello World 21\n",
      "Hello World 22\n",
      "Hello World 23\n",
      "Hello World 24\n",
      "Hello World 25\n",
      "Hello World 26\n",
      "Hello World 27\n",
      "Hello World 28\n",
      "Hello World 29\n",
      "Hello World 30\n",
      "Hello World 31\n",
      "Hello World 32\n",
      "Hello World 33\n",
      "Hello World 34\n",
      "Hello World 35\n",
      "Hello World 36\n",
      "Hello World 37\n",
      "Hello World 38\n",
      "Hello World 39\n",
      "Hello World 40\n",
      "Hello World 41\n",
      "Hello World 42\n",
      "Hello World 43\n",
      "Hello World 44\n",
      "Hello World 45\n",
      "Hello World 46\n",
      "Hello World 47\n",
      "Hello World 48\n",
      "Hello World 49\n",
      "Hello World 50\n",
      "Hello World 51\n",
      "Hello World 52\n",
      "Hello World 53\n",
      "Hello World 54\n",
      "Hello World 55\n",
      "Hello World 56\n",
      "Hello World 57\n",
      "Hello World 58\n",
      "Hello World 59\n",
      "Hello World 60\n",
      "Hello World 61\n",
      "Hello World 62\n",
      "Hello World 63\n",
      "Hello World 64\n",
      "Hello World 65\n",
      "Hello World 66\n",
      "Hello World 67\n",
      "Hello World 68\n",
      "Hello World 69\n",
      "Hello World 70\n",
      "Hello World 71\n",
      "Hello World 72\n",
      "Hello World 73\n",
      "Hello World 74\n",
      "Hello World 75\n",
      "Hello World 76\n",
      "Hello World 77\n",
      "Hello World 78\n",
      "Hello World 79\n",
      "Hello World 80\n",
      "Hello World 81\n",
      "Hello World 82\n",
      "Hello World 83\n",
      "Hello World 84\n",
      "Hello World 85\n",
      "Hello World 86\n",
      "Hello World 87\n",
      "Hello World 88\n",
      "Hello World 89\n",
      "Hello World 90\n",
      "Hello World 91\n",
      "Hello World 92\n",
      "Hello World 93\n",
      "Hello World 94\n",
      "Hello World 95\n",
      "Hello World 96\n",
      "Hello World 97\n",
      "Hello World 98\n",
      "Hello World 99\n",
      "Hello World 100\n"
     ]
    }
   ],
   "source": [
    "for i in range(1,101):\n",
    "    print(f\"Hello World {i}\")"
   ]
  },
  {
   "cell_type": "code",
   "execution_count": 25,
   "id": "e2f5ae43-f87f-4f3e-b4f8-c067aa28f941",
   "metadata": {},
   "outputs": [
    {
     "name": "stdin",
     "output_type": "stream",
     "text": [
      "인사 몇 번 해드릴까요? 3\n"
     ]
    },
    {
     "name": "stdout",
     "output_type": "stream",
     "text": [
      "Hello World\n",
      "Hello World\n",
      "Hello World\n"
     ]
    }
   ],
   "source": [
    "user=int(input(\"인사 몇 번 해드릴까요?\"))\n",
    "\n",
    "for user in range(user):\n",
    "    print(\"Hello World\")"
   ]
  },
  {
   "cell_type": "code",
   "execution_count": 26,
   "id": "29bd4770-d9a1-4e7f-b925-909f24e16ca7",
   "metadata": {},
   "outputs": [
    {
     "name": "stdin",
     "output_type": "stream",
     "text": [
      "몇번 해 3\n"
     ]
    },
    {
     "name": "stdout",
     "output_type": "stream",
     "text": [
      "Hello World 1\n",
      "Hello World 2\n",
      "Hello World 3\n"
     ]
    }
   ],
   "source": [
    "count = int(input(\"몇번 해\"))\n",
    "\n",
    "for _ in range(1, count+1):\n",
    "    print(\"Hello World\",_)"
   ]
  },
  {
   "cell_type": "code",
   "execution_count": 29,
   "id": "579675a4-b111-4087-803f-ba623adb5e92",
   "metadata": {},
   "outputs": [
    {
     "name": "stdout",
     "output_type": "stream",
     "text": [
      "[5, 6, 7, 8, 9]\n"
     ]
    }
   ],
   "source": [
    "i = list(range(5,10))\n",
    "print(i)"
   ]
  },
  {
   "cell_type": "code",
   "execution_count": 31,
   "id": "be0cd5db-043a-45db-a7ea-eb6503aa0048",
   "metadata": {},
   "outputs": [
    {
     "name": "stdout",
     "output_type": "stream",
     "text": [
      "[0, 3, 6, 9]\n"
     ]
    }
   ],
   "source": [
    "i = list(range(0,10,3))\n",
    "print(i)"
   ]
  },
  {
   "cell_type": "code",
   "execution_count": 34,
   "id": "f04a79d9-d20d-4ba4-9b3b-d455ebd7d216",
   "metadata": {},
   "outputs": [
    {
     "name": "stdout",
     "output_type": "stream",
     "text": [
      "[-10, -40, -70]\n"
     ]
    }
   ],
   "source": [
    "i = list(range(-10,-100,-30))\n",
    "print(i)"
   ]
  },
  {
   "cell_type": "code",
   "execution_count": 55,
   "id": "04bc64f3-927a-416d-b146-85473a3fe6c0",
   "metadata": {},
   "outputs": [
    {
     "name": "stdin",
     "output_type": "stream",
     "text": [
      "자연수 하나 입력해주세요: 6\n"
     ]
    },
    {
     "name": "stdout",
     "output_type": "stream",
     "text": [
      "6\t6\t6\t6\t6\t6\t\n",
      "5\t5\t5\t5\t5\t\n",
      "4\t4\t4\t4\t\n",
      "3\t3\t3\t\n",
      "2\t2\t\n",
      "1\t\n"
     ]
    }
   ],
   "source": [
    "i=int(input(\"자연수 하나 입력해주세요:\"))\n",
    "\n",
    "for i in range(i,0,-1):\n",
    "    print(i*\"{0}\\t\".format(i))\n",
    "    "
   ]
  },
  {
   "cell_type": "code",
   "execution_count": 62,
   "id": "e5156fa7-d9a2-4b4d-b27c-a87eb0927e60",
   "metadata": {},
   "outputs": [
    {
     "name": "stdin",
     "output_type": "stream",
     "text": [
      "자연수 하나 입력해주세요: 6\n"
     ]
    },
    {
     "name": "stdout",
     "output_type": "stream",
     "text": [
      "6\t6\t6\t6\t6\t6\t\n",
      "5\t5\t5\t5\t5\t\n",
      "4\t4\t4\t4\t\n",
      "3\t3\t3\t\n",
      "2\t2\t\n",
      "1\t\n"
     ]
    }
   ],
   "source": [
    "i=int(input(\"자연수 하나 입력해주세요:\"))\n",
    "\n",
    "for i in range(i,0,-1):\n",
    "    print(f\"{i}\\t\"*i)\n",
    "    "
   ]
  },
  {
   "cell_type": "code",
   "execution_count": 64,
   "id": "d80dd3a9-6445-44b8-9fe3-318c1e2f27ef",
   "metadata": {},
   "outputs": [
    {
     "name": "stdin",
     "output_type": "stream",
     "text": [
      "자연수 6\n"
     ]
    },
    {
     "name": "stdout",
     "output_type": "stream",
     "text": [
      "6\t6\t6\t6\t6\t6\t\n",
      "5\t5\t5\t5\t5\t\n",
      "4\t4\t4\t4\t\n",
      "3\t3\t3\t\n",
      "2\t2\t\n",
      "1\t\n"
     ]
    }
   ],
   "source": [
    "int_value = int(input(\"자연수\"))\n",
    "for i in range(int_value,0,-1):\n",
    "    for j in range(i):\n",
    "        print(i, end='\\t')\n",
    "    print()"
   ]
  },
  {
   "cell_type": "code",
   "execution_count": 85,
   "id": "c975bdb8-21be-4f34-94df-5e8739dff12b",
   "metadata": {},
   "outputs": [
    {
     "name": "stdout",
     "output_type": "stream",
     "text": [
      "**********\n",
      "*        *\n",
      "*        *\n",
      "*        *\n",
      "*        *\n",
      "*        *\n",
      "*        *\n",
      "*        *\n",
      "*        *\n",
      "**********\n"
     ]
    }
   ],
   "source": [
    "for i in range(10):\n",
    "    if i ==0 or i ==9:\n",
    "        print(\"*\" * 10)\n",
    "    else:\n",
    "        print('*        *')"
   ]
  },
  {
   "cell_type": "code",
   "execution_count": 113,
   "id": "b1f1e4a7-29e5-4245-90c4-59e90945a579",
   "metadata": {},
   "outputs": [
    {
     "name": "stdin",
     "output_type": "stream",
     "text": [
      "1부터 입력한 자연수까지의 모든 홀수의 합을 구합니다 100\n"
     ]
    },
    {
     "name": "stdout",
     "output_type": "stream",
     "text": [
      "1+3+5+7+9+11+13+15+17+19+21+23+25+27+29+31+33+35+37+39+41+43+45+47+49+51+53+55+57+59+61+63+65+67+69+71+73+75+77+79+81+83+85+87+89+91+93+95+97+99 = 2500\n"
     ]
    }
   ],
   "source": [
    "a=int(input(\"1부터 입력한 자연수까지의 모든 홀수의 합을 구합니다\"))\n",
    "print(\"1\", end='')\n",
    "result=1\n",
    "for i in range(3,101,2):\n",
    "    print(f\"+{i}\",end='')\n",
    "    result += i\n",
    "print(f\" = {result}\")\n",
    " "
   ]
  },
  {
   "cell_type": "code",
   "execution_count": null,
   "id": "f056b985-c64d-4d7d-bab8-56bc92de6c50",
   "metadata": {},
   "outputs": [],
   "source": [
    "# 선생님 풀이\n",
    "a=int(input(\"1부터 입력한 자연수까지의 모든 홀수의 합을 구합니다\"))\n",
    "result = 0\n",
    "for i in range(1, a+1):\n",
    "    if i % 2 ==1:\n",
    "        if (a-1) == i or a ==i:\n",
    "            print(i,end='=')\n",
    "        else:\n",
    "            print(i,end='+')\n",
    "        result += 1\n",
    "print(result)"
   ]
  },
  {
   "cell_type": "code",
   "execution_count": 119,
   "id": "c5f91167-36fb-48d0-b1b1-e8fab49f3550",
   "metadata": {},
   "outputs": [
    {
     "name": "stdin",
     "output_type": "stream",
     "text": [
      "계승을 구할 숫자를 입력하세요. 4\n"
     ]
    },
    {
     "name": "stdout",
     "output_type": "stream",
     "text": [
      "24\n"
     ]
    }
   ],
   "source": [
    "value=int(input(\"계승을 구할 숫자를 입력하세요.\"))\n",
    "result=1\n",
    "for i in range(2,value+1):\n",
    "    result*=i\n",
    "print(result)"
   ]
  },
  {
   "cell_type": "code",
   "execution_count": 120,
   "id": "c9a17dbb-8c31-40b6-8ab9-80e53af1e971",
   "metadata": {},
   "outputs": [
    {
     "name": "stdout",
     "output_type": "stream",
     "text": [
      "시\n",
      "미\n",
      "라\n",
      "레\n",
      "솔\n",
      "도\n",
      "파\n"
     ]
    }
   ],
   "source": [
    "for _ in ['시', '미', '라', '레', '솔', '도', '파']:\n",
    "    print(_)"
   ]
  },
  {
   "cell_type": "code",
   "execution_count": 121,
   "id": "3312e792-c379-4789-831b-97eab2809c86",
   "metadata": {},
   "outputs": [
    {
     "name": "stdout",
     "output_type": "stream",
     "text": [
      "파 도 솔 레 미 시 "
     ]
    }
   ],
   "source": [
    "for _ in('파', '도', '솔', '레','미','시'):\n",
    "    print(_, end=' ')"
   ]
  },
  {
   "cell_type": "code",
   "execution_count": 122,
   "id": "da48071d-61d1-4a45-88c7-b47fd1b09057",
   "metadata": {},
   "outputs": [
    {
     "name": "stdout",
     "output_type": "stream",
     "text": [
      "일 이 삼 사 오 육 칠 팔 구 십 "
     ]
    }
   ],
   "source": [
    "for _ in \"일이삼사오육칠팔구십\":\n",
    "    print(_, end=\" \")"
   ]
  },
  {
   "cell_type": "code",
   "execution_count": 123,
   "id": "f8bc9cd6-b79c-4541-a1cb-84750dbf6c1e",
   "metadata": {},
   "outputs": [
    {
     "name": "stdout",
     "output_type": "stream",
     "text": [
      "십 구 팔 칠 육 오 사 삼 이 일 "
     ]
    }
   ],
   "source": [
    "for _ in reversed(\"일이삼사오육칠팔구십\"):\n",
    "    print(_, end=\" \")"
   ]
  },
  {
   "cell_type": "code",
   "execution_count": 126,
   "id": "643d2bfe-ab9c-43ff-9bdd-c483c2187a51",
   "metadata": {},
   "outputs": [
    {
     "name": "stdout",
     "output_type": "stream",
     "text": [
      "100 -420 250 1030 210 770 240 "
     ]
    }
   ],
   "source": [
    "for _ in [10, -42, 25, 103, 21, 77, 24]:\n",
    "    print(_*10,end=' ')"
   ]
  },
  {
   "cell_type": "code",
   "execution_count": 146,
   "id": "6841b3c2-791a-424f-ba98-a0937f91f4c3",
   "metadata": {},
   "outputs": [
    {
     "name": "stdin",
     "output_type": "stream",
     "text": [
      "구구단을 알려드립니다.숫자를 입력하세요. 9\n"
     ]
    },
    {
     "name": "stdout",
     "output_type": "stream",
     "text": [
      "9*1=9\n",
      "9*2=18\n",
      "9*3=27\n",
      "9*4=36\n",
      "9*5=45\n",
      "9*6=54\n",
      "9*7=63\n",
      "9*8=72\n",
      "9*9=81\n"
     ]
    }
   ],
   "source": [
    "n=int(input(\"구구단을 알려드립니다.숫자를 입력하세요.\"))\n",
    "result=0\n",
    "\n",
    "for _ in range(1,10):    \n",
    "    result=n*_\n",
    "    print(f'{n}*{_}={result}')\n",
    "    # print (n,'*'"
   ]
  },
  {
   "cell_type": "code",
   "execution_count": 153,
   "id": "72cc89ed-c486-4641-b2b7-47a78a7e3b4b",
   "metadata": {},
   "outputs": [
    {
     "name": "stdin",
     "output_type": "stream",
     "text": [
      "자연수를 입력해주세요: 100\n"
     ]
    },
    {
     "name": "stdout",
     "output_type": "stream",
     "text": [
      "5050\n"
     ]
    }
   ],
   "source": [
    "n=int(input(\"자연수를 입력해주세요:\"))\n",
    "\n",
    "result=0\n",
    "for _ in range(1,n+1):\n",
    "    result += _\n",
    "print(result)"
   ]
  },
  {
   "cell_type": "code",
   "execution_count": 168,
   "id": "8075f6f5-1af9-424a-9f9b-a4e9ca839060",
   "metadata": {},
   "outputs": [
    {
     "name": "stdout",
     "output_type": "stream",
     "text": [
      "*****\n",
      "*****\n",
      "*****\n",
      "*****\n",
      "*****\n"
     ]
    }
   ],
   "source": [
    "i='*'\n",
    "for _ in range(5):\n",
    "    print(i*5)\n"
   ]
  },
  {
   "cell_type": "code",
   "execution_count": 169,
   "id": "dba78f51-9d08-4798-8fd2-ac45d2801155",
   "metadata": {},
   "outputs": [
    {
     "name": "stdout",
     "output_type": "stream",
     "text": [
      "*****\n",
      "*****\n",
      "*****\n",
      "*****\n",
      "*****\n"
     ]
    }
   ],
   "source": [
    "for j in range(5):\n",
    "    for i in range(5):\n",
    "        print('*',end='')\n",
    "    print()"
   ]
  },
  {
   "cell_type": "code",
   "execution_count": 171,
   "id": "06bc898c-a3d0-4fb5-983c-a6ca3b5b76db",
   "metadata": {},
   "outputs": [],
   "source": [
    "# i=0\n",
    "# while i < 100:\n",
    "#   print(\"Hello World\")\n",
    "#   i +=1"
   ]
  },
  {
   "cell_type": "code",
   "execution_count": 1,
   "id": "154d2174-66d3-464c-ab51-9414ccd7eae1",
   "metadata": {
    "tags": []
   },
   "outputs": [
    {
     "name": "stdout",
     "output_type": "stream",
     "text": [
      "Hell World\n",
      "Hell World\n",
      "Hell World\n",
      "Hell World\n",
      "Hell World\n",
      "Hell World\n",
      "Hell World\n",
      "Hell World\n",
      "Hell World\n",
      "Hell World\n"
     ]
    }
   ],
   "source": [
    "i=0\n",
    "while i < 10:\n",
    "    print(\"Hell World\")\n",
    "    i +=1"
   ]
  },
  {
   "cell_type": "code",
   "execution_count": 3,
   "id": "d6035dae-8065-4458-a80f-4a6a20f983bf",
   "metadata": {},
   "outputs": [
    {
     "name": "stdin",
     "output_type": "stream",
     "text": [
      "반복할 횟수를 입력하세요: 3\n"
     ]
    },
    {
     "name": "stdout",
     "output_type": "stream",
     "text": [
      "Hello World 3\n",
      "Hello World 2\n",
      "Hello World 1\n"
     ]
    }
   ],
   "source": [
    "count = int(input(\"반복할 횟수를 입력하세요:\"))\n",
    "\n",
    "while count > 0:\n",
    "    print(\"Hello World\",count)\n",
    "    count -=1"
   ]
  },
  {
   "cell_type": "code",
   "execution_count": 20,
   "id": "d2ee0d98-5605-4105-bb46-acfd63390789",
   "metadata": {},
   "outputs": [
    {
     "name": "stdout",
     "output_type": "stream",
     "text": [
      "2\t4\t6\t8\t10\t12\t14\t16\t18\t20\t22\t24\t26\t28\t30\t32\t34\t36\t38\t40\t42\t44\t46\t48\t50\t52\t54\t56\t58\t60\t62\t64\t66\t68\t70\t72\t74\t76\t78\t80\t82\t84\t86\t88\t90\t92\t94\t96\t98\t100\t"
     ]
    }
   ],
   "source": [
    "i = 2\n",
    "while i <= 100:\n",
    "    print(i,end='\\t')\n",
    "    i += 2"
   ]
  },
  {
   "cell_type": "code",
   "execution_count": 31,
   "id": "3a5f390a-b003-4ef1-ba07-9e68a5d12962",
   "metadata": {},
   "outputs": [
    {
     "name": "stdin",
     "output_type": "stream",
     "text": [
      "구구단을 알려드립니다.숫자를 입력하세요 9\n"
     ]
    },
    {
     "name": "stdout",
     "output_type": "stream",
     "text": [
      "9 * 1 = 9\n",
      "9 * 2 = 18\n",
      "9 * 3 = 27\n",
      "9 * 4 = 36\n",
      "9 * 5 = 45\n",
      "9 * 6 = 54\n",
      "9 * 7 = 63\n",
      "9 * 8 = 72\n",
      "9 * 9 = 81\n"
     ]
    }
   ],
   "source": [
    "n=int(input(\"구구단을 알려드립니다.숫자를 입력하세요\"))\n",
    "i = 1\n",
    "\n",
    "while i<10:\n",
    "    print(n,'*',i,'=',n*i)\n",
    "    i += 1"
   ]
  },
  {
   "cell_type": "code",
   "execution_count": 33,
   "id": "9bb9411f-ba06-41d9-8232-89bde26a3f11",
   "metadata": {},
   "outputs": [
    {
     "name": "stdout",
     "output_type": "stream",
     "text": [
      "97\n",
      "100\n",
      "77\n"
     ]
    }
   ],
   "source": [
    "scores = (97, 100,77)\n",
    "for _ in range(len(scores)):\n",
    "    print(scores[_])"
   ]
  },
  {
   "cell_type": "code",
   "execution_count": 34,
   "id": "68221dc0-2e48-4894-a9df-3b02ff244c24",
   "metadata": {},
   "outputs": [
    {
     "name": "stdout",
     "output_type": "stream",
     "text": [
      "97\n",
      "100\n",
      "77\n"
     ]
    }
   ],
   "source": [
    "scores = (97, 100, 77)\n",
    "i = 0\n",
    "while i < len(scores):\n",
    "    print(scores[i])\n",
    "    i += 1"
   ]
  }
 ],
 "metadata": {
  "kernelspec": {
   "display_name": "Python 3 (ipykernel)",
   "language": "python",
   "name": "python3"
  },
  "language_info": {
   "codemirror_mode": {
    "name": "ipython",
    "version": 3
   },
   "file_extension": ".py",
   "mimetype": "text/x-python",
   "name": "python",
   "nbconvert_exporter": "python",
   "pygments_lexer": "ipython3",
   "version": "3.9.13"
  }
 },
 "nbformat": 4,
 "nbformat_minor": 5
}
