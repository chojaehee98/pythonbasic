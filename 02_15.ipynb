{
 "cells": [
  {
   "cell_type": "code",
   "execution_count": 2,
   "id": "498f8708-29ea-4786-b6d5-fe0850c80d72",
   "metadata": {},
   "outputs": [
    {
     "name": "stdout",
     "output_type": "stream",
     "text": [
      "value 1 1.1 [1, 2, 'text']\n"
     ]
    }
   ],
   "source": [
    "print(\"value\",1,1.1,[1,2,'text'])"
   ]
  },
  {
   "cell_type": "code",
   "execution_count": 3,
   "id": "d9345e81-5328-4a6e-b911-eeaf7182b8a1",
   "metadata": {},
   "outputs": [
    {
     "name": "stdout",
     "output_type": "stream",
     "text": [
      "value,1,1.1,[1, 2, 'text']\n"
     ]
    }
   ],
   "source": [
    "print(\"value\",1,1.1,[1,2,'text'],sep=',')"
   ]
  },
  {
   "cell_type": "code",
   "execution_count": 4,
   "id": "7786a92e-8057-4fb4-8334-e9c77e0d28a6",
   "metadata": {},
   "outputs": [
    {
     "name": "stdout",
     "output_type": "stream",
     "text": [
      "줄이 바뀌지 않습니다그 이유는 end='\\n'과 같이 기본 설정된 값을 빈 스트링으로 변경하기 때문입니다.\n",
      "sep,end는 맨 뒤에 써야하며 둘 간 순서는 상관없다.어떻게 사용하는지\n",
      "이해가 되시나요?"
     ]
    }
   ],
   "source": [
    "print(\"줄이 바뀌지 않습니다\",end='')\n",
    "print(\"그 이유는 end=\\'\\\\n\\'과 같이 기본 설정된 값을 빈 스트링으로 변경하기 때문입니다.\")\n",
    "print('sep','end는 맨 뒤에 써야하며 둘 간 순서는 상관없다.',sep=',', end='')\n",
    "print('어떻게 사용하는지','이해가 되시나요',sep='\\n',end='?')"
   ]
  },
  {
   "cell_type": "code",
   "execution_count": 13,
   "id": "f22ebdc7-ae21-4d6a-9612-b37e058f8292",
   "metadata": {},
   "outputs": [
    {
     "name": "stdout",
     "output_type": "stream",
     "text": [
      "2021/02/03 18:33:23"
     ]
    }
   ],
   "source": [
    "year = '2021'\n",
    "month = '02'\n",
    "day = '03'\n",
    "hour='18'\n",
    "minute='33'\n",
    "second='23'\n",
    "\n",
    "print(year,month,day,sep='/',end=' ')\n",
    "print(hour,minute,second,sep=':',end='')"
   ]
  },
  {
   "cell_type": "code",
   "execution_count": 20,
   "id": "12a1c8d5-5ba8-4497-8912-7f0176655ca3",
   "metadata": {},
   "outputs": [
    {
     "name": "stdin",
     "output_type": "stream",
     "text": [
      "사과와 귤을 몇개 드릴까요? 10,20\n"
     ]
    },
    {
     "name": "stdout",
     "output_type": "stream",
     "text": [
      "총 가격은 14000 원입니다.\n"
     ]
    }
   ],
   "source": [
    "a,b=map(int,input(\"사과와 귤을 몇개 드릴까요?\").split(','))\n",
    "c=1000*a+200*b\n",
    "print(\"총 가격은\",c,\"원입니다.\")"
   ]
  },
  {
   "cell_type": "code",
   "execution_count": 24,
   "id": "c10257d0-ed1e-4b25-a621-4c5b56579075",
   "metadata": {},
   "outputs": [
    {
     "name": "stdout",
     "output_type": "stream",
     "text": [
      "오늘의 날짜를 알려드립니다!\n",
      "2023년 2월 15일입니다.\n"
     ]
    }
   ],
   "source": [
    "import time\n",
    "\n",
    "today = \"\"\"오늘의 날짜를 알려드립니다!\n",
    "{}년 {}월 {}일입니다.\\\n",
    "\"\"\".format(time.localtime().tm_year,\n",
    "           time.localtime().tm_mon,\n",
    "           time.localtime().tm_mday)\n",
    "print(today)"
   ]
  },
  {
   "cell_type": "code",
   "execution_count": 28,
   "id": "f4346bf5-7955-424c-a465-0098bfaaf291",
   "metadata": {},
   "outputs": [
    {
     "name": "stdout",
     "output_type": "stream",
     "text": [
      "중괄호는 2개이고, 여기 3개 입니다.\n"
     ]
    }
   ],
   "source": [
    "some_str = \"중괄호는 2개이고, {0} {2}\" .format(\"여기\",\"인수는\",\"3개 입니다.\")\n",
    "print(some_str)"
   ]
  },
  {
   "cell_type": "code",
   "execution_count": 33,
   "id": "678c1a95-3f9c-4c52-9fed-32041dc1d302",
   "metadata": {},
   "outputs": [
    {
     "name": "stdout",
     "output_type": "stream",
     "text": [
      "중괄호는 4개이고, 여기 여기 여기 여기\n"
     ]
    }
   ],
   "source": [
    "some_str = \"중괄호는 4개이고, {0} {0} {0} {0}\".format(\"여기\",\"인수는\",\"3개 입니다.\")\n",
    "print(some_str)"
   ]
  },
  {
   "cell_type": "code",
   "execution_count": 36,
   "id": "2cc81325-67ae-47f7-8bb4-28088c3deac9",
   "metadata": {},
   "outputs": [
    {
     "name": "stdout",
     "output_type": "stream",
     "text": [
      "10\n",
      "10 20 30\n"
     ]
    }
   ],
   "source": [
    "print(f\"{10}\")\n",
    "print(f\"{10} {20} {30}\")"
   ]
  },
  {
   "cell_type": "code",
   "execution_count": null,
   "id": "896fcc0f-fd39-4c77-8ea9-fdcad8655562",
   "metadata": {},
   "outputs": [],
   "source": [
    "import time\n",
    "a=time.localtime().tm_year\n",
    "b=time.localtime().tm_mon\n",
    "c=time.localtime().tm_mday\n",
    "today =f\n",
    "\n"
   ]
  },
  {
   "cell_type": "code",
   "execution_count": 39,
   "id": "c1c4febb-2fa2-4d10-a559-ec22c7068cbc",
   "metadata": {},
   "outputs": [
    {
     "name": "stdout",
     "output_type": "stream",
     "text": [
      "Hello World\n"
     ]
    }
   ],
   "source": [
    "is_greet = True\n",
    "if is_greet:\n",
    "    print(\"Hello World\")"
   ]
  },
  {
   "cell_type": "code",
   "execution_count": 3,
   "id": "098d5a7a-5a49-430e-b395-6d8247fc8b99",
   "metadata": {},
   "outputs": [
    {
     "name": "stdout",
     "output_type": "stream",
     "text": [
      "a는 정수이다\n"
     ]
    }
   ],
   "source": [
    "a=100\n",
    "if type(a) is int:\n",
    "    print(\"a는 정수이다\")"
   ]
  },
  {
   "cell_type": "code",
   "execution_count": 5,
   "id": "a6469f76-0a85-4404-ba2b-701a0991bbab",
   "metadata": {},
   "outputs": [
    {
     "name": "stdout",
     "output_type": "stream",
     "text": [
      "정수입니다.\n"
     ]
    }
   ],
   "source": [
    "b=10\n",
    "if type(b) is int:\n",
    "    print(\"정수입니다.\")\n",
    "    \n",
    "elif type(b) is str:\n",
    "    print(\"문자열입니다.\")"
   ]
  },
  {
   "cell_type": "code",
   "execution_count": 8,
   "id": "8a3db841-e453-4e4d-82cb-534679063a17",
   "metadata": {},
   "outputs": [
    {
     "name": "stdout",
     "output_type": "stream",
     "text": [
      "10보다 작고, 5보다도 작습니다\n"
     ]
    }
   ],
   "source": [
    "c=1\n",
    "if c >10:\n",
    "    print(\"10보다 큽니다\")\n",
    "elif c<5:\n",
    "          print(\"10보다 작고, 5보다도 작습니다\")"
   ]
  },
  {
   "cell_type": "code",
   "execution_count": 9,
   "id": "541e5da0-e825-4f78-a957-c8e787c39677",
   "metadata": {},
   "outputs": [
    {
     "name": "stdout",
     "output_type": "stream",
     "text": [
      "불혹입니다\n"
     ]
    }
   ],
   "source": [
    "age=40\n",
    "\n",
    "if 20<=age<30:\n",
    "    print(\"20대 입니다\")\n",
    "elif 30<=age<40:\n",
    "    print(\"30대 입니다\")\n",
    "else:\n",
    "    print(\"불혹입니다\")"
   ]
  },
  {
   "cell_type": "code",
   "execution_count": 18,
   "id": "f2a310fb-94d7-4bb1-98be-03a2ed18e4d4",
   "metadata": {},
   "outputs": [
    {
     "name": "stdin",
     "output_type": "stream",
     "text": [
      "아이디를 입력하세요: biana\n",
      "회원 등급을 입력해주세요: 3\n"
     ]
    },
    {
     "name": "stdout",
     "output_type": "stream",
     "text": [
      "제한적인 권한을 갖습니다.\n"
     ]
    }
   ],
   "source": [
    "user='admin'\n",
    "b=input(\"아이디를 입력하세요:\")\n",
    "\n",
    "if b==user:\n",
    "    print(\"최고 관리자, 모든 권한을 갖습니다.\")\n",
    "else:\n",
    "    a=int(input(\"회원 등급을 입력해주세요:\"))\n",
    "    if 1<=a<=3:\n",
    "        print(\"제한적인 권한을 갖습니다.\")\n",
    "    else:\n",
    "        print(\"권한이 없습니다.\")"
   ]
  },
  {
   "cell_type": "code",
   "execution_count": 23,
   "id": "c56b8e9f-35ca-41bc-b14f-2fd3305f3776",
   "metadata": {},
   "outputs": [
    {
     "ename": "SyntaxError",
     "evalue": "invalid syntax (3654892438.py, line 7)",
     "output_type": "error",
     "traceback": [
      "\u001b[1;36m  File \u001b[1;32m\"C:\\Users\\jaehee\\AppData\\Local\\Temp\\ipykernel_5200\\3654892438.py\"\u001b[1;36m, line \u001b[1;32m7\u001b[0m\n\u001b[1;33m    else result>=0:\u001b[0m\n\u001b[1;37m         ^\u001b[0m\n\u001b[1;31mSyntaxError\u001b[0m\u001b[1;31m:\u001b[0m invalid syntax\n"
     ]
    }
   ],
   "source": [
    "user=int(input(\"자연수 하나를 입력하세요\"))\n",
    "\n",
    "result=user-50\n",
    "if result<0:\n",
    "        result=0\n",
    "        print(0)\n",
    "else result>=0:\n",
    "    print(result)\n",
    "\n"
   ]
  },
  {
   "cell_type": "code",
   "execution_count": 21,
   "id": "4e8fc9e7-b513-41bb-b990-203eb93162f0",
   "metadata": {},
   "outputs": [
    {
     "name": "stdin",
     "output_type": "stream",
     "text": [
      "자연수 하나를 입력 23123923423\n"
     ]
    },
    {
     "name": "stdout",
     "output_type": "stream",
     "text": [
      "홀수\n"
     ]
    }
   ],
   "source": [
    "user=int(input(\"자연수 하나를 입력\"))\n",
    "result=user%2\n",
    "\n",
    "if result==0:\n",
    "    print(\"짝수\")\n",
    "else:\n",
    "    print(\"홀수\")"
   ]
  },
  {
   "cell_type": "code",
   "execution_count": 2,
   "id": "953969bb-e112-4cb2-a21e-f47868031e05",
   "metadata": {},
   "outputs": [
    {
     "name": "stdin",
     "output_type": "stream",
     "text": [
      "소프트웨어 설계 점수를 입력하세요. 60\n",
      "소프트웨어 개발 점수를 입력하세요. 60\n",
      "데이터베이스 구축 점수를 입력하세요. 60\n",
      "프로그래밍 언어 활용 점수를 입력하세요. 60\n",
      "정보시스템 구축관리 점수를 입력하세요. 60\n"
     ]
    },
    {
     "name": "stdout",
     "output_type": "stream",
     "text": [
      "합격\n"
     ]
    }
   ],
   "source": [
    "a=int(input(\"소프트웨어 설계 점수를 입력하세요.\"))\n",
    "b=int(input(\"소프트웨어 개발 점수를 입력하세요.\"))\n",
    "c=int(input(\"데이터베이스 구축 점수를 입력하세요.\"))\n",
    "d=int(input(\"프로그래밍 언어 활용 점수를 입력하세요.\"))\n",
    "e=int(input(\"정보시스템 구축관리 점수를 입력하세요.\"))\n",
    "\n",
    "if (0<=a<=100 and 0<=b<=100 and 0<=c<=100 and 0<=d<=100 and 0<=e<=100):\n",
    "    result=(a+b+c+d+e)/5\n",
    "    if result>=60:\n",
    "        print(\"합격\")\n",
    "    else:\n",
    "        print(\"불합격\")\n",
    "else :\n",
    "    print(\"잘못된 점수입니다\")\n"
   ]
  },
  {
   "cell_type": "code",
   "execution_count": 33,
   "id": "3cad2374-4e3f-4ee3-9afb-dfcc4b558cfe",
   "metadata": {},
   "outputs": [
    {
     "name": "stdin",
     "output_type": "stream",
     "text": [
      "소프트웨어 설계 점수를 입력하세요. -1\n",
      "소프트웨어 개발 점수를 입력하세요. 5\n",
      "데이터베이스 구축 점수를 입력하세요. 243\n",
      "프로그래밍 언어 활용 점수를 입력하세요. 54\n",
      "정보시스템 구축관리 점수를 입력하세요. 345\n"
     ]
    },
    {
     "name": "stdout",
     "output_type": "stream",
     "text": [
      "잘못된 정수입니다.\n"
     ]
    }
   ],
   "source": [
    "a=int(input(\"소프트웨어 설계 점수를 입력하세요.\"))\n",
    "b=int(input(\"소프트웨어 개발 점수를 입력하세요.\"))\n",
    "c=int(input(\"데이터베이스 구축 점수를 입력하세요.\"))\n",
    "d=int(input(\"프로그래밍 언어 활용 점수를 입력하세요.\"))\n",
    "e=int(input(\"정보시스템 구축관리 점수를 입력하세요.\"))\n",
    "\n",
    "if (0<=a<=100 and 0<=b<=100 and 0<=c<=100 and 0<=d<=100 and 0<=e<=100):\n",
    "    avg=(a+b+c+d+e)/5\n",
    "    if avg >=60:\n",
    "        print(\"합격\")\n",
    "    else:\n",
    "        print(\"불합격\")\n",
    "else:\n",
    "    print(\"잘못된 정수입니다.\")"
   ]
  },
  {
   "cell_type": "code",
   "execution_count": 8,
   "id": "ebe2a8ca-abb7-4659-a068-c6546a1bbf65",
   "metadata": {},
   "outputs": [
    {
     "name": "stdin",
     "output_type": "stream",
     "text": [
      "현재 물의 온도를 입력해주세요 -0.12\n"
     ]
    },
    {
     "name": "stdout",
     "output_type": "stream",
     "text": [
      "고체로 예상됩니다\n"
     ]
    }
   ],
   "source": [
    "o=float(input(\"현재 물의 온도를 입력해주세요\"))\n",
    "\n",
    "if 100<=o:\n",
    "    print(\"기체로 예상됩니다\")\n",
    "elif 0<=o<100:\n",
    "    print(\"액체로 예상됩니다\")\n",
    "else:\n",
    "    print(\"고체로 예상됩니다\")"
   ]
  },
  {
   "cell_type": "code",
   "execution_count": 12,
   "id": "82317884-280b-420a-95ee-b03c59206e18",
   "metadata": {},
   "outputs": [
    {
     "name": "stdin",
     "output_type": "stream",
     "text": [
      "자신의 나이를 입력하세요: 19\n"
     ]
    },
    {
     "name": "stdout",
     "output_type": "stream",
     "text": [
      "1500원\n"
     ]
    }
   ],
   "source": [
    "user=int(input(\"자신의 나이를 입력하세요:\"))\n",
    "         \n",
    "if user>=19:\n",
    "    print(\"1500원\")\n",
    "elif 18>=user>=12:\n",
    "    print(\"1100원\")\n",
    "elif 6<=user<=11:\n",
    "    print(\"800원\")\n",
    "else:\n",
    "    print(\"무임승차입니다.\")"
   ]
  },
  {
   "cell_type": "code",
   "execution_count": 24,
   "id": "6efaf60d-b449-4c90-9312-34df2948abb8",
   "metadata": {},
   "outputs": [
    {
     "name": "stdin",
     "output_type": "stream",
     "text": [
      "발주 수량을 입력하세요: 2001\n"
     ]
    },
    {
     "name": "stdout",
     "output_type": "stream",
     "text": [
      "2001개를 주문하셨습니다.\n",
      "적용 할인율은 20%입니다.\n",
      "총 발주 금액은 $16008입니다.\n"
     ]
    }
   ],
   "source": [
    "p=int(input(\"발주 수량을 입력하세요:\"))\n",
    "print(p,\"개를 주문하셨습니다.\",sep='')\n",
    "a=p*10\n",
    "o=int(a*0.5)\n",
    "i=int(a*0.9)\n",
    "u=int(a*0.8)\n",
    "if 1000>p:\n",
    "    print(\"총 발주 금액은 $\",a,\"입니다.\",sep='')\n",
    "elif p<1500:\n",
    "    print(\"적용 할인율은 5%입니다.\")\n",
    "    print(\"총 발주 금액은 $\",o,\"입니다.\",sep='')\n",
    "elif p<2000:\n",
    "    print(\"적용 할인율은 10%입니다.\")\n",
    "    print(\"총 발주 금액은 $\",i,\"입니다.\",sep='')\n",
    "else:\n",
    "    print(\"적용 할인율은 20%입니다.\")\n",
    "    print(\"총 발주 금액은 $\",u,\"입니다.\",sep='')"
   ]
  },
  {
   "cell_type": "code",
   "execution_count": 47,
   "id": "eafbe5e3-2c70-4018-ae65-7bbf57d21c47",
   "metadata": {},
   "outputs": [
    {
     "name": "stdin",
     "output_type": "stream",
     "text": [
      "주민번호 뒷자리를 입력하세요: 1234567\n"
     ]
    },
    {
     "name": "stdout",
     "output_type": "stream",
     "text": [
      "잘못된 입력입니다.\n"
     ]
    }
   ],
   "source": [
    "numbers=list(input(\"주민번호 뒷자리를 입력하세요:\"))\n",
    "f_numbers=numbers[0]\n",
    "\n",
    "if (f_numbers==1 or f_numbers==3):\n",
    "    print(\"남자입니다\")\n",
    "elif(f_numbers==2 or f_numbers==4):\n",
    "    print(\"여자입니다\")\n",
    "elif len(numbers)!=7:\n",
    "    print(\"자리수를 잘못 입력했습니다.\")\n",
    "else:\n",
    "    print(\"잘못된 입력입니다.\")"
   ]
  },
  {
   "cell_type": "code",
   "execution_count": 45,
   "id": "135c4147-9094-4c0d-b809-e93b46523919",
   "metadata": {},
   "outputs": [
    {
     "name": "stdin",
     "output_type": "stream",
     "text": [
      "확인할 연도를 입력하세요: 1100\n"
     ]
    },
    {
     "name": "stdout",
     "output_type": "stream",
     "text": [
      "평년입네다.\n"
     ]
    }
   ],
   "source": [
    "year=int(input(\"확인할 연도를 입력하세요:\"))\n",
    "\n",
    "if (year%100==0 and year%400!=0):\n",
    "    print(\"평년입네다.\")\n",
    "elif year%4==0:\n",
    "    print(\"윤년\")\n",
    "else:\n",
    "    print(\"평년\")\n"
   ]
  },
  {
   "cell_type": "code",
   "execution_count": 54,
   "id": "4f6ec218-8392-40bc-bc77-8bda6ddb166e",
   "metadata": {},
   "outputs": [
    {
     "name": "stdin",
     "output_type": "stream",
     "text": [
      "확인할 연도를 입력하세요: 1100\n"
     ]
    },
    {
     "name": "stdout",
     "output_type": "stream",
     "text": [
      "평년\n"
     ]
    }
   ],
   "source": [
    "year=int(input(\"확인할 연도를 입력하세요:\"))\n",
    "\n",
    "if (year%100==0 and year%400!=0) or year%4!=0:\n",
    "    print(\"평년\")\n",
    "else:\n",
    "    print(\"윤년\")"
   ]
  },
  {
   "cell_type": "code",
   "execution_count": 55,
   "id": "5b007058-3dea-4d7e-992c-c987941be857",
   "metadata": {},
   "outputs": [
    {
     "name": "stdout",
     "output_type": "stream",
     "text": [
      "[0, 1, 2, 3, 4, 5, 6, 7]\n",
      "[0, 1, 2, 3, 4, 5, 6, 7]\n"
     ]
    }
   ],
   "source": [
    "# 함수를 호출할 때 소괄호를 사용한다.\n",
    "# 인수(arguments)가 여럿일 때 콤마로 구분한다.\n",
    "# range(시작하는 숫자(포함),끝숫자(미포함),증감)\n",
    "# range는 규칙된 숫자를 만드는데 특화되어 있다.\n",
    "print(list(range(0,8,1)))\n",
    "print(list(range(8)))\n"
   ]
  },
  {
   "cell_type": "code",
   "execution_count": null,
   "id": "b960887e-6977-46b2-be08-bfcb316ffe3f",
   "metadata": {},
   "outputs": [],
   "source": [
    "for n in range(1000):\n",
    "    print(\"hello\")"
   ]
  },
  {
   "cell_type": "code",
   "execution_count": null,
   "id": "d8ebfabe-5a2e-4a90-8b5e-e04d51862841",
   "metadata": {},
   "outputs": [],
   "source": []
  }
 ],
 "metadata": {
  "kernelspec": {
   "display_name": "Python 3 (ipykernel)",
   "language": "python",
   "name": "python3"
  },
  "language_info": {
   "codemirror_mode": {
    "name": "ipython",
    "version": 3
   },
   "file_extension": ".py",
   "mimetype": "text/x-python",
   "name": "python",
   "nbconvert_exporter": "python",
   "pygments_lexer": "ipython3",
   "version": "3.9.13"
  }
 },
 "nbformat": 4,
 "nbformat_minor": 5
}
