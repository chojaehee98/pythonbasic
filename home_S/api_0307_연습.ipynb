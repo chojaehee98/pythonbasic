{
 "cells": [
  {
   "cell_type": "code",
   "execution_count": 1,
   "id": "f35d66d8-f683-4325-bda8-7456b19dc5ab",
   "metadata": {},
   "outputs": [],
   "source": [
    "import requests"
   ]
  },
  {
   "cell_type": "code",
   "execution_count": 2,
   "id": "f2cbc8bb-9d62-4e06-ba44-0558aad29d09",
   "metadata": {},
   "outputs": [],
   "source": [
    "url = \"http://apis.data.go.kr/B551177/AviationStatsByAirline\n",
    "response = requests.get()"
   ]
  },
  {
   "cell_type": "code",
   "execution_count": 3,
   "id": "6ec44806-13a4-4b58-8edc-f2437a7f3c92",
   "metadata": {},
   "outputs": [
    {
     "data": {
      "text/plain": [
       "500"
      ]
     },
     "execution_count": 3,
     "metadata": {},
     "output_type": "execute_result"
    }
   ],
   "source": [
    "response.status_code"
   ]
  },
  {
   "cell_type": "code",
   "execution_count": 4,
   "id": "a4d331ab-f7f6-4a0b-998c-f54319210386",
   "metadata": {},
   "outputs": [],
   "source": [
    "import requests\n",
    "\n",
    "url = 'http://apis.data.go.kr/B551177/AviationStatsByAirline/getTotalNumberOfFlight'\n",
    "params ={'serviceKey' : 'AoRZmoHjg6WrWsDofPJs%2FC3AUCvP%2Bsga2pELyteZjCmwZK4Xq9Z%2Fu6BGQHuFq7qG4i2L22y83tLz%2FpqbxVlHkQ%3D%3D', 'from_month' : '201405', 'to_month' : '201405', 'periodicity' : '0', 'pax_cargo' : 'Y', 'domestic_foreign' : 'I', 'type' : 'xml' }\n",
    "\n",
    "# response = requests.get(url, params=params)\n",
    "# response.status_code\n",
    "# x = response.text\n",
    "# response.headers\n",
    "\n",
    "# import xmltodict\n",
    "# p = xmltodict.parse(response.text).keys()\n",
    "# import pandas as pd\n",
    "# a = pd.DataFrame([p])\n",
    "# a"
   ]
  },
  {
   "cell_type": "code",
   "execution_count": null,
   "id": "6af43e47-ecfc-478e-9e21-126a8f68b773",
   "metadata": {},
   "outputs": [],
   "source": []
  }
 ],
 "metadata": {
  "kernelspec": {
   "display_name": "Python 3 (ipykernel)",
   "language": "python",
   "name": "python3"
  },
  "language_info": {
   "codemirror_mode": {
    "name": "ipython",
    "version": 3
   },
   "file_extension": ".py",
   "mimetype": "text/x-python",
   "name": "python",
   "nbconvert_exporter": "python",
   "pygments_lexer": "ipython3",
   "version": "3.9.13"
  }
 },
 "nbformat": 4,
 "nbformat_minor": 5
}
