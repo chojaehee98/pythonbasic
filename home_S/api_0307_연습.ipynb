{
 "cells": [
  {
   "cell_type": "code",
   "execution_count": 6,
   "id": "d5853bf7-5189-4417-bce3-51b9e71b5ff0",
   "metadata": {},
   "outputs": [
    {
     "name": "stdout",
     "output_type": "stream",
     "text": [
      "Collecting xmltodict\n",
      "  Downloading xmltodict-0.13.0-py2.py3-none-any.whl (10.0 kB)\n",
      "Installing collected packages: xmltodict\n",
      "Successfully installed xmltodict-0.13.0\n",
      "Note: you may need to restart the kernel to use updated packages.\n"
     ]
    }
   ],
   "source": [
    "pip install xmltodict"
   ]
  },
  {
   "cell_type": "code",
   "execution_count": 20,
   "id": "a4d331ab-f7f6-4a0b-998c-f54319210386",
   "metadata": {
    "scrolled": true,
    "tags": []
   },
   "outputs": [],
   "source": [
    "import requests\n",
    "\n",
    "url = 'http://openapi.kepco.co.kr/service/EvInfoServiceV2'\n",
    "params ={'serviceKey' : 'AoRZmoHjg6WrWsDofPJs%2FC3AUCvP%2Bsga2pELyteZjCmwZK4Xq9Z%2Fu6BGQHuFq7qG4i2L22y83tLz%2FpqbxVlHkQ%3D%3D', 'from_month' : '201405', 'to_month' : '201405', 'periodicity' : '0', 'pax_cargo' : 'Y', 'domestic_foreign' : 'I', 'type' : 'xml' }\n",
    "\n",
    "# response = requests.get(url, params=params)\n",
    "# response.status_code\n",
    "# x = response.text\n",
    "# response.headers\n",
    "\n",
    "# import xmltodict\n",
    "# b = xmltodict.parse(x)['response']['body']['items']['item']\n",
    "\n",
    "# import pandas as pd\n",
    "# a = pd.DataFrame(b)\n",
    "# a"
   ]
  },
  {
   "cell_type": "code",
   "execution_count": 21,
   "id": "6af43e47-ecfc-478e-9e21-126a8f68b773",
   "metadata": {},
   "outputs": [
    {
     "data": {
      "text/plain": [
       "404"
      ]
     },
     "execution_count": 21,
     "metadata": {},
     "output_type": "execute_result"
    }
   ],
   "source": [
    "import requests\n",
    "\n",
    "url = 'http://openapi.kepco.co.kr/service/EvInfoServiceV2'\n",
    "params ={'serviceKey' : 'AoRZmoHjg6WrWsDofPJs%2FC3AUCvP%2Bsga2pELyteZjCmwZK4Xq9Z%2Fu6BGQHuFq7qG4i2L22y83tLz%2FpqbxVlHkQ%3D%3D', 'pageNo' : '1', 'numOfRows' : '10', 'addr' : '전라남도 나주시 빛가람동 120' }\n",
    "\n",
    "response = requests.get(url, params=params)\n",
    "response.status_code\n",
    "# y = response.text\n",
    "# y\n",
    "# response.headers\n",
    "\n",
    "# import xmltodict\n",
    "# xmltodict.parse(y)\n",
    "\n",
    "# import pandas as pd\n",
    "# q = pd.DataFrame([z])\n",
    "# q"
   ]
  }
 ],
 "metadata": {
  "kernelspec": {
   "display_name": "Python 3 (ipykernel)",
   "language": "python",
   "name": "python3"
  },
  "language_info": {
   "codemirror_mode": {
    "name": "ipython",
    "version": 3
   },
   "file_extension": ".py",
   "mimetype": "text/x-python",
   "name": "python",
   "nbconvert_exporter": "python",
   "pygments_lexer": "ipython3",
   "version": "3.9.13"
  }
 },
 "nbformat": 4,
 "nbformat_minor": 5
}
