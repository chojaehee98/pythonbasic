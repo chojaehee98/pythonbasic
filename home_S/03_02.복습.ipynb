{
 "cells": [
  {
   "cell_type": "code",
   "execution_count": 1,
   "id": "bcb24b1c-8cba-46ce-bc51-f44d55a4e735",
   "metadata": {},
   "outputs": [],
   "source": [
    "# numpy 복습"
   ]
  },
  {
   "cell_type": "code",
   "execution_count": 2,
   "id": "f43345be-6055-4709-8a57-f528ad2464a7",
   "metadata": {},
   "outputs": [],
   "source": [
    "import numpy as np"
   ]
  },
  {
   "cell_type": "code",
   "execution_count": 3,
   "id": "8887f223-b94b-4c07-b371-154a6217f6c8",
   "metadata": {},
   "outputs": [
    {
     "data": {
      "text/plain": [
       "array([0, 1, 2, 3, 4, 5, 6, 7, 8, 9])"
      ]
     },
     "execution_count": 3,
     "metadata": {},
     "output_type": "execute_result"
    }
   ],
   "source": [
    "# 1차원 배열\n",
    "ar = np.array([_ for _ in range(10)])\n",
    "ar"
   ]
  },
  {
   "cell_type": "code",
   "execution_count": 4,
   "id": "d1332028-4f5d-47cf-9886-ade02ed9f82c",
   "metadata": {},
   "outputs": [
    {
     "data": {
      "text/plain": [
       "(10,)"
      ]
     },
     "execution_count": 4,
     "metadata": {},
     "output_type": "execute_result"
    }
   ],
   "source": [
    "ar.shape"
   ]
  },
  {
   "cell_type": "code",
   "execution_count": 5,
   "id": "4de43fb5-9895-4a18-8c05-ce0dd6a37e64",
   "metadata": {},
   "outputs": [
    {
     "data": {
      "text/plain": [
       "numpy.ndarray"
      ]
     },
     "execution_count": 5,
     "metadata": {},
     "output_type": "execute_result"
    }
   ],
   "source": [
    "type(ar)"
   ]
  },
  {
   "cell_type": "code",
   "execution_count": 6,
   "id": "7ad661a9-b198-439a-be07-a8c9a1619a7e",
   "metadata": {},
   "outputs": [
    {
     "data": {
      "text/plain": [
       "array([ 0.1,  5. ,  4. , 12. ,  0.5])"
      ]
     },
     "execution_count": 6,
     "metadata": {},
     "output_type": "execute_result"
    }
   ],
   "source": [
    "ar2 = np.array([0.1, 5, 4, 12, 0.5])\n",
    "ar2"
   ]
  },
  {
   "cell_type": "code",
   "execution_count": 7,
   "id": "18c4eb2c-16fd-4ac7-abb7-10514a5d9086",
   "metadata": {},
   "outputs": [
    {
     "data": {
      "text/plain": [
       "dtype('float64')"
      ]
     },
     "execution_count": 7,
     "metadata": {},
     "output_type": "execute_result"
    }
   ],
   "source": [
    "# 자료형을 명시적으로 작성하려면 키워드 인자 dtype을 사용\n",
    "ar2.dtype"
   ]
  },
  {
   "cell_type": "code",
   "execution_count": 8,
   "id": "8b773a4a-a2c9-4e88-8e8f-4e79c4818d33",
   "metadata": {},
   "outputs": [
    {
     "data": {
      "text/plain": [
       "dtype('int32')"
      ]
     },
     "execution_count": 8,
     "metadata": {},
     "output_type": "execute_result"
    }
   ],
   "source": [
    "ar.dtype"
   ]
  },
  {
   "cell_type": "code",
   "execution_count": 9,
   "id": "5dc72c0c-87d7-4306-af47-8d75e77c8c93",
   "metadata": {},
   "outputs": [
    {
     "data": {
      "text/plain": [
       "dtype('float32')"
      ]
     },
     "execution_count": 9,
     "metadata": {},
     "output_type": "execute_result"
    }
   ],
   "source": [
    "x = np.array([1,2,3], dtype = 'f')\n",
    "x.dtype"
   ]
  },
  {
   "cell_type": "code",
   "execution_count": 10,
   "id": "32aa025f-5a33-4e2f-bb05-cfda91e6fb70",
   "metadata": {},
   "outputs": [
    {
     "data": {
      "text/plain": [
       "3.0"
      ]
     },
     "execution_count": 10,
     "metadata": {},
     "output_type": "execute_result"
    }
   ],
   "source": [
    "x[0] + x[1]"
   ]
  },
  {
   "cell_type": "code",
   "execution_count": 11,
   "id": "938a0051-79c8-4291-a2a1-5eac30fa7c4c",
   "metadata": {},
   "outputs": [
    {
     "data": {
      "text/plain": [
       "dtype('<U1')"
      ]
     },
     "execution_count": 11,
     "metadata": {},
     "output_type": "execute_result"
    }
   ],
   "source": [
    "x = np.array([1,2,3], dtype = 'U')\n",
    "x.dtype"
   ]
  },
  {
   "cell_type": "code",
   "execution_count": 12,
   "id": "be2c94e9-60b4-4351-918a-b6434ade6554",
   "metadata": {},
   "outputs": [
    {
     "data": {
      "text/plain": [
       "'13'"
      ]
     },
     "execution_count": 12,
     "metadata": {},
     "output_type": "execute_result"
    }
   ],
   "source": [
    "x[0] + x[2]"
   ]
  },
  {
   "cell_type": "code",
   "execution_count": 13,
   "id": "129c60e8-23c9-4f3a-88a3-88feddf28673",
   "metadata": {},
   "outputs": [
    {
     "name": "stderr",
     "output_type": "stream",
     "text": [
      "C:\\Users\\jaehee\\AppData\\Local\\Temp\\ipykernel_10364\\2068585620.py:1: RuntimeWarning: divide by zero encountered in true_divide\n",
      "  np.array([0, 1, -1, 0]) / np.array([1, 0, 0, 0])\n",
      "C:\\Users\\jaehee\\AppData\\Local\\Temp\\ipykernel_10364\\2068585620.py:1: RuntimeWarning: invalid value encountered in true_divide\n",
      "  np.array([0, 1, -1, 0]) / np.array([1, 0, 0, 0])\n"
     ]
    },
    {
     "data": {
      "text/plain": [
       "array([  0.,  inf, -inf,  nan])"
      ]
     },
     "execution_count": 13,
     "metadata": {},
     "output_type": "execute_result"
    }
   ],
   "source": [
    "np.array([0, 1, -1, 0]) / np.array([1, 0, 0, 0])"
   ]
  },
  {
   "cell_type": "code",
   "execution_count": 14,
   "id": "bda926b9-e824-42b6-a457-549bcf9a2a93",
   "metadata": {},
   "outputs": [
    {
     "name": "stderr",
     "output_type": "stream",
     "text": [
      "C:\\Users\\jaehee\\AppData\\Local\\Temp\\ipykernel_10364\\2933082444.py:1: RuntimeWarning: divide by zero encountered in log\n",
      "  np.log(0)\n"
     ]
    },
    {
     "data": {
      "text/plain": [
       "-inf"
      ]
     },
     "execution_count": 14,
     "metadata": {},
     "output_type": "execute_result"
    }
   ],
   "source": [
    "np.log(0)"
   ]
  },
  {
   "cell_type": "code",
   "execution_count": 15,
   "id": "92c2664b-5eaa-4440-8415-b39160b7ea74",
   "metadata": {},
   "outputs": [
    {
     "data": {
      "text/plain": [
       "[0, 2, 4, 6, 8, 10, 12, 14, 16, 18]"
      ]
     },
     "execution_count": 15,
     "metadata": {},
     "output_type": "execute_result"
    }
   ],
   "source": [
    "data = [0,1,2,3,4,5,6,7,8,9]\n",
    "answer = [2*i for i in data]\n",
    "answer"
   ]
  },
  {
   "cell_type": "code",
   "execution_count": 16,
   "id": "ec5a5bc1-1f7d-4cd9-8399-915e21bfe470",
   "metadata": {},
   "outputs": [
    {
     "data": {
      "text/plain": [
       "array([0, 1, 2, 3, 4, 5, 6, 7, 8, 9])"
      ]
     },
     "execution_count": 16,
     "metadata": {},
     "output_type": "execute_result"
    }
   ],
   "source": [
    "x = np.array(data)\n",
    "x"
   ]
  },
  {
   "cell_type": "code",
   "execution_count": 17,
   "id": "fde34ce3-4782-4e08-bc70-a1939af52504",
   "metadata": {},
   "outputs": [
    {
     "data": {
      "text/plain": [
       "array([ 0,  2,  4,  6,  8, 10, 12, 14, 16, 18])"
      ]
     },
     "execution_count": 17,
     "metadata": {},
     "output_type": "execute_result"
    }
   ],
   "source": [
    "x * 2"
   ]
  },
  {
   "cell_type": "code",
   "execution_count": 18,
   "id": "f80de057-9f59-4171-ab51-606b019b33b8",
   "metadata": {},
   "outputs": [
    {
     "name": "stdout",
     "output_type": "stream",
     "text": [
      "[0, 1, 2, 0, 1, 2, 0, 1, 2, 0, 1, 2, 0, 1, 2]\n"
     ]
    }
   ],
   "source": [
    "list_samp = [_ for _ in range(3)]\n",
    "print(list_samp*5)"
   ]
  },
  {
   "cell_type": "code",
   "execution_count": 19,
   "id": "2d980809-8822-4cf6-ae47-952dce2ad29c",
   "metadata": {},
   "outputs": [
    {
     "data": {
      "text/plain": [
       "array([12, 24, 36])"
      ]
     },
     "execution_count": 19,
     "metadata": {},
     "output_type": "execute_result"
    }
   ],
   "source": [
    "a = np.array([1,2,3])\n",
    "b = np.array([10,20,30])\n",
    "\n",
    "2 * a+b"
   ]
  },
  {
   "cell_type": "code",
   "execution_count": 20,
   "id": "58e0accd-9c22-4a0c-9335-2e96901f261a",
   "metadata": {},
   "outputs": [
    {
     "data": {
      "text/plain": [
       "array([False,  True, False])"
      ]
     },
     "execution_count": 20,
     "metadata": {},
     "output_type": "execute_result"
    }
   ],
   "source": [
    "a == 2"
   ]
  },
  {
   "cell_type": "code",
   "execution_count": 21,
   "id": "126225b3-d17e-4ad6-95d8-4b5f1c664110",
   "metadata": {},
   "outputs": [
    {
     "data": {
      "text/plain": [
       "array([False,  True,  True])"
      ]
     },
     "execution_count": 21,
     "metadata": {},
     "output_type": "execute_result"
    }
   ],
   "source": [
    "b > 10"
   ]
  },
  {
   "cell_type": "code",
   "execution_count": 22,
   "id": "9184aa7b-9bbe-4bdd-95c5-0958976cdec9",
   "metadata": {},
   "outputs": [
    {
     "data": {
      "text/plain": [
       "array([False,  True, False])"
      ]
     },
     "execution_count": 22,
     "metadata": {},
     "output_type": "execute_result"
    }
   ],
   "source": [
    "(a == 2) & (b>10)   # and와 같고 가로 쳐줘야된다."
   ]
  },
  {
   "cell_type": "code",
   "execution_count": 23,
   "id": "e4804e7b-167a-4a68-99b8-4bca236cb4ed",
   "metadata": {},
   "outputs": [
    {
     "data": {
      "text/plain": [
       "array([[0, 1, 2],\n",
       "       [3, 4, 5]])"
      ]
     },
     "execution_count": 23,
     "metadata": {},
     "output_type": "execute_result"
    }
   ],
   "source": [
    "# 2차열 배열\n",
    "c = np.array([[0,1,2],[3,4,5]])\n",
    "c"
   ]
  },
  {
   "cell_type": "code",
   "execution_count": 24,
   "id": "19dde0b9-c40e-41bd-83ce-9cdd24b8177c",
   "metadata": {},
   "outputs": [
    {
     "data": {
      "text/plain": [
       "2"
      ]
     },
     "execution_count": 24,
     "metadata": {},
     "output_type": "execute_result"
    }
   ],
   "source": [
    "len(c)"
   ]
  },
  {
   "cell_type": "code",
   "execution_count": 25,
   "id": "7e8c2e30-e765-49ab-99b2-0081b7a99fe9",
   "metadata": {},
   "outputs": [
    {
     "data": {
      "text/plain": [
       "3"
      ]
     },
     "execution_count": 25,
     "metadata": {},
     "output_type": "execute_result"
    }
   ],
   "source": [
    "len(c[0])"
   ]
  },
  {
   "cell_type": "code",
   "execution_count": 26,
   "id": "61c3a88c-c02c-49ad-abd8-5297885b0299",
   "metadata": {},
   "outputs": [
    {
     "data": {
      "text/plain": [
       "(2, 3)"
      ]
     },
     "execution_count": 26,
     "metadata": {},
     "output_type": "execute_result"
    }
   ],
   "source": [
    "c.shape"
   ]
  },
  {
   "cell_type": "code",
   "execution_count": 27,
   "id": "ef92a0e9-612b-4a6f-bb2c-b1c4858e9c48",
   "metadata": {},
   "outputs": [],
   "source": [
    "q = np.array([[10,20,30,40],\n",
    "              [50,60,70,80]])"
   ]
  },
  {
   "cell_type": "code",
   "execution_count": 28,
   "id": "9e453669-32e1-496e-a8a2-091347706443",
   "metadata": {},
   "outputs": [
    {
     "data": {
      "text/plain": [
       "array([[10, 20, 30, 40],\n",
       "       [50, 60, 70, 80]])"
      ]
     },
     "execution_count": 28,
     "metadata": {},
     "output_type": "execute_result"
    }
   ],
   "source": [
    "q"
   ]
  },
  {
   "cell_type": "code",
   "execution_count": 29,
   "id": "1c6ede98-1807-4b2c-8d5f-ff3b93d9d2c0",
   "metadata": {},
   "outputs": [
    {
     "data": {
      "text/plain": [
       "array([[10, 20, 30, 40],\n",
       "       [50, 60, 70, 80]])"
      ]
     },
     "execution_count": 29,
     "metadata": {},
     "output_type": "execute_result"
    }
   ],
   "source": [
    "np.array([[_ for _ in range(10,50,10)],\n",
    "          [i for i in range(50,90,10)]])"
   ]
  },
  {
   "cell_type": "code",
   "execution_count": 30,
   "id": "c7780421-8364-4c47-b94d-aebc80a7234f",
   "metadata": {},
   "outputs": [
    {
     "data": {
      "text/plain": [
       "array([[[ 1,  2,  3,  4],\n",
       "        [ 5,  6,  7,  8],\n",
       "        [ 9, 10, 11, 12]],\n",
       "\n",
       "       [[11, 12, 13, 14],\n",
       "        [15, 16, 17, 18],\n",
       "        [19, 20, 21, 22]]])"
      ]
     },
     "execution_count": 30,
     "metadata": {},
     "output_type": "execute_result"
    }
   ],
   "source": [
    "# 3차열 배열\n",
    "d = np.array([[[1,2,3,4],\n",
    "              [5,6,7,8],\n",
    "              [9,10,11,12]],\n",
    "             [[11,12,13,14],\n",
    "              [15,16,17,18],\n",
    "              [19,20,21,22]]])\n",
    "d"
   ]
  },
  {
   "cell_type": "code",
   "execution_count": 31,
   "id": "168f7be9-57bf-45f0-8f80-daca8461df3d",
   "metadata": {},
   "outputs": [
    {
     "data": {
      "text/plain": [
       "(2, 3, 4)"
      ]
     },
     "execution_count": 31,
     "metadata": {},
     "output_type": "execute_result"
    }
   ],
   "source": [
    "len(d), len(d[0]), len(d[0][0])"
   ]
  },
  {
   "cell_type": "code",
   "execution_count": 32,
   "id": "05360408-b344-4c7b-b3c4-a18358a11407",
   "metadata": {},
   "outputs": [
    {
     "data": {
      "text/plain": [
       "(2, 3, 4)"
      ]
     },
     "execution_count": 32,
     "metadata": {},
     "output_type": "execute_result"
    }
   ],
   "source": [
    "d.shape"
   ]
  },
  {
   "cell_type": "code",
   "execution_count": 33,
   "id": "b4f5f509-5c77-461d-9714-106fbabe5a5d",
   "metadata": {},
   "outputs": [
    {
     "name": "stdout",
     "output_type": "stream",
     "text": [
      "1\n",
      "(3,)\n"
     ]
    }
   ],
   "source": [
    "a = np.array([1,2,3])\n",
    "print(a.ndim)  # 차원을 알려준다.\n",
    "print(a.shape)"
   ]
  },
  {
   "cell_type": "code",
   "execution_count": 34,
   "id": "91baffed-c449-467a-9bb9-f1d29a2cdaf7",
   "metadata": {},
   "outputs": [
    {
     "data": {
      "text/plain": [
       "2"
      ]
     },
     "execution_count": 34,
     "metadata": {},
     "output_type": "execute_result"
    }
   ],
   "source": [
    "a = np.array([0,1,2,3,4])\n",
    "\n",
    "a[2]"
   ]
  },
  {
   "cell_type": "code",
   "execution_count": 35,
   "id": "4c791ed9-6d82-4d48-af5d-ea4b78d0acfa",
   "metadata": {},
   "outputs": [
    {
     "data": {
      "text/plain": [
       "4"
      ]
     },
     "execution_count": 35,
     "metadata": {},
     "output_type": "execute_result"
    }
   ],
   "source": [
    "a[-1]"
   ]
  },
  {
   "cell_type": "code",
   "execution_count": 36,
   "id": "c0818f31-9bd9-423f-ac28-9a3253dfc4f7",
   "metadata": {},
   "outputs": [
    {
     "data": {
      "text/plain": [
       "array([[0, 1, 2],\n",
       "       [3, 4, 5]])"
      ]
     },
     "execution_count": 36,
     "metadata": {},
     "output_type": "execute_result"
    }
   ],
   "source": [
    "#배열의 인덱싱\n",
    "a = np.array([[0,1,2],[3,4,5]])\n",
    "a"
   ]
  },
  {
   "cell_type": "code",
   "execution_count": 37,
   "id": "87a0e7eb-9105-4831-8a38-adbad5174282",
   "metadata": {},
   "outputs": [
    {
     "data": {
      "text/plain": [
       "0"
      ]
     },
     "execution_count": 37,
     "metadata": {},
     "output_type": "execute_result"
    }
   ],
   "source": [
    "a[0,0]"
   ]
  },
  {
   "cell_type": "code",
   "execution_count": 38,
   "id": "3dac2f5e-7cb2-4930-ba4f-c662d984aa75",
   "metadata": {},
   "outputs": [
    {
     "data": {
      "text/plain": [
       "2"
      ]
     },
     "execution_count": 38,
     "metadata": {},
     "output_type": "execute_result"
    }
   ],
   "source": [
    "a[0,2]"
   ]
  },
  {
   "cell_type": "code",
   "execution_count": 39,
   "id": "47d5ecb4-76ae-48dd-9dae-803e410563b9",
   "metadata": {},
   "outputs": [
    {
     "data": {
      "text/plain": [
       "4"
      ]
     },
     "execution_count": 39,
     "metadata": {},
     "output_type": "execute_result"
    }
   ],
   "source": [
    "a[1,1]"
   ]
  },
  {
   "cell_type": "code",
   "execution_count": 40,
   "id": "d33cc398-2b6a-4d6e-8608-c5a0377c05d9",
   "metadata": {},
   "outputs": [
    {
     "data": {
      "text/plain": [
       "array([[0, 1, 2, 3],\n",
       "       [4, 5, 6, 7]])"
      ]
     },
     "execution_count": 40,
     "metadata": {},
     "output_type": "execute_result"
    }
   ],
   "source": [
    "a = np.array([[0,1,2,3],[4,5,6,7]])\n",
    "a"
   ]
  },
  {
   "cell_type": "code",
   "execution_count": 41,
   "id": "bd8a5bed-aa78-4673-97bb-9a74d35b9e53",
   "metadata": {},
   "outputs": [
    {
     "data": {
      "text/plain": [
       "array([0, 1, 2, 3])"
      ]
     },
     "execution_count": 41,
     "metadata": {},
     "output_type": "execute_result"
    }
   ],
   "source": [
    "a[0, :]"
   ]
  },
  {
   "cell_type": "code",
   "execution_count": 42,
   "id": "2b39b588-cddd-4c5d-95e8-8ac54e438f45",
   "metadata": {},
   "outputs": [
    {
     "data": {
      "text/plain": [
       "array([1, 5])"
      ]
     },
     "execution_count": 42,
     "metadata": {},
     "output_type": "execute_result"
    }
   ],
   "source": [
    "a[:, 1]"
   ]
  },
  {
   "cell_type": "code",
   "execution_count": 43,
   "id": "93e621f1-3907-48c4-bd1e-f116a6be0507",
   "metadata": {},
   "outputs": [
    {
     "data": {
      "text/plain": [
       "array([5, 6, 7])"
      ]
     },
     "execution_count": 43,
     "metadata": {},
     "output_type": "execute_result"
    }
   ],
   "source": [
    "a[1, 1:]"
   ]
  },
  {
   "cell_type": "code",
   "execution_count": 44,
   "id": "f60259e1-78a3-4f0d-9e56-e018b65d8a9f",
   "metadata": {},
   "outputs": [
    {
     "data": {
      "text/plain": [
       "array([[0, 1],\n",
       "       [4, 5]])"
      ]
     },
     "execution_count": 44,
     "metadata": {},
     "output_type": "execute_result"
    }
   ],
   "source": [
    "a[:, :2]"
   ]
  },
  {
   "cell_type": "code",
   "execution_count": 45,
   "id": "7f5289f2-2285-4da3-a509-614eaeadb6fb",
   "metadata": {},
   "outputs": [
    {
     "data": {
      "text/plain": [
       "array([[ 0,  1,  2,  3,  4],\n",
       "       [ 5,  6,  7,  8,  9],\n",
       "       [10, 11, 12, 13, 14]])"
      ]
     },
     "execution_count": 45,
     "metadata": {},
     "output_type": "execute_result"
    }
   ],
   "source": [
    "m = np.array([[0,1,2,3,4],\n",
    "              [5,6,7,8,9],\n",
    "              [10,11,12,13,14]])\n",
    "m"
   ]
  },
  {
   "cell_type": "code",
   "execution_count": 46,
   "id": "99ead24c-da7d-4f8d-aa8d-b571f84dc75d",
   "metadata": {},
   "outputs": [
    {
     "data": {
      "text/plain": [
       "7"
      ]
     },
     "execution_count": 46,
     "metadata": {},
     "output_type": "execute_result"
    }
   ],
   "source": [
    "m[1,2]"
   ]
  },
  {
   "cell_type": "code",
   "execution_count": 47,
   "id": "37cd1354-5038-4fc1-8711-02f332154b5a",
   "metadata": {},
   "outputs": [
    {
     "data": {
      "text/plain": [
       "14"
      ]
     },
     "execution_count": 47,
     "metadata": {},
     "output_type": "execute_result"
    }
   ],
   "source": [
    "m[2,4]"
   ]
  },
  {
   "cell_type": "code",
   "execution_count": 48,
   "id": "1d851260-8502-447f-9d03-f8dc2446f220",
   "metadata": {},
   "outputs": [
    {
     "data": {
      "text/plain": [
       "array([6, 7])"
      ]
     },
     "execution_count": 48,
     "metadata": {},
     "output_type": "execute_result"
    }
   ],
   "source": [
    "m[1,1:3]"
   ]
  },
  {
   "cell_type": "code",
   "execution_count": 49,
   "id": "50e33d73-9cf6-45d4-8c3a-811dd17e7f22",
   "metadata": {},
   "outputs": [
    {
     "data": {
      "text/plain": [
       "array([ 7, 12])"
      ]
     },
     "execution_count": 49,
     "metadata": {},
     "output_type": "execute_result"
    }
   ],
   "source": [
    "m[1:, 2]"
   ]
  },
  {
   "cell_type": "code",
   "execution_count": 50,
   "id": "fbea6799-2e72-4b69-8690-5c7f9e278996",
   "metadata": {},
   "outputs": [
    {
     "data": {
      "text/plain": [
       "array([[3, 4],\n",
       "       [8, 9]])"
      ]
     },
     "execution_count": 50,
     "metadata": {},
     "output_type": "execute_result"
    }
   ],
   "source": [
    "m[:2,3:]"
   ]
  },
  {
   "cell_type": "code",
   "execution_count": 51,
   "id": "e7038a50-a69b-4838-b169-bcc0f1988f58",
   "metadata": {},
   "outputs": [
    {
     "data": {
      "text/plain": [
       "array([0., 0., 0., 0., 0.])"
      ]
     },
     "execution_count": 51,
     "metadata": {},
     "output_type": "execute_result"
    }
   ],
   "source": [
    "a = np.zeros(5)   # 배열 생성 : zeros,ones,empty,arange, linspace,logspace\n",
    "a"
   ]
  },
  {
   "cell_type": "code",
   "execution_count": 52,
   "id": "89a1650a-c95f-472a-a530-c9a4bb3a39df",
   "metadata": {},
   "outputs": [
    {
     "data": {
      "text/plain": [
       "array([[0, 0],\n",
       "       [0, 0],\n",
       "       [0, 0],\n",
       "       [0, 0],\n",
       "       [0, 0]], dtype=int32)"
      ]
     },
     "execution_count": 52,
     "metadata": {},
     "output_type": "execute_result"
    }
   ],
   "source": [
    "c = np.zeros((5,2), dtype = 'i')\n",
    "c"
   ]
  },
  {
   "cell_type": "code",
   "execution_count": 53,
   "id": "b8cfd6e2-17f5-4cfa-af45-bbf4f50b46f5",
   "metadata": {},
   "outputs": [
    {
     "data": {
      "text/plain": [
       "array(['', '', '', '', ''], dtype='<U4')"
      ]
     },
     "execution_count": 53,
     "metadata": {},
     "output_type": "execute_result"
    }
   ],
   "source": [
    "d = np.zeros(5, dtype = 'U4')\n",
    "d"
   ]
  },
  {
   "cell_type": "code",
   "execution_count": 54,
   "id": "754e5f85-984c-4ab2-b4b5-367763e4c236",
   "metadata": {},
   "outputs": [],
   "source": [
    "d[0] = 'abc'\n",
    "d[1] = 'abcd'\n",
    "d[2] = 'abcde'"
   ]
  },
  {
   "cell_type": "code",
   "execution_count": 55,
   "id": "1c88ced8-17d7-4ba0-92ec-aa5621284f9e",
   "metadata": {},
   "outputs": [
    {
     "data": {
      "text/plain": [
       "array(['abc', 'abcd', 'abcd', '', ''], dtype='<U4')"
      ]
     },
     "execution_count": 55,
     "metadata": {},
     "output_type": "execute_result"
    }
   ],
   "source": [
    "d"
   ]
  },
  {
   "cell_type": "code",
   "execution_count": 56,
   "id": "e46c54f6-f103-4363-bce1-62eb104f6263",
   "metadata": {},
   "outputs": [
    {
     "data": {
      "text/plain": [
       "array([[[1, 1, 1, 1],\n",
       "        [1, 1, 1, 1],\n",
       "        [1, 1, 1, 1]],\n",
       "\n",
       "       [[1, 1, 1, 1],\n",
       "        [1, 1, 1, 1],\n",
       "        [1, 1, 1, 1]]], dtype=int64)"
      ]
     },
     "execution_count": 56,
     "metadata": {},
     "output_type": "execute_result"
    }
   ],
   "source": [
    "e = np.ones((2,3,4), dtype = 'i8')\n",
    "e"
   ]
  },
  {
   "cell_type": "code",
   "execution_count": 57,
   "id": "544e36a0-7cde-4488-8d58-a7ba919a95b8",
   "metadata": {},
   "outputs": [
    {
     "data": {
      "text/plain": [
       "array([1., 1., 1.], dtype=float32)"
      ]
     },
     "execution_count": 57,
     "metadata": {},
     "output_type": "execute_result"
    }
   ],
   "source": [
    "f = np.ones_like(b, dtype='f')\n",
    "f"
   ]
  },
  {
   "cell_type": "code",
   "execution_count": 58,
   "id": "98754543-8859-4e37-a6c6-2d79f243bbec",
   "metadata": {},
   "outputs": [],
   "source": [
    "g = np.empty((4,3))"
   ]
  },
  {
   "cell_type": "code",
   "execution_count": 59,
   "id": "7b036340-1c4e-48c8-a1e3-d057a5253850",
   "metadata": {},
   "outputs": [
    {
     "data": {
      "text/plain": [
       "array(['abc', 'abcd', 'abcd', '', ''], dtype='<U4')"
      ]
     },
     "execution_count": 59,
     "metadata": {},
     "output_type": "execute_result"
    }
   ],
   "source": [
    "d"
   ]
  },
  {
   "cell_type": "code",
   "execution_count": 60,
   "id": "4bc5f56d-5a3c-41c4-9323-d9a7fbf0f52a",
   "metadata": {},
   "outputs": [
    {
     "data": {
      "text/plain": [
       "array([[7.26292561e-312, 3.16202013e-322, 0.00000000e+000],\n",
       "       [0.00000000e+000, 1.08221785e-312, 3.93514273e-062],\n",
       "       [1.04000526e-042, 8.84881082e+165, 5.69632620e-038],\n",
       "       [6.89493147e-042, 6.59220556e-066, 7.34872386e-043]])"
      ]
     },
     "execution_count": 60,
     "metadata": {},
     "output_type": "execute_result"
    }
   ],
   "source": [
    "g"
   ]
  },
  {
   "cell_type": "code",
   "execution_count": 61,
   "id": "07e13415-8efd-4b40-8e89-a54b110b4876",
   "metadata": {},
   "outputs": [
    {
     "data": {
      "text/plain": [
       "array([0, 1, 2, 3, 4, 5, 6, 7, 8, 9])"
      ]
     },
     "execution_count": 61,
     "metadata": {},
     "output_type": "execute_result"
    }
   ],
   "source": [
    "np.arange(10)"
   ]
  },
  {
   "cell_type": "code",
   "execution_count": 62,
   "id": "64825a9d-b65f-49ce-ae1c-7fef85bfed24",
   "metadata": {},
   "outputs": [
    {
     "data": {
      "text/plain": [
       "array([ 3,  5,  7,  9, 11, 13, 15, 17, 19])"
      ]
     },
     "execution_count": 62,
     "metadata": {},
     "output_type": "execute_result"
    }
   ],
   "source": [
    "np.arange(3,21,2)"
   ]
  },
  {
   "cell_type": "code",
   "execution_count": 63,
   "id": "b8ea5421-f0cf-4130-aa8f-73122c9df504",
   "metadata": {},
   "outputs": [
    {
     "data": {
      "text/plain": [
       "array([  0.,  25.,  50.,  75., 100.])"
      ]
     },
     "execution_count": 63,
     "metadata": {},
     "output_type": "execute_result"
    }
   ],
   "source": [
    "ex = np.linspace(0,100,5)\n",
    "ex"
   ]
  },
  {
   "cell_type": "code",
   "execution_count": 64,
   "id": "29660b90-2446-4628-b04e-b75b1cb2bfe4",
   "metadata": {},
   "outputs": [
    {
     "data": {
      "text/plain": [
       "array([1.e+000, 1.e+025, 1.e+050, 1.e+075, 1.e+100])"
      ]
     },
     "execution_count": 64,
     "metadata": {},
     "output_type": "execute_result"
    }
   ],
   "source": [
    "ex2 = np.logspace(0,100,5)\n",
    "ex2"
   ]
  },
  {
   "cell_type": "code",
   "execution_count": 65,
   "id": "c0193a0f-298f-47d2-badf-5490773f5f7e",
   "metadata": {},
   "outputs": [
    {
     "data": {
      "text/plain": [
       "array([[1, 2, 3],\n",
       "       [4, 5, 6]])"
      ]
     },
     "execution_count": 65,
     "metadata": {},
     "output_type": "execute_result"
    }
   ],
   "source": [
    "# 전치 연산 : T\n",
    "A = np.array([[1,2,3],[4,5,6]])\n",
    "A"
   ]
  },
  {
   "cell_type": "code",
   "execution_count": 66,
   "id": "3b834b7e-a513-412d-8c9a-1e6c360e612c",
   "metadata": {},
   "outputs": [
    {
     "data": {
      "text/plain": [
       "array([[1, 4],\n",
       "       [2, 5],\n",
       "       [3, 6]])"
      ]
     },
     "execution_count": 66,
     "metadata": {},
     "output_type": "execute_result"
    }
   ],
   "source": [
    "A.T"
   ]
  },
  {
   "cell_type": "code",
   "execution_count": 67,
   "id": "c0e63791-0609-4b1d-abb9-e89836d62b92",
   "metadata": {},
   "outputs": [
    {
     "data": {
      "text/plain": [
       "array([ 0,  1,  2,  3,  4,  5,  6,  7,  8,  9, 10, 11])"
      ]
     },
     "execution_count": 67,
     "metadata": {},
     "output_type": "execute_result"
    }
   ],
   "source": [
    "a = np.arange(12)\n",
    "a"
   ]
  },
  {
   "cell_type": "code",
   "execution_count": 68,
   "id": "51fa9432-8066-4abb-88e2-92186caf0211",
   "metadata": {},
   "outputs": [
    {
     "data": {
      "text/plain": [
       "array([[ 0,  1,  2,  3],\n",
       "       [ 4,  5,  6,  7],\n",
       "       [ 8,  9, 10, 11]])"
      ]
     },
     "execution_count": 68,
     "metadata": {},
     "output_type": "execute_result"
    }
   ],
   "source": [
    "b = a.reshape(3,4)\n",
    "b"
   ]
  },
  {
   "cell_type": "code",
   "execution_count": 69,
   "id": "57eab05b-8d25-4321-8616-dfdc27695b4d",
   "metadata": {},
   "outputs": [
    {
     "data": {
      "text/plain": [
       "array([ 0,  1,  2,  3,  4,  5,  6,  7,  8,  9, 10, 11])"
      ]
     },
     "execution_count": 69,
     "metadata": {},
     "output_type": "execute_result"
    }
   ],
   "source": [
    "a.flatten()"
   ]
  },
  {
   "cell_type": "code",
   "execution_count": 70,
   "id": "a752fbae-84e9-4299-85a9-59b08ace272f",
   "metadata": {},
   "outputs": [
    {
     "data": {
      "text/plain": [
       "array([ 0,  1,  2,  3,  4,  5,  6,  7,  8,  9, 10, 11])"
      ]
     },
     "execution_count": 70,
     "metadata": {},
     "output_type": "execute_result"
    }
   ],
   "source": [
    "a.ravel()"
   ]
  },
  {
   "cell_type": "code",
   "execution_count": 71,
   "id": "a695a937-3bde-4ab1-a45d-ad2572fd4ce5",
   "metadata": {},
   "outputs": [
    {
     "data": {
      "text/plain": [
       "array([0, 1, 2, 3, 4])"
      ]
     },
     "execution_count": 71,
     "metadata": {},
     "output_type": "execute_result"
    }
   ],
   "source": [
    "x = np.arange(5)\n",
    "x"
   ]
  },
  {
   "cell_type": "code",
   "execution_count": 72,
   "id": "dce5fbe4-437d-485f-ad25-cbc377267990",
   "metadata": {},
   "outputs": [
    {
     "data": {
      "text/plain": [
       "array([[0, 1, 2, 3, 4]])"
      ]
     },
     "execution_count": 72,
     "metadata": {},
     "output_type": "execute_result"
    }
   ],
   "source": [
    "x.reshape(1,5)"
   ]
  },
  {
   "cell_type": "code",
   "execution_count": 73,
   "id": "aaecb050-e11d-438d-861c-8c2459442716",
   "metadata": {},
   "outputs": [
    {
     "data": {
      "text/plain": [
       "array([[0],\n",
       "       [1],\n",
       "       [2],\n",
       "       [3],\n",
       "       [4]])"
      ]
     },
     "execution_count": 73,
     "metadata": {},
     "output_type": "execute_result"
    }
   ],
   "source": [
    "x.reshape(5,1)"
   ]
  },
  {
   "cell_type": "code",
   "execution_count": 74,
   "id": "b06cdc8f-8eca-4dc4-8273-62b80db4fe11",
   "metadata": {},
   "outputs": [
    {
     "data": {
      "text/plain": [
       "array([[0],\n",
       "       [1],\n",
       "       [2],\n",
       "       [3],\n",
       "       [4]])"
      ]
     },
     "execution_count": 74,
     "metadata": {},
     "output_type": "execute_result"
    }
   ],
   "source": [
    "x[:, np.newaxis]"
   ]
  },
  {
   "cell_type": "code",
   "execution_count": 75,
   "id": "7c559c9b-7724-4c56-95d6-1f326d9115ce",
   "metadata": {},
   "outputs": [
    {
     "ename": "NameError",
     "evalue": "name 'hstack' is not defined",
     "output_type": "error",
     "traceback": [
      "\u001b[1;31m---------------------------------------------------------------------------\u001b[0m",
      "\u001b[1;31mNameError\u001b[0m                                 Traceback (most recent call last)",
      "\u001b[1;32m~\\AppData\\Local\\Temp\\ipykernel_10364\\2643937943.py\u001b[0m in \u001b[0;36m<module>\u001b[1;34m\u001b[0m\n\u001b[1;32m----> 1\u001b[1;33m \u001b[0mhstack\u001b[0m\u001b[1;33m\u001b[0m\u001b[1;33m\u001b[0m\u001b[0m\n\u001b[0m\u001b[0;32m      2\u001b[0m \u001b[0mvstack\u001b[0m\u001b[1;33m\u001b[0m\u001b[1;33m\u001b[0m\u001b[0m\n\u001b[0;32m      3\u001b[0m \u001b[0mdstack\u001b[0m\u001b[1;33m\u001b[0m\u001b[1;33m\u001b[0m\u001b[0m\n\u001b[0;32m      4\u001b[0m \u001b[0mstack\u001b[0m\u001b[1;33m\u001b[0m\u001b[1;33m\u001b[0m\u001b[0m\n\u001b[0;32m      5\u001b[0m \u001b[0mr_\u001b[0m\u001b[1;33m\u001b[0m\u001b[1;33m\u001b[0m\u001b[0m\n",
      "\u001b[1;31mNameError\u001b[0m: name 'hstack' is not defined"
     ]
    }
   ],
   "source": [
    "hstack\n",
    "vstack\n",
    "dstack\n",
    "stack\n",
    "r_\n",
    "c_\n",
    "tile\n",
    "hstack"
   ]
  },
  {
   "cell_type": "code",
   "execution_count": null,
   "id": "aedad258-9ff5-479c-995b-b041383b4ec4",
   "metadata": {},
   "outputs": [],
   "source": [
    "# hstack\n",
    "a1 = np.ones((2,3))\n",
    "a1"
   ]
  },
  {
   "cell_type": "code",
   "execution_count": null,
   "id": "9a0ec2ac-ec67-4977-8973-8fe3f1d78a60",
   "metadata": {},
   "outputs": [],
   "source": [
    "a2 = np.zeros((2,3))\n",
    "a2"
   ]
  },
  {
   "cell_type": "code",
   "execution_count": null,
   "id": "3c107414-5aa5-40aa-be0d-1c721f9b2d4e",
   "metadata": {},
   "outputs": [],
   "source": [
    "np.hstack([a1,a2])"
   ]
  },
  {
   "cell_type": "code",
   "execution_count": null,
   "id": "a9bbfeb3-d5ed-4e89-9c4f-fb704c1e7648",
   "metadata": {},
   "outputs": [],
   "source": [
    "# vstack\n",
    "b1 = np.ones((2,3))\n",
    "b1"
   ]
  },
  {
   "cell_type": "code",
   "execution_count": null,
   "id": "fd9b1b13-e957-42db-a80b-36f5942d553f",
   "metadata": {},
   "outputs": [],
   "source": [
    "b2 = np.zeros((3,3))\n",
    "b2"
   ]
  },
  {
   "cell_type": "code",
   "execution_count": null,
   "id": "de399d31-bb4f-4248-81ca-339748df254e",
   "metadata": {},
   "outputs": [],
   "source": [
    "np.vstack([b1,b2])"
   ]
  },
  {
   "cell_type": "code",
   "execution_count": null,
   "id": "04c3dc34-f816-4d4a-91fb-1febc760f231",
   "metadata": {},
   "outputs": [],
   "source": [
    "# dstack\n",
    "c1 = np.ones((3,4))\n",
    "c1"
   ]
  },
  {
   "cell_type": "code",
   "execution_count": null,
   "id": "1e8d7c1c-446c-49e9-a726-b3569ad0a032",
   "metadata": {},
   "outputs": [],
   "source": [
    "c2 = np.zeros((3,4))\n",
    "c2"
   ]
  },
  {
   "cell_type": "code",
   "execution_count": null,
   "id": "b340c8d9-4d50-4518-b8f6-807e995cf9c8",
   "metadata": {},
   "outputs": [],
   "source": [
    "np.dstack([c1,c2])"
   ]
  },
  {
   "cell_type": "code",
   "execution_count": null,
   "id": "717e8b05-bfe2-4028-852d-9429837d9b66",
   "metadata": {},
   "outputs": [],
   "source": [
    "c = np.stack([c1,c2])\n",
    "c"
   ]
  },
  {
   "cell_type": "code",
   "execution_count": null,
   "id": "6989f8d3-f32b-4786-bdec-5ac84150eb09",
   "metadata": {},
   "outputs": [],
   "source": [
    "c.shape"
   ]
  },
  {
   "cell_type": "code",
   "execution_count": null,
   "id": "59becb48-a06a-41ba-bc44-d0c67d6e9653",
   "metadata": {},
   "outputs": [],
   "source": [
    "c = np.stack([c1,c2], axis =1)\n",
    "c"
   ]
  },
  {
   "cell_type": "code",
   "execution_count": null,
   "id": "131ed48e-89ff-43ce-9f11-b768a2277d44",
   "metadata": {},
   "outputs": [],
   "source": [
    "c.shape"
   ]
  },
  {
   "cell_type": "code",
   "execution_count": null,
   "id": "a6a2913b-cd12-4995-ae6e-27bc520db626",
   "metadata": {},
   "outputs": [],
   "source": [
    "np.r_[np.array([1,2,3]), np.array([4,5,6])]"
   ]
  },
  {
   "cell_type": "code",
   "execution_count": null,
   "id": "0f4606d2-f23b-4729-9a29-24d4f8166049",
   "metadata": {},
   "outputs": [],
   "source": [
    "np.c_[np.array([1,2,3]), np.array([4,5,6])]"
   ]
  },
  {
   "cell_type": "code",
   "execution_count": null,
   "id": "b7e4dc14-4d73-44c5-9574-62e837dc1602",
   "metadata": {},
   "outputs": [],
   "source": [
    "a = np.array([[0,1,2],[3,4,5]])\n",
    "np.tile(a,2)"
   ]
  },
  {
   "cell_type": "code",
   "execution_count": null,
   "id": "8aa505b0-6737-427a-af9d-60b0d5567050",
   "metadata": {},
   "outputs": [],
   "source": [
    "np.tile(a,(3,2))"
   ]
  },
  {
   "cell_type": "code",
   "execution_count": null,
   "id": "e40e5671-7f95-4c25-a640-5dcf154b5a01",
   "metadata": {},
   "outputs": [],
   "source": [
    "a = np.zeros((3,3))\n",
    "b = np.ones((3,2))\n",
    "c = np.hstack((a,b))\n",
    "d = np.arange(10,151,10)\n",
    "d = d.reshape(3,5)\n",
    "e = np.vstack([c,d])\n",
    "f = np.tile(e,(2,1))\n",
    "f"
   ]
  },
  {
   "cell_type": "code",
   "execution_count": null,
   "id": "be76701e-d731-4146-8e0e-77c57d4b1762",
   "metadata": {},
   "outputs": [],
   "source": [
    "#차원 축소 연산\n",
    "최대/최소 : min, max, argmin, argmax\n",
    "통계 : sum, mean, median, std, var\n",
    "불리언 : all, any"
   ]
  },
  {
   "cell_type": "code",
   "execution_count": null,
   "id": "e9b1fbc3-ee6c-448c-90e3-932d5349ff6b",
   "metadata": {},
   "outputs": [],
   "source": [
    "x = np.array([1,2,3,4])\n",
    "x"
   ]
  },
  {
   "cell_type": "code",
   "execution_count": null,
   "id": "e753102c-a484-4b65-922c-b2469fdfee02",
   "metadata": {},
   "outputs": [],
   "source": [
    "np.sum(x)"
   ]
  },
  {
   "cell_type": "code",
   "execution_count": null,
   "id": "5b98d136-c407-4a11-ae12-790e1c15ae02",
   "metadata": {},
   "outputs": [],
   "source": [
    "x.sum()"
   ]
  },
  {
   "cell_type": "code",
   "execution_count": null,
   "id": "d2bb0950-63db-402a-ba82-7313b8dfcc63",
   "metadata": {},
   "outputs": [],
   "source": [
    "x = np.arange(12).reshape(3,-1)\n",
    "x"
   ]
  },
  {
   "cell_type": "code",
   "execution_count": null,
   "id": "34994b5e-772d-4197-a2ac-134af2335c56",
   "metadata": {},
   "outputs": [],
   "source": [
    "x.sum(axis=0)"
   ]
  },
  {
   "cell_type": "code",
   "execution_count": null,
   "id": "94553418-6e53-4d67-84f9-2293bc7d5216",
   "metadata": {},
   "outputs": [],
   "source": [
    "x.sum(axis=1)"
   ]
  },
  {
   "cell_type": "code",
   "execution_count": null,
   "id": "7ec62afc-a38d-4819-82b7-34d74ccfe883",
   "metadata": {},
   "outputs": [],
   "source": [
    "x = np.arange(20).reshape(2,5,-1)\n",
    "x"
   ]
  },
  {
   "cell_type": "code",
   "execution_count": null,
   "id": "a022fe3e-1243-4e41-8edc-4d218ea23d76",
   "metadata": {},
   "outputs": [],
   "source": [
    "x.min(axis=0)"
   ]
  },
  {
   "cell_type": "code",
   "execution_count": null,
   "id": "86542b55-9008-4a72-9a7c-b19db0854e99",
   "metadata": {},
   "outputs": [],
   "source": [
    "np.min(x, axis=1)"
   ]
  },
  {
   "cell_type": "code",
   "execution_count": null,
   "id": "eaf74950-0d20-46ec-9c6e-bcedabea6c1b",
   "metadata": {},
   "outputs": [],
   "source": [
    "p = np.array([[1.1, 7.1, 8.0, 2.1, 6.5, 7.2], \n",
    " [2.7, 5.2, 3.3, 9.0, 7.7, 2.8],\n",
    " [0.7, 8.8, 4.2, 8.9, 4.3, 7.4],\n",
    " [8.2, 1.1, 5.4, 2.9, 6.9, 0.2],\n",
    " [7.4, 4.8, 2.7, 3.1, 2.8, 8.9]])\n",
    "p"
   ]
  },
  {
   "cell_type": "code",
   "execution_count": null,
   "id": "31c3c300-0378-4b1a-b23b-d204e48cd62a",
   "metadata": {},
   "outputs": [],
   "source": [
    "p.max()"
   ]
  },
  {
   "cell_type": "code",
   "execution_count": null,
   "id": "e4263fcd-20ac-4b3b-827d-c90a29d721b7",
   "metadata": {},
   "outputs": [],
   "source": [
    "p.sum(axis=0)"
   ]
  },
  {
   "cell_type": "code",
   "execution_count": null,
   "id": "075c4949-396b-4b08-bd23-a0d8c61e36c0",
   "metadata": {},
   "outputs": [],
   "source": [
    "p.max(axis=0)"
   ]
  },
  {
   "cell_type": "code",
   "execution_count": null,
   "id": "2a79d557-ac3a-4180-898c-01facbeb65f2",
   "metadata": {},
   "outputs": [],
   "source": [
    "p.mean(axis=1)"
   ]
  },
  {
   "cell_type": "code",
   "execution_count": null,
   "id": "67ab441a-f0ad-41c3-a781-456df0661f86",
   "metadata": {},
   "outputs": [],
   "source": [
    "p.min(axis=1)"
   ]
  },
  {
   "cell_type": "code",
   "execution_count": null,
   "id": "e42a3f15-e1d5-4448-b3c2-c54116c477f1",
   "metadata": {},
   "outputs": [],
   "source": [
    "a = np.array([[4,3,5,7],\n",
    "              [1,12,11,9],\n",
    "              [2,15,1,14]])\n",
    "a"
   ]
  },
  {
   "cell_type": "code",
   "execution_count": null,
   "id": "3dccf104-ea53-4cd0-9479-70f95b221b99",
   "metadata": {},
   "outputs": [],
   "source": [
    "np.sort(a)"
   ]
  },
  {
   "cell_type": "code",
   "execution_count": null,
   "id": "8ee70e40-9065-4b0d-a1aa-80143395f2e0",
   "metadata": {},
   "outputs": [],
   "source": [
    "np.sort(a, axis=0)"
   ]
  },
  {
   "cell_type": "code",
   "execution_count": null,
   "id": "45df1d32-c6ee-4dcc-bb3b-8a43681a5c84",
   "metadata": {},
   "outputs": [],
   "source": [
    "a = np.array([[4,3,5,7],\n",
    "              [1,12,11,9],\n",
    "              [2,15,1,14]])\n",
    "a"
   ]
  },
  {
   "cell_type": "code",
   "execution_count": null,
   "id": "db1e41c5-e515-44c6-9851-8f6bc1d0d8c5",
   "metadata": {},
   "outputs": [],
   "source": [
    "a.sort(axis=1)"
   ]
  },
  {
   "cell_type": "code",
   "execution_count": null,
   "id": "bc7c1bb0-c054-48e3-92eb-303f4b97922f",
   "metadata": {},
   "outputs": [],
   "source": [
    "a"
   ]
  },
  {
   "cell_type": "code",
   "execution_count": null,
   "id": "e7a33e76-0309-4486-b927-69085c21eadf",
   "metadata": {},
   "outputs": [],
   "source": [
    "a = np.array([42,38,12,25])\n",
    "j = np.argsort(a)\n",
    "j"
   ]
  },
  {
   "cell_type": "code",
   "execution_count": null,
   "id": "ad472b8f-5e18-47cf-8f10-0f87d11d6531",
   "metadata": {},
   "outputs": [],
   "source": [
    "a[j]"
   ]
  },
  {
   "cell_type": "code",
   "execution_count": null,
   "id": "aa963d48-5ffc-4c1d-9a55-dd3dacd38c14",
   "metadata": {},
   "outputs": [],
   "source": [
    "np.sort(a)"
   ]
  },
  {
   "cell_type": "code",
   "execution_count": null,
   "id": "51e58a3b-9e35-4b94-8fa1-f34b8e74323d",
   "metadata": {},
   "outputs": [],
   "source": [
    "a = np.array([[1,2],[3,4],[5,6]])\n",
    "a"
   ]
  },
  {
   "cell_type": "code",
   "execution_count": null,
   "id": "838f3469-ae79-420b-bb6a-0c94bb5ba759",
   "metadata": {},
   "outputs": [],
   "source": [
    "print(a[[0,1,2],[0,1,0]])"
   ]
  },
  {
   "cell_type": "code",
   "execution_count": null,
   "id": "a29754e1-c24c-4381-8b6e-d2ee479594f6",
   "metadata": {},
   "outputs": [],
   "source": [
    "a = np.array([[1,2],[3,4],[5,6]])\n",
    "a"
   ]
  },
  {
   "cell_type": "code",
   "execution_count": null,
   "id": "b27e54f2-834b-4b1a-89ad-38c20ed7d3d4",
   "metadata": {},
   "outputs": [],
   "source": [
    "print(a[:, [0,1,0]])"
   ]
  },
  {
   "cell_type": "code",
   "execution_count": null,
   "id": "55648e4d-0208-4513-bb64-81b6df491f83",
   "metadata": {},
   "outputs": [],
   "source": [
    "scores = np.array([[1,2,3,4],\n",
    "              [46,99,100,71],\n",
    "              [81,59,90,100]])\n",
    "scores"
   ]
  },
  {
   "cell_type": "code",
   "execution_count": null,
   "id": "d4e48c76-68c2-40f0-8ce0-56170ac78630",
   "metadata": {},
   "outputs": [],
   "source": [
    "row = np.argsort(scores[1,:])\n",
    "row"
   ]
  },
  {
   "cell_type": "code",
   "execution_count": null,
   "id": "3637ec86-8390-4df3-a078-c64bcf428b59",
   "metadata": {},
   "outputs": [],
   "source": [
    "print(scores[:,row])"
   ]
  },
  {
   "cell_type": "code",
   "execution_count": null,
   "id": "3c516a30-93ae-4bf8-8200-682da446c433",
   "metadata": {},
   "outputs": [],
   "source": [
    "평균 : np.mean(x)\n",
    "분산 : np.var(x)\n",
    "표준편차 : np.std(x)\n"
   ]
  },
  {
   "cell_type": "code",
   "execution_count": null,
   "id": "c56691d8-cd6a-474c-9c42-bcdd9bc57697",
   "metadata": {},
   "outputs": [],
   "source": [
    "np.random.seed(0)"
   ]
  },
  {
   "cell_type": "code",
   "execution_count": null,
   "id": "50511167-f4ba-4f86-8c17-c69dd16668e2",
   "metadata": {},
   "outputs": [],
   "source": [
    "coin = np.random.randint(0, 2, 100)\n",
    "coin.sum()/len(coin)"
   ]
  },
  {
   "cell_type": "code",
   "execution_count": null,
   "id": "622551f8-c506-4732-8570-48dd6c239d15",
   "metadata": {},
   "outputs": [],
   "source": [
    "np.random.seed(0)\n",
    "k = [np.random.randint(0, 2) for _ in range(100) ]\n",
    "np.mean(k)"
   ]
  },
  {
   "cell_type": "code",
   "execution_count": null,
   "id": "6dafb6dc-192d-48c2-97cb-24a414761cae",
   "metadata": {},
   "outputs": [],
   "source": [
    "np.random.seed(0)\n",
    "a= np.random.randint(2, size=100)\n",
    "np.mean(a)"
   ]
  },
  {
   "cell_type": "code",
   "execution_count": null,
   "id": "4b3cebd5-9e4f-48ed-9415-d3ebd476a67c",
   "metadata": {},
   "outputs": [],
   "source": [
    "np.random.seed(0)\n",
    "a = np.random.randint(1,7,100)\n",
    "a.sum()/len(a)"
   ]
  },
  {
   "cell_type": "code",
   "execution_count": null,
   "id": "a143fc0b-1608-4788-9347-574b4344fc89",
   "metadata": {},
   "outputs": [],
   "source": [
    "# 연습문제\n",
    "np.random.seed(0)\n",
    "k = [np.random.randint(1, 7) for _ in range(100)]\n",
    "np.mean(k)"
   ]
  },
  {
   "cell_type": "code",
   "execution_count": null,
   "id": "f0f52874-75b6-40f8-989f-31f62bdeaf9b",
   "metadata": {},
   "outputs": [],
   "source": [
    "a = np.array([[1,2,3],\n",
    "              [4,5,6]])\n",
    "b = np.array([[7,8,9],\n",
    "              [10,11,12]])\n",
    "a + b"
   ]
  },
  {
   "cell_type": "code",
   "execution_count": null,
   "id": "261809c2-46f9-4702-9592-2c45520c1cff",
   "metadata": {},
   "outputs": [],
   "source": [
    "(np.array([[1,2,3],[4,5,6]])) + (np.array([[7,8,9],[10,11,12]]))"
   ]
  },
  {
   "cell_type": "code",
   "execution_count": null,
   "id": "3e43e07e-4c24-4076-8ae3-000d01e309fe",
   "metadata": {},
   "outputs": [],
   "source": [
    "a = np.arange(1,10)\n",
    "a * 3"
   ]
  },
  {
   "cell_type": "code",
   "execution_count": null,
   "id": "7095a5f8-64cf-46bf-8eaa-b1a15c8d9d08",
   "metadata": {},
   "outputs": [],
   "source": [
    "x = np.zeros(10)\n",
    "x[4] = 1\n",
    "x"
   ]
  },
  {
   "cell_type": "code",
   "execution_count": null,
   "id": "312fa5b3-abb5-458a-af1a-789103853760",
   "metadata": {},
   "outputs": [],
   "source": [
    "x = np.arange(50)\n",
    "x[::-1]"
   ]
  },
  {
   "cell_type": "code",
   "execution_count": null,
   "id": "8481a33d-dfda-4a85-95c5-7cfbeb5f2897",
   "metadata": {},
   "outputs": [],
   "source": [
    "np.zeros((3,3,3), dtype = 'U10')"
   ]
  },
  {
   "cell_type": "code",
   "execution_count": null,
   "id": "95d01562-2d8c-43f8-a876-153f0960245e",
   "metadata": {},
   "outputs": [],
   "source": [
    "#np.full() 하나의 특정 값으로 배열의 값을 채우고 싶을 때 씀\n",
    "# shape - 채울 값 / dtype"
   ]
  },
  {
   "cell_type": "code",
   "execution_count": null,
   "id": "4da41910-4051-48de-b3e4-df81fc618fb4",
   "metadata": {},
   "outputs": [],
   "source": [
    "a = np.full((3,3,3),\"playdata\",dtype = 'U8')\n",
    "a"
   ]
  },
  {
   "cell_type": "code",
   "execution_count": null,
   "id": "7d5d575b-913a-43a2-a325-b9b467e7791e",
   "metadata": {},
   "outputs": [],
   "source": [
    "a = np.arange(2,41,2)\n",
    "a.reshape(2,2,5)"
   ]
  },
  {
   "cell_type": "code",
   "execution_count": null,
   "id": "feca585d-f8b8-46bd-9fdd-6e4f5bcea01d",
   "metadata": {},
   "outputs": [],
   "source": [
    "#단위행렬만들기\n",
    "#대각선 1값 나머지 0 /정사각형\n",
    "# np.eye(n)"
   ]
  },
  {
   "cell_type": "code",
   "execution_count": null,
   "id": "bf8f5830-ae53-4cfb-a4eb-70b812c86bf0",
   "metadata": {},
   "outputs": [],
   "source": [
    "np.eye(4)"
   ]
  },
  {
   "cell_type": "code",
   "execution_count": null,
   "id": "f49f3ac3-1ac5-46d3-b147-c09b65c3ebc4",
   "metadata": {},
   "outputs": [],
   "source": [
    "#넘파이 배열 데이터 타입 변경\n",
    "#astype()\n",
    "#첫번째 키워드 인수 dtype 값 필수 입력"
   ]
  },
  {
   "cell_type": "code",
   "execution_count": null,
   "id": "46afea05-568f-46f4-92d0-e9029b162017",
   "metadata": {},
   "outputs": [],
   "source": [
    "a = np.ones((2,3,2))\n",
    "a"
   ]
  },
  {
   "cell_type": "code",
   "execution_count": null,
   "id": "1d7a0c46-e0be-4b86-8b59-001d0251d64f",
   "metadata": {},
   "outputs": [],
   "source": [
    "a.astype(\"i\")"
   ]
  },
  {
   "cell_type": "code",
   "execution_count": null,
   "id": "9dbb3962-d0cb-487d-af67-cd87ab5f2dfe",
   "metadata": {},
   "outputs": [],
   "source": [
    "np.random.seed(0)\n",
    "d = np.random.randint(0,2,9)\n",
    "d.astype(\"bool\").reshape(3,3)"
   ]
  },
  {
   "cell_type": "code",
   "execution_count": null,
   "id": "51b81947-369b-4043-9bcf-c73eecc232b7",
   "metadata": {},
   "outputs": [],
   "source": [
    "#연습문제"
   ]
  },
  {
   "cell_type": "code",
   "execution_count": 1,
   "id": "78f84d78-7db4-4803-8a46-910916d5a18e",
   "metadata": {},
   "outputs": [],
   "source": [
    "import numpy as np"
   ]
  },
  {
   "cell_type": "code",
   "execution_count": 80,
   "id": "9e91c241-2034-4112-906a-648c6b9fd1d4",
   "metadata": {},
   "outputs": [
    {
     "data": {
      "text/plain": [
       "array([5, 7, 6, 5, 4, 6, 4, 8, 9, 3], dtype=int32)"
      ]
     },
     "execution_count": 80,
     "metadata": {},
     "output_type": "execute_result"
    }
   ],
   "source": [
    "np.random.seed(0)\n",
    "s = np.random.rand(10)\n",
    "w = s * 10\n",
    "w.astype(\"i\")"
   ]
  },
  {
   "cell_type": "code",
   "execution_count": 82,
   "id": "0d81469d-f6c9-45ed-b052-5c3e75550b99",
   "metadata": {},
   "outputs": [
    {
     "data": {
      "text/plain": [
       "array([[1., 1., 1., 1., 1., 1., 1., 1., 1., 1.],\n",
       "       [1., 1., 1., 1., 1., 1., 1., 1., 1., 1.],\n",
       "       [1., 1., 1., 1., 1., 1., 1., 1., 1., 1.],\n",
       "       [1., 1., 1., 1., 1., 1., 1., 1., 1., 1.],\n",
       "       [1., 1., 1., 1., 1., 1., 1., 1., 1., 1.],\n",
       "       [1., 1., 1., 1., 1., 1., 1., 1., 1., 1.],\n",
       "       [1., 1., 1., 1., 1., 1., 1., 1., 1., 1.],\n",
       "       [1., 1., 1., 1., 1., 1., 1., 1., 1., 1.],\n",
       "       [1., 1., 1., 1., 1., 1., 1., 1., 1., 1.],\n",
       "       [1., 1., 1., 1., 1., 1., 1., 1., 1., 1.]])"
      ]
     },
     "execution_count": 82,
     "metadata": {},
     "output_type": "execute_result"
    }
   ],
   "source": [
    "a = np.ones((10,10))\n",
    "a"
   ]
  },
  {
   "cell_type": "code",
   "execution_count": 83,
   "id": "5bc106a6-e5d6-408c-8950-b2018ab9c444",
   "metadata": {},
   "outputs": [
    {
     "data": {
      "text/plain": [
       "array([[1., 1., 1., 1., 1., 1., 1., 1., 1., 1.],\n",
       "       [1., 0., 0., 0., 0., 0., 0., 0., 0., 1.],\n",
       "       [1., 0., 0., 0., 0., 0., 0., 0., 0., 1.],\n",
       "       [1., 0., 0., 0., 0., 0., 0., 0., 0., 1.],\n",
       "       [1., 0., 0., 0., 0., 0., 0., 0., 0., 1.],\n",
       "       [1., 0., 0., 0., 0., 0., 0., 0., 0., 1.],\n",
       "       [1., 0., 0., 0., 0., 0., 0., 0., 0., 1.],\n",
       "       [1., 0., 0., 0., 0., 0., 0., 0., 0., 1.],\n",
       "       [1., 0., 0., 0., 0., 0., 0., 0., 0., 1.],\n",
       "       [1., 1., 1., 1., 1., 1., 1., 1., 1., 1.]])"
      ]
     },
     "execution_count": 83,
     "metadata": {},
     "output_type": "execute_result"
    }
   ],
   "source": [
    "a[1:-1,1:-1] = 0\n",
    "a"
   ]
  },
  {
   "cell_type": "code",
   "execution_count": 84,
   "id": "eabaf98c-e31b-428c-a95e-3295424d518f",
   "metadata": {},
   "outputs": [
    {
     "data": {
      "text/plain": [
       "array([[1., 1., 1., 1., 1., 1., 1., 1., 1., 1.],\n",
       "       [1., 0., 0., 0., 0., 0., 0., 0., 0., 1.],\n",
       "       [1., 0., 0., 0., 0., 0., 0., 0., 0., 1.],\n",
       "       [1., 0., 0., 0., 0., 0., 0., 0., 0., 1.],\n",
       "       [1., 0., 0., 0., 0., 0., 0., 0., 0., 1.],\n",
       "       [1., 0., 0., 0., 0., 0., 0., 0., 0., 1.],\n",
       "       [1., 0., 0., 0., 0., 0., 0., 0., 0., 1.],\n",
       "       [1., 0., 0., 0., 0., 0., 0., 0., 0., 1.],\n",
       "       [1., 0., 0., 0., 0., 0., 0., 0., 0., 1.],\n",
       "       [1., 1., 1., 1., 1., 1., 1., 1., 1., 1.]])"
      ]
     },
     "execution_count": 84,
     "metadata": {},
     "output_type": "execute_result"
    }
   ],
   "source": [
    "a[1:9,1:9]=0\n",
    "a"
   ]
  },
  {
   "cell_type": "code",
   "execution_count": 110,
   "id": "ef764c31-aa83-49e9-a541-b6b62f9de425",
   "metadata": {},
   "outputs": [
    {
     "data": {
      "text/plain": [
       "array([[0., 0., 0., 0., 0., 0., 0., 0., 0., 0.],\n",
       "       [0., 1., 1., 1., 1., 1., 1., 1., 1., 0.],\n",
       "       [0., 1., 1., 1., 1., 1., 1., 1., 1., 0.],\n",
       "       [0., 1., 1., 1., 1., 1., 1., 1., 1., 0.],\n",
       "       [0., 1., 1., 1., 1., 1., 1., 1., 1., 0.],\n",
       "       [0., 1., 1., 1., 1., 1., 1., 1., 1., 0.],\n",
       "       [0., 1., 1., 1., 1., 1., 1., 1., 1., 0.],\n",
       "       [0., 1., 1., 1., 1., 1., 1., 1., 1., 0.],\n",
       "       [0., 1., 1., 1., 1., 1., 1., 1., 1., 0.],\n",
       "       [0., 0., 0., 0., 0., 0., 0., 0., 0., 0.]])"
      ]
     },
     "execution_count": 110,
     "metadata": {},
     "output_type": "execute_result"
    }
   ],
   "source": [
    "a = np.ones((10,10))\n",
    "# a[0:,:1]=0\n",
    "# a[0,]=0\n",
    "# a[9:,]=0\n",
    "# a[:,9:]=0\n",
    "\n",
    "# a[:] = 0\n",
    "# a[1:-1,1:-1]=1\n",
    "\n",
    "a[:, [0,-1]] = 0\n",
    "a[[0,-1], :] = 0\n",
    "a"
   ]
  },
  {
   "cell_type": "code",
   "execution_count": 137,
   "id": "7da72f3e-6bca-4fdb-9408-c64e7977faae",
   "metadata": {},
   "outputs": [
    {
     "data": {
      "text/plain": [
       "array([[1., 0., 1., 0., 1., 0., 1., 0.],\n",
       "       [0., 1., 0., 1., 0., 1., 0., 1.],\n",
       "       [1., 0., 1., 0., 1., 0., 1., 0.],\n",
       "       [0., 1., 0., 1., 0., 1., 0., 1.],\n",
       "       [1., 0., 1., 0., 1., 0., 1., 0.],\n",
       "       [0., 1., 0., 1., 0., 1., 0., 1.],\n",
       "       [1., 0., 1., 0., 1., 0., 1., 0.],\n",
       "       [0., 1., 0., 1., 0., 1., 0., 1.]])"
      ]
     },
     "execution_count": 137,
     "metadata": {},
     "output_type": "execute_result"
    }
   ],
   "source": [
    "x = np.ones((8,8))\n",
    "x[1::2,::2]=0\n",
    "x[::2,1::2]=0\n",
    "x"
   ]
  },
  {
   "cell_type": "code",
   "execution_count": 152,
   "id": "f2f7e6c9-39e8-47bc-bcc6-11e9f442b1bd",
   "metadata": {},
   "outputs": [
    {
     "data": {
      "text/plain": [
       "array([[1., 0., 1., 0., 1., 0., 1., 0.],\n",
       "       [0., 1., 0., 1., 0., 1., 0., 1.],\n",
       "       [1., 0., 1., 0., 1., 0., 1., 0.],\n",
       "       [0., 1., 0., 1., 0., 1., 0., 1.],\n",
       "       [1., 0., 1., 0., 1., 0., 1., 0.],\n",
       "       [0., 1., 0., 1., 0., 1., 0., 1.],\n",
       "       [1., 0., 1., 0., 1., 0., 1., 0.],\n",
       "       [0., 1., 0., 1., 0., 1., 0., 1.]])"
      ]
     },
     "execution_count": 152,
     "metadata": {},
     "output_type": "execute_result"
    }
   ],
   "source": [
    "a = np.tile(np.eye(2),(4,4))\n",
    "a"
   ]
  },
  {
   "cell_type": "code",
   "execution_count": null,
   "id": "a22f9bb6-90b6-438f-b2bf-29726e35d057",
   "metadata": {},
   "outputs": [],
   "source": [
    "boolean indexing\n",
    ": 같은 shape와 len의 boolean의 값을 갖는 것 인덱싱\n",
    "True면 값을 취하고 False면 가져오지 않는다"
   ]
  },
  {
   "cell_type": "code",
   "execution_count": 168,
   "id": "bf91ec90-9450-4d8c-af68-df610209ac36",
   "metadata": {},
   "outputs": [
    {
     "name": "stdout",
     "output_type": "stream",
     "text": [
      "[ 0  1  2  3 -4 -5 -6  7  8  9 10]\n"
     ]
    }
   ],
   "source": [
    "a = np.arange(11)\n",
    "x = np.array([a[i]*-1 if 3<a[i]<7 else a[i] for i in range(11)])\n",
    "print(x)"
   ]
  },
  {
   "cell_type": "code",
   "execution_count": 169,
   "id": "71e6e601-d612-44ff-a3f6-c52e6190f3f5",
   "metadata": {},
   "outputs": [
    {
     "name": "stdout",
     "output_type": "stream",
     "text": [
      "[ 0  1  2  3 -4 -5 -6  7  8  9 10]\n"
     ]
    }
   ],
   "source": [
    "a= np.arange(11)\n",
    "a[(3<a)&(7>a)] *= -1\n",
    "print(a)"
   ]
  },
  {
   "cell_type": "code",
   "execution_count": 175,
   "id": "58ed8738-8450-4961-bbd7-75dba7d92f4b",
   "metadata": {},
   "outputs": [
    {
     "data": {
      "text/plain": [
       "1683"
      ]
     },
     "execution_count": 175,
     "metadata": {},
     "output_type": "execute_result"
    }
   ],
   "source": [
    "a = np.arange(3,100,3)\n",
    "np.sum(a)\n"
   ]
  },
  {
   "cell_type": "code",
   "execution_count": 180,
   "id": "e10f00f8-4d46-4413-95c7-ea31228cda7f",
   "metadata": {},
   "outputs": [
    {
     "data": {
      "text/plain": [
       "array([0.1, 0.2, 0.3, 0.4, 0.5, 0.6, 0.7, 0.8, 0.9])"
      ]
     },
     "execution_count": 180,
     "metadata": {},
     "output_type": "execute_result"
    }
   ],
   "source": [
    "np.linspace(0.1,0.9,9)"
   ]
  },
  {
   "cell_type": "code",
   "execution_count": 3,
   "id": "313263fe-a445-42af-9872-e9680de5e328",
   "metadata": {},
   "outputs": [
    {
     "name": "stdin",
     "output_type": "stream",
     "text": [
      "자연수를 입력해주세요. 6\n"
     ]
    },
    {
     "data": {
      "text/plain": [
       "[array([ 3,  9, 13, 16, 28, 44]),\n",
       " array([ 2,  6,  7, 16, 20, 45]),\n",
       " array([ 2,  7, 20, 22, 25, 29]),\n",
       " array([15, 27, 28, 31, 38, 43]),\n",
       " array([ 6,  7, 15, 21, 28, 35]),\n",
       " array([ 1,  2,  8, 12, 30, 35])]"
      ]
     },
     "metadata": {},
     "output_type": "display_data"
    }
   ],
   "source": [
    "import numpy as np\n",
    "\n",
    "while True:\n",
    "    try:\n",
    "        count = int(input(\"자연수를 입력해주세요.\"))\n",
    "        if count <= 0:\n",
    "            raise Error\n",
    "        numbers = np.arange(1,46)\n",
    "        x = [np.sort(np.random.choice(numbers,6, replace=False)) for _ in range(count)]\n",
    "        display(x)\n",
    "        break\n",
    "    except:\n",
    "        print(\"자연수만 입력해주세요\")"
   ]
  },
  {
   "cell_type": "code",
   "execution_count": 3,
   "id": "6b79fce2-b54c-4195-8f2a-8d054d49c588",
   "metadata": {},
   "outputs": [
    {
     "name": "stdin",
     "output_type": "stream",
     "text": [
      "자연수를 입력해주세요. 3\n"
     ]
    },
    {
     "name": "stdout",
     "output_type": "stream",
     "text": [
      "[ 4 10 16 27 30 32]\n",
      "[ 5 23 25 29 32 44]\n",
      "[ 7 11 16 21 33 42]\n"
     ]
    }
   ],
   "source": [
    "while True:\n",
    "    n = input(\"자연수를 입력해주세요.\")\n",
    "    try:\n",
    "        for i in range(int(n)):\n",
    "            k = np.array([np.random.choice(np.arange(46), replace=False) for _ in range(6)])\n",
    "            print(np.sort(k))\n",
    "        break;\n",
    "    except ValueError:\n",
    "        print(\"자연수만 입력해주세요.\")"
   ]
  },
  {
   "cell_type": "code",
   "execution_count": 4,
   "id": "fb788005-d9c2-4287-af6d-7bfb39568d61",
   "metadata": {},
   "outputs": [
    {
     "name": "stdin",
     "output_type": "stream",
     "text": [
      "자연수만 입력해 주세요 3\n"
     ]
    },
    {
     "name": "stdout",
     "output_type": "stream",
     "text": [
      "[[44 26 32 24 16  9]\n",
      " [38 10  1 22  6  6]\n",
      " [33  4 24 35 13 28]]\n"
     ]
    },
    {
     "name": "stderr",
     "output_type": "stream",
     "text": [
      "C:\\Users\\jaehee\\anaconda3\\lib\\site-packages\\IPython\\core\\interactiveshell.py:3377: FutureWarning: arrays to stack must be passed as a \"sequence\" type such as list or tuple. Support for non-sequence iterables such as generators is deprecated as of NumPy 1.16 and will raise an error in the future.\n",
      "  if (await self.run_code(code, result,  async_=asy)):\n"
     ]
    }
   ],
   "source": [
    "try:\n",
    "    y = int(input(\"자연수만 입력해 주세요\"))\n",
    "    x = np.stack(np.random.randint(1,46, size=6) for i in range (y))\n",
    "    print(x)\n",
    "    \n",
    "except:\n",
    "    y = (input(\"자연수만 입력해 주세요\"))"
   ]
  },
  {
   "cell_type": "code",
   "execution_count": 5,
   "id": "67834c87-ae60-4259-ab55-16fc94138574",
   "metadata": {},
   "outputs": [
    {
     "name": "stdin",
     "output_type": "stream",
     "text": [
      " 6\n"
     ]
    },
    {
     "name": "stdout",
     "output_type": "stream",
     "text": [
      "[5, 8, 11, 37, 38, 41]\n",
      "[1, 4, 20, 30, 37, 44]\n",
      "[10, 18, 24, 29, 34, 36]\n",
      "[1, 3, 20, 25, 32, 35]\n",
      "[7, 9, 21, 28, 29, 43]\n",
      "[2, 5, 25, 30, 31, 41]\n"
     ]
    }
   ],
   "source": [
    "while True:\n",
    "    try:\n",
    "        n1 = int(input())\n",
    "        if n1 <= 0:\n",
    "            print(\"자연수만 입력해주세요.\")\n",
    "            continue\n",
    "        else:\n",
    "            for i in range(n1):\n",
    "                lis = []\n",
    "                a18= np.random.choice(range(1, 46), 6, replace = False)\n",
    "                lis.extend(a18)\n",
    "                lis.sort()\n",
    "                print(lis)\n",
    "        break\n",
    "    except ValueError:\n",
    "        print(\"자연수만 입력해주세요.\")\n",
    "        continue"
   ]
  },
  {
   "cell_type": "code",
   "execution_count": 9,
   "id": "c3b04963-c818-4fde-9994-90e5b23df101",
   "metadata": {},
   "outputs": [
    {
     "data": {
      "text/plain": [
       "8"
      ]
     },
     "execution_count": 9,
     "metadata": {},
     "output_type": "execute_result"
    }
   ],
   "source": [
    "r = np. array([158,  85, 205,  24,  42, 175, 188, 149, 153, 171, 137,  55, 108,\n",
    "                       199, 177, 209, 218,  76, 103, 189, 110, 192, 136, 119,   4, 102,\n",
    "                       177, 212, 110,  37, 163,  32,  77,  22, 125, 184,  46, 139,  72,\n",
    "                       168, 133, 209, 148,  47, 102,  65, 160,  56,  11,  96, 169, 118,\n",
    "                        55, 135, 217,  49, 100,  85, 179,  15, 139, 199, 124, 142,  15,\n",
    "                        49, 168, 171, 168, 177, 147,  23, 199,  26,  51,  42,  90, 128,\n",
    "                       186, 169, 129,  70, 198, 111,  81, 150,  17, 177, 201,  10,  75,\n",
    "                       199,  55, 151, 183, 152, 119, 193, 110, 204])\n",
    "\n",
    "len(r[r>200])\n"
   ]
  },
  {
   "cell_type": "code",
   "execution_count": 13,
   "id": "71f09e0c-28e1-4c8b-9671-bf23da1f49e7",
   "metadata": {},
   "outputs": [
    {
     "data": {
      "text/plain": [
       "(4.0, 71.5, 131.0, 175.5)"
      ]
     },
     "execution_count": 13,
     "metadata": {},
     "output_type": "execute_result"
    }
   ],
   "source": [
    "np.percentile(r,0),np.percentile(r,25),np.percentile(r,50),np.percentile(r,75)"
   ]
  },
  {
   "cell_type": "code",
   "execution_count": 35,
   "id": "59ca58da-0944-4401-b6b3-49ca901e5910",
   "metadata": {},
   "outputs": [
    {
     "name": "stdout",
     "output_type": "stream",
     "text": [
      "뽀로로 가 81 표로 반장으로 선출되었습니다.\n"
     ]
    }
   ],
   "source": [
    "p = [\"뽀로로\", \"루피\", \"크롱\"]\n",
    "result = np.array([2, 1, 2, 2, 2, 2, 0, 2, 1, 1, 0, 0, 2, 0, 0, 1, 1, 2, 2, 2, 1, 1,\n",
    "                   1, 2, 0, 2, 2, 0, 1, 1, 0, 2, 1, 0, 1, 2, 0, 0, 1, 0, 1, 1, 1, 2,\n",
    "                   1, 1, 1, 0, 0, 0, 0, 1, 0, 0, 2, 0, 2, 2, 0, 0, 1, 1, 1, 0, 0, 2,\n",
    "                   2, 1, 0, 1, 2, 0, 2, 0, 0, 0, 2, 0, 0, 0, 0, 0, 1, 2, 1, 1, 2, 0,\n",
    "                   2, 0, 0, 0, 0, 2, 1, 2, 0, 2, 0, 0, 1, 0, 1, 2, 1, 2, 0, 2, 2, 1,\n",
    "                   2, 0, 0, 1, 1, 0, 1, 2, 1, 2, 0, 2, 2, 2, 2, 0, 2, 2, 0, 2, 0, 2,\n",
    "                   1, 1, 2, 1, 1, 0, 0, 1, 0, 0, 0, 2, 2, 0, 2, 0, 0, 0, 2, 0, 0, 0,\n",
    "                   2, 0, 1, 2, 1, 0, 2, 0, 0, 1, 2, 1, 1, 2, 2, 0, 0, 0, 0, 2, 2, 1,\n",
    "                   0, 1, 1, 2, 2, 1, 0, 0, 2, 0, 0, 0, 2, 0, 2, 2, 0, 2, 1, 0, 0, 2,\n",
    "                   0, 1])\n",
    "index, count = np.unique(result, return_counts=True)\n",
    "print(p[np.argmax(count)],\"가\",max(count),\"표로 반장으로 선출되었습니다.\")"
   ]
  },
  {
   "cell_type": "code",
   "execution_count": 36,
   "id": "1ab28681-5bed-4e35-8737-0ea3203dc25e",
   "metadata": {},
   "outputs": [
    {
     "name": "stdout",
     "output_type": "stream",
     "text": [
      "뽀로로가 81표로 반장으로 선출되었습니다.\n"
     ]
    }
   ],
   "source": [
    "count = np.bincount(result, minlength = 3)\n",
    "win = count.argmax()\n",
    "print(f'{p[win]}가 {count[win]}표로 반장으로 선출되었습니다.')"
   ]
  },
  {
   "cell_type": "code",
   "execution_count": null,
   "id": "c6f209af-c031-4363-9e7a-1b35e6a3a030",
   "metadata": {},
   "outputs": [],
   "source": []
  }
 ],
 "metadata": {
  "kernelspec": {
   "display_name": "Python 3 (ipykernel)",
   "language": "python",
   "name": "python3"
  },
  "language_info": {
   "codemirror_mode": {
    "name": "ipython",
    "version": 3
   },
   "file_extension": ".py",
   "mimetype": "text/x-python",
   "name": "python",
   "nbconvert_exporter": "python",
   "pygments_lexer": "ipython3",
   "version": "3.9.13"
  }
 },
 "nbformat": 4,
 "nbformat_minor": 5
}
