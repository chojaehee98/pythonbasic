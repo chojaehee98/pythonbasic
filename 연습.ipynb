{
 "cells": [
  {
   "cell_type": "code",
   "execution_count": 3,
   "id": "7ab09aae-d705-403f-bbfe-868ed040f44f",
   "metadata": {},
   "outputs": [
    {
     "name": "stdin",
     "output_type": "stream",
     "text": [
      "자연수 하나 입력해주세요: 70\n"
     ]
    },
    {
     "name": "stdout",
     "output_type": "stream",
     "text": [
      "20\n"
     ]
    }
   ],
   "source": [
    "a=int(input(\"자연수 하나 입력해주세요:\"))\n",
    "\n",
    "result = a-50\n",
    "\n",
    "if result < 0:\n",
    "    result = 0\n",
    "print(result)"
   ]
  },
  {
   "cell_type": "code",
   "execution_count": 6,
   "id": "9b1849b2-0ab6-4833-85f4-ef353c571aec",
   "metadata": {},
   "outputs": [
    {
     "name": "stdin",
     "output_type": "stream",
     "text": [
      "아이디를 입력하세요 : biana\n",
      "회원 등급을 입력해주세요:  4\n"
     ]
    },
    {
     "name": "stdout",
     "output_type": "stream",
     "text": [
      "권한이 없습니다.\n"
     ]
    }
   ],
   "source": [
    "#연습문제, 사용자 아이디 입력\n",
    "\n",
    "a = input(\"아이디를 입력하세요 :\")\n",
    "\n",
    "if a =='admin':\n",
    "    print(\"최고 권리자, 모든 권한을 갖습니다.\")\n",
    "elif a != 'admin':\n",
    "    i = int(input(\"회원 등급을 입력해주세요: \"))\n",
    "    if 1<=i<=3:\n",
    "        print(\"제한적인 권한을 갖습니다.\")\n",
    "    else:\n",
    "        print(\"권한이 없습니다.\")"
   ]
  },
  {
   "cell_type": "code",
   "execution_count": 7,
   "id": "bc89c914-2055-4d48-9be1-cddacd1ba2d8",
   "metadata": {},
   "outputs": [
    {
     "name": "stdin",
     "output_type": "stream",
     "text": [
      "자연수 하나 입력해주세요: 21\n"
     ]
    },
    {
     "name": "stdout",
     "output_type": "stream",
     "text": [
      "홀수입니다\n"
     ]
    }
   ],
   "source": [
    "i = int(input(\"자연수 하나 입력해주세요:\"))\n",
    "\n",
    "if i%2==0:\n",
    "    print(\"짝수입니다\")\n",
    "else:\n",
    "    print(\"홀수입니다\")"
   ]
  },
  {
   "cell_type": "code",
   "execution_count": 10,
   "id": "ae84bfcb-7040-4f2f-8af3-99ed1791377e",
   "metadata": {},
   "outputs": [
    {
     "name": "stdin",
     "output_type": "stream",
     "text": [
      "발주 수량을 입력하세요: 2001\n"
     ]
    },
    {
     "ename": "TypeError",
     "evalue": "raw_input() takes from 1 to 2 positional arguments but 3 were given",
     "output_type": "error",
     "traceback": [
      "\u001b[1;31m---------------------------------------------------------------------------\u001b[0m",
      "\u001b[1;31mTypeError\u001b[0m                                 Traceback (most recent call last)",
      "\u001b[1;32m~\\AppData\\Local\\Temp\\ipykernel_1068\\3699537035.py\u001b[0m in \u001b[0;36m<module>\u001b[1;34m\u001b[0m\n\u001b[0;32m      1\u001b[0m \u001b[0mi\u001b[0m \u001b[1;33m=\u001b[0m\u001b[0mint\u001b[0m\u001b[1;33m(\u001b[0m\u001b[0minput\u001b[0m\u001b[1;33m(\u001b[0m\u001b[1;34m\"발주 수량을 입력하세요:\"\u001b[0m\u001b[1;33m)\u001b[0m\u001b[1;33m)\u001b[0m\u001b[1;33m\u001b[0m\u001b[1;33m\u001b[0m\u001b[0m\n\u001b[1;32m----> 2\u001b[1;33m \u001b[0m_\u001b[0m \u001b[1;33m=\u001b[0m\u001b[0mint\u001b[0m\u001b[1;33m(\u001b[0m\u001b[0minput\u001b[0m\u001b[1;33m(\u001b[0m\u001b[0mi\u001b[0m\u001b[1;33m,\u001b[0m\u001b[1;34m\"개를 주문하셨습니다.\"\u001b[0m\u001b[1;33m)\u001b[0m\u001b[1;33m)\u001b[0m\u001b[1;33m\u001b[0m\u001b[1;33m\u001b[0m\u001b[0m\n\u001b[0m",
      "\u001b[1;31mTypeError\u001b[0m: raw_input() takes from 1 to 2 positional arguments but 3 were given"
     ]
    }
   ],
   "source": [
    "i =int(input(\"발주 수량을 입력하세요:\"))\n",
    "_ =int(input(i,\"개를 주문하셨습니다.\"))\n",
    "\n",
    "a = i*0.5\n",
    "b = i*0.9\n",
    "c = i*0.8\n",
    "\n",
    "if i<1000:\n",
    "    print(\"수량할인이 적용되지 않습니다\")\n",
    "elif i<=1500:\n",
    "    print(\"적용 할인율은 i 입니다\")\n",
    "elif i<2000:\n",
    "    print(\"적용 할인율은 10% 입니다\")\n",
    "else:\n",
    "    print(\"적용 할인율은 20% 입니다\")\n",
    "\n",
    "print(\"총 발주 금액은 $"
   ]
  },
  {
   "cell_type": "code",
   "execution_count": 19,
   "id": "03ce6898-b116-44f0-9a4d-98b18a7d8873",
   "metadata": {},
   "outputs": [
    {
     "name": "stdin",
     "output_type": "stream",
     "text": [
      "주민번호 뒷자리를 입력하세요: 2345678\n"
     ]
    },
    {
     "name": "stdout",
     "output_type": "stream",
     "text": [
      "여자\n"
     ]
    }
   ],
   "source": [
    "i = input(\"주민번호 뒷자리를 입력하세요:\")\n",
    "_ = int(i[0])\n",
    "if int(len(i)) !=7:\n",
    "    print(\"자리수를 잘못 입력했습니다\")\n",
    "else:    \n",
    "    if _ in (1,3):\n",
    "        print(\"남자\")\n",
    "    elif _ in (2,4):\n",
    "        print(\"여자\")\n",
    "    else:\n",
    "        print(\"잘못된 입력입니다\")"
   ]
  },
  {
   "cell_type": "code",
   "execution_count": 3,
   "id": "444823bc-97eb-4bc6-9f40-9fa668a4613f",
   "metadata": {},
   "outputs": [
    {
     "name": "stdin",
     "output_type": "stream",
     "text": [
      "자연수 하나 입력해주세요 : 6\n"
     ]
    },
    {
     "name": "stdout",
     "output_type": "stream",
     "text": [
      "6\t6\t6\t6\t6\t6\t\n",
      "5\t5\t5\t5\t5\t\n",
      "4\t4\t4\t4\t\n",
      "3\t3\t3\t\n",
      "2\t2\t\n",
      "1\t\n"
     ]
    }
   ],
   "source": [
    "i = int(input(\"자연수 하나 입력해주세요 :\"))\n",
    "\n",
    "for _ in range(i,0,-1):\n",
    "    for j in range(_):\n",
    "        print(_, end='\\t')\n",
    "    print()                         "
   ]
  },
  {
   "cell_type": "code",
   "execution_count": 2,
   "id": "86c24bf2-47a1-47c2-be16-9479925f20ef",
   "metadata": {},
   "outputs": [
    {
     "name": "stdout",
     "output_type": "stream",
     "text": [
      "**********\n",
      "*         *\n",
      "*         *\n",
      "*         *\n",
      "*         *\n",
      "*         *\n",
      "*         *\n",
      "*         *\n",
      "*         *\n",
      "**********\n"
     ]
    }
   ],
   "source": [
    "for _ in range(10):\n",
    "    if _ ==0 or _ == 9:\n",
    "        print(\"*\" * 10)\n",
    "    else:\n",
    "        print(\"*         *\")"
   ]
  },
  {
   "cell_type": "code",
   "execution_count": null,
   "id": "69647907-0ecf-4e72-99ce-5ece3986ccb2",
   "metadata": {},
   "outputs": [],
   "source": [
    "# 2월 19일 복습(처음부터)"
   ]
  },
  {
   "cell_type": "code",
   "execution_count": 7,
   "id": "c8603097-568c-4bbc-b00d-93cfc64f7316",
   "metadata": {},
   "outputs": [
    {
     "name": "stdout",
     "output_type": "stream",
     "text": [
      "Hello,World!\n",
      "Hello,World!\n",
      "Python Programming\n"
     ]
    }
   ],
   "source": [
    "print('Hello,World!')\n",
    "print('Hello,World!')\n",
    "print('Python Programming')"
   ]
  },
  {
   "cell_type": "code",
   "execution_count": 8,
   "id": "ad1f78b3-2105-4a47-a88c-96b183532683",
   "metadata": {},
   "outputs": [
    {
     "data": {
      "text/plain": [
       "89"
      ]
     },
     "execution_count": 8,
     "metadata": {},
     "output_type": "execute_result"
    }
   ],
   "source": [
    "13+(22-3)*4"
   ]
  },
  {
   "cell_type": "code",
   "execution_count": 10,
   "id": "10d04fcd-a2e4-42ce-99a8-909964a54bd9",
   "metadata": {},
   "outputs": [
    {
     "data": {
      "text/plain": [
       "28.2"
      ]
     },
     "execution_count": 10,
     "metadata": {},
     "output_type": "execute_result"
    }
   ],
   "source": [
    "13+((22-3)*4)/5"
   ]
  },
  {
   "cell_type": "code",
   "execution_count": 11,
   "id": "d7d9a2f9-545b-4e8f-be9c-d0ea5abdd8d9",
   "metadata": {},
   "outputs": [
    {
     "data": {
      "text/plain": [
       "7"
      ]
     },
     "execution_count": 11,
     "metadata": {},
     "output_type": "execute_result"
    }
   ],
   "source": [
    "int(0.2467*12+4.159)"
   ]
  },
  {
   "cell_type": "code",
   "execution_count": 12,
   "id": "08cf35ad-adbb-424c-8219-ee86ecd1edbb",
   "metadata": {},
   "outputs": [
    {
     "name": "stdout",
     "output_type": "stream",
     "text": [
      "가장 시끄러운 층은 = 7 층\n"
     ]
    }
   ],
   "source": [
    "print('가장 시끄러운 층은 =',int(0.2467*12.4+4.159),'층')"
   ]
  },
  {
   "cell_type": "code",
   "execution_count": 17,
   "id": "866ae4ac-23b8-49c4-8e44-21ebdb696864",
   "metadata": {},
   "outputs": [
    {
     "name": "stdout",
     "output_type": "stream",
     "text": [
      "냉장고 가격은 1272000원 입니다.\n"
     ]
    }
   ],
   "source": [
    "print(\"냉장고 가격은 \",int(53000*24),'원 입니다.',sep = '')"
   ]
  },
  {
   "cell_type": "code",
   "execution_count": 20,
   "id": "5b40964b-4f42-4f27-8d44-c5384ee0955b",
   "metadata": {},
   "outputs": [
    {
     "name": "stdout",
     "output_type": "stream",
     "text": [
      "총 지불 해야 할 금액은  16500000 원 입니다.\n"
     ]
    }
   ],
   "source": [
    "people = 250\n",
    "tax = 10 /100\n",
    "print(\"총 지불 해야 할 금액은 \",int(20000*3*people*(1+tax)),'원 입니다.')"
   ]
  },
  {
   "cell_type": "code",
   "execution_count": 21,
   "id": "54289606-2fdd-476f-893e-ed4ba3a06b19",
   "metadata": {},
   "outputs": [
    {
     "data": {
      "text/plain": [
       "453.0"
      ]
     },
     "execution_count": 21,
     "metadata": {},
     "output_type": "execute_result"
    }
   ],
   "source": [
    "float(380*0.6+225)"
   ]
  },
  {
   "cell_type": "code",
   "execution_count": 22,
   "id": "de821a5c-a2ed-4ea3-9a59-283fd63bc2ba",
   "metadata": {},
   "outputs": [
    {
     "name": "stdout",
     "output_type": "stream",
     "text": [
      "None\n"
     ]
    }
   ],
   "source": [
    "a = None\n",
    "print(a)"
   ]
  },
  {
   "cell_type": "code",
   "execution_count": 23,
   "id": "3b7f7ebb-3b7d-4113-93f0-676c7e850206",
   "metadata": {},
   "outputs": [],
   "source": [
    "text3 = 'don\\'t do that'\n",
    "text4 = \"don't do that\""
   ]
  },
  {
   "cell_type": "code",
   "execution_count": 25,
   "id": "2767c48f-b657-4267-be7a-ff27eaf3d548",
   "metadata": {},
   "outputs": [
    {
     "name": "stdout",
     "output_type": "stream",
     "text": [
      "\"안녕?\"이라는 그 인사를 듣고 나는 '누구지?'라고 생각했다.\n"
     ]
    }
   ],
   "source": [
    "print(\"\\\"안녕?\\\"이라는 그 인사를 듣고 나는 '누구지?'라고 생각했다.\")"
   ]
  },
  {
   "cell_type": "code",
   "execution_count": 26,
   "id": "7aef04f8-de19-40ed-854a-6e2a8c6bf59e",
   "metadata": {},
   "outputs": [
    {
     "name": "stdout",
     "output_type": "stream",
     "text": [
      "c:\\name\n",
      "c:\\name\n"
     ]
    }
   ],
   "source": [
    "s1 = r'c:\\name'\n",
    "s2 = 'c:\\\\name'\n",
    "\n",
    "print(s1)\n",
    "print(s2)"
   ]
  },
  {
   "cell_type": "code",
   "execution_count": 27,
   "id": "674989bd-5695-4e81-9063-eb2f4021e68c",
   "metadata": {},
   "outputs": [
    {
     "name": "stdout",
     "output_type": "stream",
     "text": [
      "\n",
      "안녕하세요.\n",
      "나는 파이썬을 공부하고 있습니다.\n",
      "반갑습니다.\n",
      "\n"
     ]
    }
   ],
   "source": [
    "s3 = \"\"\"\n",
    "안녕하세요.\n",
    "나는 파이썬을 공부하고 있습니다.\n",
    "반갑습니다.\n",
    "\"\"\"\n",
    "print(s3)"
   ]
  },
  {
   "cell_type": "code",
   "execution_count": 28,
   "id": "e89c29d4-ffbf-428b-8f5a-bcba6d6621f9",
   "metadata": {},
   "outputs": [
    {
     "name": "stdout",
     "output_type": "stream",
     "text": [
      "안녕하세요.\n",
      "나는 파이썬을 공부하고 있습니다.\n",
      "반갑습니다.\n"
     ]
    }
   ],
   "source": [
    "s3 = \"\"\"\\\n",
    "안녕하세요.\n",
    "나는 파이썬을 공부하고 있습니다.\n",
    "반갑습니다.\\\n",
    "\"\"\"\n",
    "print(s3)"
   ]
  },
  {
   "cell_type": "code",
   "execution_count": 30,
   "id": "a771ed70-88a5-4a8b-8249-3e5270570fc6",
   "metadata": {},
   "outputs": [
    {
     "name": "stdout",
     "output_type": "stream",
     "text": [
      "\"안녕하세요\"\n",
      "나는 파이썬을 공부하고 있습니다.\n",
      "반갑습니다.\n"
     ]
    }
   ],
   "source": [
    "print(\"\"\"\\\n",
    "\\\"안녕하세요\\\"\n",
    "나는 파이썬을 공부하고 있습니다.\n",
    "반갑습니다.\\\n",
    "\"\"\")"
   ]
  },
  {
   "cell_type": "code",
   "execution_count": 34,
   "id": "df484273-e692-4228-aa69-10a00ead670b",
   "metadata": {},
   "outputs": [
    {
     "name": "stdout",
     "output_type": "stream",
     "text": [
      "너무너무너무너무너무너무너무파이썬 공부가 즐겁습니다.\n"
     ]
    }
   ],
   "source": [
    "print('너무' * 7 + '파이썬 공부가 즐겁습니다.')"
   ]
  },
  {
   "cell_type": "code",
   "execution_count": 36,
   "id": "d59eea94-0db6-4ee7-bd83-32248090b259",
   "metadata": {},
   "outputs": [
    {
     "name": "stdout",
     "output_type": "stream",
     "text": [
      "너무너무너무너무너무너무너무파이썬 공부가 즐겁습니다.\n"
     ]
    }
   ],
   "source": [
    "s6 = '너무' * 7 + '파이썬 공부가 즐겁습니다.'\n",
    "print(s6)"
   ]
  },
  {
   "cell_type": "code",
   "execution_count": 38,
   "id": "86d0724c-4959-40b0-af7b-01e7dc51ae72",
   "metadata": {},
   "outputs": [
    {
     "name": "stdout",
     "output_type": "stream",
     "text": [
      "꺾\n"
     ]
    }
   ],
   "source": [
    "_ = '중요한 것은 꺾이지 않는 마음'\n",
    "print(_[7])"
   ]
  },
  {
   "cell_type": "code",
   "execution_count": 39,
   "id": "d2cdd6a6-253e-4763-a574-9d27b9264b3f",
   "metadata": {},
   "outputs": [
    {
     "name": "stdout",
     "output_type": "stream",
     "text": [
      "꺾이지 않는 마음\n"
     ]
    }
   ],
   "source": [
    "sentence = '중요한 것은 꺾이지 않는 마음'\n",
    "print(sentence[7:])"
   ]
  },
  {
   "cell_type": "code",
   "execution_count": 41,
   "id": "d0f8dd26-f88a-4672-b2bc-92f425f74147",
   "metadata": {},
   "outputs": [
    {
     "name": "stdout",
     "output_type": "stream",
     "text": [
      "한요중\n"
     ]
    }
   ],
   "source": [
    "sentence = '중요한 것은 꺾이지 않는 마음'\n",
    "print(sentence[2::-1])"
   ]
  },
  {
   "cell_type": "code",
   "execution_count": 43,
   "id": "b4b28e16-835e-433f-951f-771b3b8c9db9",
   "metadata": {},
   "outputs": [
    {
     "name": "stdout",
     "output_type": "stream",
     "text": [
      "대단한 것은 꺾이지 않는 마음\n"
     ]
    }
   ],
   "source": [
    "sentence = '대단한' + sentence[3:]\n",
    "print(sentence)"
   ]
  },
  {
   "cell_type": "code",
   "execution_count": 44,
   "id": "9cadc421-6ce4-4ff2-a110-4a552e37f0cd",
   "metadata": {},
   "outputs": [
    {
     "name": "stdout",
     "output_type": "stream",
     "text": [
      "16\n"
     ]
    }
   ],
   "source": [
    "print(len(sentence))"
   ]
  },
  {
   "cell_type": "code",
   "execution_count": null,
   "id": "8cef4e76-4c71-4798-8fd1-4e053450aa00",
   "metadata": {},
   "outputs": [],
   "source": []
  },
  {
   "cell_type": "code",
   "execution_count": 53,
   "id": "407fe140-630c-47a7-b1df-6e4d7f411a2f",
   "metadata": {},
   "outputs": [
    {
     "name": "stdout",
     "output_type": "stream",
     "text": [
      "False\n"
     ]
    }
   ],
   "source": [
    "scores = [88,73,89,59,77]\n",
    "if scores[0]<60 and scores[1]<60 and scores[2]<60 and scores[3]<60 and scores[4]<60:\n",
    "    print('True')\n",
    "else:\n",
    "    print('False')"
   ]
  },
  {
   "cell_type": "code",
   "execution_count": 49,
   "id": "94a67925-0d78-4676-9b82-c5834458ede6",
   "metadata": {},
   "outputs": [
    {
     "name": "stdout",
     "output_type": "stream",
     "text": [
      "False\n"
     ]
    }
   ],
   "source": [
    "scores = [88,73,89,59,77]\n",
    "\n",
    "print(scores[0]>=60 and scores[1]>=60 and scores[2]>=60 and scores[3]>=60 and scores[4]>=60)"
   ]
  },
  {
   "cell_type": "code",
   "execution_count": 2,
   "id": "c63d1236-3723-48cd-bfb3-569e6db3aca2",
   "metadata": {},
   "outputs": [
    {
     "name": "stdout",
     "output_type": "stream",
     "text": [
      "[0, 1, 2, 3, 4, 5, 6, 7, 8]\n"
     ]
    }
   ],
   "source": [
    "numbers = [0,1,2,3,4,5,6,7]\n",
    "numbers.append(8)\n",
    "print(numbers)"
   ]
  },
  {
   "cell_type": "code",
   "execution_count": 3,
   "id": "052315ba-c289-43f2-8c1f-b5b1209fa922",
   "metadata": {},
   "outputs": [
    {
     "name": "stdout",
     "output_type": "stream",
     "text": [
      "[0, 1, 2, 0, 3, 0, 4, 5, 6, 7, 8, 0]\n"
     ]
    }
   ],
   "source": [
    "numbers.insert(0,0)\n",
    "numbers.insert(4,0)\n",
    "numbers.insert(6,0)\n",
    "numbers.insert(len(numbers),0)\n",
    "numbers.remove(0)\n",
    "print(numbers)"
   ]
  },
  {
   "cell_type": "code",
   "execution_count": 4,
   "id": "b95ecde4-65dc-464e-af8a-e7fe9d50c6fd",
   "metadata": {},
   "outputs": [
    {
     "name": "stdout",
     "output_type": "stream",
     "text": [
      "[0, 1, 2, 0, 3, 0, 4, 5, 6, 7, 8, 0, 9, 10, 11]\n"
     ]
    }
   ],
   "source": [
    "numbers.extend([9,10,11])\n",
    "print(numbers)"
   ]
  },
  {
   "cell_type": "code",
   "execution_count": 5,
   "id": "0ea2cd09-a49b-4167-bbd4-562b67552241",
   "metadata": {},
   "outputs": [
    {
     "name": "stdout",
     "output_type": "stream",
     "text": [
      "[1, 2, 0, 3, 0, 4, 5, 6, 7, 8, 0, 9, 10, 11]\n"
     ]
    }
   ],
   "source": [
    "numbers.remove(0)\n",
    "print(numbers)"
   ]
  },
  {
   "cell_type": "code",
   "execution_count": 6,
   "id": "07219ffb-36f8-4b6a-94f9-ab5dccdaade5",
   "metadata": {},
   "outputs": [
    {
     "name": "stdout",
     "output_type": "stream",
     "text": [
      "[1, 2, 0, 3, 0, 4, 5, 6, 7, 8, 0, 9, 10]\n"
     ]
    }
   ],
   "source": [
    "numbers.pop()\n",
    "print(numbers)"
   ]
  },
  {
   "cell_type": "code",
   "execution_count": 7,
   "id": "221403d3-ea58-469a-b253-4c8e5342fb2a",
   "metadata": {},
   "outputs": [
    {
     "name": "stdout",
     "output_type": "stream",
     "text": [
      "2\n"
     ]
    }
   ],
   "source": [
    "print(numbers.index(0))"
   ]
  },
  {
   "cell_type": "code",
   "execution_count": 8,
   "id": "962b44f3-0d22-4b00-9c1b-1d8f39598139",
   "metadata": {},
   "outputs": [
    {
     "name": "stdout",
     "output_type": "stream",
     "text": [
      "3\n"
     ]
    }
   ],
   "source": [
    "print(numbers.count(0))"
   ]
  },
  {
   "cell_type": "code",
   "execution_count": 10,
   "id": "dee0e6a7-4969-4433-9d88-d5c027ca9b47",
   "metadata": {},
   "outputs": [
    {
     "name": "stdout",
     "output_type": "stream",
     "text": [
      "[0, 0, 0, 1, 2, 3, 4, 5, 6, 7, 8, 9, 10]\n"
     ]
    }
   ],
   "source": [
    "numbers.sort()\n",
    "print(numbers)"
   ]
  },
  {
   "cell_type": "code",
   "execution_count": null,
   "id": "41649f9b-716e-479c-8d82-5c7bb42abe13",
   "metadata": {},
   "outputs": [],
   "source": [
    "tuple = '음','오','아','예'"
   ]
  },
  {
   "cell_type": "code",
   "execution_count": 11,
   "id": "1c7727fc-981f-49f8-a037-b33bd70425a9",
   "metadata": {},
   "outputs": [
    {
     "name": "stdout",
     "output_type": "stream",
     "text": [
      "이렇게\n",
      "리스트도\n",
      "가능합니다\n"
     ]
    }
   ],
   "source": [
    "s3, s4, s5 = ['이렇게','리스트도','가능합니다']\n",
    "print(s3)\n",
    "print(s4)\n",
    "print(s5)"
   ]
  },
  {
   "cell_type": "code",
   "execution_count": 17,
   "id": "a137a4de-5396-493c-a5c4-ebb3e91b2f3c",
   "metadata": {},
   "outputs": [
    {
     "name": "stdin",
     "output_type": "stream",
     "text": [
      "이름을 입력하시오: 엔코아\n"
     ]
    },
    {
     "name": "stdout",
     "output_type": "stream",
     "text": [
      "엔코아 씨, 안녕하세요?\n",
      "파이썬에 오신 것을 환영합니다.\n"
     ]
    },
    {
     "name": "stdin",
     "output_type": "stream",
     "text": [
      "첫 번째 정수를 입력하세요:  300\n",
      "두 번째 정수를 입력하세요:  400\n"
     ]
    },
    {
     "name": "stdout",
     "output_type": "stream",
     "text": [
      "300 과 400 의 합은 700 입니다.\n"
     ]
    }
   ],
   "source": [
    "i = input(\"이름을 입력하시오:\")\n",
    "print(i,'씨, 안녕하세요?')\n",
    "print('파이썬에 오신 것을 환영합니다.')\n",
    "\n",
    "a = int(input(\"첫 번째 정수를 입력하세요: \"))\n",
    "b = int(input(\"두 번째 정수를 입력하세요: \"))\n",
    "print(a,'과',b,'의 합은',a+b,'입니다.')"
   ]
  },
  {
   "cell_type": "code",
   "execution_count": 26,
   "id": "41f33f0d-569e-4d3d-ae28-9d60fa036a9f",
   "metadata": {},
   "outputs": [
    {
     "name": "stdin",
     "output_type": "stream",
     "text": [
      "경기장은 어디입니까?  고척\n",
      "이긴 팀은 어디입니까?  KT\n",
      "진 팀은 어디입니까?  LG\n",
      "우수 선수는 누구입니까?  강백호\n",
      "스코어는 몇대몇입니까?  10:9\n"
     ]
    },
    {
     "name": "stdout",
     "output_type": "stream",
     "text": [
      "\n",
      "[속보]KT가10:9로 승리...\n",
      "오늘고척경기장에서 야구 경기가 있었습니다.\n",
      "KT와LG는 치열한 공방전을 펼쳤습니다.\n",
      "이 경기에서강백호가 맹활약을 했습니다.\n",
      "그 끝내KT가LG를10:9로 승리하였습니다.\n",
      "기사 끝.\n"
     ]
    }
   ],
   "source": [
    "a = input(\"경기장은 어디입니까? \")\n",
    "b = input('이긴 팀은 어디입니까? ')\n",
    "c = input('진 팀은 어디입니까? ')\n",
    "d = input('우수 선수는 누구입니까? ')\n",
    "e = input('스코어는 몇대몇입니까? ')\n",
    "          \n",
    "print('\\n[속보]',b,'가',e,'로 승리...\\n오늘',a,'경기장에서 야구 경기가 있었습니다.\\n',b,'와',c,'는 치열한 공방전을 펼쳤습니다.\\n이 경기에서',d,'가 맹활약을 했습니다.\\n그 끝내',b,'가',c,'를',e,'로 승리하였습니다.\\n''기사 끝.',sep='')"
   ]
  },
  {
   "cell_type": "code",
   "execution_count": 28,
   "id": "5efa9b40-86e9-4eac-9445-9a5144efb5e3",
   "metadata": {},
   "outputs": [
    {
     "name": "stdout",
     "output_type": "stream",
     "text": [
      "['1', '2', '3']\n"
     ]
    }
   ],
   "source": [
    "result = '1,2,3'.split(',')\n",
    "print(result)"
   ]
  },
  {
   "cell_type": "code",
   "execution_count": 34,
   "id": "0821ca7c-c352-4d30-b594-ad909e7dcf4b",
   "metadata": {},
   "outputs": [
    {
     "name": "stdin",
     "output_type": "stream",
     "text": [
      "hh:mm:ss의 형태로 시간을 입력해주세요  12:33:23\n"
     ]
    },
    {
     "name": "stdout",
     "output_type": "stream",
     "text": [
      "시 : 12\n",
      "분 : 33\n",
      "초 : 23\n"
     ]
    }
   ],
   "source": [
    "a,b,c= input('hh:mm:ss의 형태로 시간을 입력해주세요 ').split(':')\n",
    "print('시 :',a)\n",
    "print('분 :',b)\n",
    "print('초 :',c)"
   ]
  },
  {
   "cell_type": "code",
   "execution_count": 35,
   "id": "d93cf954-1c61-46b5-85e1-d30ea391d20d",
   "metadata": {},
   "outputs": [
    {
     "name": "stdout",
     "output_type": "stream",
     "text": [
      "[1, 2, 3, 4]\n"
     ]
    }
   ],
   "source": [
    "a = [1.2,2.5,3.7,4.6]\n",
    "a = list(map(int,a))\n",
    "print(a)"
   ]
  },
  {
   "cell_type": "code",
   "execution_count": 41,
   "id": "5b91ba31-ffca-4d40-beca-d151d81becd5",
   "metadata": {},
   "outputs": [
    {
     "name": "stdin",
     "output_type": "stream",
     "text": [
      "국어,영어,수학,과학 점수를 입력해주세요. 98,100,96,100\n"
     ]
    },
    {
     "name": "stdout",
     "output_type": "stream",
     "text": [
      "평균 점수는 98.5 점입니다.\n"
     ]
    }
   ],
   "source": [
    "kor,eng,mat,sci = map(int,input('국어,영어,수학,과학 점수를 입력해주세요.').split(','))\n",
    "result = (kor+eng+mat+sci)/4\n",
    "print(\"평균 점수는\",result,'점입니다.')"
   ]
  },
  {
   "cell_type": "code",
   "execution_count": null,
   "id": "57925fa2-6827-4b9f-94be-f68222ec2610",
   "metadata": {},
   "outputs": [],
   "source": []
  },
  {
   "cell_type": "code",
   "execution_count": 45,
   "id": "41c30a2f-f029-443e-8129-b70f422944ca",
   "metadata": {},
   "outputs": [
    {
     "name": "stdout",
     "output_type": "stream",
     "text": [
      "2021/02/03 18:33:23\n"
     ]
    }
   ],
   "source": [
    "year = '2021'\n",
    "month = '02'\n",
    "day = '03'\n",
    "hour = '18'\n",
    "minute = '33'\n",
    "second = '23'\n",
    "\n",
    "print(year,month,day,sep = '/',end = ' ')\n",
    "print(hour,minute,second,sep = ':')"
   ]
  },
  {
   "cell_type": "code",
   "execution_count": 47,
   "id": "9d4b176d-c122-4adb-9242-60ef3d2b6b13",
   "metadata": {},
   "outputs": [
    {
     "name": "stdin",
     "output_type": "stream",
     "text": [
      "사과와 귤을 몇개 드릴까요? 10,20\n"
     ]
    },
    {
     "name": "stdout",
     "output_type": "stream",
     "text": [
      "총 가격은 14000원입니다.\n"
     ]
    }
   ],
   "source": [
    "a,b = map(int,input('사과와 귤을 몇개 드릴까요?').split(','))\n",
    "print(\"총 가격은 \",1000*a+200*b,'원입니다.',sep = '')"
   ]
  },
  {
   "cell_type": "code",
   "execution_count": 52,
   "id": "14ab3710-ba30-4c5f-a99d-73ec60a8c760",
   "metadata": {},
   "outputs": [
    {
     "name": "stdin",
     "output_type": "stream",
     "text": [
      "아이디를 입력하세요: biana\n",
      "회원 등급을 입력하세요: 3\n"
     ]
    },
    {
     "name": "stdout",
     "output_type": "stream",
     "text": [
      "제한적인 권한을 갖습니다\n"
     ]
    }
   ],
   "source": [
    "a = input(\"아이디를 입력하세요:\")\n",
    "\n",
    "\n",
    "if a == 'admin':\n",
    "    print(\"최고 관리자,모든 권한을 갖습니다\")\n",
    "else:\n",
    "    b = int(input(\"회원 등급을 입력하세요:\"))\n",
    "    if 1 <= b <= 3:\n",
    "        print(\"제한적인 권한을 갖습니다\")\n",
    "    else:\n",
    "        print(\"권한이 없습니다.\")"
   ]
  },
  {
   "cell_type": "code",
   "execution_count": 56,
   "id": "09a737aa-7c14-42dd-b4e8-1068868c2a5b",
   "metadata": {},
   "outputs": [
    {
     "name": "stdin",
     "output_type": "stream",
     "text": [
      "자연수 하나 입력해주세요: 60\n"
     ]
    },
    {
     "name": "stdout",
     "output_type": "stream",
     "text": [
      "10\n"
     ]
    }
   ],
   "source": [
    "i = int(input(\"자연수 하나 입력해주세요:\"))\n",
    "_ = i-50\n",
    "if 0 > _:\n",
    "    print(\"0\")\n",
    "else:\n",
    "    print(_)"
   ]
  },
  {
   "cell_type": "code",
   "execution_count": 58,
   "id": "a2260479-f04d-4812-9526-1b10217d8064",
   "metadata": {},
   "outputs": [
    {
     "name": "stdin",
     "output_type": "stream",
     "text": [
      "자연수 하나 입력해주세요:  21\n"
     ]
    },
    {
     "name": "stdout",
     "output_type": "stream",
     "text": [
      "홀수\n"
     ]
    }
   ],
   "source": [
    "i = int(input(\"자연수 하나 입력해주세요: \"))\n",
    "\n",
    "if i%2 == 0:\n",
    "    print(\"짝수\")\n",
    "else:\n",
    "    print(\"홀수\")"
   ]
  },
  {
   "cell_type": "code",
   "execution_count": 61,
   "id": "305f7302-7d13-40e8-8cc0-c791c510c862",
   "metadata": {},
   "outputs": [
    {
     "name": "stdin",
     "output_type": "stream",
     "text": [
      "소프트웨어 설계 점수를 입력하세요. 60\n",
      "소프트웨어 개발 점수를 입력하세요. 60\n",
      "데이터베이스 구축 점수를 입력하세요. 60\n",
      "프로그래밍 언어 활용 점수를 입력하세요. 60\n",
      "정보시스템 구축관리 점수를 입력하세요. 60\n"
     ]
    },
    {
     "name": "stdout",
     "output_type": "stream",
     "text": [
      "합격\n"
     ]
    }
   ],
   "source": [
    "a = int(input(\"소프트웨어 설계 점수를 입력하세요.\"))\n",
    "b = int(input(\"소프트웨어 개발 점수를 입력하세요.\"))\n",
    "c = int(input(\"데이터베이스 구축 점수를 입력하세요.\"))\n",
    "d = int(input(\"프로그래밍 언어 활용 점수를 입력하세요.\"))\n",
    "e = int(input(\"정보시스템 구축관리 점수를 입력하세요.\"))\n",
    "\n",
    "\n",
    "if 0 <= a <=100 and 0 <= b <=100 and 0 <= c <=100 and 0 <= d <=100 and 0 <= e <=100:\n",
    "    result = (a+b+c+d+e)/5\n",
    "    if result >= 60:\n",
    "        print(\"합격\")\n",
    "    else:\n",
    "        print(\"불합격\")\n",
    "else:\n",
    "    print(\"잘못된 정수입니다\")\n",
    "    "
   ]
  },
  {
   "cell_type": "code",
   "execution_count": 65,
   "id": "07319dd8-9158-4508-990e-c4d6d9a400eb",
   "metadata": {},
   "outputs": [
    {
     "name": "stdin",
     "output_type": "stream",
     "text": [
      "현재 물의 온도를 입력해주세요. 100\n"
     ]
    },
    {
     "name": "stdout",
     "output_type": "stream",
     "text": [
      "기체로 예상됩니다.\n"
     ]
    }
   ],
   "source": [
    "i = float(input(\"현재 물의 온도를 입력해주세요.\"))\n",
    "\n",
    "if i>=100:\n",
    "    print(\"기체로 예상됩니다.\")\n",
    "elif 0<=i:\n",
    "    print(\"액체로 예상됩니다.\")\n",
    "else:\n",
    "    print(\"고체로 예상됩니다.\")"
   ]
  },
  {
   "cell_type": "code",
   "execution_count": 70,
   "id": "eef1af89-36aa-4f29-9385-964ea7318813",
   "metadata": {},
   "outputs": [
    {
     "name": "stdin",
     "output_type": "stream",
     "text": [
      "자신의 나이를 입력하세요: 5\n"
     ]
    },
    {
     "name": "stdout",
     "output_type": "stream",
     "text": [
      "무임승차입니다\n"
     ]
    }
   ],
   "source": [
    "name = int(input(\"자신의 나이를 입력하세요:\"))\n",
    "\n",
    "if name>=19:\n",
    "    print(\"1500원\")\n",
    "elif name >=12:\n",
    "    print(\"1100원\")\n",
    "elif name >=6:\n",
    "    print(\"800원\")\n",
    "else:\n",
    "    print(\"무임승차입니다\")"
   ]
  },
  {
   "cell_type": "code",
   "execution_count": 72,
   "id": "b845a533-1641-45dc-90d2-369c52170ca0",
   "metadata": {},
   "outputs": [
    {
     "name": "stdin",
     "output_type": "stream",
     "text": [
      "발주 수량을 입력하세요: 2001\n"
     ]
    },
    {
     "name": "stdout",
     "output_type": "stream",
     "text": [
      "2001 개를 주문하셨습니다.\n",
      "적용 할인율은 20%입니다.\n",
      "총 발주 금액은 $ 16008 입니다.\n"
     ]
    }
   ],
   "source": [
    "_ = int(input(\"발주 수량을 입력하세요:\"))\n",
    "print(_,\"개를 주문하셨습니다.\")\n",
    "\n",
    "if 1000<=_<=1500:\n",
    "    a = (_*10)*0.5\n",
    "    print(\"적용 할인율은 5%입니다.\")\n",
    "    print(\"총 발주 금액은 $\",int(a),\"입니다.\")\n",
    "elif _<=2000:\n",
    "    b = (_*10)*0.9\n",
    "    print(\"적용 할인율은 10%입니다.\")\n",
    "    print(\"총 발주 금액은 $\",int(b),\"입니다.\")\n",
    "elif _>2000:\n",
    "    c = (_*10)*0.8\n",
    "    print(\"적용 할인율은 20%입니다.\")\n",
    "    print(\"총 발주 금액은 $\",int(c),\"입니다.\")\n",
    "else:\n",
    "    d = _*10\n",
    "    print(\"적용 할인율은 없습니다.\")\n",
    "    print(\"총 발주 금액은 $\",int(d),\"입니다.\")"
   ]
  },
  {
   "cell_type": "code",
   "execution_count": 74,
   "id": "ef32c458-ca44-41f1-849d-b52a3baff331",
   "metadata": {},
   "outputs": [
    {
     "name": "stdin",
     "output_type": "stream",
     "text": [
      "발주 수량을 입력하세요: 2001\n"
     ]
    },
    {
     "name": "stdout",
     "output_type": "stream",
     "text": [
      "2001 개를 주문하셨습니다.\n",
      "적용 할인율은 20%입니다.\n",
      "총 발주 금액은 $16008입니다.\n"
     ]
    }
   ],
   "source": [
    "_ = int(input(\"발주 수량을 입력하세요:\"))\n",
    "print(_,\"개를 주문하셨습니다.\")\n",
    "\n",
    "price = 10\n",
    "rate = 0\n",
    "result = 0\n",
    "\n",
    "if _ > 2000:\n",
    "    rate = 20\n",
    "elif _ > 1500:\n",
    "    rate = 10\n",
    "elif _ > 1000:\n",
    "    rate = 5\n",
    "\n",
    "result = int(price * _ *((100-rate)/100))\n",
    "print(\"적용 할인율은 \", rate, \"%입니다.\",sep = '')\n",
    "print(\"총 발주 금액은 $\",result,\"입니다.\",sep ='')"
   ]
  },
  {
   "cell_type": "code",
   "execution_count": 80,
   "id": "a2137ef2-67ea-450f-96a9-3ac2aec9a498",
   "metadata": {},
   "outputs": [
    {
     "name": "stdin",
     "output_type": "stream",
     "text": [
      "주민번호 뒷자리를 입력하세요: 5678901\n"
     ]
    },
    {
     "name": "stdout",
     "output_type": "stream",
     "text": [
      "잘못된 입력입니다.\n"
     ]
    }
   ],
   "source": [
    "_ = input(\"주민번호 뒷자리를 입력하세요:\")\n",
    "\n",
    "if len(_) != 7:\n",
    "    print(\"자리수를 잘못 입력했습니다\")\n",
    "else:\n",
    "    first = int(_[0])\n",
    "    if first == 1 or first == 3: #first in (1,3):\n",
    "        print(\"남자\")\n",
    "    elif first == 2 or first == 4: #first in (2,4):\n",
    "        print(\"여자\")\n",
    "    else:\n",
    "        print(\"잘못된 입력입니다.\")"
   ]
  },
  {
   "cell_type": "code",
   "execution_count": 84,
   "id": "7e4c99c0-5201-4dc0-adb3-d477a1adff2f",
   "metadata": {},
   "outputs": [
    {
     "name": "stdin",
     "output_type": "stream",
     "text": [
      "확인할 연도를 입력하세요: 2023\n"
     ]
    },
    {
     "name": "stdout",
     "output_type": "stream",
     "text": [
      "평년\n"
     ]
    }
   ],
   "source": [
    "year = int(input(\"확인할 연도를 입력하세요:\"))\n",
    "\n",
    "if year%4 != 0:\n",
    "    print(\"평년\")\n",
    "elif year%100 == 0 and year%400 != 0:\n",
    "    print(\"평년\")\n",
    "else:\n",
    "    print(\"윤년\")"
   ]
  },
  {
   "cell_type": "code",
   "execution_count": 85,
   "id": "b0ace4a1-b419-412b-822c-b37a25c4db3f",
   "metadata": {},
   "outputs": [
    {
     "name": "stdout",
     "output_type": "stream",
     "text": [
      "[2, 4, 6, 8, 10, 12, 14, 16, 18, 20, 22, 24, 26, 28, 30, 32, 34, 36, 38, 40, 42, 44, 46, 48, 50, 52, 54, 56, 58, 60, 62, 64, 66, 68, 70, 72, 74, 76, 78, 80, 82, 84, 86, 88, 90, 92, 94, 96, 98]\n"
     ]
    }
   ],
   "source": [
    "even_numbers = list(range(2,100,2))\n",
    "print(even_numbers)"
   ]
  },
  {
   "cell_type": "code",
   "execution_count": 90,
   "id": "3c610d76-8348-4561-91ed-51c3bf5993ca",
   "metadata": {},
   "outputs": [
    {
     "name": "stdout",
     "output_type": "stream",
     "text": [
      "Hello World 0\n",
      "Hello World 1\n",
      "Hello World 2\n",
      "Hello World 3\n",
      "Hello World 4\n",
      "Hello World 5\n",
      "Hello World 6\n",
      "Hello World 7\n",
      "Hello World 8\n",
      "Hello World 9\n"
     ]
    }
   ],
   "source": [
    "for i in range(10):\n",
    "    print(\"Hello World\",i)"
   ]
  },
  {
   "cell_type": "code",
   "execution_count": 95,
   "id": "c82a7cfa-e004-4bee-b405-ced0aa07d15b",
   "metadata": {},
   "outputs": [
    {
     "name": "stdin",
     "output_type": "stream",
     "text": [
      "인사 몇번 해드릴까요? 3\n"
     ]
    },
    {
     "name": "stdout",
     "output_type": "stream",
     "text": [
      "Hello World 0\n",
      "Hello World 1\n",
      "Hello World 2\n"
     ]
    }
   ],
   "source": [
    "i = int(input(\"인사 몇번 해드릴까요?\"))\n",
    "\n",
    "for _ in range(i):\n",
    "    print(\"Hello World\",_)"
   ]
  },
  {
   "cell_type": "code",
   "execution_count": 96,
   "id": "4c8c3ab7-66ea-47a3-8bcb-4f2b5a6ebb79",
   "metadata": {},
   "outputs": [
    {
     "name": "stdout",
     "output_type": "stream",
     "text": [
      "[5, 6, 7, 8, 9]\n"
     ]
    }
   ],
   "source": [
    "print(list(range(5,10)))"
   ]
  },
  {
   "cell_type": "code",
   "execution_count": 98,
   "id": "29ec3c6f-764b-49d5-900f-cd9990ee3d3c",
   "metadata": {},
   "outputs": [
    {
     "name": "stdout",
     "output_type": "stream",
     "text": [
      "[0, 3, 6, 9]\n"
     ]
    }
   ],
   "source": [
    "print(list(range(0,10,3)))"
   ]
  },
  {
   "cell_type": "code",
   "execution_count": 101,
   "id": "934471ef-aa53-46ea-ac8d-a7343021cd7c",
   "metadata": {},
   "outputs": [
    {
     "name": "stdout",
     "output_type": "stream",
     "text": [
      "[-10, -40, -70]\n"
     ]
    }
   ],
   "source": [
    "print(list(range(-10,-100,-30)))"
   ]
  },
  {
   "cell_type": "code",
   "execution_count": 111,
   "id": "05f2bfd5-4def-441d-8e66-ad9aba73c27d",
   "metadata": {},
   "outputs": [
    {
     "name": "stdin",
     "output_type": "stream",
     "text": [
      "자연수 하나 입력해주세요: 6\n"
     ]
    },
    {
     "name": "stdout",
     "output_type": "stream",
     "text": [
      "6\t6\t6\t6\t6\t6\t\n",
      "5\t5\t5\t5\t5\t\n",
      "4\t4\t4\t4\t\n",
      "3\t3\t3\t\n",
      "2\t2\t\n",
      "1\t\n"
     ]
    }
   ],
   "source": [
    "i = int(input(\"자연수 하나 입력해주세요:\"))\n",
    "\n",
    "for _ in range(i,0,-1):\n",
    "    for j in range(_):\n",
    "        print(_,end='\\t')\n",
    "    print()"
   ]
  },
  {
   "cell_type": "code",
   "execution_count": 116,
   "id": "9c3c0829-0328-4812-a0f6-a55d27a9e0b7",
   "metadata": {},
   "outputs": [
    {
     "name": "stdout",
     "output_type": "stream",
     "text": [
      "* * * * * * * * * * \n",
      "*                 *\n",
      "*                 *\n",
      "*                 *\n",
      "*                 *\n",
      "*                 *\n",
      "*                 *\n",
      "*                 *\n",
      "*                 *\n",
      "* * * * * * * * * * \n"
     ]
    }
   ],
   "source": [
    "for _ in range(10):\n",
    "    if _ == 0 or _ == 9:\n",
    "        print('* ' * 10)\n",
    "    else:\n",
    "        print('*                 *')"
   ]
  },
  {
   "cell_type": "code",
   "execution_count": 120,
   "id": "95fa8f53-f56c-4fb1-94ba-ba7fac282164",
   "metadata": {},
   "outputs": [
    {
     "name": "stdin",
     "output_type": "stream",
     "text": [
      "1부터 입력한 자연수까지의 모든 홀수의 합을 구합니다. 100\n"
     ]
    },
    {
     "name": "stdout",
     "output_type": "stream",
     "text": [
      "1 + 3 + 5 + 7 + 9 + 11 + 13 + 15 + 17 + 19 + 21 + 23 + 25 + 27 + 29 + 31 + 33 + 35 + 37 + 39 + 41 + 43 + 45 + 47 + 49 + 51 + 53 + 55 + 57 + 59 + 61 + 63 + 65 + 67 + 69 + 71 + 73 + 75 + 77 + 79 + 81 + 83 + 85 + 87 + 89 + 91 + 93 + 95 + 97 + 99 = 2500\n"
     ]
    }
   ],
   "source": [
    "i = int(input(\"1부터 입력한 자연수까지의 모든 홀수의 합을 구합니다.\"))\n",
    "result = 0\n",
    "\n",
    "for _ in range(1,i+1):\n",
    "    if _%2 == 1:\n",
    "        if (i-1) == _ or i == _:\n",
    "            print(_, end = ' = ')\n",
    "        else:\n",
    "            print(_, end = ' + ')\n",
    "        result += _\n",
    "print(result)"
   ]
  },
  {
   "cell_type": "code",
   "execution_count": 121,
   "id": "3f3191c8-14bb-4529-8d6e-0c0cea47c40d",
   "metadata": {},
   "outputs": [
    {
     "name": "stdin",
     "output_type": "stream",
     "text": [
      "1부터 입력한 자연수까지의 모든 홀수의 합을 구합니다. 100\n"
     ]
    },
    {
     "name": "stdout",
     "output_type": "stream",
     "text": [
      "1+ 3+ 5+ 7+ 9+ 11+ 13+ 15+ 17+ 19+ 21+ 23+ 25+ 27+ 29+ 31+ 33+ 35+ 37+ 39+ 41+ 43+ 45+ 47+ 49+ 51+ 53+ 55+ 57+ 59+ 61+ 63+ 65+ 67+ 69+ 71+ 73+ 75+ 77+ 79+ 81+ 83+ 85+ 87+ 89+ 91+ 93+ 95+ 97+ 99= 2500\n"
     ]
    }
   ],
   "source": [
    "num = int(input(\"1부터 입력한 자연수까지의 모든 홀수의 합을 구합니다.\"))\n",
    "sum = 0\n",
    "print(1, end ='')\n",
    "\n",
    "for i in range(3,num+1,2):\n",
    "    sum += i\n",
    "    print('+',i,end = '')\n",
    "print('=',sum+1)"
   ]
  },
  {
   "cell_type": "code",
   "execution_count": 123,
   "id": "effe2028-04a8-4cb9-b2a6-8d6cc08e0eec",
   "metadata": {},
   "outputs": [
    {
     "name": "stdin",
     "output_type": "stream",
     "text": [
      "계승을 구할 숫자를 입력하세요. 7\n"
     ]
    },
    {
     "name": "stdout",
     "output_type": "stream",
     "text": [
      "5040\n"
     ]
    }
   ],
   "source": [
    "i = int(input(\"계승을 구할 숫자를 입력하세요.\"))\n",
    "result = 1\n",
    "\n",
    "for n in range(1,i+1):\n",
    "    result *= n\n",
    "print(result)"
   ]
  },
  {
   "cell_type": "code",
   "execution_count": 126,
   "id": "85df104c-6c91-4c7a-af35-1c254f18012b",
   "metadata": {},
   "outputs": [
    {
     "name": "stdout",
     "output_type": "stream",
     "text": [
      "100 -420 250 1030 210 770 240 "
     ]
    }
   ],
   "source": [
    "x = [10,-42,25,103,21,77,24]\n",
    "\n",
    "for i in x:\n",
    "    print(i*10, end = ' ')"
   ]
  },
  {
   "cell_type": "code",
   "execution_count": 127,
   "id": "9bd70907-89f2-48cd-be8f-67563b8fd1c1",
   "metadata": {},
   "outputs": [
    {
     "name": "stdin",
     "output_type": "stream",
     "text": [
      "구구단을 알려드립니다. 숫자를 입력하세요. 9\n"
     ]
    },
    {
     "name": "stdout",
     "output_type": "stream",
     "text": [
      "9 * 1 = 9\n",
      "9 * 2 = 18\n",
      "9 * 3 = 27\n",
      "9 * 4 = 36\n",
      "9 * 5 = 45\n",
      "9 * 6 = 54\n",
      "9 * 7 = 63\n",
      "9 * 8 = 72\n",
      "9 * 9 = 81\n"
     ]
    }
   ],
   "source": [
    "a = int(input(\"구구단을 알려드립니다. 숫자를 입력하세요.\"))\n",
    "\n",
    "for _ in range(1,10):\n",
    "    sum = a*_\n",
    "    print(a,'*',_,'=',sum)"
   ]
  },
  {
   "cell_type": "code",
   "execution_count": 129,
   "id": "2149b472-86a3-4db5-8170-c31d32859da9",
   "metadata": {},
   "outputs": [
    {
     "name": "stdin",
     "output_type": "stream",
     "text": [
      "자연수를 입력해주세요 100\n"
     ]
    },
    {
     "name": "stdout",
     "output_type": "stream",
     "text": [
      "5050\n"
     ]
    }
   ],
   "source": [
    "i = int(input(\"자연수를 입력해주세요\"))\n",
    "result = 0\n",
    "for _ in range(1,i+1):\n",
    "    result += _\n",
    "print(result)"
   ]
  },
  {
   "cell_type": "code",
   "execution_count": 133,
   "id": "b984a6ba-ab58-4c8a-9bbf-91e9308d5c21",
   "metadata": {},
   "outputs": [
    {
     "name": "stdout",
     "output_type": "stream",
     "text": [
      "*****\n",
      "*****\n",
      "*****\n",
      "*****\n",
      "*****\n"
     ]
    }
   ],
   "source": [
    "for _ in range(5):\n",
    "    for i in range(5):\n",
    "        print('*',end='')\n",
    "    print()"
   ]
  },
  {
   "cell_type": "code",
   "execution_count": 134,
   "id": "5bf7181b-7947-4bd0-95a6-e35bf495e17c",
   "metadata": {},
   "outputs": [
    {
     "name": "stdout",
     "output_type": "stream",
     "text": [
      "Hello World\n",
      "Hello World\n",
      "Hello World\n",
      "Hello World\n",
      "Hello World\n",
      "Hello World\n",
      "Hello World\n",
      "Hello World\n",
      "Hello World\n",
      "Hello World\n"
     ]
    }
   ],
   "source": [
    "i = 0\n",
    "while i<10:\n",
    "    print(\"Hello World\")\n",
    "    i += 1"
   ]
  },
  {
   "cell_type": "code",
   "execution_count": 135,
   "id": "328720cc-cd00-4013-bbfd-07fb94676bba",
   "metadata": {},
   "outputs": [
    {
     "name": "stdin",
     "output_type": "stream",
     "text": [
      "반복할 횟수를 입력하세요:  3\n"
     ]
    },
    {
     "name": "stdout",
     "output_type": "stream",
     "text": [
      "Hello World 3\n",
      "Hello World 2\n",
      "Hello World 1\n"
     ]
    }
   ],
   "source": [
    "count = int(input(\"반복할 횟수를 입력하세요: \"))\n",
    "\n",
    "while count > 0:\n",
    "    print(\"Hello World\",count)\n",
    "    count -= 1"
   ]
  },
  {
   "cell_type": "code",
   "execution_count": 8,
   "id": "c39ec583-5f73-4a83-bdf2-855db1281564",
   "metadata": {},
   "outputs": [
    {
     "name": "stdout",
     "output_type": "stream",
     "text": [
      "2\t4\t6\t8\t10\t12\t14\t16\t18\t20\t22\t24\t26\t28\t30\t32\t34\t36\t38\t40\t42\t44\t46\t48\t50\t52\t54\t56\t58\t60\t62\t64\t66\t68\t70\t72\t74\t76\t78\t80\t82\t84\t86\t88\t90\t92\t94\t96\t98\t100\t"
     ]
    }
   ],
   "source": [
    "i = 1\n",
    "while i<=50:\n",
    "    print(i*2,end='\\t')\n",
    "    i +=1"
   ]
  },
  {
   "cell_type": "code",
   "execution_count": 10,
   "id": "238ded7f-e478-4260-826a-d91f1ac12136",
   "metadata": {},
   "outputs": [
    {
     "name": "stdin",
     "output_type": "stream",
     "text": [
      "구구단을 알려드립니다. 숫자를 입력하세요. 9\n"
     ]
    },
    {
     "name": "stdout",
     "output_type": "stream",
     "text": [
      "9 * 1 = 9\n",
      "9 * 2 = 18\n",
      "9 * 3 = 27\n",
      "9 * 4 = 36\n",
      "9 * 5 = 45\n",
      "9 * 6 = 54\n",
      "9 * 7 = 63\n",
      "9 * 8 = 72\n",
      "9 * 9 = 81\n"
     ]
    }
   ],
   "source": [
    "n = int(input(\"구구단을 알려드립니다. 숫자를 입력하세요.\"))\n",
    "i = 1\n",
    "while i < 10:\n",
    "    print(n,'*',i,'=',n*i)\n",
    "    i +=1"
   ]
  },
  {
   "cell_type": "code",
   "execution_count": 15,
   "id": "62d8ba7b-a9c4-4206-b833-9427dc954f7d",
   "metadata": {},
   "outputs": [
    {
     "name": "stdin",
     "output_type": "stream",
     "text": [
      "학생의 수: 3\n",
      "1번 학생의 점수 :  77\n",
      "2번 학생의 점수 :  88\n",
      "3번 학생의 점수 :  99\n"
     ]
    },
    {
     "name": "stdout",
     "output_type": "stream",
     "text": [
      "평균 :88.0점\n"
     ]
    }
   ],
   "source": [
    "st = int(input(\"학생의 수:\"))\n",
    "sum = 0\n",
    "i=1\n",
    "while i <= st:\n",
    "    sum += int(input(str(i) + \"번 학생의 점수 : \"))\n",
    "    i += 1\n",
    "print(\"평균 :\", sum/st,\"점\",sep ='')"
   ]
  },
  {
   "cell_type": "code",
   "execution_count": 16,
   "id": "74dfe4ec-b180-4584-a652-959252162558",
   "metadata": {},
   "outputs": [
    {
     "name": "stdout",
     "output_type": "stream",
     "text": [
      "97\n",
      "100\n",
      "77\n"
     ]
    }
   ],
   "source": [
    "scores = (97,100,77)\n",
    "\n",
    "for _ in range(len(scores)):\n",
    "    print(scores[_])"
   ]
  },
  {
   "cell_type": "code",
   "execution_count": 17,
   "id": "eae35c42-88cb-4a7d-97a1-431b760b05c8",
   "metadata": {},
   "outputs": [
    {
     "name": "stdout",
     "output_type": "stream",
     "text": [
      "97\n",
      "100\n",
      "77\n"
     ]
    }
   ],
   "source": [
    "i = 0\n",
    "while i < len(scores):\n",
    "    print(scores[i])\n",
    "    i += 1"
   ]
  },
  {
   "cell_type": "code",
   "execution_count": 20,
   "id": "fe61c20f-2e9c-4e66-80b3-fae6843900f8",
   "metadata": {},
   "outputs": [
    {
     "name": "stdout",
     "output_type": "stream",
     "text": [
      "1 2 3 4 5 6 7 8 9 10 "
     ]
    }
   ],
   "source": [
    "for _ in range(1,11):\n",
    "    print(_,end=' ')"
   ]
  },
  {
   "cell_type": "code",
   "execution_count": 22,
   "id": "d5392172-c831-4ab6-a4a3-8c27391cc7b9",
   "metadata": {},
   "outputs": [
    {
     "name": "stdout",
     "output_type": "stream",
     "text": [
      "1 2 3 4 5 6 7 8 9 10 "
     ]
    }
   ],
   "source": [
    "i=1\n",
    "while i < 11:\n",
    "    print(i,end = ' ')\n",
    "    i+=1"
   ]
  },
  {
   "cell_type": "code",
   "execution_count": 27,
   "id": "e03371ed-1988-4e2f-a8d0-36cbb36cd3a7",
   "metadata": {},
   "outputs": [
    {
     "name": "stdout",
     "output_type": "stream",
     "text": [
      "79.0\n"
     ]
    }
   ],
   "source": [
    "class_a = (70,60,55,75,95,90,80,80,85,100)\n",
    "i = 0\n",
    "sum = 0\n",
    "while i < len(class_a):\n",
    "    sum +=class_a[i]\n",
    "    i+=1\n",
    "avg = sum/len(class_a)\n",
    "print(avg)"
   ]
  },
  {
   "cell_type": "code",
   "execution_count": 29,
   "id": "0c068660-d35b-408e-b693-5bb7e741238d",
   "metadata": {},
   "outputs": [
    {
     "name": "stdout",
     "output_type": "stream",
     "text": [
      "5050\n"
     ]
    }
   ],
   "source": [
    "i = 0\n",
    "total = 0\n",
    "while True:\n",
    "    total +=i\n",
    "    i = i+1\n",
    "    if i > 100:\n",
    "        break\n",
    "print(total)"
   ]
  },
  {
   "cell_type": "code",
   "execution_count": 30,
   "id": "1d7dd943-50fb-4f20-bc80-f2d70fb1b570",
   "metadata": {},
   "outputs": [
    {
     "name": "stdin",
     "output_type": "stream",
     "text": [
      "q를 입력하면 종료됩니다. 정말?\n",
      "q를 입력하면 종료됩니다. 증말?\n",
      "q를 입력하면 종료됩니다. 와우\n",
      "q를 입력하면 종료됩니다. q\n"
     ]
    },
    {
     "name": "stdout",
     "output_type": "stream",
     "text": [
      "프로그램을 종료합니다.\n"
     ]
    }
   ],
   "source": [
    "while True:\n",
    "    input_value = input(\"q를 입력하면 종료됩니다.\")\n",
    "    if input_value == 'q':break\n",
    "print(\"프로그램을 종료합니다.\")"
   ]
  },
  {
   "cell_type": "code",
   "execution_count": 32,
   "id": "52704218-3414-4b4b-9dde-d38e6f9138f0",
   "metadata": {},
   "outputs": [
    {
     "name": "stdout",
     "output_type": "stream",
     "text": [
      "3 13 23 33 43 53 63 73 83 93 "
     ]
    }
   ],
   "source": [
    "i = 0\n",
    "while True:\n",
    "    if i%10 != 3:\n",
    "        i += 1\n",
    "        continue\n",
    "    if i > 100:\n",
    "        break\n",
    "    print(i, end=' ')\n",
    "    i += 1"
   ]
  },
  {
   "cell_type": "code",
   "execution_count": 33,
   "id": "31f16e25-d2c7-41cb-bbb2-69f47556e5aa",
   "metadata": {},
   "outputs": [
    {
     "name": "stdout",
     "output_type": "stream",
     "text": [
      "1\t3\t5\t7\t9\t11\t13\t15\t17\t19\t21\t23\t25\t27\t29\t31\t33\t35\t37\t39\t41\t43\t45\t47\t49\t51\t53\t55\t57\t59\t61\t63\t65\t67\t69\t71\t73\t75\t77\t79\t81\t83\t85\t87\t89\t91\t93\t95\t97\t99\t"
     ]
    }
   ],
   "source": [
    "for i in range(100):\n",
    "    if i % 2 == 0:\n",
    "        continue\n",
    "    print(i,end='\\t')"
   ]
  },
  {
   "cell_type": "code",
   "execution_count": 1,
   "id": "117c1be0-008d-432e-bafe-4d113d837ecb",
   "metadata": {},
   "outputs": [
    {
     "name": "stdout",
     "output_type": "stream",
     "text": [
      "1\t3\t5\t7\t9\t11\t13\t15\t17\t19\t21\t23\t25\t27\t29\t31\t33\t35\t37\t39\t41\t43\t45\t47\t49\t51\t53\t55\t57\t59\t61\t63\t65\t67\t69\t71\t73\t75\t77\t79\t81\t83\t85\t87\t89\t91\t93\t95\t97\t99\t"
     ]
    }
   ],
   "source": [
    "i = 0\n",
    "while i < 100:\n",
    "    i += 1\n",
    "    if i % 2 == 0:\n",
    "        continue\n",
    "    print(i, end='\\t')"
   ]
  },
  {
   "cell_type": "code",
   "execution_count": 3,
   "id": "8ffe8602-e27c-4f8a-ae5e-1d0d8e4b0afb",
   "metadata": {},
   "outputs": [
    {
     "name": "stdin",
     "output_type": "stream",
     "text": [
      "시작하는 정수 입력:  1\n",
      "끝나는 정수 입력:  10\n"
     ]
    },
    {
     "name": "stdout",
     "output_type": "stream",
     "text": [
      "1 부터 10 까지의 합은 55 입니다.\n"
     ]
    }
   ],
   "source": [
    "n=int(input(\"시작하는 정수 입력: \"))\n",
    "m=int(input(\"끝나는 정수 입력: \"))\n",
    "sum = 0\n",
    "for _ in range(n,m+1):\n",
    "    sum += _\n",
    "print(n,'부터',m,'까지의 합은',sum,'입니다.')"
   ]
  },
  {
   "cell_type": "code",
   "execution_count": 6,
   "id": "60dbad7c-aacb-4aca-aa29-ca67ada4b8e9",
   "metadata": {},
   "outputs": [
    {
     "name": "stdin",
     "output_type": "stream",
     "text": [
      "시작하는 정수 입력:  1\n",
      "끝나는 정수 입력:  10\n"
     ]
    },
    {
     "name": "stdout",
     "output_type": "stream",
     "text": [
      "1 부터 10 까지의 합은 55 입니다.\n"
     ]
    }
   ],
   "source": [
    "n=int(input(\"시작하는 정수 입력: \"))   # 다시 풀어야 됨\n",
    "m=int(input(\"끝나는 정수 입력: \"))\n",
    "i = n\n",
    "sum = 0\n",
    "\n",
    "while i <= m:\n",
    "    sum += i\n",
    "    i += 1\n",
    "print(n,'부터',m,'까지의 합은',sum,'입니다.')"
   ]
  },
  {
   "cell_type": "code",
   "execution_count": 2,
   "id": "184fea5b-8f7e-4856-9935-c6e1dd8d98b7",
   "metadata": {},
   "outputs": [],
   "source": [
    "# 안녕하시오 드디어 성공인가"
   ]
  },
  {
   "cell_type": "code",
   "execution_count": null,
   "id": "f0f5b76a-d60a-4e8c-a1a4-3330adfd7b9e",
   "metadata": {},
   "outputs": [],
   "source": [
    "n=sdfjielsdf"
   ]
  }
 ],
 "metadata": {
  "kernelspec": {
   "display_name": "Python 3 (ipykernel)",
   "language": "python",
   "name": "python3"
  },
  "language_info": {
   "codemirror_mode": {
    "name": "ipython",
    "version": 3
   },
   "file_extension": ".py",
   "mimetype": "text/x-python",
   "name": "python",
   "nbconvert_exporter": "python",
   "pygments_lexer": "ipython3",
   "version": "3.9.13"
  }
 },
 "nbformat": 4,
 "nbformat_minor": 5
}
