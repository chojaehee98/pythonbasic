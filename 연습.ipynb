{
 "cells": [
  {
   "cell_type": "code",
   "execution_count": 3,
   "id": "7ab09aae-d705-403f-bbfe-868ed040f44f",
   "metadata": {},
   "outputs": [
    {
     "name": "stdin",
     "output_type": "stream",
     "text": [
      "자연수 하나 입력해주세요: 70\n"
     ]
    },
    {
     "name": "stdout",
     "output_type": "stream",
     "text": [
      "20\n"
     ]
    }
   ],
   "source": [
    "a=int(input(\"자연수 하나 입력해주세요:\"))\n",
    "\n",
    "result = a-50\n",
    "\n",
    "if result < 0:\n",
    "    result = 0\n",
    "print(result)"
   ]
  },
  {
   "cell_type": "code",
   "execution_count": 6,
   "id": "9b1849b2-0ab6-4833-85f4-ef353c571aec",
   "metadata": {},
   "outputs": [
    {
     "name": "stdin",
     "output_type": "stream",
     "text": [
      "아이디를 입력하세요 : biana\n",
      "회원 등급을 입력해주세요:  4\n"
     ]
    },
    {
     "name": "stdout",
     "output_type": "stream",
     "text": [
      "권한이 없습니다.\n"
     ]
    }
   ],
   "source": [
    "#연습문제, 사용자 아이디 입력\n",
    "\n",
    "a = input(\"아이디를 입력하세요 :\")\n",
    "\n",
    "if a =='admin':\n",
    "    print(\"최고 권리자, 모든 권한을 갖습니다.\")\n",
    "elif a != 'admin':\n",
    "    i = int(input(\"회원 등급을 입력해주세요: \"))\n",
    "    if 1<=i<=3:\n",
    "        print(\"제한적인 권한을 갖습니다.\")\n",
    "    else:\n",
    "        print(\"권한이 없습니다.\")"
   ]
  },
  {
   "cell_type": "code",
   "execution_count": 7,
   "id": "bc89c914-2055-4d48-9be1-cddacd1ba2d8",
   "metadata": {},
   "outputs": [
    {
     "name": "stdin",
     "output_type": "stream",
     "text": [
      "자연수 하나 입력해주세요: 21\n"
     ]
    },
    {
     "name": "stdout",
     "output_type": "stream",
     "text": [
      "홀수입니다\n"
     ]
    }
   ],
   "source": [
    "i = int(input(\"자연수 하나 입력해주세요:\"))\n",
    "\n",
    "if i%2==0:\n",
    "    print(\"짝수입니다\")\n",
    "else:\n",
    "    print(\"홀수입니다\")"
   ]
  },
  {
   "cell_type": "code",
   "execution_count": 10,
   "id": "ae84bfcb-7040-4f2f-8af3-99ed1791377e",
   "metadata": {},
   "outputs": [
    {
     "name": "stdin",
     "output_type": "stream",
     "text": [
      "발주 수량을 입력하세요: 2001\n"
     ]
    },
    {
     "ename": "TypeError",
     "evalue": "raw_input() takes from 1 to 2 positional arguments but 3 were given",
     "output_type": "error",
     "traceback": [
      "\u001b[1;31m---------------------------------------------------------------------------\u001b[0m",
      "\u001b[1;31mTypeError\u001b[0m                                 Traceback (most recent call last)",
      "\u001b[1;32m~\\AppData\\Local\\Temp\\ipykernel_1068\\3699537035.py\u001b[0m in \u001b[0;36m<module>\u001b[1;34m\u001b[0m\n\u001b[0;32m      1\u001b[0m \u001b[0mi\u001b[0m \u001b[1;33m=\u001b[0m\u001b[0mint\u001b[0m\u001b[1;33m(\u001b[0m\u001b[0minput\u001b[0m\u001b[1;33m(\u001b[0m\u001b[1;34m\"발주 수량을 입력하세요:\"\u001b[0m\u001b[1;33m)\u001b[0m\u001b[1;33m)\u001b[0m\u001b[1;33m\u001b[0m\u001b[1;33m\u001b[0m\u001b[0m\n\u001b[1;32m----> 2\u001b[1;33m \u001b[0m_\u001b[0m \u001b[1;33m=\u001b[0m\u001b[0mint\u001b[0m\u001b[1;33m(\u001b[0m\u001b[0minput\u001b[0m\u001b[1;33m(\u001b[0m\u001b[0mi\u001b[0m\u001b[1;33m,\u001b[0m\u001b[1;34m\"개를 주문하셨습니다.\"\u001b[0m\u001b[1;33m)\u001b[0m\u001b[1;33m)\u001b[0m\u001b[1;33m\u001b[0m\u001b[1;33m\u001b[0m\u001b[0m\n\u001b[0m",
      "\u001b[1;31mTypeError\u001b[0m: raw_input() takes from 1 to 2 positional arguments but 3 were given"
     ]
    }
   ],
   "source": [
    "i =int(input(\"발주 수량을 입력하세요:\"))\n",
    "_ =int(input(i,\"개를 주문하셨습니다.\"))\n",
    "\n",
    "a = i*0.5\n",
    "b = i*0.9\n",
    "c = i*0.8\n",
    "\n",
    "if i<1000:\n",
    "    print(\"수량할인이 적용되지 않습니다\")\n",
    "elif i<=1500:\n",
    "    print(\"적용 할인율은 i 입니다\")\n",
    "elif i<2000:\n",
    "    print(\"적용 할인율은 10% 입니다\")\n",
    "else:\n",
    "    print(\"적용 할인율은 20% 입니다\")\n",
    "\n",
    "print(\"총 발주 금액은 $"
   ]
  },
  {
   "cell_type": "code",
   "execution_count": 19,
   "id": "03ce6898-b116-44f0-9a4d-98b18a7d8873",
   "metadata": {},
   "outputs": [
    {
     "name": "stdin",
     "output_type": "stream",
     "text": [
      "주민번호 뒷자리를 입력하세요: 2345678\n"
     ]
    },
    {
     "name": "stdout",
     "output_type": "stream",
     "text": [
      "여자\n"
     ]
    }
   ],
   "source": [
    "i = input(\"주민번호 뒷자리를 입력하세요:\")\n",
    "_ = int(i[0])\n",
    "if int(len(i)) !=7:\n",
    "    print(\"자리수를 잘못 입력했습니다\")\n",
    "else:    \n",
    "    if _ in (1,3):\n",
    "        print(\"남자\")\n",
    "    elif _ in (2,4):\n",
    "        print(\"여자\")\n",
    "    else:\n",
    "        print(\"잘못된 입력입니다\")"
   ]
  },
  {
   "cell_type": "code",
   "execution_count": 26,
   "id": "444823bc-97eb-4bc6-9f40-9fa668a4613f",
   "metadata": {},
   "outputs": [
    {
     "name": "stdin",
     "output_type": "stream",
     "text": [
      "자연수 하나 입력해주세요 : 1\n"
     ]
    },
    {
     "name": "stdout",
     "output_type": "stream",
     "text": [
      "1\t\n"
     ]
    }
   ],
   "source": [
    "i = int(input(\"자연수 하나 입력해주세요 :\"))\n",
    "\n",
    "for _ in range(i,0,-1):\n",
    "    for j in range(_):\n",
    "        print(_, end='\\t')\n",
    "    print()                         "
   ]
  },
  {
   "cell_type": "code",
   "execution_count": 32,
   "id": "86c24bf2-47a1-47c2-be16-9479925f20ef",
   "metadata": {},
   "outputs": [
    {
     "name": "stdout",
     "output_type": "stream",
     "text": [
      "**********\n",
      "*         *\n",
      "*         *\n",
      "*         *\n",
      "*         *\n",
      "*         *\n",
      "*         *\n",
      "*         *\n",
      "*         *\n",
      "**********\n"
     ]
    }
   ],
   "source": [
    "for _ in range(10):\n",
    "    if _ ==0 or _ == 9:\n",
    "        print(\"*\"*10)\n",
    "    else:\n",
    "        print(\"*         *\")"
   ]
  },
  {
   "cell_type": "code",
   "execution_count": null,
   "id": "f5d62ff9-e5f6-4051-849b-0d30289fe42d",
   "metadata": {},
   "outputs": [],
   "source": []
  }
 ],
 "metadata": {
  "kernelspec": {
   "display_name": "Python 3 (ipykernel)",
   "language": "python",
   "name": "python3"
  },
  "language_info": {
   "codemirror_mode": {
    "name": "ipython",
    "version": 3
   },
   "file_extension": ".py",
   "mimetype": "text/x-python",
   "name": "python",
   "nbconvert_exporter": "python",
   "pygments_lexer": "ipython3",
   "version": "3.9.13"
  }
 },
 "nbformat": 4,
 "nbformat_minor": 5
}
