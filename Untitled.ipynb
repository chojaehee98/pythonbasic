{
 "cells": [
  {
   "cell_type": "code",
   "execution_count": 9,
   "id": "d4b6a593-e9ea-4ff2-8d3f-8239f57277f0",
   "metadata": {},
   "outputs": [],
   "source": [
    "import pandas as pd\n",
    "import numpy as np\n",
    "import seaborn as sns\n",
    "import matplotlib.pyplot as plt\n",
    "import random as rnd\n",
    "%matplotlib inline"
   ]
  },
  {
   "cell_type": "code",
   "execution_count": 10,
   "id": "151e1e84-6407-4b5d-8ad9-d1f460a9bfb6",
   "metadata": {},
   "outputs": [],
   "source": [
    "X_tr = pd.read_csv('datas/train (2).csv')\n",
    "X_te = pd.read_csv('datas/test.csv')"
   ]
  },
  {
   "cell_type": "code",
   "execution_count": 11,
   "id": "af613c3d-1f9f-428b-9301-21b80b36b38d",
   "metadata": {},
   "outputs": [
    {
     "data": {
      "text/plain": [
       "Index(['passengerid', 'survived', 'pclass', 'name', 'gender', 'age', 'sibsp',\n",
       "       'parch', 'ticket', 'fare', 'cabin', 'embarked'],\n",
       "      dtype='object')"
      ]
     },
     "execution_count": 11,
     "metadata": {},
     "output_type": "execute_result"
    }
   ],
   "source": [
    "X_tr.columns"
   ]
  },
  {
   "cell_type": "code",
   "execution_count": 12,
   "id": "014ffe91-7c8b-4dad-97cd-8bb3d2c635bb",
   "metadata": {},
   "outputs": [
    {
     "data": {
      "text/plain": [
       "Index(['passengerid', 'pclass', 'name', 'gender', 'age', 'sibsp', 'parch',\n",
       "       'ticket', 'fare', 'cabin', 'embarked'],\n",
       "      dtype='object')"
      ]
     },
     "execution_count": 12,
     "metadata": {},
     "output_type": "execute_result"
    }
   ],
   "source": [
    "X_te.columns"
   ]
  },
  {
   "cell_type": "code",
   "execution_count": 13,
   "id": "72705bec-3776-4345-8790-101b238dbcdb",
   "metadata": {},
   "outputs": [
    {
     "data": {
      "text/plain": [
       "cabin          718\n",
       "age            180\n",
       "embarked         1\n",
       "passengerid      0\n",
       "survived         0\n",
       "pclass           0\n",
       "name             0\n",
       "gender           0\n",
       "sibsp            0\n",
       "parch            0\n",
       "ticket           0\n",
       "fare             0\n",
       "dtype: int64"
      ]
     },
     "execution_count": 13,
     "metadata": {},
     "output_type": "execute_result"
    }
   ],
   "source": [
    "X_tr.isnull().sum().sort_values(ascending=False)"
   ]
  },
  {
   "cell_type": "code",
   "execution_count": 14,
   "id": "c11773cc-7304-4ca8-af7a-60429a5e5326",
   "metadata": {},
   "outputs": [
    {
     "data": {
      "text/plain": [
       "cabin          296\n",
       "age             83\n",
       "fare             1\n",
       "embarked         1\n",
       "passengerid      0\n",
       "pclass           0\n",
       "name             0\n",
       "gender           0\n",
       "sibsp            0\n",
       "parch            0\n",
       "ticket           0\n",
       "dtype: int64"
      ]
     },
     "execution_count": 14,
     "metadata": {},
     "output_type": "execute_result"
    }
   ],
   "source": [
    "X_te.isnull().sum().sort_values(ascending=False)"
   ]
  },
  {
   "cell_type": "code",
   "execution_count": 15,
   "id": "bb235916-229f-4db8-80ab-1a43d0de6c69",
   "metadata": {},
   "outputs": [],
   "source": [
    "X_te['fare'] = X_te['fare'].fillna(X_tr['fare'].mean())"
   ]
  },
  {
   "cell_type": "code",
   "execution_count": 16,
   "id": "da45c650-78ba-4a8d-9610-e65f51c415ab",
   "metadata": {},
   "outputs": [
    {
     "data": {
      "text/plain": [
       "cabin          296\n",
       "age             83\n",
       "embarked         1\n",
       "passengerid      0\n",
       "pclass           0\n",
       "name             0\n",
       "gender           0\n",
       "sibsp            0\n",
       "parch            0\n",
       "ticket           0\n",
       "fare             0\n",
       "dtype: int64"
      ]
     },
     "execution_count": 16,
     "metadata": {},
     "output_type": "execute_result"
    }
   ],
   "source": [
    "X_te.isnull().sum().sort_values(ascending=False)"
   ]
  },
  {
   "cell_type": "code",
   "execution_count": 17,
   "id": "cd996220-84b2-4015-a987-005ae65e4fb1",
   "metadata": {},
   "outputs": [
    {
     "name": "stdout",
     "output_type": "stream",
     "text": [
      "<class 'pandas.core.frame.DataFrame'>\n",
      "RangeIndex: 916 entries, 0 to 915\n",
      "Data columns (total 12 columns):\n",
      " #   Column       Non-Null Count  Dtype  \n",
      "---  ------       --------------  -----  \n",
      " 0   passengerid  916 non-null    int64  \n",
      " 1   survived     916 non-null    int64  \n",
      " 2   pclass       916 non-null    int64  \n",
      " 3   name         916 non-null    object \n",
      " 4   gender       916 non-null    object \n",
      " 5   age          736 non-null    float64\n",
      " 6   sibsp        916 non-null    int64  \n",
      " 7   parch        916 non-null    int64  \n",
      " 8   ticket       916 non-null    object \n",
      " 9   fare         916 non-null    float64\n",
      " 10  cabin        198 non-null    object \n",
      " 11  embarked     915 non-null    object \n",
      "dtypes: float64(2), int64(5), object(5)\n",
      "memory usage: 86.0+ KB\n"
     ]
    }
   ],
   "source": [
    "X_tr.info()"
   ]
  },
  {
   "cell_type": "code",
   "execution_count": 18,
   "id": "b496b121-4602-4b6f-acfc-ca10d67a75d7",
   "metadata": {},
   "outputs": [
    {
     "data": {
      "text/html": [
       "<div>\n",
       "<style scoped>\n",
       "    .dataframe tbody tr th:only-of-type {\n",
       "        vertical-align: middle;\n",
       "    }\n",
       "\n",
       "    .dataframe tbody tr th {\n",
       "        vertical-align: top;\n",
       "    }\n",
       "\n",
       "    .dataframe thead th {\n",
       "        text-align: right;\n",
       "    }\n",
       "</style>\n",
       "<table border=\"1\" class=\"dataframe\">\n",
       "  <thead>\n",
       "    <tr style=\"text-align: right;\">\n",
       "      <th></th>\n",
       "      <th>passengerid</th>\n",
       "      <th>survived</th>\n",
       "      <th>pclass</th>\n",
       "      <th>age</th>\n",
       "      <th>sibsp</th>\n",
       "      <th>parch</th>\n",
       "      <th>fare</th>\n",
       "    </tr>\n",
       "  </thead>\n",
       "  <tbody>\n",
       "    <tr>\n",
       "      <th>count</th>\n",
       "      <td>916.000000</td>\n",
       "      <td>916.000000</td>\n",
       "      <td>916.000000</td>\n",
       "      <td>736.000000</td>\n",
       "      <td>916.000000</td>\n",
       "      <td>916.000000</td>\n",
       "      <td>916.000000</td>\n",
       "    </tr>\n",
       "    <tr>\n",
       "      <th>mean</th>\n",
       "      <td>457.500000</td>\n",
       "      <td>0.377729</td>\n",
       "      <td>2.292576</td>\n",
       "      <td>29.698370</td>\n",
       "      <td>0.507642</td>\n",
       "      <td>0.361354</td>\n",
       "      <td>32.402710</td>\n",
       "    </tr>\n",
       "    <tr>\n",
       "      <th>std</th>\n",
       "      <td>264.570721</td>\n",
       "      <td>0.485084</td>\n",
       "      <td>0.838675</td>\n",
       "      <td>14.185627</td>\n",
       "      <td>1.044866</td>\n",
       "      <td>0.828054</td>\n",
       "      <td>50.506411</td>\n",
       "    </tr>\n",
       "    <tr>\n",
       "      <th>min</th>\n",
       "      <td>0.000000</td>\n",
       "      <td>0.000000</td>\n",
       "      <td>1.000000</td>\n",
       "      <td>0.170000</td>\n",
       "      <td>0.000000</td>\n",
       "      <td>0.000000</td>\n",
       "      <td>0.000000</td>\n",
       "    </tr>\n",
       "    <tr>\n",
       "      <th>25%</th>\n",
       "      <td>228.750000</td>\n",
       "      <td>0.000000</td>\n",
       "      <td>2.000000</td>\n",
       "      <td>21.000000</td>\n",
       "      <td>0.000000</td>\n",
       "      <td>0.000000</td>\n",
       "      <td>7.895800</td>\n",
       "    </tr>\n",
       "    <tr>\n",
       "      <th>50%</th>\n",
       "      <td>457.500000</td>\n",
       "      <td>0.000000</td>\n",
       "      <td>3.000000</td>\n",
       "      <td>28.000000</td>\n",
       "      <td>0.000000</td>\n",
       "      <td>0.000000</td>\n",
       "      <td>14.458300</td>\n",
       "    </tr>\n",
       "    <tr>\n",
       "      <th>75%</th>\n",
       "      <td>686.250000</td>\n",
       "      <td>1.000000</td>\n",
       "      <td>3.000000</td>\n",
       "      <td>38.000000</td>\n",
       "      <td>1.000000</td>\n",
       "      <td>0.000000</td>\n",
       "      <td>30.017700</td>\n",
       "    </tr>\n",
       "    <tr>\n",
       "      <th>max</th>\n",
       "      <td>915.000000</td>\n",
       "      <td>1.000000</td>\n",
       "      <td>3.000000</td>\n",
       "      <td>80.000000</td>\n",
       "      <td>8.000000</td>\n",
       "      <td>9.000000</td>\n",
       "      <td>512.329200</td>\n",
       "    </tr>\n",
       "  </tbody>\n",
       "</table>\n",
       "</div>"
      ],
      "text/plain": [
       "       passengerid    survived      pclass         age       sibsp  \\\n",
       "count   916.000000  916.000000  916.000000  736.000000  916.000000   \n",
       "mean    457.500000    0.377729    2.292576   29.698370    0.507642   \n",
       "std     264.570721    0.485084    0.838675   14.185627    1.044866   \n",
       "min       0.000000    0.000000    1.000000    0.170000    0.000000   \n",
       "25%     228.750000    0.000000    2.000000   21.000000    0.000000   \n",
       "50%     457.500000    0.000000    3.000000   28.000000    0.000000   \n",
       "75%     686.250000    1.000000    3.000000   38.000000    1.000000   \n",
       "max     915.000000    1.000000    3.000000   80.000000    8.000000   \n",
       "\n",
       "            parch        fare  \n",
       "count  916.000000  916.000000  \n",
       "mean     0.361354   32.402710  \n",
       "std      0.828054   50.506411  \n",
       "min      0.000000    0.000000  \n",
       "25%      0.000000    7.895800  \n",
       "50%      0.000000   14.458300  \n",
       "75%      0.000000   30.017700  \n",
       "max      9.000000  512.329200  "
      ]
     },
     "execution_count": 18,
     "metadata": {},
     "output_type": "execute_result"
    }
   ],
   "source": [
    "X_tr.describe()"
   ]
  },
  {
   "cell_type": "code",
   "execution_count": 19,
   "id": "18ceb69e-457b-4ab0-ab12-9fa13314d482",
   "metadata": {},
   "outputs": [
    {
     "data": {
      "text/plain": [
       "array([nan, 'B69', 'A34', 'D28', 'B96 B98', 'B37', 'C54', 'D20', 'D9',\n",
       "       'A11', 'A6', 'E121', 'A19', 'C7', 'A10', 'F33', 'B58 B60',\n",
       "       'B57 B59 B63 B66', 'G6', 'E25', 'C104', 'C92', 'C86', 'A24', 'D33',\n",
       "       'E40', 'E63', 'C78', 'D26', 'E49', 'D48', 'C148', 'C51', 'E34',\n",
       "       'B80', 'B26', 'E33', 'D50', 'B101', 'B51 B53 B55', 'C31', 'C111',\n",
       "       'D7', 'B86', 'C23 C25 C27', 'C106', 'B45', 'F G63', 'E24',\n",
       "       'C55 C57', 'E17', 'C47', 'E39 E41', 'D6', 'C93', 'C95', 'C130',\n",
       "       'D35', 'C123', 'C110', 'C126', 'B20', 'F2', 'C101', 'A21', 'C32',\n",
       "       'C6', 'D17', 'B78', 'T', 'D10 D12', 'B35', 'E46', 'B36', 'B28',\n",
       "       'E101', 'B22', 'D37', 'B77', 'E36', 'C118', 'C80', 'C53', 'E58',\n",
       "       'B49', 'C125', 'E31', 'D43', 'D36', 'B38', 'C65', 'C116', 'C52',\n",
       "       'A18', 'B41', 'E45', 'C2', 'C62 C64', 'B79', 'C83', 'D19', 'C68',\n",
       "       'B94', 'D', 'C124', 'B42', 'D49', 'B4', 'C87', 'A31', 'E8',\n",
       "       'F E69', 'E77', 'A20', 'B73', 'E50', 'E44', 'C91', 'C22 C26',\n",
       "       'A32', 'A29', 'B52 B54 B56', 'C39', 'B39', 'B50', 'F E57', 'C85',\n",
       "       'B61', 'C28', 'E10', 'D40', 'D15', 'F E46', 'A5', 'D34', 'F',\n",
       "       'B71', 'A23', 'E12', 'B102', 'B5', 'C89', 'D11', 'C46', 'D22',\n",
       "       'C132', 'D38'], dtype=object)"
      ]
     },
     "execution_count": 19,
     "metadata": {},
     "output_type": "execute_result"
    }
   ],
   "source": [
    "X_tr.cabin.unique()"
   ]
  },
  {
   "cell_type": "code",
   "execution_count": 20,
   "id": "e1ae0f32-649c-42fb-9dcb-5881a07ef022",
   "metadata": {},
   "outputs": [
    {
     "data": {
      "text/plain": [
       "0    570\n",
       "1    346\n",
       "Name: survived, dtype: int64"
      ]
     },
     "execution_count": 20,
     "metadata": {},
     "output_type": "execute_result"
    }
   ],
   "source": [
    "X_tr['survived'].value_counts()  # 생존자/사망자 확인"
   ]
  },
  {
   "cell_type": "code",
   "execution_count": 21,
   "id": "21b70bbb-9f01-40a8-adb9-27dd3c54fb76",
   "metadata": {},
   "outputs": [
    {
     "data": {
      "text/plain": [
       "1    227\n",
       "2    194\n",
       "3    495\n",
       "Name: pclass, dtype: int64"
      ]
     },
     "execution_count": 21,
     "metadata": {},
     "output_type": "execute_result"
    }
   ],
   "source": [
    "X_tr.pclass.value_counts().sort_index() # 탑승객 분포 확인"
   ]
  },
  {
   "cell_type": "code",
   "execution_count": 23,
   "id": "bab29f86-4c68-4c1f-8e15-407cbefeb9fa",
   "metadata": {},
   "outputs": [
    {
     "data": {
      "text/plain": [
       "female    327\n",
       "male      589\n",
       "Name: gender, dtype: int64"
      ]
     },
     "execution_count": 23,
     "metadata": {},
     "output_type": "execute_result"
    }
   ],
   "source": [
    "X_tr.gender.value_counts().sort_index()"
   ]
  },
  {
   "cell_type": "code",
   "execution_count": 24,
   "id": "f6c41ada-416f-4704-84d9-d0940e3cfd19",
   "metadata": {},
   "outputs": [
    {
     "data": {
      "text/plain": [
       "C    189\n",
       "Q     81\n",
       "S    645\n",
       "Name: embarked, dtype: int64"
      ]
     },
     "execution_count": 24,
     "metadata": {},
     "output_type": "execute_result"
    }
   ],
   "source": [
    "X_tr.embarked.value_counts().sort_index()"
   ]
  },
  {
   "cell_type": "code",
   "execution_count": 25,
   "id": "d1242b22-1022-4e2b-b5d8-bbf7e3a3f121",
   "metadata": {},
   "outputs": [],
   "source": [
    "X_tr['embarked'].fillna(X_tr.embarked.mode(), inplace=True)"
   ]
  },
  {
   "cell_type": "code",
   "execution_count": 29,
   "id": "727597c6-06f4-4179-b22b-1f8f3b2f7bd5",
   "metadata": {},
   "outputs": [
    {
     "data": {
      "text/html": [
       "<div>\n",
       "<style scoped>\n",
       "    .dataframe tbody tr th:only-of-type {\n",
       "        vertical-align: middle;\n",
       "    }\n",
       "\n",
       "    .dataframe tbody tr th {\n",
       "        vertical-align: top;\n",
       "    }\n",
       "\n",
       "    .dataframe thead th {\n",
       "        text-align: right;\n",
       "    }\n",
       "</style>\n",
       "<table border=\"1\" class=\"dataframe\">\n",
       "  <thead>\n",
       "    <tr style=\"text-align: right;\">\n",
       "      <th></th>\n",
       "      <th>passengerid</th>\n",
       "      <th>survived</th>\n",
       "      <th>pclass</th>\n",
       "      <th>age</th>\n",
       "      <th>sibsp</th>\n",
       "      <th>parch</th>\n",
       "      <th>fare</th>\n",
       "    </tr>\n",
       "  </thead>\n",
       "  <tbody>\n",
       "    <tr>\n",
       "      <th>count</th>\n",
       "      <td>916.000000</td>\n",
       "      <td>916.000000</td>\n",
       "      <td>916.000000</td>\n",
       "      <td>736.000000</td>\n",
       "      <td>916.000000</td>\n",
       "      <td>916.000000</td>\n",
       "      <td>916.000000</td>\n",
       "    </tr>\n",
       "    <tr>\n",
       "      <th>mean</th>\n",
       "      <td>457.500000</td>\n",
       "      <td>0.377729</td>\n",
       "      <td>2.292576</td>\n",
       "      <td>29.698370</td>\n",
       "      <td>0.507642</td>\n",
       "      <td>0.361354</td>\n",
       "      <td>32.402710</td>\n",
       "    </tr>\n",
       "    <tr>\n",
       "      <th>std</th>\n",
       "      <td>264.570721</td>\n",
       "      <td>0.485084</td>\n",
       "      <td>0.838675</td>\n",
       "      <td>14.185627</td>\n",
       "      <td>1.044866</td>\n",
       "      <td>0.828054</td>\n",
       "      <td>50.506411</td>\n",
       "    </tr>\n",
       "    <tr>\n",
       "      <th>min</th>\n",
       "      <td>0.000000</td>\n",
       "      <td>0.000000</td>\n",
       "      <td>1.000000</td>\n",
       "      <td>0.170000</td>\n",
       "      <td>0.000000</td>\n",
       "      <td>0.000000</td>\n",
       "      <td>0.000000</td>\n",
       "    </tr>\n",
       "    <tr>\n",
       "      <th>25%</th>\n",
       "      <td>228.750000</td>\n",
       "      <td>0.000000</td>\n",
       "      <td>2.000000</td>\n",
       "      <td>21.000000</td>\n",
       "      <td>0.000000</td>\n",
       "      <td>0.000000</td>\n",
       "      <td>7.895800</td>\n",
       "    </tr>\n",
       "    <tr>\n",
       "      <th>50%</th>\n",
       "      <td>457.500000</td>\n",
       "      <td>0.000000</td>\n",
       "      <td>3.000000</td>\n",
       "      <td>28.000000</td>\n",
       "      <td>0.000000</td>\n",
       "      <td>0.000000</td>\n",
       "      <td>14.458300</td>\n",
       "    </tr>\n",
       "    <tr>\n",
       "      <th>75%</th>\n",
       "      <td>686.250000</td>\n",
       "      <td>1.000000</td>\n",
       "      <td>3.000000</td>\n",
       "      <td>38.000000</td>\n",
       "      <td>1.000000</td>\n",
       "      <td>0.000000</td>\n",
       "      <td>30.017700</td>\n",
       "    </tr>\n",
       "    <tr>\n",
       "      <th>max</th>\n",
       "      <td>915.000000</td>\n",
       "      <td>1.000000</td>\n",
       "      <td>3.000000</td>\n",
       "      <td>80.000000</td>\n",
       "      <td>8.000000</td>\n",
       "      <td>9.000000</td>\n",
       "      <td>512.329200</td>\n",
       "    </tr>\n",
       "  </tbody>\n",
       "</table>\n",
       "</div>"
      ],
      "text/plain": [
       "       passengerid    survived      pclass         age       sibsp  \\\n",
       "count   916.000000  916.000000  916.000000  736.000000  916.000000   \n",
       "mean    457.500000    0.377729    2.292576   29.698370    0.507642   \n",
       "std     264.570721    0.485084    0.838675   14.185627    1.044866   \n",
       "min       0.000000    0.000000    1.000000    0.170000    0.000000   \n",
       "25%     228.750000    0.000000    2.000000   21.000000    0.000000   \n",
       "50%     457.500000    0.000000    3.000000   28.000000    0.000000   \n",
       "75%     686.250000    1.000000    3.000000   38.000000    1.000000   \n",
       "max     915.000000    1.000000    3.000000   80.000000    8.000000   \n",
       "\n",
       "            parch        fare  \n",
       "count  916.000000  916.000000  \n",
       "mean     0.361354   32.402710  \n",
       "std      0.828054   50.506411  \n",
       "min      0.000000    0.000000  \n",
       "25%      0.000000    7.895800  \n",
       "50%      0.000000   14.458300  \n",
       "75%      0.000000   30.017700  \n",
       "max      9.000000  512.329200  "
      ]
     },
     "execution_count": 29,
     "metadata": {},
     "output_type": "execute_result"
    }
   ],
   "source": [
    "X_tr.describe(include=np.number)"
   ]
  },
  {
   "cell_type": "code",
   "execution_count": 30,
   "id": "b9dff97e-3a8a-42cd-b53d-0e74e6b5026b",
   "metadata": {},
   "outputs": [
    {
     "data": {
      "text/html": [
       "<div>\n",
       "<style scoped>\n",
       "    .dataframe tbody tr th:only-of-type {\n",
       "        vertical-align: middle;\n",
       "    }\n",
       "\n",
       "    .dataframe tbody tr th {\n",
       "        vertical-align: top;\n",
       "    }\n",
       "\n",
       "    .dataframe thead th {\n",
       "        text-align: right;\n",
       "    }\n",
       "</style>\n",
       "<table border=\"1\" class=\"dataframe\">\n",
       "  <thead>\n",
       "    <tr style=\"text-align: right;\">\n",
       "      <th></th>\n",
       "      <th>pclass</th>\n",
       "      <th>survived</th>\n",
       "    </tr>\n",
       "  </thead>\n",
       "  <tbody>\n",
       "    <tr>\n",
       "      <th>0</th>\n",
       "      <td>1</td>\n",
       "      <td>0.577093</td>\n",
       "    </tr>\n",
       "    <tr>\n",
       "      <th>1</th>\n",
       "      <td>2</td>\n",
       "      <td>0.391753</td>\n",
       "    </tr>\n",
       "    <tr>\n",
       "      <th>2</th>\n",
       "      <td>3</td>\n",
       "      <td>0.280808</td>\n",
       "    </tr>\n",
       "  </tbody>\n",
       "</table>\n",
       "</div>"
      ],
      "text/plain": [
       "   pclass  survived\n",
       "0       1  0.577093\n",
       "1       2  0.391753\n",
       "2       3  0.280808"
      ]
     },
     "execution_count": 30,
     "metadata": {},
     "output_type": "execute_result"
    }
   ],
   "source": [
    "X_tr[['pclass','survived']].groupby(['pclass'],as_index=False).mean().sort_values(by='survived',ascending=False)"
   ]
  },
  {
   "cell_type": "markdown",
   "id": "9c8c3172-4d78-49a1-9ae0-18e52b231225",
   "metadata": {},
   "source": [
    "객실 등급이 높을수록 생존율이 높다."
   ]
  },
  {
   "cell_type": "code",
   "execution_count": 31,
   "id": "8a700672-3783-47a7-a93e-795b0c90dc30",
   "metadata": {},
   "outputs": [
    {
     "data": {
      "text/html": [
       "<div>\n",
       "<style scoped>\n",
       "    .dataframe tbody tr th:only-of-type {\n",
       "        vertical-align: middle;\n",
       "    }\n",
       "\n",
       "    .dataframe tbody tr th {\n",
       "        vertical-align: top;\n",
       "    }\n",
       "\n",
       "    .dataframe thead th {\n",
       "        text-align: right;\n",
       "    }\n",
       "</style>\n",
       "<table border=\"1\" class=\"dataframe\">\n",
       "  <thead>\n",
       "    <tr style=\"text-align: right;\">\n",
       "      <th></th>\n",
       "      <th>gender</th>\n",
       "      <th>survived</th>\n",
       "    </tr>\n",
       "  </thead>\n",
       "  <tbody>\n",
       "    <tr>\n",
       "      <th>0</th>\n",
       "      <td>female</td>\n",
       "      <td>0.834862</td>\n",
       "    </tr>\n",
       "    <tr>\n",
       "      <th>1</th>\n",
       "      <td>male</td>\n",
       "      <td>0.123939</td>\n",
       "    </tr>\n",
       "  </tbody>\n",
       "</table>\n",
       "</div>"
      ],
      "text/plain": [
       "   gender  survived\n",
       "0  female  0.834862\n",
       "1    male  0.123939"
      ]
     },
     "execution_count": 31,
     "metadata": {},
     "output_type": "execute_result"
    }
   ],
   "source": [
    "X_tr[['gender','survived']].groupby(['gender'],as_index=False).mean().sort_values(by='survived',ascending=False)"
   ]
  },
  {
   "cell_type": "markdown",
   "id": "4f13bf38-9852-45d0-b726-2dfef806e7ff",
   "metadata": {},
   "source": [
    "여성의 생존율이 높다"
   ]
  },
  {
   "cell_type": "code",
   "execution_count": 32,
   "id": "62a1c02b-d785-4180-8fc9-6ec88bb32e80",
   "metadata": {},
   "outputs": [
    {
     "data": {
      "text/html": [
       "<div>\n",
       "<style scoped>\n",
       "    .dataframe tbody tr th:only-of-type {\n",
       "        vertical-align: middle;\n",
       "    }\n",
       "\n",
       "    .dataframe tbody tr th {\n",
       "        vertical-align: top;\n",
       "    }\n",
       "\n",
       "    .dataframe thead th {\n",
       "        text-align: right;\n",
       "    }\n",
       "</style>\n",
       "<table border=\"1\" class=\"dataframe\">\n",
       "  <thead>\n",
       "    <tr style=\"text-align: right;\">\n",
       "      <th></th>\n",
       "      <th>sibsp</th>\n",
       "      <th>survived</th>\n",
       "    </tr>\n",
       "  </thead>\n",
       "  <tbody>\n",
       "    <tr>\n",
       "      <th>1</th>\n",
       "      <td>1</td>\n",
       "      <td>0.531532</td>\n",
       "    </tr>\n",
       "    <tr>\n",
       "      <th>2</th>\n",
       "      <td>2</td>\n",
       "      <td>0.433333</td>\n",
       "    </tr>\n",
       "    <tr>\n",
       "      <th>0</th>\n",
       "      <td>0</td>\n",
       "      <td>0.333333</td>\n",
       "    </tr>\n",
       "    <tr>\n",
       "      <th>5</th>\n",
       "      <td>5</td>\n",
       "      <td>0.250000</td>\n",
       "    </tr>\n",
       "    <tr>\n",
       "      <th>3</th>\n",
       "      <td>3</td>\n",
       "      <td>0.235294</td>\n",
       "    </tr>\n",
       "    <tr>\n",
       "      <th>6</th>\n",
       "      <td>8</td>\n",
       "      <td>0.166667</td>\n",
       "    </tr>\n",
       "    <tr>\n",
       "      <th>4</th>\n",
       "      <td>4</td>\n",
       "      <td>0.125000</td>\n",
       "    </tr>\n",
       "  </tbody>\n",
       "</table>\n",
       "</div>"
      ],
      "text/plain": [
       "   sibsp  survived\n",
       "1      1  0.531532\n",
       "2      2  0.433333\n",
       "0      0  0.333333\n",
       "5      5  0.250000\n",
       "3      3  0.235294\n",
       "6      8  0.166667\n",
       "4      4  0.125000"
      ]
     },
     "execution_count": 32,
     "metadata": {},
     "output_type": "execute_result"
    }
   ],
   "source": [
    "X_tr[['sibsp','survived']].groupby(['sibsp'],as_index=False).mean().sort_values(by='survived',ascending=False)"
   ]
  },
  {
   "cell_type": "markdown",
   "id": "ac52c901-ffb3-4e4d-a943-c38fe9891b4d",
   "metadata": {},
   "source": [
    "승선한 형제자매와 배우자 수에 따른 생존율 비교"
   ]
  },
  {
   "cell_type": "code",
   "execution_count": 34,
   "id": "9bb1d160-4298-44c7-ad67-fffdde7372ac",
   "metadata": {},
   "outputs": [
    {
     "data": {
      "text/html": [
       "<div>\n",
       "<style scoped>\n",
       "    .dataframe tbody tr th:only-of-type {\n",
       "        vertical-align: middle;\n",
       "    }\n",
       "\n",
       "    .dataframe tbody tr th {\n",
       "        vertical-align: top;\n",
       "    }\n",
       "\n",
       "    .dataframe thead th {\n",
       "        text-align: right;\n",
       "    }\n",
       "</style>\n",
       "<table border=\"1\" class=\"dataframe\">\n",
       "  <thead>\n",
       "    <tr style=\"text-align: right;\">\n",
       "      <th></th>\n",
       "      <th>parch</th>\n",
       "      <th>survived</th>\n",
       "    </tr>\n",
       "  </thead>\n",
       "  <tbody>\n",
       "    <tr>\n",
       "      <th>7</th>\n",
       "      <td>9</td>\n",
       "      <td>1.000000</td>\n",
       "    </tr>\n",
       "    <tr>\n",
       "      <th>2</th>\n",
       "      <td>2</td>\n",
       "      <td>0.500000</td>\n",
       "    </tr>\n",
       "    <tr>\n",
       "      <th>3</th>\n",
       "      <td>3</td>\n",
       "      <td>0.500000</td>\n",
       "    </tr>\n",
       "    <tr>\n",
       "      <th>1</th>\n",
       "      <td>1</td>\n",
       "      <td>0.487603</td>\n",
       "    </tr>\n",
       "    <tr>\n",
       "      <th>0</th>\n",
       "      <td>0</td>\n",
       "      <td>0.346968</td>\n",
       "    </tr>\n",
       "    <tr>\n",
       "      <th>5</th>\n",
       "      <td>5</td>\n",
       "      <td>0.333333</td>\n",
       "    </tr>\n",
       "    <tr>\n",
       "      <th>4</th>\n",
       "      <td>4</td>\n",
       "      <td>0.250000</td>\n",
       "    </tr>\n",
       "    <tr>\n",
       "      <th>6</th>\n",
       "      <td>6</td>\n",
       "      <td>0.000000</td>\n",
       "    </tr>\n",
       "  </tbody>\n",
       "</table>\n",
       "</div>"
      ],
      "text/plain": [
       "   parch  survived\n",
       "7      9  1.000000\n",
       "2      2  0.500000\n",
       "3      3  0.500000\n",
       "1      1  0.487603\n",
       "0      0  0.346968\n",
       "5      5  0.333333\n",
       "4      4  0.250000\n",
       "6      6  0.000000"
      ]
     },
     "execution_count": 34,
     "metadata": {},
     "output_type": "execute_result"
    }
   ],
   "source": [
    "X_tr[['parch','survived']].groupby(['parch'],as_index=False).mean().sort_values(by='survived',ascending=False)"
   ]
  },
  {
   "cell_type": "markdown",
   "id": "1238e200-7b49-481d-b137-6a27634794e7",
   "metadata": {},
   "source": [
    "자료가 이상한 듯 없애야겠다."
   ]
  },
  {
   "cell_type": "code",
   "execution_count": 40,
   "id": "284818bf-367f-4415-9961-340eebf68167",
   "metadata": {},
   "outputs": [
    {
     "data": {
      "text/plain": [
       "<seaborn.axisgrid.FacetGrid at 0x1ba57550820>"
      ]
     },
     "execution_count": 40,
     "metadata": {},
     "output_type": "execute_result"
    },
    {
     "data": {
      "image/png": "[encoded data removed]",
      "text/plain": [
       "<Figure size 600x300 with 2 Axes>"
      ]
     },
     "metadata": {},
     "output_type": "display_data"
    }
   ],
   "source": [
    "df = sns.FacetGrid(X_tr, col='survived')\n",
    "df.map(plt.hist,'age', bins=20)"
   ]
  },
  {
   "cell_type": "code",
   "execution_count": 41,
   "id": "4709aead-ee8e-43de-b663-11bdfa7ac95b",
   "metadata": {},
   "outputs": [
    {
     "data": {
      "text/plain": [
       "<seaborn.axisgrid.FacetGrid at 0x1ba576595e0>"
      ]
     },
     "execution_count": 41,
     "metadata": {},
     "output_type": "execute_result"
    },
    {
     "data": {
      "image/png": "[encoded data removed]",
      "text/plain": [
       "<Figure size 600x900 with 6 Axes>"
      ]
     },
     "metadata": {},
     "output_type": "display_data"
    }
   ],
   "source": [
    "g = sns.FacetGrid(X_tr, col='survived',row='pclass',hue='pclass')\n",
    "g.map(plt.hist,'age',alpha=.5,bins=20)"
   ]
  },
  {
   "cell_type": "code",
   "execution_count": null,
   "id": "13b64aed-118a-42d5-9ff2-a3dae743b67a",
   "metadata": {},
   "outputs": [],
   "source": [
    "\n"
   ]
  }
 ],
 "metadata": {
  "kernelspec": {
   "display_name": "Python 3 (ipykernel)",
   "language": "python",
   "name": "python3"
  },
  "language_info": {
   "codemirror_mode": {
    "name": "ipython",
    "version": 3
   },
   "file_extension": ".py",
   "mimetype": "text/x-python",
   "name": "python",
   "nbconvert_exporter": "python",
   "pygments_lexer": "ipython3",
   "version": "3.9.13"
  }
 },
 "nbformat": 4,
 "nbformat_minor": 5
}
