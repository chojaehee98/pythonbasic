{
 "cells": [
  {
   "cell_type": "code",
   "execution_count": 21,
   "id": "7a3b8215-cc6e-487b-83b2-5a3f2e50e674",
   "metadata": {},
   "outputs": [
    {
     "name": "stdout",
     "output_type": "stream",
     "text": [
      "['alpha', 'bravo', 'delta', 'hotel', 'india']\n"
     ]
    }
   ],
   "source": [
    "a = ['alpha','bravo','charlie','delta','echo','foxtrot','golf','hotel','india']\n",
    "b = [_ for _ in a if len(_)==5]\n",
    "print(b)"
   ]
  },
  {
   "cell_type": "code",
   "execution_count": 18,
   "id": "5d6b9b87-5097-4cd0-b616-2e25eeca3aaf",
   "metadata": {},
   "outputs": [
    {
     "name": "stdin",
     "output_type": "stream",
     "text": [
      "두 개의 정수를 입력해주세요:  10 20\n"
     ]
    },
    {
     "name": "stdout",
     "output_type": "stream",
     "text": [
      "[1024, 4096, 8192, 16384, 32768, 65536, 131072, 262144, 524288, 1048576]\n"
     ]
    }
   ],
   "source": [
    "a,b = map(int,input(\"두 개의 정수를 입력해주세요: \").split())\n",
    "\n",
    "c = [2**i for i in range(a,b+1) if i != a+1 and i != b+1]\n",
    "print(c)"
   ]
  },
  {
   "cell_type": "code",
   "execution_count": 3,
   "id": "c909ad75-aa98-4dc5-a3be-a13c5a602554",
   "metadata": {},
   "outputs": [
    {
     "name": "stdin",
     "output_type": "stream",
     "text": [
      "두 개의 정수를 입력해주세요:  99 1\n"
     ]
    },
    {
     "name": "stdout",
     "output_type": "stream",
     "text": [
      "첫번째 값의 범위는 1~20입니다.\n"
     ]
    },
    {
     "name": "stdin",
     "output_type": "stream",
     "text": [
      "두 개의 정수를 입력해주세요:  10 1\n"
     ]
    },
    {
     "name": "stdout",
     "output_type": "stream",
     "text": [
      "두번째 값의 범위는 10~30입니다.\n"
     ]
    },
    {
     "name": "stdin",
     "output_type": "stream",
     "text": [
      "두 개의 정수를 입력해주세요:  20 10\n"
     ]
    },
    {
     "name": "stdout",
     "output_type": "stream",
     "text": [
      "첫 번째 입력 값은 두 번째 입력 값보다 작게 입력하세요.\n"
     ]
    },
    {
     "name": "stdin",
     "output_type": "stream",
     "text": [
      "두 개의 정수를 입력해주세요:  10 10\n"
     ]
    },
    {
     "name": "stdout",
     "output_type": "stream",
     "text": [
      "첫 번째 입력 값은 두 번째 입력 값보다 작게 입력하세요.\n"
     ]
    },
    {
     "name": "stdin",
     "output_type": "stream",
     "text": [
      "두 개의 정수를 입력해주세요:  10 20\n"
     ]
    },
    {
     "name": "stdout",
     "output_type": "stream",
     "text": [
      "[1024, 4096, 8192, 16384, 32768, 65536, 131072, 262144, 524288, 1048576]\n"
     ]
    }
   ],
   "source": [
    "while True:\n",
    "    user1,user2 = map(int,input(\"두 개의 정수를 입력해주세요: \").split())\n",
    "    \n",
    "    if user1>20:\n",
    "        print(\"첫번째 값의 범위는 1~20입니다.\")\n",
    "        continue\n",
    "    elif user2>30 or user2<10:\n",
    "        print(\"두번째 값의 범위는 10~30입니다.\")\n",
    "        continue\n",
    "    elif user1 >= user2:\n",
    "        print(\"첫 번째 입력 값은 두 번째 입력 값보다 작게 입력하세요.\")\n",
    "        continue\n",
    "    else:\n",
    "        break\n",
    "n = [2**i for i in range(user1,user2+1)]\n",
    "print(n)"
   ]
  },
  {
   "cell_type": "code",
   "execution_count": 3,
   "id": "e1230650-ca12-48aa-a93e-83ddbf3ca2d1",
   "metadata": {},
   "outputs": [
    {
     "name": "stdin",
     "output_type": "stream",
     "text": [
      "찾는 범위를 입력하세요:  200\n"
     ]
    },
    {
     "name": "stdout",
     "output_type": "stream",
     "text": [
      "2 3 5 7 11 13 17 \n",
      "19 23 29 31 37 41 43 \n",
      "47 53 59 61 67 71 73 \n",
      "79 83 89 97 101 103 107 \n",
      "109 113 127 131 137 139 149 \n",
      "151 157 163 167 173 179 181 \n",
      "191 193 197 199 "
     ]
    }
   ],
   "source": [
    "numbers = int(input(\"찾는 범위를 입력하세요: \"))\n",
    "count = 0\n",
    "for i in range(2,numbers+1):\n",
    "    numbers = True\n",
    "    for j in range(2, i):\n",
    "        if i%j == 0:\n",
    "            numbers = False\n",
    "            break\n",
    "    if numbers:\n",
    "        print(i,end=' ')\n",
    "        count += 1\n",
    "        if count % 7 == 0:\n",
    "            print()"
   ]
  },
  {
   "cell_type": "code",
   "execution_count": 1,
   "id": "064754b0-9393-4d09-9375-eba17f6b37b2",
   "metadata": {},
   "outputs": [
    {
     "name": "stdin",
     "output_type": "stream",
     "text": [
      "찾는 범위를 입력하세요:  200\n"
     ]
    },
    {
     "name": "stdout",
     "output_type": "stream",
     "text": [
      "2 3 5 7 11 13 17 \n",
      "19 23 29 31 37 41 43 \n",
      "47 53 59 61 67 71 73 \n",
      "79 83 89 97 101 103 107 \n",
      "109 113 127 131 137 139 149 \n",
      "151 157 163 167 173 179 181 \n",
      "191 193 197 199 "
     ]
    }
   ],
   "source": [
    "n = int(input(\"찾는 범위를 입력하세요: \"))\n",
    "\n",
    "i = 2\n",
    "line = 0\n",
    "while i <= n:\n",
    "    j = 2\n",
    "    while j <=i :\n",
    "        if i % j == 0:\n",
    "            break\n",
    "        j += 1\n",
    "    if i == j:\n",
    "        print(i, end =' ')\n",
    "        line = line +1\n",
    "        if line == 7:\n",
    "            line = 0\n",
    "            print()\n",
    "    i+=1"
   ]
  },
  {
   "cell_type": "code",
   "execution_count": 6,
   "id": "c494af84-1aa0-485d-a4e2-7c5c96f989c5",
   "metadata": {},
   "outputs": [
    {
     "name": "stdout",
     "output_type": "stream",
     "text": [
      "[27, 10, 26, 34, 1, 9, 20]\n"
     ]
    }
   ],
   "source": [
    "import random    # 시작정수, 끝 정수\n",
    "random_list = [random.randint(1, 45) for _ in range(7)]\n",
    "print(random_list)\n"
   ]
  },
  {
   "cell_type": "code",
   "execution_count": 12,
   "id": "1a47c42c-dcc2-456b-adda-13a7c580659b",
   "metadata": {},
   "outputs": [
    {
     "name": "stdin",
     "output_type": "stream",
     "text": [
      "숫자 입력해:  4\n"
     ]
    },
    {
     "ename": "TypeError",
     "evalue": "'<' not supported between instances of 'list' and 'int'",
     "output_type": "error",
     "traceback": [
      "\u001b[1;31m---------------------------------------------------------------------------\u001b[0m",
      "\u001b[1;31mTypeError\u001b[0m                                 Traceback (most recent call last)",
      "\u001b[1;32m~\\AppData\\Local\\Temp\\ipykernel_9332\\3313360685.py\u001b[0m in \u001b[0;36m<module>\u001b[1;34m\u001b[0m\n\u001b[0;32m      4\u001b[0m \u001b[1;32mwhile\u001b[0m \u001b[1;32mTrue\u001b[0m\u001b[1;33m:\u001b[0m\u001b[1;33m\u001b[0m\u001b[1;33m\u001b[0m\u001b[0m\n\u001b[0;32m      5\u001b[0m     \u001b[0mgame\u001b[0m \u001b[1;33m=\u001b[0m \u001b[0mint\u001b[0m\u001b[1;33m(\u001b[0m\u001b[0minput\u001b[0m\u001b[1;33m(\u001b[0m\u001b[1;34m\"숫자 입력해: \"\u001b[0m\u001b[1;33m)\u001b[0m\u001b[1;33m)\u001b[0m\u001b[1;33m\u001b[0m\u001b[1;33m\u001b[0m\u001b[0m\n\u001b[1;32m----> 6\u001b[1;33m     \u001b[1;32mif\u001b[0m \u001b[0mrandom_list\u001b[0m \u001b[1;33m<\u001b[0m \u001b[0mgame\u001b[0m\u001b[1;33m:\u001b[0m\u001b[1;33m\u001b[0m\u001b[1;33m\u001b[0m\u001b[0m\n\u001b[0m\u001b[0;32m      7\u001b[0m         \u001b[0mprint\u001b[0m\u001b[1;33m(\u001b[0m\u001b[1;34m\"그보다 작습니다.\"\u001b[0m\u001b[1;33m)\u001b[0m\u001b[1;33m\u001b[0m\u001b[1;33m\u001b[0m\u001b[0m\n\u001b[0;32m      8\u001b[0m     \u001b[1;32melif\u001b[0m \u001b[0mrandom_list\u001b[0m \u001b[1;33m>\u001b[0m \u001b[0mgame\u001b[0m\u001b[1;33m:\u001b[0m\u001b[1;33m\u001b[0m\u001b[1;33m\u001b[0m\u001b[0m\n",
      "\u001b[1;31mTypeError\u001b[0m: '<' not supported between instances of 'list' and 'int'"
     ]
    }
   ],
   "source": [
    "import random\n",
    "random_num = random.randint(1,100)    # 집에 가서 다시\n",
    "\n",
    "while True:\n",
    "    game = int(input(\"숫자 입력해: \"))\n",
    "    if random_num == game:\n",
    "        print(\"맞췄습니다!\\n총\",_,'번만에 맞췄습니다.\")\n",
    "        break\n",
    "    elif  not 1<=game<=100:\n",
    "        print(\"1~100 사이의 숫자를 입력하세요.\")\n",
    "    elif random_num < game:\n",
    "        print(\"그보다 작습니다.\")\n",
    "    else:\n",
    "        print(\"그보다 큽니다.\")\n",
    "    \n",
    "        \n",
    "        \n",
    "    "
   ]
  },
  {
   "cell_type": "code",
   "execution_count": null,
   "id": "9892f3b9-f4d7-4d24-9257-f3586f5b5ef4",
   "metadata": {},
   "outputs": [],
   "source": [
    "while True:\n",
    "    input_values.append(input(1~100 중 숫자를 맞춰보세요:\"))\n",
    "    _ = int(input_values[-1])\n",
    "    if\n",
    "    "
   ]
  },
  {
   "cell_type": "code",
   "execution_count": null,
   "id": "04501c0a-0d0d-4b58-b7e5-9ae44115f193",
   "metadata": {},
   "outputs": [],
   "source": [
    "a = list('안녕하세요')\n",
    "a\n"
   ]
  },
  {
   "cell_type": "code",
   "execution_count": 13,
   "id": "0c06401f-8374-403b-8506-b07e1a4c57c6",
   "metadata": {},
   "outputs": [],
   "source": [
    "# 세트 : 중복되는 값을 가지지 않는다, 비시퀀스형인데, 이말은 순서가 없다라는 거임\n",
    "#  set_variable = {키1,키2,키3}"
   ]
  },
  {
   "cell_type": "code",
   "execution_count": 14,
   "id": "1536c231-688f-425d-93a6-bce4b7e50961",
   "metadata": {},
   "outputs": [
    {
     "name": "stdout",
     "output_type": "stream",
     "text": [
      "<class 'dict'>\n"
     ]
    }
   ],
   "source": [
    "print(type({}))"
   ]
  },
  {
   "cell_type": "code",
   "execution_count": 15,
   "id": "d780c9b1-10ff-42da-ae90-95eba48e5a0b",
   "metadata": {},
   "outputs": [
    {
     "name": "stdout",
     "output_type": "stream",
     "text": [
      "set()\n"
     ]
    }
   ],
   "source": [
    "print(set())"
   ]
  },
  {
   "cell_type": "code",
   "execution_count": null,
   "id": "97e1ad04-ecc8-4fe0-a2c1-2c997f643faa",
   "metadata": {},
   "outputs": [],
   "source": [
    "# 세트 자료형 컴프리헨션\n",
    "# {expression for 변수 in iterable if 조건식} {}사용"
   ]
  },
  {
   "cell_type": "code",
   "execution_count": 16,
   "id": "1c5ee7d0-a28b-4eb5-8b7a-be8188fab993",
   "metadata": {},
   "outputs": [],
   "source": [
    "# add() - 세트 자료형에 값을 추가할 수 있다.\n",
    "# 세트 자료형.add(요소)"
   ]
  },
  {
   "cell_type": "code",
   "execution_count": 18,
   "id": "e23827ff-6c0e-4ca5-9fac-7fbba171f23a",
   "metadata": {},
   "outputs": [
    {
     "name": "stdout",
     "output_type": "stream",
     "text": [
      "set() <class 'set'>\n"
     ]
    }
   ],
   "source": [
    "set_variable = set()\n",
    "print(set_variable, type(set_variable))"
   ]
  },
  {
   "cell_type": "code",
   "execution_count": 19,
   "id": "7f586067-0d82-4a09-ae86-36aa058ae2df",
   "metadata": {},
   "outputs": [],
   "source": [
    "# 세트 요소 삭제 방법\n",
    "# 세트 자료형.remove(요소)\n",
    "# 세트 자료형.discard(요소)\n",
    "# set_variable.discard(\"없는 값\") 도 가능\n",
    "# 세트 자료형.pop()\n",
    "# 세트 자료형.clear()"
   ]
  },
  {
   "cell_type": "code",
   "execution_count": 20,
   "id": "fea56fb5-a0c8-4cca-bb6b-1a274552add8",
   "metadata": {},
   "outputs": [],
   "source": [
    "# set.union(세트 자료형1, 세트 자료형2) = |"
   ]
  },
  {
   "cell_type": "code",
   "execution_count": 22,
   "id": "d97bd9b1-6bd3-4498-b631-8a029ca49a26",
   "metadata": {},
   "outputs": [
    {
     "name": "stdout",
     "output_type": "stream",
     "text": [
      "A: {1, 2, 3, 4} \n",
      "B: {2, 4, 5}\n",
      "set.union(A,B): {1, 2, 3, 4, 5}\n",
      "A|B: {1, 2, 3, 4, 5}\n"
     ]
    }
   ],
   "source": [
    "A = {_ for _ in range(1,5)}   # 합집합\n",
    "B = {_ for _ in range(2,6) if _ != 3}\n",
    "print('A:', A, '\\nB:',B)\n",
    "print('set.union(A,B):',set.union(A,B))\n",
    "print('A|B:', A|B)"
   ]
  },
  {
   "cell_type": "code",
   "execution_count": 23,
   "id": "20302df7-edcf-45ca-9528-67bd0819651c",
   "metadata": {},
   "outputs": [
    {
     "name": "stdout",
     "output_type": "stream",
     "text": [
      "A: {1, 2, 3, 4} \n",
      "B: {2, 4, 5}\n",
      "set.intersection(A,B): {2, 4}\n",
      "A&B: {2, 4}\n"
     ]
    }
   ],
   "source": [
    "A = {_ for _ in range(1,5)} # 교집합\n",
    "B = {_ for _ in range(2,6) if _ != 3}\n",
    "print('A:', A, '\\nB:',B)\n",
    "print('set.intersection(A,B):',set.intersection(A,B))\n",
    "print('A&B:', A&B)"
   ]
  },
  {
   "cell_type": "code",
   "execution_count": 24,
   "id": "fb25efa5-a8c6-45ba-92cb-3abe7bf8001c",
   "metadata": {},
   "outputs": [
    {
     "name": "stdout",
     "output_type": "stream",
     "text": [
      "A: {1, 2, 3, 4} \n",
      "B: {2, 4, 5}\n",
      "set.difference(A,B): {1, 3}\n",
      "A-B: {1, 3}\n"
     ]
    }
   ],
   "source": [
    "A = {_ for _ in range(1,5)}    # 차집합\n",
    "B = {_ for _ in range(2,6) if _ != 3}\n",
    "print('A:', A, '\\nB:',B)\n",
    "print('set.difference(A,B):',set.difference(A,B))\n",
    "print('A-B:', A-B)"
   ]
  },
  {
   "cell_type": "code",
   "execution_count": 25,
   "id": "2c8625b1-c8ff-48c8-a51b-7e781a3dc9b2",
   "metadata": {},
   "outputs": [
    {
     "name": "stdout",
     "output_type": "stream",
     "text": [
      "A: {1, 2, 3, 4} \n",
      "B: {2, 4, 5}\n",
      "set.symmetric_difference(A,B): {1, 3, 5}\n",
      "A^B: {1, 3, 5}\n"
     ]
    }
   ],
   "source": [
    "A = {_ for _ in range(1,5)}   # 대칭차집합\n",
    "B = {_ for _ in range(2,6) if _ != 3}\n",
    "print('A:', A, '\\nB:',B)\n",
    "print('set.symmetric_difference(A,B):',set.symmetric_difference(A,B))\n",
    "print('A^B:', A^B)"
   ]
  },
  {
   "cell_type": "code",
   "execution_count": 27,
   "id": "9f9df1e9-9e40-4f08-b120-5ba8d98e67aa",
   "metadata": {},
   "outputs": [
    {
     "name": "stdout",
     "output_type": "stream",
     "text": [
      "A: {1, 2, 3, 4} \n",
      "B: {2, 4, 5}\n",
      "A.update(B): {1, 2, 3, 4, 5}\n"
     ]
    }
   ],
   "source": [
    "# update() 혹은 |=\n",
    "\n",
    "A = {_ for _ in range(1,5)}\n",
    "B = {_ for _ in range(2,6) if _ != 3}\n",
    "print('A:', A, '\\nB:', B)\n",
    "A.update(B) # A &= B 와 같다\n",
    "print('A.update(B):',A)"
   ]
  },
  {
   "cell_type": "code",
   "execution_count": null,
   "id": "f36c0eed-20e6-477d-a1b5-c13a00320729",
   "metadata": {},
   "outputs": [],
   "source": [
    "#intersection_update() 혹은 &=\n",
    "\n",
    "A = {_ for _ in range(1,5)}\n",
    "B = {_ for _ in range(2,6) if _ != 3}\n",
    "print('A:', A, '\\nB:', B)\n",
    "A.(B) # A &= B 와 같다\n",
    "print('A.(B):',A)"
   ]
  },
  {
   "cell_type": "code",
   "execution_count": null,
   "id": "cd1ccfc4-4cc8-4414-9406-b9b5a45e8a06",
   "metadata": {},
   "outputs": [],
   "source": [
    "#difference_update() 혹은 -=\n",
    "A = {_ for _ in range(1,5)}\n",
    "B = {_ for _ in range(2,6) if _ != 3}\n",
    "print('A:', A, '\\nB:', B)\n",
    "A.(B) # A &= B 와 같다\n",
    "print('A.(B):',A)"
   ]
  },
  {
   "cell_type": "code",
   "execution_count": null,
   "id": "6264e1cc-c1f1-4049-b54e-275b31655fb9",
   "metadata": {},
   "outputs": [],
   "source": [
    "# symmetric_difference_update() 혹은 ^=\n",
    "\n",
    "A = {_ for _ in range(1,5)}\n",
    "B = {_ for _ in range(2,6) if _ != 3}\n",
    "print('A:', A, '\\nB:', B)\n",
    "A.(B) # A &= B 와 같다\n",
    "print('A.(B):',A)"
   ]
  },
  {
   "cell_type": "code",
   "execution_count": null,
   "id": "ccc7a360-42cb-440c-bafe-956a21e54904",
   "metadata": {},
   "outputs": [],
   "source": [
    "# 부분집합 issubset()\n",
    "A = "
   ]
  },
  {
   "cell_type": "code",
   "execution_count": null,
   "id": "95392378-0f82-4915-aa05-78c9fd3b2e24",
   "metadata": {},
   "outputs": [],
   "source": [
    "# 상위집합 issuperaet()"
   ]
  },
  {
   "cell_type": "code",
   "execution_count": null,
   "id": "6d678452-1f5c-4a39-9be3-4a876b0a8c1d",
   "metadata": {},
   "outputs": [],
   "source": [
    "# 진부분집합과 진상위집합 >. <\n",
    "A"
   ]
  },
  {
   "cell_type": "code",
   "execution_count": null,
   "id": "51723857-7c9f-4876-87b2-15fba6f9825e",
   "metadata": {},
   "outputs": [],
   "source": [
    "# 같다 ==\n"
   ]
  },
  {
   "cell_type": "code",
   "execution_count": null,
   "id": "d800832d-37d8-4c36-9660-3241902ad1c2",
   "metadata": {},
   "outputs": [],
   "source": [
    "# 세트가 겹치지 않도록 확인 isdisjont()"
   ]
  },
  {
   "cell_type": "code",
   "execution_count": 29,
   "id": "25d1f139-3f88-4006-a991-6a4de3b73531",
   "metadata": {},
   "outputs": [
    {
     "name": "stdout",
     "output_type": "stream",
     "text": [
      "{1, 2, 3, 4}\n"
     ]
    }
   ],
   "source": [
    "list_sample = [1, 2, 2, 3, 3, 3, 4, 4, 4, 4]\n",
    "list_sample = {_ for _ in range(1,5)}\n",
    "print(list_sample) \n",
    "#print(set(list_sample))"
   ]
  },
  {
   "cell_type": "code",
   "execution_count": 8,
   "id": "1b4c2228-dae8-45b3-a63b-570be3b4116d",
   "metadata": {},
   "outputs": [
    {
     "name": "stdout",
     "output_type": "stream",
     "text": [
      "{75, 45, 15, 90, 60, 30}\n",
      "{75, 45, 15, 90, 60, 30}\n"
     ]
    }
   ],
   "source": [
    "set_3 = {i for i in range(1,100) if i%3 == 0}\n",
    "set_5 = {i for i in range(1,100) if i%5 == 0}\n",
    "result_set = set_3&set_5\n",
    "result_sett = set.intersection(set_3,set_5)\n",
    "\n",
    "print(result_set)\n",
    "print(result_sett)"
   ]
  },
  {
   "cell_type": "code",
   "execution_count": 1,
   "id": "be1cb752-06f0-4b2c-bfa2-aaf79f795696",
   "metadata": {},
   "outputs": [
    {
     "name": "stdout",
     "output_type": "stream",
     "text": [
      "A: {1, 2, 3, 4} \n",
      "B: {2, 4, 5}\n",
      "set.intersection(A,B): {2, 4}\n",
      "A&B: {2, 4}\n"
     ]
    }
   ],
   "source": [
    "A = {_ for _ in range(1,5)} # 교집합\n",
    "B = {_ for _ in range(2,6) if _ != 3}\n",
    "print('A:', A, '\\nB:',B)\n",
    "print('set.intersection(A,B):',set.intersection(A,B))\n",
    "print('A&B:', A&B)"
   ]
  },
  {
   "cell_type": "code",
   "execution_count": 34,
   "id": "4e70195f-8085-458d-9bbb-0345fa011612",
   "metadata": {},
   "outputs": [
    {
     "name": "stdout",
     "output_type": "stream",
     "text": [
      "개인정보 조회, 구매 관리, 근태 관리, 시스템 관리, 인사 관리, 회계 관리\n"
     ]
    }
   ],
   "source": [
    "role_admin = (\"회계 관리\", \"인사 관리\", \"구매 관리\", \"시스템 관리\")\n",
    "role_hr = (\"인사 관리\", \"개인정보 조회\", \"회계 관리\", \"근태 관리\")\n",
    "role_user = (\"개인정보 조회\", \"근태 관리\")\n",
    "\n",
    "# set_variable = {role_admin+role_hr+role_user}\n",
    "# list[set_variable]\n",
    "_ = list(set(role_admin + role_hr +role_user))\n",
    "_.sort()\n",
    "print(\", \".join(_))"
   ]
  },
  {
   "cell_type": "code",
   "execution_count": null,
   "id": "8638cb48-239a-4844-a076-d4cfd799f96d",
   "metadata": {},
   "outputs": [],
   "source": [
    "x = 함수명(인수,인수,...)        # def 함수명(인자,인자,...):\n",
    "print(\"결과 값:\",x)       ->        # 함수 코드...\n",
    "                                    # return 반환값"
   ]
  },
  {
   "cell_type": "code",
   "execution_count": null,
   "id": "0fa50859-0110-4c04-a89f-fcd34064eb6f",
   "metadata": {},
   "outputs": [],
   "source": [
    "# 함수는 클래스에 포함 x 함수명((인수1), (인수2), ...)\n",
    "# 메서드는   객체.메서드명((인수1), (인수2), ...)"
   ]
  },
  {
   "cell_type": "code",
   "execution_count": null,
   "id": "378392aa-f511-4ec6-9fcf-08469b219173",
   "metadata": {},
   "outputs": [],
   "source": [
    "# def 함수_이름(위치_인자,위치_인자2, *가변_위치,키워드_인자,키워드_인자2,**가변-키워드):\n",
    "    \"\"\"\n",
    "    Doc Srting을 적는 곳이요.     -> Doc Sring\n",
    "    \n",
    "    작성자: teacher              return -> keyword 만나면 함수를 빠져나간다.\n",
    "    작성일자:2020.02.03\n",
    "    \n",
    "    \"\"\"\n",
    "    # 함수의 바디\n",
    "    # 함수의 바디\n",
    "    \n",
    "    # return 반환값"
   ]
  },
  {
   "cell_type": "code",
   "execution_count": 1,
   "id": "d381b522-fce8-4d75-b35e-988439a5bfef",
   "metadata": {},
   "outputs": [],
   "source": [
    "def print_ten():\n",
    "    \"\"\" print('hello')를 열번 출력합니다. \"\"\"\n",
    "    for _ in range(10):\n",
    "        print('hello')"
   ]
  },
  {
   "cell_type": "code",
   "execution_count": 2,
   "id": "de8fc736-0235-4df6-a165-7ebef076c15e",
   "metadata": {},
   "outputs": [
    {
     "name": "stdout",
     "output_type": "stream",
     "text": [
      "hello\n",
      "hello\n",
      "hello\n",
      "hello\n",
      "hello\n",
      "hello\n",
      "hello\n",
      "hello\n",
      "hello\n",
      "hello\n"
     ]
    }
   ],
   "source": [
    "print_ten()"
   ]
  },
  {
   "cell_type": "code",
   "execution_count": 3,
   "id": "5fc9c7a5-7176-4954-9e8b-6dbab4335ce8",
   "metadata": {},
   "outputs": [
    {
     "name": "stdout",
     "output_type": "stream",
     "text": [
      " print('hello')를 열번 출력합니다. \n"
     ]
    }
   ],
   "source": [
    "print(print_ten.__doc__)"
   ]
  },
  {
   "cell_type": "code",
   "execution_count": null,
   "id": "e5b6ceaf-58f3-4172-a07a-681abee8fd4e",
   "metadata": {},
   "outputs": [],
   "source": [
    "# 함수의 정의 - 인자(parameter)\n",
    "# 함수 정의에서 함수가 받을 수 있는 변수이다. 함수인자 혹은 매개변수라 부름\n",
    "# 위치-키워드: 위치 혹은 키워드로 전달될 수 있는 인자를 말함. 매개변수의 기본 형태\n",
    "# 위치 전용 : /문자를 기준으로 좌측에 위치한 인자\n",
    "# 키워드 전용 : *문자를 기준으로 우측에 위치한 인자\n",
    "# 가변 위치 : 위치 매개변수 외에 추가적인 위치 매개변수를 개수에 상관없이 받음, 변수명 앞에 *를 앞에 하나 붙여 표기\n",
    "#  가변 키워드 : 키워드 외에 추가적인 키워드 매개변수를 개수에 상관없이 받음, 변수명 앞에 **를 두개 붙여 표기"
   ]
  },
  {
   "cell_type": "code",
   "execution_count": 1,
   "id": "8e40b4e6-ade0-4d9c-b19f-758033144dfc",
   "metadata": {},
   "outputs": [],
   "source": [
    "def greeting(name, age):\n",
    "    print(f\"{name} 씨 안녕하세요. 약 {age * 365.25} 일 되었습니다.\")"
   ]
  },
  {
   "cell_type": "code",
   "execution_count": 6,
   "id": "fab763b8-e23f-44aa-801c-4960450c18b7",
   "metadata": {},
   "outputs": [
    {
     "name": "stdout",
     "output_type": "stream",
     "text": [
      "파이썬 씨 안녕하세요. 약 11688.0 일 되었습니다.\n"
     ]
    }
   ],
   "source": [
    "# greeting(\"파이썬\", 32)     # 기본 형태"
   ]
  },
  {
   "cell_type": "code",
   "execution_count": null,
   "id": "951f65eb-e600-4f2e-b775-a892a3a3721a",
   "metadata": {},
   "outputs": [],
   "source": [
    "# greeting(age=32, name = \"파이썬\") # 위치 키워드 인자 : 순서가 상관이 없다."
   ]
  },
  {
   "cell_type": "code",
   "execution_count": null,
   "id": "30f010b2-9faf-4948-b8e5-d0a4d31a4830",
   "metadata": {},
   "outputs": [],
   "source": [
    "# greetint(name=\"파이썬\", 32)이거는 안됌 : 위치 인수를 먼저 작성하고 키워드 인수를 나중에 작성해야 함"
   ]
  },
  {
   "cell_type": "code",
   "execution_count": 2,
   "id": "4ded2d1a-863c-4601-b6f7-360e470e41ec",
   "metadata": {},
   "outputs": [
    {
     "name": "stdout",
     "output_type": "stream",
     "text": [
      "파이썬 씨 안녕하세요. 약 11688.0 일 되었습니다.\n"
     ]
    }
   ],
   "source": [
    "greeting(\"파이썬\",32)    # 기본 형태"
   ]
  },
  {
   "cell_type": "code",
   "execution_count": 4,
   "id": "c3faa2d1-ca99-45aa-a99b-9c8f7e67d7e0",
   "metadata": {},
   "outputs": [
    {
     "name": "stdout",
     "output_type": "stream",
     "text": [
      "파이썬 씨 안녕하세요. 약 11688.0 일 되었습니다.\n"
     ]
    }
   ],
   "source": [
    "greeting(name=\"파이썬\",age = 32)    # 키워드 인수"
   ]
  },
  {
   "cell_type": "code",
   "execution_count": 7,
   "id": "603e1d55-923c-4d88-b5bb-96849bc3e6db",
   "metadata": {},
   "outputs": [
    {
     "name": "stdout",
     "output_type": "stream",
     "text": [
      "파이썬 씨 안녕하세요. 약 11688.0 일 되었습니다.\n"
     ]
    }
   ],
   "source": [
    "greeting(\"파이썬\", age = 32)    #위치 인수가 키워드보다 먼저 위치"
   ]
  },
  {
   "cell_type": "code",
   "execution_count": 8,
   "id": "2ef5addf-0f8b-4f2e-85e8-af06628fd12b",
   "metadata": {},
   "outputs": [
    {
     "name": "stdout",
     "output_type": "stream",
     "text": [
      "파이썬 씨 안녕하세요. 약 11688.0 일 되었습니다.\n"
     ]
    }
   ],
   "source": [
    "greeting(age=32,name=\"파이썬\")  # 키워드 인수는 순서 상관 없"
   ]
  },
  {
   "cell_type": "code",
   "execution_count": 2,
   "id": "bdda071a-64b5-4ed0-8440-97bd5bd3d62a",
   "metadata": {},
   "outputs": [],
   "source": [
    "def greeting(name, age=32):\n",
    "    print(f\"{name}씨 안넝하세요. 약 {age * 365.25}일 되었습니다.\")"
   ]
  },
  {
   "cell_type": "code",
   "execution_count": 3,
   "id": "1d0ec465-9c2c-4bb8-aea7-08f99e905df9",
   "metadata": {},
   "outputs": [
    {
     "name": "stdout",
     "output_type": "stream",
     "text": [
      "파이썬씨 안넝하세요. 약 11688.0일 되었습니다.\n"
     ]
    }
   ],
   "source": [
    "greeting(\"파이썬\",32)"
   ]
  },
  {
   "cell_type": "code",
   "execution_count": 4,
   "id": "a27912c0-e683-4c2e-b8a5-0140f8a519dc",
   "metadata": {},
   "outputs": [
    {
     "name": "stdout",
     "output_type": "stream",
     "text": [
      "파이썬씨 안넝하세요. 약 11688.0일 되었습니다.\n"
     ]
    }
   ],
   "source": [
    "greeting(\"파이썬\")      # 기본 값이 있는 인자는 생략가능"
   ]
  },
  {
   "cell_type": "code",
   "execution_count": 6,
   "id": "c082da0d-5022-4b4f-bfa0-0fecf956754a",
   "metadata": {},
   "outputs": [
    {
     "name": "stdout",
     "output_type": "stream",
     "text": [
      "파이썬씨 안넝하세요. 약 11688.0일 되었습니다.\n"
     ]
    }
   ],
   "source": [
    "greeting(name=\"파이썬\")     "
   ]
  },
  {
   "cell_type": "code",
   "execution_count": 7,
   "id": "17187e60-2edb-498d-aead-d69f80f06488",
   "metadata": {},
   "outputs": [
    {
     "name": "stdout",
     "output_type": "stream",
     "text": [
      "파이썬씨 안넝하세요. 약 11688.0일 되었습니다.\n"
     ]
    }
   ],
   "source": [
    "greeting(age=32, name =\"파이썬\")"
   ]
  },
  {
   "cell_type": "code",
   "execution_count": 4,
   "id": "9fa94c76-e488-414c-9a1c-57d1a70faa61",
   "metadata": {},
   "outputs": [],
   "source": [
    "def posonly(posonly, /): \n",
    "    print(posonly)"
   ]
  },
  {
   "cell_type": "code",
   "execution_count": 5,
   "id": "222c3cb7-821f-47d7-a210-1f7d62b72769",
   "metadata": {},
   "outputs": [
    {
     "name": "stdout",
     "output_type": "stream",
     "text": [
      "값만 입력해야 합니다.\n"
     ]
    }
   ],
   "source": [
    "posonly(\"값만 입력해야 합니다.\")"
   ]
  },
  {
   "cell_type": "code",
   "execution_count": 6,
   "id": "f1da7f32-70ae-4082-ad32-d8628bdc2e15",
   "metadata": {},
   "outputs": [],
   "source": [
    "def keyonly(*, keyonly=\"default\"): # 키워드 인자\n",
    "    print(keyonly)"
   ]
  },
  {
   "cell_type": "code",
   "execution_count": 7,
   "id": "239bf246-1a86-4065-851b-575f035020ac",
   "metadata": {},
   "outputs": [
    {
     "name": "stdout",
     "output_type": "stream",
     "text": [
      "default\n"
     ]
    }
   ],
   "source": [
    "keyonly()"
   ]
  },
  {
   "cell_type": "code",
   "execution_count": 9,
   "id": "022752a0-c622-4ac9-9eee-14156e12ff6a",
   "metadata": {},
   "outputs": [],
   "source": [
    "def var_positional(*args):       # 가변-위치 인자\n",
    "    print(type(args))\n",
    "    return sum([_ for _ in args])"
   ]
  },
  {
   "cell_type": "code",
   "execution_count": 10,
   "id": "449996d0-a5ad-4b7c-a904-82720b862a20",
   "metadata": {},
   "outputs": [
    {
     "name": "stdout",
     "output_type": "stream",
     "text": [
      "<class 'tuple'>\n",
      "15\n"
     ]
    }
   ],
   "source": [
    "print(var_positional(1,2,3,4,5))"
   ]
  },
  {
   "cell_type": "code",
   "execution_count": 11,
   "id": "4203bac7-6c06-4005-b789-0a8eb0f95cc7",
   "metadata": {},
   "outputs": [
    {
     "name": "stdout",
     "output_type": "stream",
     "text": [
      "<class 'tuple'>\n",
      "0\n"
     ]
    }
   ],
   "source": [
    "print(var_positional())"
   ]
  },
  {
   "cell_type": "code",
   "execution_count": 12,
   "id": "05f5dc5b-84f8-4658-81f0-bf0a15c56aac",
   "metadata": {},
   "outputs": [],
   "source": [
    "def var_keyword(**kargs):             # 가변-키워드 인자: 추가적으로 키워드 인수 개수를 받을수 있음\n",
    "    print(type(kargs))\n",
    "    return kargs"
   ]
  },
  {
   "cell_type": "code",
   "execution_count": 13,
   "id": "b07eb75c-2de4-47c1-8d84-d46180d510c0",
   "metadata": {},
   "outputs": [
    {
     "name": "stdout",
     "output_type": "stream",
     "text": [
      "<class 'dict'>\n",
      "{'key': 'value', 'keys': 'value'}\n"
     ]
    }
   ],
   "source": [
    "print(var_keyword(key=\"value\", keys=\"value\"))"
   ]
  },
  {
   "cell_type": "code",
   "execution_count": 14,
   "id": "dd49f26c-dea5-44eb-9126-47c5db9a865c",
   "metadata": {},
   "outputs": [
    {
     "name": "stdout",
     "output_type": "stream",
     "text": [
      "<class 'dict'>\n",
      "{}\n"
     ]
    }
   ],
   "source": [
    "print(var_keyword())"
   ]
  },
  {
   "cell_type": "code",
   "execution_count": 27,
   "id": "24157c3e-4b8d-4590-883b-9353379d8558",
   "metadata": {},
   "outputs": [],
   "source": [
    "def plus_ten(a):\n",
    "    a = a+10\n",
    "    return a   # return a + 10"
   ]
  },
  {
   "cell_type": "code",
   "execution_count": 28,
   "id": "9a98b8c1-d30c-4072-9986-df0125c175ec",
   "metadata": {},
   "outputs": [
    {
     "data": {
      "text/plain": [
       "80"
      ]
     },
     "execution_count": 28,
     "metadata": {},
     "output_type": "execute_result"
    }
   ],
   "source": [
    "plus_ten(70) # print(plus_ten(70))"
   ]
  },
  {
   "cell_type": "code",
   "execution_count": 33,
   "id": "227b9f0e-fc59-4f7f-96ad-c1d8d1e1fa12",
   "metadata": {},
   "outputs": [
    {
     "name": "stdout",
     "output_type": "stream",
     "text": [
      "21.11111111111111\n"
     ]
    }
   ],
   "source": [
    "def to_celsius(fahrenheit):\n",
    "    \"\"\" 화씨 온도를 섭씨 온도로 변경하는 함수\"\"\"\n",
    "    return(fahrenheit-32)*5/9\n",
    "print(to_celsius(70))"
   ]
  },
  {
   "cell_type": "code",
   "execution_count": 1,
   "id": "f561bf75-0cb1-4604-a75c-44fb0b2adea6",
   "metadata": {},
   "outputs": [
    {
     "name": "stdout",
     "output_type": "stream",
     "text": [
      "number가 짝수면 \"짝수\", 홀수면 \"홀수\" 반환 \n",
      "짝수\n",
      "홀수\n",
      "None\n"
     ]
    }
   ],
   "source": [
    "def odd_even(number):\n",
    "    \"\"\"number가 짝수면 \"짝수\", 홀수면 \"홀수\" 반환 \"\"\"\n",
    "    if type(number) != int or number <= 0: # type(number) is int and number > 0:\n",
    "        return    # return \"짝수\" * (number % 2 == 0) or \"홀수\"\n",
    "    elif number%2 == 0:\n",
    "        return \"짝수\"\n",
    "    else:\n",
    "        return \"홀수\"\n",
    "print(odd_even.__doc__)\n",
    "print(odd_even(10))\n",
    "print(odd_even(9))\n",
    "print(odd_even(\"가\"))"
   ]
  },
  {
   "cell_type": "code",
   "execution_count": 59,
   "id": "6b344ee0-200e-471d-95ca-089991965dea",
   "metadata": {},
   "outputs": [
    {
     "name": "stdout",
     "output_type": "stream",
     "text": [
      "윤년\n",
      "윤년\n",
      "평년\n"
     ]
    }
   ],
   "source": [
    "def check_leap_year(number):\n",
    "    if number%4 !=0 or ( number%100==0 and number%400!=0):\n",
    "        return \"평년\"\n",
    "    else:\n",
    "        return \"윤년\"\n",
    "print(check_leap_year(2004))\n",
    "print(check_leap_year(2000))\n",
    "print(check_leap_year(1900))"
   ]
  },
  {
   "cell_type": "code",
   "execution_count": 69,
   "id": "73cb549e-b28f-4007-92f4-a39b72c5aaf9",
   "metadata": {},
   "outputs": [
    {
     "name": "stdout",
     "output_type": "stream",
     "text": [
      "30\n",
      "28\n",
      "31\n"
     ]
    }
   ],
   "source": [
    "def days(month):    \n",
    "    if month in (1,3,5,7,8,10,12):\n",
    "        return \"31\"\n",
    "    elif month in (4,6,9,11):\n",
    "        return \"30\"\n",
    "    elif month == 2:\n",
    "        return \"28\"\n",
    "    else:\n",
    "        return\n",
    "print(days(11))\n",
    "print(days(2))\n",
    "print(days(1))"
   ]
  },
  {
   "cell_type": "code",
   "execution_count": 72,
   "id": "1f2ba0e5-b7fc-416b-9983-1b72db5ab856",
   "metadata": {},
   "outputs": [
    {
     "name": "stdout",
     "output_type": "stream",
     "text": [
      "30\n",
      "31\n",
      "28\n",
      "29\n"
     ]
    }
   ],
   "source": [
    "def days(year,month):\n",
    "    if year%4 !=0 or (year%100==0 and year%400!=0):\n",
    "        if month in (1,3,5,7,8,10,12):\n",
    "            return \"31\"\n",
    "        elif month in (4,6,9,11):\n",
    "            return \"30\"\n",
    "        elif month == 2:\n",
    "            return \"28\"\n",
    "        else:\n",
    "            return\n",
    "    else:\n",
    "        if month==2:\n",
    "            return \"29\"\n",
    "        elif month in (1,3,5,7,8,10,12):\n",
    "            return \"31\"\n",
    "        elif month in (4,6,9,11):\n",
    "            return \"30\"\n",
    "        else:\n",
    "            return\n",
    "print(days(1900,11))\n",
    "print(days(2004,10))\n",
    "print(days(1900,2))\n",
    "print(days(2000,2))"
   ]
  },
  {
   "cell_type": "code",
   "execution_count": 73,
   "id": "e1f9e914-aaae-4894-9e73-77fc1fb3dcf3",
   "metadata": {},
   "outputs": [
    {
     "name": "stdout",
     "output_type": "stream",
     "text": [
      "30\n",
      "31\n",
      "28\n",
      "29\n"
     ]
    }
   ],
   "source": [
    " def days(year,month):\n",
    "        if month in (1,3,5,7,8,10,12):\n",
    "            return \"31\"\n",
    "        elif month in (4,6,9,11):\n",
    "            return \"30\"\n",
    "        elif year%4 !=0 or (year%100==0 and year%400!=0):\n",
    "            return 28\n",
    "        else:\n",
    "            return 29\n",
    "print(days(1900,11))\n",
    "print(days(2004,10))\n",
    "print(days(1900,2))\n",
    "print(days(2000,2))   "
   ]
  },
  {
   "cell_type": "code",
   "execution_count": 3,
   "id": "0a571129-f542-4e18-b0c6-0b90127ed271",
   "metadata": {},
   "outputs": [
    {
     "ename": "SyntaxError",
     "evalue": "f-string: invalid syntax (1372892759.py, line 3)",
     "output_type": "error",
     "traceback": [
      "\u001b[1;36m  File \u001b[1;32m\"C:\\Users\\jaehee\\AppData\\Local\\Temp\\ipykernel_3488\\1372892759.py\"\u001b[1;36m, line \u001b[1;32m3\u001b[0m\n\u001b[1;33m    print(f\"global_variable in global scope=> {global variable}\")\u001b[0m\n\u001b[1;37m     ^\u001b[0m\n\u001b[1;31mSyntaxError\u001b[0m\u001b[1;31m:\u001b[0m f-string: invalid syntax\n"
     ]
    }
   ],
   "source": [
    "global_variable = \"This is global world.\"\n",
    "\n",
    "print(f\"global_variable in global_scope=> {global variable}\")\n",
    "print(hex(id(global_variable))\n",
    "\n",
    "def local_world():\n",
    "      print(f\"global_variable in local_world=> {global variable}\")\n",
    "      print(hex(id(global_variable))"
   ]
  },
  {
   "cell_type": "code",
   "execution_count": null,
   "id": "130de9f1-d257-4edf-9649-c4074e917f6d",
   "metadata": {},
   "outputs": [],
   "source": [
    "# 지역변수(local scope)는 변수를 만든 함수 안에서만 접근이 가능\n"
   ]
  },
  {
   "cell_type": "code",
   "execution_count": 78,
   "id": "64880f10-d3ae-4bc5-8249-1c0ef53ca823",
   "metadata": {},
   "outputs": [
    {
     "name": "stdout",
     "output_type": "stream",
     "text": [
      "중요한 것은 꺾이지 않는 마음\n"
     ]
    }
   ],
   "source": [
    "important_is_an_unbroken_heart = \"중요한 것은 꺾이지 않는 마음\"\n",
    "\n",
    "def trials_and_tribulations():\n",
    "    important_is_an_unbroken_heart = \"흔들흔들\"\n",
    "    \n",
    "trials_and_tribulations()\n",
    "print(important_is_an_unbroken_heart)"
   ]
  },
  {
   "cell_type": "code",
   "execution_count": 76,
   "id": "9392d7d4-dd5d-44fc-ac66-017b5b5a3e94",
   "metadata": {},
   "outputs": [
    {
     "name": "stdout",
     "output_type": "stream",
     "text": [
      "global 키워드 활용해서 변경 완료\n"
     ]
    }
   ],
   "source": [
    "global_variable = \"변경이 됩니까?\"\n",
    "\n",
    "def heartbreaker():\n",
    "    global global_variable \n",
    "    global_variable = \"global 키워드 활용해서 변경 완료\"\n",
    "\n",
    "heartbreaker()\n",
    "print(global_variable)"
   ]
  },
  {
   "cell_type": "code",
   "execution_count": 80,
   "id": "67024199-e934-4ded-b564-07f9034aafbf",
   "metadata": {},
   "outputs": [
    {
     "name": "stdout",
     "output_type": "stream",
     "text": [
      " This is level 1.\n"
     ]
    }
   ],
   "source": [
    "def level1():\n",
    "    message = \" This is level 1.\"\n",
    "    def level2():\n",
    "        message = \"Level2 is better than level1.\"\n",
    "    level2()\n",
    "    print(message)\n",
    "level1()          # 값 안 바뀜"
   ]
  },
  {
   "cell_type": "code",
   "execution_count": 81,
   "id": "7bab35d2-52db-4e8d-aa55-745ccc75264b",
   "metadata": {},
   "outputs": [
    {
     "name": "stdout",
     "output_type": "stream",
     "text": [
      "Level2 is better than level1.\n"
     ]
    }
   ],
   "source": [
    "def level1():\n",
    "    message = \" This is level 1.\"\n",
    "    def level2():\n",
    "        nonlocal message # nonlocal:바깥 영역의 변수를 사용하겠다고 설정하는 키워드\n",
    "        message = \"Level2 is better than level1.\"\n",
    "    level2()\n",
    "    print(message)\n",
    "level1()        "
   ]
  },
  {
   "cell_type": "code",
   "execution_count": null,
   "id": "22b1bc16-474a-4271-a0ac-e66e059db243",
   "metadata": {},
   "outputs": [],
   "source": [
    "# 람다(Lambda) \n",
    "#  lambda [parameters]:expression   [매개변수]:반환값으로 사용할 식\n",
    "  def func_name(parameter):\n",
    "        return expression"
   ]
  },
  {
   "cell_type": "code",
   "execution_count": 82,
   "id": "51da80dd-970a-4e7a-aded-e6d4532c42fd",
   "metadata": {},
   "outputs": [
    {
     "data": {
      "text/plain": [
       "20"
      ]
     },
     "execution_count": 82,
     "metadata": {},
     "output_type": "execute_result"
    }
   ],
   "source": [
    "# 람다 예시\n",
    "(lambda x: x + 10)(10)"
   ]
  },
  {
   "cell_type": "code",
   "execution_count": 83,
   "id": "8f992c72-63dc-46c4-9ab6-61b0e0751160",
   "metadata": {},
   "outputs": [
    {
     "name": "stdout",
     "output_type": "stream",
     "text": [
      "20\n"
     ]
    }
   ],
   "source": [
    "twice = lambda x: x*2\n",
    "print(twice(10))"
   ]
  },
  {
   "cell_type": "code",
   "execution_count": null,
   "id": "9558b944-47e6-464d-bf24-3305e689e9da",
   "metadata": {},
   "outputs": [],
   "source": [
    "# expression 부분은 변수 없이 식 한 줄로(인라인) 표현해야 한다, 새 변수를 만들 수 없다.\n",
    "# (lambda x: y=10; x+y) 불가"
   ]
  },
  {
   "cell_type": "code",
   "execution_count": 84,
   "id": "8730c3c0-bcd6-402e-bef8-d36d81a6315a",
   "metadata": {},
   "outputs": [
    {
     "data": {
      "text/plain": [
       "'B'"
      ]
     },
     "execution_count": 84,
     "metadata": {},
     "output_type": "execute_result"
    }
   ],
   "source": [
    "# True일때 값 if 조건식 else False일때 값\n",
    "score = 90\n",
    "'A' if 90<score<=100 else 'B' if 80<score else 'C'"
   ]
  },
  {
   "cell_type": "code",
   "execution_count": 85,
   "id": "d48e6e26-a34a-4e9a-b6ba-e1e68aba3812",
   "metadata": {},
   "outputs": [
    {
     "name": "stdout",
     "output_type": "stream",
     "text": [
      "[2, 8, 18, 32, 50]\n"
     ]
    }
   ],
   "source": [
    "a = [_ for _ in range(1, 6)]\n",
    "b = [_ for _ in range(2,11,2)]\n",
    "print(list(map(lambda x,y: x*y,a,b)))"
   ]
  },
  {
   "cell_type": "code",
   "execution_count": 86,
   "id": "dcb6a1e7-1716-41e1-8676-e72927ce7290",
   "metadata": {},
   "outputs": [
    {
     "data": {
      "text/plain": [
       "[3, 9, 9]"
      ]
     },
     "execution_count": 86,
     "metadata": {},
     "output_type": "execute_result"
    }
   ],
   "source": [
    "a = [3, 2, 8, 22, 10, 7, 0, 11, 9, 9]\n",
    "list(filter(lambda x: x%3 == 0 and 0<x<10,a))"
   ]
  },
  {
   "cell_type": "code",
   "execution_count": null,
   "id": "335919a8-4eea-4392-88ea-f2381066baa6",
   "metadata": {},
   "outputs": [],
   "source": [
    "\n",
    "\n",
    "\n",
    "# 객체지향 프로그래밍"
   ]
  },
  {
   "cell_type": "code",
   "execution_count": null,
   "id": "0c31126b-3353-489d-8dc7-ce99f4987dac",
   "metadata": {},
   "outputs": [],
   "source": [
    "class ClassName:   # 클래스(class)명은 PascalCase를 쓴다\n",
    "    def method_name(self):\n",
    "        method_body\n",
    "                \n",
    "    class_body\n",
    "    ..."
   ]
  },
  {
   "cell_type": "code",
   "execution_count": null,
   "id": "f51c5247-8c17-4040-a74a-91d9ae61431e",
   "metadata": {},
   "outputs": [],
   "source": [
    "instance_variable = ClassName() # 객체 == 인스턴스 비슷한 느낌"
   ]
  },
  {
   "cell_type": "code",
   "execution_count": null,
   "id": "e07965b2-0fbd-425f-b214-e25d9a47fc0a",
   "metadata": {
    "jupyter": {
     "source_hidden": true
    },
    "tags": []
   },
   "outputs": [],
   "source": [
    "class Person:\n",
    "    def _init_(self):\n",
    "        self.hello = \"안녕하세요.\"\n",
    "        \n",
    "    def greeting(self):\n",
    "        print(self.hello)\n",
    "        \n",
    "james = Person()\n",
    "james.greeting()"
   ]
  },
  {
   "cell_type": "code",
   "execution_count": 4,
   "id": "c2b1d9a7-c343-4758-b6da-75f5cc61af36",
   "metadata": {},
   "outputs": [
    {
     "name": "stdout",
     "output_type": "stream",
     "text": [
      "안녕하세요.\n"
     ]
    }
   ],
   "source": [
    "class Person:\n",
    "    def __init__(self):\n",
    "        self.hello = \"안녕하세요.\"\n",
    "    \n",
    "    def greeting(self):\n",
    "        print(self.hello)    # 속성은 __init__ 메서드에서 만든다, self에 마침표.를 붙여 속성명을 붙이고 값을 할당한다.\n",
    "        \n",
    "james = Person()   # self 가 완성된 후에 변수인 james에 할당됨\n",
    "james.greeting()"
   ]
  },
  {
   "cell_type": "code",
   "execution_count": 18,
   "id": "1d62318b-0fc3-414c-8692-f15e9de4e378",
   "metadata": {},
   "outputs": [
    {
     "name": "stdout",
     "output_type": "stream",
     "text": [
      "홍길동\n"
     ]
    }
   ],
   "source": [
    "class Student:\n",
    "    def __init__(self): # __init__의 매개변수 self에 들어가는 값은 Student() 인스턴스라고 할 수 있다.\n",
    "        # self.name = \"홍길동\"\n",
    "        s1.name = \"홍길동\"\n",
    "s1 = Student()\n",
    "s2 = Student()\n",
    "\n",
    "print(s1.name)"
   ]
  },
  {
   "cell_type": "code",
   "execution_count": 19,
   "id": "7b75cf3b-1134-4923-8757-9ee908e7371b",
   "metadata": {},
   "outputs": [],
   "source": [
    "# __ -> 던더라 부름, 던더는 파이썬이 자동으로 호출하는 메서드이다.\n",
    "class Person:\n",
    "    def __init__(self):\n",
    "        self.name = \"안녕\""
   ]
  },
  {
   "cell_type": "code",
   "execution_count": null,
   "id": "6227f673-12e1-411a-90c0-2cd63c3639b7",
   "metadata": {},
   "outputs": [],
   "source": [
    "# self는 인스턴스 자기 자신을 의미\n"
   ]
  },
  {
   "cell_type": "code",
   "execution_count": 22,
   "id": "0a01efc8-4fed-484f-aef9-58e2a468ca25",
   "metadata": {},
   "outputs": [
    {
     "name": "stdout",
     "output_type": "stream",
     "text": [
      "홍길동\n",
      "32\n"
     ]
    }
   ],
   "source": [
    "class ClassName:\n",
    "    def __init__(self,name,age):\n",
    "        self.name = name\n",
    "        self.age = age\n",
    "p1 = ClassName(\"홍길동\",33)\n",
    "p2 = ClassName(name=\"홍길동\",age = 32)\n",
    "print(p1.name)\n",
    "print(p2.age)"
   ]
  },
  {
   "cell_type": "code",
   "execution_count": 24,
   "id": "ad149db6-4bc7-4901-8af1-0d58c89ddbae",
   "metadata": {},
   "outputs": [
    {
     "name": "stdout",
     "output_type": "stream",
     "text": [
      "안녕하세요 제 이름은 마리아입니다\n",
      "이름: 마리아\n",
      "나이: 20\n",
      "주소: 서울시 서초구 반포동\n"
     ]
    }
   ],
   "source": [
    "class Person:\n",
    "    def __init__(self, name, age, address):\n",
    "        self.hello = \"안녕하세요\"\n",
    "        self.name = name\n",
    "        self.age = age\n",
    "        self.address =address\n",
    "        \n",
    "    def greeting(self):\n",
    "        print(f\"{self.hello} 제 이름은 {self.name}입니다\")\n",
    "        \n",
    "maria = Person(\"마리아\", 20,\"서울시 서초구 반포동\")\n",
    "maria.greeting()\n",
    "\n",
    "print(\"이름:\", maria.name)\n",
    "print(\"나이:\", maria.age)\n",
    "print(\"주소:\", maria.address)"
   ]
  },
  {
   "cell_type": "code",
   "execution_count": 32,
   "id": "69be5f1b-96ce-41c7-bfdf-d64f8077332f",
   "metadata": {},
   "outputs": [
    {
     "name": "stdin",
     "output_type": "stream",
     "text": [
      "이름은 무엇인가요?:  마리아\n",
      "나이는 무엇인가요?:  20\n",
      "주소는 무엇인가요?:  서울시 강남구\n"
     ]
    },
    {
     "name": "stdout",
     "output_type": "stream",
     "text": [
      "첫번째 이름: 마리아\n",
      "첫번째 나이: 20\n",
      "첫번째 주소: 서울시 강남구\n"
     ]
    },
    {
     "name": "stdin",
     "output_type": "stream",
     "text": [
      "이름은 무엇인가요?:  제임스\n",
      "나이는 무엇인가요?:  21\n",
      "주소는 무엇인가요?:  서울시 구로구\n"
     ]
    },
    {
     "name": "stdout",
     "output_type": "stream",
     "text": [
      "두번째 이름: 제임스\n",
      "두번째 나이: 21\n",
      "두번째 주소: 서울시 구로구\n"
     ]
    }
   ],
   "source": [
    "class Person:\n",
    "    def __init__(self,name,age,address):\n",
    "        self.n = name\n",
    "        self.a = age\n",
    "        self.d = address\n",
    "name = input(\"이름은 무엇인가요?: \")\n",
    "age = input(\"나이는 무엇인가요?: \")\n",
    "address = input(\"주소는 무엇인가요?: \")\n",
    "\n",
    "maria = Person(name,age,address)\n",
    "print(\"첫번째 이름:\",name)\n",
    "print(\"첫번째 나이:\",age)\n",
    "print(\"첫번째 주소:\",address)\n",
    "\n",
    "name = input(\"이름은 무엇인가요?: \")\n",
    "age = input(\"나이는 무엇인가요?: \")\n",
    "address = input(\"주소는 무엇인가요?: \")\n",
    "\n",
    "james = Person(name,age,address)\n",
    "print(\"두번째 이름:\",name)\n",
    "print(\"두번째 나이:\",age)\n",
    "print(\"두번째 주소:\",address)"
   ]
  },
  {
   "cell_type": "code",
   "execution_count": 33,
   "id": "d5f0ad7b-5d01-400f-8bb7-4b08d5a1ffa3",
   "metadata": {},
   "outputs": [
    {
     "name": "stdin",
     "output_type": "stream",
     "text": [
      "이름은 무엇인가요?: 마리아\n",
      "나이는 무엇인가요?: 20\n",
      "주소는 무엇인가요?: 서울시 강남구\n",
      "이름은 무엇인가요?: 제임스\n",
      "나이는 무엇인가요?: 21\n",
      "주소는 무엇인가요?: 서울시 구로구\n"
     ]
    },
    {
     "name": "stdout",
     "output_type": "stream",
     "text": [
      "첫번째 이름: 마리아\n",
      "첫번째 나이: 20\n",
      "첫번째 주소: 서울시 강남구\n",
      "\n",
      "두번째 이름: 제임스\n",
      "두번째 나이: 21\n",
      "두번째 주소: 서울시 구로구\n",
      "\n"
     ]
    }
   ],
   "source": [
    "class Person:\n",
    "    def __init__(self, name, age, address):\n",
    "        self.name = name\n",
    "        self.age = age\n",
    "        self.address = address\n",
    "    def Print1(self):\n",
    "        print(f\"\"\"첫번째 이름: {self.name}\n",
    "첫번째 나이: {self.age}\n",
    "첫번째 주소: {self.address}\n",
    "\"\"\")\n",
    "    def Print2(self):\n",
    "        print(f\"\"\"두번째 이름: {self.name}\n",
    "두번째 나이: {self.age}\n",
    "두번째 주소: {self.address}\n",
    "\"\"\")\n",
    "p1_1 = input(\"이름은 무엇인가요?:\") # 입력값 : 마리아\n",
    "p1_2 = input(\"나이는 무엇인가요?:\") # 입력값 : 20\n",
    "p1_3 = input(\"주소는 무엇인가요?:\") # 서울시 강남구\n",
    "p2_1 = input(\"이름은 무엇인가요?:\") # 입력값 : 제임스\n",
    "p2_2 = input(\"나이는 무엇인가요?:\") # 입력값 : 21\n",
    "p2_3 = input(\"주소는 무엇인가요?:\") # 서울시 구로구\n",
    "p1 = Person(p1_1,p1_2,p1_3)\n",
    "p2 = Person(p2_1,p2_2,p2_3)\n",
    "p1.Print1()\n",
    "p2.Print2()"
   ]
  },
  {
   "cell_type": "code",
   "execution_count": null,
   "id": "cd4f39ed-9b05-44ec-86b2-519526b7c884",
   "metadata": {},
   "outputs": [],
   "source": [
    "# 비공개 속성 사용\n",
    "\n",
    "class ClassName:\n",
    "    def __init__(self, param1,param2)\n",
    "    self.attr1 = param1\n",
    "    self.__attr2 = param2"
   ]
  },
  {
   "cell_type": "code",
   "execution_count": null,
   "id": "10fbd305-eae2-4cdf-9592-df60aaf21aef",
   "metadata": {},
   "outputs": [],
   "source": [
    "class ClassExam:\n",
    "    def __init__(self):\n",
    "        self.__secret = \"비밀입니다.\""
   ]
  },
  {
   "cell_type": "code",
   "execution_count": 35,
   "id": "0917159f-de9b-472a-9bbd-d128f087e82f",
   "metadata": {},
   "outputs": [
    {
     "name": "stdout",
     "output_type": "stream",
     "text": [
      "이제 7000원 남았네요.\n"
     ]
    }
   ],
   "source": [
    "class Person :\n",
    "    def __init__(self, name, age, address, wallet) :\n",
    "        self.name = name\n",
    "        self.age = age\n",
    "        self.address = address\n",
    "        self.__wallet = wallet # 변수 앞에 __를 붙여서 비공개 속성으로 만듦\n",
    "    def pay(self,amount):\n",
    "        if self.__wallet < amount:\n",
    "            print(\"돈이 모자라요.\")\n",
    "            return\n",
    "        self.__wallet -= amount # 비공개 속성은 클래스 안의 메서드에서만 접근할 수 있음\n",
    "        print(\"이제 {0}원 남았네요.\".format(self.__wallet))\n",
    "maria = Person(\"마리아\", 20, \"서울시 서초구 반포동\", 10000)\n",
    "maria.pay(3000)"
   ]
  },
  {
   "cell_type": "code",
   "execution_count": null,
   "id": "9b756f69-785d-48f0-a66d-ddd8c2d836a6",
   "metadata": {},
   "outputs": [],
   "source": [
    "class Annie:\n",
    "    def __init__(self,phy,man,abi,tibbers):\n",
    "        self.phy = phy\n",
    "        self.man = man\n",
    "        self.abi = abi\n",
    "        self.tib = tibbers\n",
    "    def print1(self):\n",
    "        print(f\"\"\"{self.phy}\n",
    "{self.man}{self.abi}\"\"\")\n",
    "    def print1_1(self):\n",
    "        print(f\"{self.tib*0.65+400}\")\n",
    "    \n",
    "    def print2(self):\n",
    "        print(f\"\"\"{self.phy}\n",
    "{self.man}{self.abi}\"\"\")\n",
    "    def print1_1(self):\n",
    "        print(f\"{self.tib*0.65+400}\")\n",
    "        \n",
    "r1 = print(\"체력,마나,AP를 입력하세요: \")\n",
    "r1_a=print(\"티버:피해량 \")\n",
    "r2 = print(\"체력,마나,AP를 입력하세요: \")\n",
    "r2_a=print(\"티버:피해량 \")\n",
    "r1_1 = Annie(r1,r1_a)\n",
    "r2_2 = Annie(r2,r2_a)\n",
    "r1_1.print1()\n",
    "r2_2.print2()"
   ]
  },
  {
   "cell_type": "code",
   "execution_count": 39,
   "id": "ec7c835d-d2b8-4d86-8750-643ecd7c94ac",
   "metadata": {},
   "outputs": [
    {
     "name": "stdin",
     "output_type": "stream",
     "text": [
      "애니 511.68 334.0 298\n"
     ]
    },
    {
     "name": "stdout",
     "output_type": "stream",
     "text": [
      "511.68 334.0 298.0\n"
     ]
    },
    {
     "data": {
      "text/plain": [
       "593.7"
      ]
     },
     "execution_count": 39,
     "metadata": {},
     "output_type": "execute_result"
    }
   ],
   "source": [
    "class Annie:\n",
    "    def __init__(self, hp=0, mp=0, ap=0):\n",
    "        self.hp = hp\n",
    "        self.mp = mp\n",
    "        self.ap = ap\n",
    "    \n",
    "    def tibbers(self):\n",
    "        return self.ap * 0.65 + 400\n",
    "hp, mp, ap = map(float, input(\"애니\").split())\n",
    "a1 = Annie()\n",
    "a2 = Annie(hp, mp, ap)\n",
    "print(a2.hp, a2.mp, a2.ap)\n",
    "a2.tibbers()"
   ]
  },
  {
   "cell_type": "code",
   "execution_count": null,
   "id": "b668bb70-a34b-4e5d-9650-6d2dfa0fe8ae",
   "metadata": {},
   "outputs": [],
   "source": []
  }
 ],
 "metadata": {
  "kernelspec": {
   "display_name": "Python 3 (ipykernel)",
   "language": "python",
   "name": "python3"
  },
  "language_info": {
   "codemirror_mode": {
    "name": "ipython",
    "version": 3
   },
   "file_extension": ".py",
   "mimetype": "text/x-python",
   "name": "python",
   "nbconvert_exporter": "python",
   "pygments_lexer": "ipython3",
   "version": "3.9.13"
  }
 },
 "nbformat": 4,
 "nbformat_minor": 5
}
