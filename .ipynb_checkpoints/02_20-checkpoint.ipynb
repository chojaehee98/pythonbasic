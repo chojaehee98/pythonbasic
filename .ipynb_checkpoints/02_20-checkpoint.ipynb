{
 "cells": [
  {
   "cell_type": "code",
   "execution_count": 21,
   "id": "7a3b8215-cc6e-487b-83b2-5a3f2e50e674",
   "metadata": {},
   "outputs": [
    {
     "name": "stdout",
     "output_type": "stream",
     "text": [
      "['alpha', 'bravo', 'delta', 'hotel', 'india']\n"
     ]
    }
   ],
   "source": [
    "a = ['alpha','bravo','charlie','delta','echo','foxtrot','golf','hotel','india']\n",
    "b = [_ for _ in a if len(_)==5]\n",
    "print(b)"
   ]
  },
  {
   "cell_type": "code",
   "execution_count": 18,
   "id": "5d6b9b87-5097-4cd0-b616-2e25eeca3aaf",
   "metadata": {},
   "outputs": [
    {
     "name": "stdin",
     "output_type": "stream",
     "text": [
      "두 개의 정수를 입력해주세요:  10 20\n"
     ]
    },
    {
     "name": "stdout",
     "output_type": "stream",
     "text": [
      "[1024, 4096, 8192, 16384, 32768, 65536, 131072, 262144, 524288, 1048576]\n"
     ]
    }
   ],
   "source": [
    "a,b = map(int,input(\"두 개의 정수를 입력해주세요: \").split())\n",
    "\n",
    "c = [2**i for i in range(a,b+1) if i != a+1 and i != b+1]\n",
    "print(c)"
   ]
  },
  {
   "cell_type": "code",
   "execution_count": 3,
   "id": "c909ad75-aa98-4dc5-a3be-a13c5a602554",
   "metadata": {},
   "outputs": [
    {
     "name": "stdin",
     "output_type": "stream",
     "text": [
      "두 개의 정수를 입력해주세요:  99 1\n"
     ]
    },
    {
     "name": "stdout",
     "output_type": "stream",
     "text": [
      "첫번째 값의 범위는 1~20입니다.\n"
     ]
    },
    {
     "name": "stdin",
     "output_type": "stream",
     "text": [
      "두 개의 정수를 입력해주세요:  10 1\n"
     ]
    },
    {
     "name": "stdout",
     "output_type": "stream",
     "text": [
      "두번째 값의 범위는 10~30입니다.\n"
     ]
    },
    {
     "name": "stdin",
     "output_type": "stream",
     "text": [
      "두 개의 정수를 입력해주세요:  20 10\n"
     ]
    },
    {
     "name": "stdout",
     "output_type": "stream",
     "text": [
      "첫 번째 입력 값은 두 번째 입력 값보다 작게 입력하세요.\n"
     ]
    },
    {
     "name": "stdin",
     "output_type": "stream",
     "text": [
      "두 개의 정수를 입력해주세요:  10 10\n"
     ]
    },
    {
     "name": "stdout",
     "output_type": "stream",
     "text": [
      "첫 번째 입력 값은 두 번째 입력 값보다 작게 입력하세요.\n"
     ]
    },
    {
     "name": "stdin",
     "output_type": "stream",
     "text": [
      "두 개의 정수를 입력해주세요:  10 20\n"
     ]
    },
    {
     "name": "stdout",
     "output_type": "stream",
     "text": [
      "[1024, 4096, 8192, 16384, 32768, 65536, 131072, 262144, 524288, 1048576]\n"
     ]
    }
   ],
   "source": [
    "while True:\n",
    "    user1,user2 = map(int,input(\"두 개의 정수를 입력해주세요: \").split())\n",
    "    \n",
    "    if user1>20:\n",
    "        print(\"첫번째 값의 범위는 1~20입니다.\")\n",
    "        continue\n",
    "    elif user2>30 or user2<10:\n",
    "        print(\"두번째 값의 범위는 10~30입니다.\")\n",
    "        continue\n",
    "    elif user1 >= user2:\n",
    "        print(\"첫 번째 입력 값은 두 번째 입력 값보다 작게 입력하세요.\")\n",
    "        continue\n",
    "    else:\n",
    "        break\n",
    "n = [2**i for i in range(user1,user2+1)]\n",
    "print(n)"
   ]
  },
  {
   "cell_type": "code",
   "execution_count": 3,
   "id": "e1230650-ca12-48aa-a93e-83ddbf3ca2d1",
   "metadata": {},
   "outputs": [
    {
     "name": "stdin",
     "output_type": "stream",
     "text": [
      "찾는 범위를 입력하세요:  200\n"
     ]
    },
    {
     "name": "stdout",
     "output_type": "stream",
     "text": [
      "2 3 5 7 11 13 17 \n",
      "19 23 29 31 37 41 43 \n",
      "47 53 59 61 67 71 73 \n",
      "79 83 89 97 101 103 107 \n",
      "109 113 127 131 137 139 149 \n",
      "151 157 163 167 173 179 181 \n",
      "191 193 197 199 "
     ]
    }
   ],
   "source": [
    "numbers = int(input(\"찾는 범위를 입력하세요: \"))\n",
    "count = 0\n",
    "for i in range(2,numbers+1):\n",
    "    numbers = True\n",
    "    for j in range(2, i):\n",
    "        if i%j == 0:\n",
    "            numbers = False\n",
    "            break\n",
    "    if numbers:\n",
    "        print(i,end=' ')\n",
    "        count += 1\n",
    "        if count % 7 == 0:\n",
    "            print()"
   ]
  },
  {
   "cell_type": "code",
   "execution_count": 1,
   "id": "064754b0-9393-4d09-9375-eba17f6b37b2",
   "metadata": {},
   "outputs": [
    {
     "name": "stdin",
     "output_type": "stream",
     "text": [
      "찾는 범위를 입력하세요:  200\n"
     ]
    },
    {
     "name": "stdout",
     "output_type": "stream",
     "text": [
      "2 3 5 7 11 13 17 \n",
      "19 23 29 31 37 41 43 \n",
      "47 53 59 61 67 71 73 \n",
      "79 83 89 97 101 103 107 \n",
      "109 113 127 131 137 139 149 \n",
      "151 157 163 167 173 179 181 \n",
      "191 193 197 199 "
     ]
    }
   ],
   "source": [
    "n = int(input(\"찾는 범위를 입력하세요: \"))\n",
    "\n",
    "i = 2\n",
    "line = 0\n",
    "while i <= n:\n",
    "    j = 2\n",
    "    while j <=i :\n",
    "        if i % j == 0:\n",
    "            break\n",
    "        j += 1\n",
    "    if i == j:\n",
    "        print(i, end =' ')\n",
    "        line = line +1\n",
    "        if line == 7:\n",
    "            line = 0\n",
    "            print()\n",
    "    i+=1"
   ]
  },
  {
   "cell_type": "code",
   "execution_count": 6,
   "id": "c494af84-1aa0-485d-a4e2-7c5c96f989c5",
   "metadata": {},
   "outputs": [
    {
     "name": "stdout",
     "output_type": "stream",
     "text": [
      "[27, 10, 26, 34, 1, 9, 20]\n"
     ]
    }
   ],
   "source": [
    "import random    # 시작정수, 끝 정수\n",
    "random_list = [random.randint(1, 45) for _ in range(7)]\n",
    "print(random_list)\n"
   ]
  },
  {
   "cell_type": "code",
   "execution_count": 12,
   "id": "1a47c42c-dcc2-456b-adda-13a7c580659b",
   "metadata": {},
   "outputs": [
    {
     "name": "stdin",
     "output_type": "stream",
     "text": [
      "숫자 입력해:  4\n"
     ]
    },
    {
     "ename": "TypeError",
     "evalue": "'<' not supported between instances of 'list' and 'int'",
     "output_type": "error",
     "traceback": [
      "\u001b[1;31m---------------------------------------------------------------------------\u001b[0m",
      "\u001b[1;31mTypeError\u001b[0m                                 Traceback (most recent call last)",
      "\u001b[1;32m~\\AppData\\Local\\Temp\\ipykernel_9332\\3313360685.py\u001b[0m in \u001b[0;36m<module>\u001b[1;34m\u001b[0m\n\u001b[0;32m      4\u001b[0m \u001b[1;32mwhile\u001b[0m \u001b[1;32mTrue\u001b[0m\u001b[1;33m:\u001b[0m\u001b[1;33m\u001b[0m\u001b[1;33m\u001b[0m\u001b[0m\n\u001b[0;32m      5\u001b[0m     \u001b[0mgame\u001b[0m \u001b[1;33m=\u001b[0m \u001b[0mint\u001b[0m\u001b[1;33m(\u001b[0m\u001b[0minput\u001b[0m\u001b[1;33m(\u001b[0m\u001b[1;34m\"숫자 입력해: \"\u001b[0m\u001b[1;33m)\u001b[0m\u001b[1;33m)\u001b[0m\u001b[1;33m\u001b[0m\u001b[1;33m\u001b[0m\u001b[0m\n\u001b[1;32m----> 6\u001b[1;33m     \u001b[1;32mif\u001b[0m \u001b[0mrandom_list\u001b[0m \u001b[1;33m<\u001b[0m \u001b[0mgame\u001b[0m\u001b[1;33m:\u001b[0m\u001b[1;33m\u001b[0m\u001b[1;33m\u001b[0m\u001b[0m\n\u001b[0m\u001b[0;32m      7\u001b[0m         \u001b[0mprint\u001b[0m\u001b[1;33m(\u001b[0m\u001b[1;34m\"그보다 작습니다.\"\u001b[0m\u001b[1;33m)\u001b[0m\u001b[1;33m\u001b[0m\u001b[1;33m\u001b[0m\u001b[0m\n\u001b[0;32m      8\u001b[0m     \u001b[1;32melif\u001b[0m \u001b[0mrandom_list\u001b[0m \u001b[1;33m>\u001b[0m \u001b[0mgame\u001b[0m\u001b[1;33m:\u001b[0m\u001b[1;33m\u001b[0m\u001b[1;33m\u001b[0m\u001b[0m\n",
      "\u001b[1;31mTypeError\u001b[0m: '<' not supported between instances of 'list' and 'int'"
     ]
    }
   ],
   "source": [
    "import random\n",
    "random_num = random.randint(1,100)    # 집에 가서 다시\n",
    "\n",
    "while True:\n",
    "    game = int(input(\"숫자 입력해: \"))\n",
    "    if random_num == game:\n",
    "        print(\"맞췄습니다!\\n총\",_,'번만에 맞췄습니다.\")\n",
    "        break\n",
    "    elif  not 1<=game<=100:\n",
    "        print(\"1~100 사이의 숫자를 입력하세요.\")\n",
    "    elif random_num < game:\n",
    "        print(\"그보다 작습니다.\")\n",
    "    else:\n",
    "        print(\"그보다 큽니다.\")\n",
    "    \n",
    "        \n",
    "        \n",
    "    "
   ]
  },
  {
   "cell_type": "code",
   "execution_count": null,
   "id": "9892f3b9-f4d7-4d24-9257-f3586f5b5ef4",
   "metadata": {},
   "outputs": [],
   "source": [
    "while True:\n",
    "    input_values.append(input(1~100 중 숫자를 맞춰보세요:\"))\n",
    "    _ = int(input_values[-1])\n",
    "    if\n",
    "    "
   ]
  },
  {
   "cell_type": "code",
   "execution_count": null,
   "id": "04501c0a-0d0d-4b58-b7e5-9ae44115f193",
   "metadata": {},
   "outputs": [],
   "source": [
    "a = list('안녕하세요')\n",
    "a\n"
   ]
  },
  {
   "cell_type": "code",
   "execution_count": 13,
   "id": "0c06401f-8374-403b-8506-b07e1a4c57c6",
   "metadata": {},
   "outputs": [],
   "source": [
    "# 세트 : 중복되는 값을 가지지 않는다, 비시퀀스형인데, 이말은 순서가 없다라는 거임\n",
    "#  set_variable = {키1,키2,키3}"
   ]
  },
  {
   "cell_type": "code",
   "execution_count": 14,
   "id": "1536c231-688f-425d-93a6-bce4b7e50961",
   "metadata": {},
   "outputs": [
    {
     "name": "stdout",
     "output_type": "stream",
     "text": [
      "<class 'dict'>\n"
     ]
    }
   ],
   "source": [
    "print(type({}))"
   ]
  },
  {
   "cell_type": "code",
   "execution_count": 15,
   "id": "d780c9b1-10ff-42da-ae90-95eba48e5a0b",
   "metadata": {},
   "outputs": [
    {
     "name": "stdout",
     "output_type": "stream",
     "text": [
      "set()\n"
     ]
    }
   ],
   "source": [
    "print(set())"
   ]
  },
  {
   "cell_type": "code",
   "execution_count": null,
   "id": "97e1ad04-ecc8-4fe0-a2c1-2c997f643faa",
   "metadata": {},
   "outputs": [],
   "source": [
    "# 세트 자료형 컴프리헨션\n",
    "# {expression for 변수 in iterable if 조건식} {}사용"
   ]
  },
  {
   "cell_type": "code",
   "execution_count": 16,
   "id": "1c5ee7d0-a28b-4eb5-8b7a-be8188fab993",
   "metadata": {},
   "outputs": [],
   "source": [
    "# add() - 세트 자료형에 값을 추가할 수 있다.\n",
    "# 세트 자료형.add(요소)"
   ]
  },
  {
   "cell_type": "code",
   "execution_count": 18,
   "id": "e23827ff-6c0e-4ca5-9fac-7fbba171f23a",
   "metadata": {},
   "outputs": [
    {
     "name": "stdout",
     "output_type": "stream",
     "text": [
      "set() <class 'set'>\n"
     ]
    }
   ],
   "source": [
    "set_variable = set()\n",
    "print(set_variable, type(set_variable))"
   ]
  },
  {
   "cell_type": "code",
   "execution_count": 19,
   "id": "7f586067-0d82-4a09-ae86-36aa058ae2df",
   "metadata": {},
   "outputs": [],
   "source": [
    "# 세트 요소 삭제 방법\n",
    "# 세트 자료형.remove(요소)\n",
    "# 세트 자료형.discard(요소)\n",
    "# set_variable.discard(\"없는 값\") 도 가능\n",
    "# 세트 자료형.pop()\n",
    "# 세트 자료형.clear()"
   ]
  },
  {
   "cell_type": "code",
   "execution_count": 20,
   "id": "fea56fb5-a0c8-4cca-bb6b-1a274552add8",
   "metadata": {},
   "outputs": [],
   "source": [
    "# set.union(세트 자료형1, 세트 자료형2) = |"
   ]
  },
  {
   "cell_type": "code",
   "execution_count": 22,
   "id": "d97bd9b1-6bd3-4498-b631-8a029ca49a26",
   "metadata": {},
   "outputs": [
    {
     "name": "stdout",
     "output_type": "stream",
     "text": [
      "A: {1, 2, 3, 4} \n",
      "B: {2, 4, 5}\n",
      "set.union(A,B): {1, 2, 3, 4, 5}\n",
      "A|B: {1, 2, 3, 4, 5}\n"
     ]
    }
   ],
   "source": [
    "A = {_ for _ in range(1,5)}   # 합집합\n",
    "B = {_ for _ in range(2,6) if _ != 3}\n",
    "print('A:', A, '\\nB:',B)\n",
    "print('set.union(A,B):',set.union(A,B))\n",
    "print('A|B:', A|B)"
   ]
  },
  {
   "cell_type": "code",
   "execution_count": 23,
   "id": "20302df7-edcf-45ca-9528-67bd0819651c",
   "metadata": {},
   "outputs": [
    {
     "name": "stdout",
     "output_type": "stream",
     "text": [
      "A: {1, 2, 3, 4} \n",
      "B: {2, 4, 5}\n",
      "set.intersection(A,B): {2, 4}\n",
      "A&B: {2, 4}\n"
     ]
    }
   ],
   "source": [
    "A = {_ for _ in range(1,5)} # 교집합\n",
    "B = {_ for _ in range(2,6) if _ != 3}\n",
    "print('A:', A, '\\nB:',B)\n",
    "print('set.intersection(A,B):',set.intersection(A,B))\n",
    "print('A&B:', A&B)"
   ]
  },
  {
   "cell_type": "code",
   "execution_count": 24,
   "id": "fb25efa5-a8c6-45ba-92cb-3abe7bf8001c",
   "metadata": {},
   "outputs": [
    {
     "name": "stdout",
     "output_type": "stream",
     "text": [
      "A: {1, 2, 3, 4} \n",
      "B: {2, 4, 5}\n",
      "set.difference(A,B): {1, 3}\n",
      "A-B: {1, 3}\n"
     ]
    }
   ],
   "source": [
    "A = {_ for _ in range(1,5)}    # 차집합\n",
    "B = {_ for _ in range(2,6) if _ != 3}\n",
    "print('A:', A, '\\nB:',B)\n",
    "print('set.difference(A,B):',set.difference(A,B))\n",
    "print('A-B:', A-B)"
   ]
  },
  {
   "cell_type": "code",
   "execution_count": 25,
   "id": "2c8625b1-c8ff-48c8-a51b-7e781a3dc9b2",
   "metadata": {},
   "outputs": [
    {
     "name": "stdout",
     "output_type": "stream",
     "text": [
      "A: {1, 2, 3, 4} \n",
      "B: {2, 4, 5}\n",
      "set.symmetric_difference(A,B): {1, 3, 5}\n",
      "A^B: {1, 3, 5}\n"
     ]
    }
   ],
   "source": [
    "A = {_ for _ in range(1,5)}   # 대칭차집합\n",
    "B = {_ for _ in range(2,6) if _ != 3}\n",
    "print('A:', A, '\\nB:',B)\n",
    "print('set.symmetric_difference(A,B):',set.symmetric_difference(A,B))\n",
    "print('A^B:', A^B)"
   ]
  },
  {
   "cell_type": "code",
   "execution_count": 27,
   "id": "9f9df1e9-9e40-4f08-b120-5ba8d98e67aa",
   "metadata": {},
   "outputs": [
    {
     "name": "stdout",
     "output_type": "stream",
     "text": [
      "A: {1, 2, 3, 4} \n",
      "B: {2, 4, 5}\n",
      "A.update(B): {1, 2, 3, 4, 5}\n"
     ]
    }
   ],
   "source": [
    "# update() 혹은 |=\n",
    "\n",
    "A = {_ for _ in range(1,5)}\n",
    "B = {_ for _ in range(2,6) if _ != 3}\n",
    "print('A:', A, '\\nB:', B)\n",
    "A.update(B) # A &= B 와 같다\n",
    "print('A.update(B):',A)"
   ]
  },
  {
   "cell_type": "code",
   "execution_count": null,
   "id": "f36c0eed-20e6-477d-a1b5-c13a00320729",
   "metadata": {},
   "outputs": [],
   "source": [
    "#intersection_update() 혹은 &=\n",
    "\n",
    "A = {_ for _ in range(1,5)}\n",
    "B = {_ for _ in range(2,6) if _ != 3}\n",
    "print('A:', A, '\\nB:', B)\n",
    "A.(B) # A &= B 와 같다\n",
    "print('A.(B):',A)"
   ]
  },
  {
   "cell_type": "code",
   "execution_count": null,
   "id": "cd1ccfc4-4cc8-4414-9406-b9b5a45e8a06",
   "metadata": {},
   "outputs": [],
   "source": [
    "#difference_update() 혹은 -=\n",
    "A = {_ for _ in range(1,5)}\n",
    "B = {_ for _ in range(2,6) if _ != 3}\n",
    "print('A:', A, '\\nB:', B)\n",
    "A.(B) # A &= B 와 같다\n",
    "print('A.(B):',A)"
   ]
  },
  {
   "cell_type": "code",
   "execution_count": null,
   "id": "6264e1cc-c1f1-4049-b54e-275b31655fb9",
   "metadata": {},
   "outputs": [],
   "source": [
    "# symmetric_difference_update() 혹은 ^=\n",
    "\n",
    "A = {_ for _ in range(1,5)}\n",
    "B = {_ for _ in range(2,6) if _ != 3}\n",
    "print('A:', A, '\\nB:', B)\n",
    "A.(B) # A &= B 와 같다\n",
    "print('A.(B):',A)"
   ]
  },
  {
   "cell_type": "code",
   "execution_count": null,
   "id": "ccc7a360-42cb-440c-bafe-956a21e54904",
   "metadata": {},
   "outputs": [],
   "source": [
    "# 부분집합 issubset()\n",
    "A = "
   ]
  },
  {
   "cell_type": "code",
   "execution_count": null,
   "id": "95392378-0f82-4915-aa05-78c9fd3b2e24",
   "metadata": {},
   "outputs": [],
   "source": [
    "# 상위집합 issuperaet()"
   ]
  },
  {
   "cell_type": "code",
   "execution_count": null,
   "id": "6d678452-1f5c-4a39-9be3-4a876b0a8c1d",
   "metadata": {},
   "outputs": [],
   "source": [
    "# 진부분집합과 진상위집합 >. <"
   ]
  },
  {
   "cell_type": "code",
   "execution_count": null,
   "id": "51723857-7c9f-4876-87b2-15fba6f9825e",
   "metadata": {},
   "outputs": [],
   "source": [
    "# 같다 =="
   ]
  },
  {
   "cell_type": "code",
   "execution_count": null,
   "id": "d800832d-37d8-4c36-9660-3241902ad1c2",
   "metadata": {},
   "outputs": [],
   "source": [
    "# 세트가 겹치지 않도록 확인 isdisjont()"
   ]
  },
  {
   "cell_type": "code",
   "execution_count": 29,
   "id": "25d1f139-3f88-4006-a991-6a4de3b73531",
   "metadata": {},
   "outputs": [
    {
     "name": "stdout",
     "output_type": "stream",
     "text": [
      "{1, 2, 3, 4}\n"
     ]
    }
   ],
   "source": [
    "list_sample = [1, 2, 2, 3, 3, 3, 4, 4, 4, 4]\n",
    "list_sample = {_ for _ in range(1,5)}\n",
    "print(list_sample) \n",
    "#print(set(list_sample))"
   ]
  },
  {
   "cell_type": "code",
   "execution_count": null,
   "id": "1b4c2228-dae8-45b3-a63b-570be3b4116d",
   "metadata": {},
   "outputs": [],
   "source": []
  }
 ],
 "metadata": {
  "kernelspec": {
   "display_name": "Python 3 (ipykernel)",
   "language": "python",
   "name": "python3"
  },
  "language_info": {
   "codemirror_mode": {
    "name": "ipython",
    "version": 3
   },
   "file_extension": ".py",
   "mimetype": "text/x-python",
   "name": "python",
   "nbconvert_exporter": "python",
   "pygments_lexer": "ipython3",
   "version": "3.9.13"
  }
 },
 "nbformat": 4,
 "nbformat_minor": 5
}
